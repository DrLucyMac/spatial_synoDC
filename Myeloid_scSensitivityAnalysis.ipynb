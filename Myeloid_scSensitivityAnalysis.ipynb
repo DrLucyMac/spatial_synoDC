{
 "cells": [
  {
   "cell_type": "markdown",
   "metadata": {},
   "source": [
    "# Myeloid scRNAseq reference - Sensitivity Analysis Aug 2023\n",
    "\n",
    "\n",
    "Aim: to understand if increasing the number of relevant genes will help finetyping myeloid cells \n",
    "Workflow:\n",
    "  1. Load the full scRNAseq dataset\n",
    "      - Delete any clusters that are indistinguishable with CosMx gene panel\n",
    "  2. Fit the GLMM for every gene on all the cells\n",
    "  3. Find relevant genes based on z-score\n",
    "  4. Harmonize with genes selected from step 3\n",
    "  5. Annotate cells, delete samples containing < 5 cells, remove cells with clashing labels (where the annotated labels dont match old labels)\n",
    "  6. Re-harmonize QC'ed scRNAseq data to make sure everything looks good\n",
    "  7. Integrate! Harmonize scRNAseq data with cosmx data (NOTE: use the same QC thresholds for every iteration)\n",
    "  8. Let us see the results!\n",
    "\n"
   ]
  },
  {
   "cell_type": "code",
   "execution_count": null,
   "metadata": {},
   "outputs": [],
   "source": [
    "options(warn = -1, verbose=FALSE)\n",
    "#!/usr/bin/env Rscript \n",
    "library(dplyr)\n",
    "library(Seurat)\n",
    "library(httr)\n",
    "library(readr)\n",
    "library(pheatmap)\n",
    "library(RColorBrewer)\n",
    "library(ggplot2)\n",
    "library(cowplot)\n",
    "library(patchwork)\n",
    "library(unixtools)\n",
    "library(ggrepel)\n",
    "library(repr)\n",
    "library(ggmin)\n",
    "library(harmony)\n",
    "library(SeuratWrappers)\n",
    "library(Nebulosa)\n",
    "library(ggthemes)\n",
    "library(purrr)\n",
    "library(radiant.data)\n",
    "library(presto)\n",
    "library(pryr)\n",
    "set_config(config(ssl_verifypeer = 0L))\n",
    "ulimit::memory_limit(100000)\n",
    "set.tempdir(\"/datastore/lucy/tmp/\")\n",
    "setwd(\"/datastore/lucy/CosMx\")"
   ]
  },
  {
   "cell_type": "markdown",
   "id": "03518d49-149a-4015-81bd-10694ef38dab",
   "metadata": {},
   "source": [
    "# Load Korsunsky lab functions"
   ]
  },
  {
   "cell_type": "code",
   "execution_count": null,
   "id": "7588750b-0efa-4929-b8a3-bea501f2c1d8",
   "metadata": {},
   "outputs": [],
   "source": [
    "source(\"./R/utils.R\")"
   ]
  },
  {
   "cell_type": "code",
   "execution_count": null,
   "id": "05f94fcf-306a-4610-ba59-adbc45ab629e",
   "metadata": {},
   "outputs": [],
   "source": [
    "start_upR(clusterfiles = TRUE)"
   ]
  },
  {
   "cell_type": "markdown",
   "id": "065471bb-4a3d-42c8-ae38-f6b7ee28876f",
   "metadata": {},
   "source": [
    "# Load synovial tissue single-cell data"
   ]
  },
  {
   "cell_type": "code",
   "execution_count": null,
   "id": "df9dda16-2f79-44ba-870a-e0e06d0bd65b",
   "metadata": {},
   "outputs": [],
   "source": [
    "sc.syno<-readRDS(\"./cache/sc.syno.rds\")"
   ]
  },
  {
   "cell_type": "code",
   "execution_count": null,
   "id": "721ee046-7eac-4fe1-8b0c-cd7fcf681a17",
   "metadata": {},
   "outputs": [],
   "source": [
    "dimlist(sc.syno)"
   ]
  },
  {
   "cell_type": "code",
   "execution_count": null,
   "id": "9cd09f9e-5492-4aa0-af93-191ac4b22534",
   "metadata": {},
   "outputs": [],
   "source": [
    "#Make sure cell ids in metadata match those in counts\n",
    "all(rownames(sc.syno$metadata) == colnames(sc.syno$counts))"
   ]
  },
  {
   "cell_type": "code",
   "execution_count": null,
   "metadata": {},
   "outputs": [],
   "source": [
    "head(sc.syno$metadata)"
   ]
  },
  {
   "cell_type": "code",
   "execution_count": null,
   "metadata": {},
   "outputs": [],
   "source": [
    "rownames(sc.syno$metadata) <- sc.syno$metadata$cellID"
   ]
  },
  {
   "cell_type": "code",
   "execution_count": null,
   "metadata": {},
   "outputs": [],
   "source": [
    "#Make sure cell ids in metadata match those in counts\n",
    "all(rownames(sc.syno$metadata) == colnames(sc.syno$counts))"
   ]
  },
  {
   "cell_type": "code",
   "execution_count": null,
   "metadata": {
    "scrolled": true
   },
   "outputs": [],
   "source": [
    "head(sc.syno$metadata)"
   ]
  },
  {
   "cell_type": "code",
   "execution_count": null,
   "metadata": {},
   "outputs": [],
   "source": [
    "sc.syno$metadata$sample <- sc.syno$metadata$Unique_ID"
   ]
  },
  {
   "cell_type": "code",
   "execution_count": null,
   "metadata": {},
   "outputs": [],
   "source": [
    "sc.syno$metadata %>% \n",
    "    with(table(cosmx.myeloid))"
   ]
  },
  {
   "cell_type": "code",
   "execution_count": null,
   "metadata": {},
   "outputs": [],
   "source": [
    "sc.syno$metadata %>% \n",
    "    with(table(cosmx.celltype))"
   ]
  },
  {
   "cell_type": "code",
   "execution_count": null,
   "metadata": {},
   "outputs": [],
   "source": [
    "colnames(sc.syno$metadata)"
   ]
  },
  {
   "cell_type": "code",
   "execution_count": null,
   "metadata": {
    "scrolled": true
   },
   "outputs": [],
   "source": [
    "ncells_raw<-sc.syno$metadata %>% \n",
    "    subset(cosmx.celltype %in% c(\"STM\",\"cDC\")) %>% \n",
    "    with(table(cosmx.myeloid)) %>% \n",
    "    as.data.frame\n",
    "ncells_raw"
   ]
  },
  {
   "cell_type": "code",
   "execution_count": null,
   "metadata": {},
   "outputs": [],
   "source": [
    "head(rownames(sc.syno$metadata))"
   ]
  },
  {
   "cell_type": "code",
   "execution_count": null,
   "metadata": {},
   "outputs": [],
   "source": [
    "rownames(sc.syno$metadata) <- sc.syno$metadata$cellID"
   ]
  },
  {
   "cell_type": "markdown",
   "id": "72af4078-8e0d-4f0f-92f9-b30f5c2dac6e",
   "metadata": {},
   "source": [
    "# 2. Fit the global model"
   ]
  },
  {
   "cell_type": "code",
   "execution_count": null,
   "metadata": {},
   "outputs": [],
   "source": [
    "presto.presto <- function (formula, design, response, size_varname, features = NULL, \n",
    "    effects_cov = c(\"\"), ncore = 1, nsim = 100, family = \"poisson\", \n",
    "    min_sigma = 0, verbose = 0L) \n",
    "{\n",
    "    if (is.null(features)) {\n",
    "        features <- rownames(response)\n",
    "    }\n",
    "    if (family %in% c(\"poisson\", \"binomial\", \"nb\")) {\n",
    "        message(\"CAUTION: if using GLMM, make sure your counts are integers!\")\n",
    "    }\n",
    "    design$EXPOSURE <- design[[size_varname]]\n",
    "    fstr <- gsub(size_varname, \"EXPOSURE\", as.character(formula))\n",
    "    formula <- as.formula(sprintf(\"%s~%s\", fstr[[2]], fstr[[3]]), \n",
    "        env = .GlobalEnv)\n",
    "    if (verbose > 0) {\n",
    "        message(\"Set up models\")\n",
    "    }\n",
    "    model_base <- fit_model.presto(formula, design, response[features[[1]], \n",
    "        ], family)\n",
    "    priornames_df <- as.data.frame(VarCorr(model_base))[, 1:3]\n",
    "    if (isGLMM(model_base)) {\n",
    "        priornames_df <- rbind(priornames_df, tibble(grp = \"Residual\", \n",
    "            var1 = NA, var2 = NA))\n",
    "    }\n",
    "    has_offset <- !all(map_lgl(model_base@resp$offset, identical, \n",
    "        0))\n",
    "    betanames_df <- make_betanames_df(model_base, has_offset)\n",
    "    features <- intersect(features, rownames(response))\n",
    "    if (ncore == 1) {\n",
    "        future::plan(sequential)\n",
    "    }\n",
    "    else if (ncore %in% c(0, Inf)) {\n",
    "        ncore <- availableCores()\n",
    "        future::plan(multisession)\n",
    "    }\n",
    "    else {\n",
    "        .ncore <<- ncore\n",
    "        future::plan(future::multisession(workers = .ncore))\n",
    "        rm(.ncore)\n",
    "    }\n",
    "    if (verbose > 0) {\n",
    "        message(\"Learn the models\")\n",
    "    }\n",
    "    lres <- furrr::future_map(features, glmm_uni, formula, design, \n",
    "        response, effects_cov, family, nsim, has_offset, min_sigma)\n",
    "    names(lres) <- features\n",
    "    lres <- lres[which(purrr::map_lgl(as.integer(map_int(lres, \n",
    "        \"status\")), identical, 0L))]\n",
    "    if (verbose > 0) {\n",
    "        message(\"Aggregate the results\")\n",
    "    }\n",
    "    res <- collapse_lres(lres)\n",
    "    if (verbose > 0) {\n",
    "        message(\"Cleap up names\")\n",
    "    }\n",
    "    covmat_names <- tibble(grpvar_orig = rownames(res$covmat)) %>% \n",
    "        left_join(subset(betanames_df, term %in% c(\"(Intercept)\", \n",
    "            \"Fixed\"))) %>% dplyr::mutate(newname = case_when(is.na(grpvar) ~ \n",
    "        grpvar_orig, TRUE ~ as.character(glue::glue(\"{grpvar}.{grp}.{term}\")))) %>% \n",
    "        with(newname)\n",
    "    dimnames(res$covmat) <- list(covmat_names, covmat_names, \n",
    "        colnames(res$beta))\n",
    "    res$betanames_df <- betanames_df\n",
    "    res$priornames_df <- priornames_df\n",
    "    res$meta_data <- design\n",
    "    if (has_offset) {\n",
    "        res$design <- list(EXPOSURE = model_base@resp$offset, \n",
    "            t(model_base@pp$X), model_base@pp$Zt) %>% purrr::reduce(Matrix::rbind2)\n",
    "    }\n",
    "    else {\n",
    "        res$design <- list(t(model_base@pp$X), model_base@pp$Zt) %>% \n",
    "            purrr::reduce(Matrix::rbind2)\n",
    "    }\n",
    "    row.names(res$design) <- res$betanames_df$grp\n",
    "    res$response <- response[names(lres), ]\n",
    "    if (verbose > 0) {\n",
    "        message(\"Compute gene means\")\n",
    "    }\n",
    "    res <- genemeans.presto(res, xpm = 1e+06)\n",
    "    res$has_offset <- has_offset\n",
    "    res$family <- family\n",
    "    res$size_varname <- size_varname\n",
    "    res$nsim <- nsim\n",
    "    res$formula_str <- as.character(formula)\n",
    "    return(res)\n",
    "}\n",
    "\n"
   ]
  },
  {
   "cell_type": "code",
   "execution_count": null,
   "metadata": {},
   "outputs": [],
   "source": [
    "future::plan(multicore, workers=3)"
   ]
  },
  {
   "cell_type": "code",
   "execution_count": null,
   "metadata": {},
   "outputs": [],
   "source": [
    "pb<-presto::collapse_counts(\n",
    "    sc.syno$counts, \n",
    "    sc.syno$metadata, \n",
    "    c(\"sample\", \"cosmx.myeloid\"), \n",
    "    min_cells_per_group = 3\n",
    ")"
   ]
  },
  {
   "cell_type": "code",
   "execution_count": null,
   "metadata": {},
   "outputs": [],
   "source": [
    "dimlist(pb)"
   ]
  },
  {
   "cell_type": "code",
   "execution_count": null,
   "metadata": {},
   "outputs": [],
   "source": [
    "#These are internal functions i.e. unexported so we must access with :::\n",
    "collapse_vecs <- presto:::collapse_vecs\n",
    "collapse_mats <- presto:::collapse_mats\n",
    "collapse_lres <- presto:::collapse_lres"
   ]
  },
  {
   "cell_type": "code",
   "execution_count": null,
   "id": "9529d751-d57c-4ec6-af7c-c00af61f01f3",
   "metadata": {},
   "outputs": [],
   "source": [
    "system.time({\n",
    "    suppressWarnings({\n",
    "        presto_res<-presto.presto(\n",
    "            y ~ 1 + (1|cosmx.myeloid) + (1|cosmx.myeloid:sample) + (1|sample) + offset(logUMI), \n",
    "            pb$meta_data, \n",
    "            pb$counts_mat,\n",
    "            size_varname = \"logUMI\", \n",
    "            effects_cov = \"cosmx.myeloid\",\n",
    "            ncore = 3, \n",
    "            min_sigma = .05,\n",
    "            family = \"poisson\",\n",
    "            nsim = 1000\n",
    "        )    \n",
    "    })\n",
    "})"
   ]
  },
  {
   "cell_type": "code",
   "execution_count": null,
   "metadata": {},
   "outputs": [],
   "source": [
    "saveRDS(presto_res, \"presto_res.cosmx.myeloid.rds\")"
   ]
  },
  {
   "cell_type": "markdown",
   "id": "9dee7500-6c99-4358-a7b4-1368e643d1ba",
   "metadata": {},
   "source": [
    "## Make contrasts"
   ]
  },
  {
   "cell_type": "code",
   "execution_count": null,
   "metadata": {},
   "outputs": [],
   "source": [
    "cellids_myeloid<-sc.syno$metadata %>% \n",
    "    subset(cosmx.celltype %in% c(\"STM\",\"cDC\")) %>% \n",
    "    rownames()"
   ]
  },
  {
   "cell_type": "code",
   "execution_count": null,
   "metadata": {},
   "outputs": [],
   "source": [
    "sc.myeloid<-list()\n",
    "sc.myeloid$counts<-sc.syno$counts[, cellids_myeloid]\n",
    "sc.myeloid$metadata<-sc.syno$metadata[cellids_myeloid, ]"
   ]
  },
  {
   "cell_type": "code",
   "execution_count": null,
   "metadata": {},
   "outputs": [],
   "source": [
    "unique.myeloid<-unique(sc.myeloid$metadata$cosmx.myeloid)"
   ]
  },
  {
   "cell_type": "code",
   "execution_count": null,
   "metadata": {},
   "outputs": [],
   "source": [
    "unique.myeloid"
   ]
  },
  {
   "cell_type": "code",
   "execution_count": null,
   "id": "6ae39cde-ce04-47ee-ad01-3649de0161c3",
   "metadata": {},
   "outputs": [],
   "source": [
    "contrasts_mat<-make_contrast.presto(\n",
    "    presto_res, \n",
    "    'cosmx.myeloid', \n",
    "    levels_contrast = unique.myeloid\n",
    ")"
   ]
  },
  {
   "cell_type": "code",
   "execution_count": null,
   "metadata": {},
   "outputs": [],
   "source": [
    "\n",
    "effects_marginal<-contrasts.presto(\n",
    "    presto_res, \n",
    "    contrasts_mat, \n",
    "    one_tailed = FALSE\n",
    ") %>% \n",
    "    dplyr::mutate(cluster = contrast) %>% \n",
    "    dplyr::mutate(\n",
    "        ## convert stats to log2 for interpretability \n",
    "        logFC = sign(beta) * log2(exp(abs(beta))),\n",
    "        SD = log2(exp(sigma)),\n",
    "        zscore = logFC / SD\n",
    "    ) %>%\n",
    "    arrange(pvalue)\n",
    "\n",
    "effects_marginal$fdr <- p.adjust(effects_marginal$pvalue, method = 'BH')\n"
   ]
  },
  {
   "cell_type": "code",
   "execution_count": null,
   "metadata": {},
   "outputs": [],
   "source": [
    "effects_marginal"
   ]
  },
  {
   "cell_type": "markdown",
   "id": "886f5c89-9ff7-4dbe-9502-6ff32ed47998",
   "metadata": {},
   "source": [
    "# 3. Find relevant genes based on z-scoring"
   ]
  },
  {
   "cell_type": "code",
   "execution_count": null,
   "id": "c380cb6a-fd5f-46f9-adde-4282b467e264",
   "metadata": {},
   "outputs": [],
   "source": [
    "sc.syno_genes_max_zscores<-data.table(effects_marginal)[, .SD[order(-zscore)][1, ], by = feature][\n",
    "    , .(feature, logFC, zscore)\n",
    "]"
   ]
  },
  {
   "cell_type": "code",
   "execution_count": null,
   "id": "d7f09e5b-4e54-4c85-a780-95c514f3516d",
   "metadata": {},
   "outputs": [],
   "source": [
    "genes_use<-sc.syno_genes_max_zscores %>% top_n(wt = zscore, n = 50) %>% with(feature)"
   ]
  },
  {
   "cell_type": "code",
   "execution_count": null,
   "id": "334b1fce-b959-47db-8819-2a826fefd80d",
   "metadata": {},
   "outputs": [],
   "source": [
    "length(genes_use)"
   ]
  },
  {
   "cell_type": "markdown",
   "id": "4d6d46ba-f5a7-4b4f-9cf9-eb45bdcb0a8b",
   "metadata": {},
   "source": [
    "# 4. Harmonize sc data with genes selected from step 3"
   ]
  },
  {
   "cell_type": "markdown",
   "id": "baf61bc3-5be6-422a-a140-525a388fbd09",
   "metadata": {},
   "source": [
    "## sample for one run"
   ]
  },
  {
   "cell_type": "code",
   "execution_count": null,
   "id": "b00f9a2f-5aa5-4ea1-b66b-15efa124ccfd",
   "metadata": {},
   "outputs": [],
   "source": [
    "all(colnames(sc.myeloid$counts) == rownames(sc.myeloid$metadata))"
   ]
  },
  {
   "cell_type": "code",
   "execution_count": null,
   "id": "1717a720-3604-49d8-879b-bf75ac48074e",
   "metadata": {},
   "outputs": [],
   "source": [
    "table(sc.myeloid$metadata$cosmx.myeloid)"
   ]
  },
  {
   "cell_type": "code",
   "execution_count": null,
   "id": "051d316e-d70c-4be0-a1e5-7d60eba53503",
   "metadata": {},
   "outputs": [],
   "source": [
    "dimlist(sc.myeloid)"
   ]
  },
  {
   "cell_type": "code",
   "execution_count": null,
   "id": "646ac431-501f-4741-9202-2efba3864ab7",
   "metadata": {},
   "outputs": [],
   "source": [
    "QC_gcmat(sc.myeloid$counts, 9, 12) %>% dim"
   ]
  },
  {
   "cell_type": "code",
   "execution_count": null,
   "id": "4458735f-4ff2-4138-8ec2-7b27378c3bb6",
   "metadata": {},
   "outputs": [],
   "source": [
    "plot_genes_counts(sc.myeloid$counts, genes_use, gene_int = 9, count_int = 12)"
   ]
  },
  {
   "cell_type": "code",
   "execution_count": null,
   "metadata": {},
   "outputs": [],
   "source": [
    "rm(sc.syno)\n",
    "gc()"
   ]
  },
  {
   "cell_type": "code",
   "execution_count": null,
   "metadata": {},
   "outputs": [],
   "source": [
    "rm(presto_res)"
   ]
  },
  {
   "cell_type": "code",
   "execution_count": null,
   "metadata": {},
   "outputs": [],
   "source": [
    "gc()"
   ]
  },
  {
   "cell_type": "markdown",
   "id": "c32c52d4-0414-4746-9956-66a68d74c48c",
   "metadata": {},
   "source": [
    "## iterating over different number of relevant genes"
   ]
  },
  {
   "cell_type": "code",
   "execution_count": null,
   "id": "24870666-9136-4399-bd81-866758fb69bb",
   "metadata": {},
   "outputs": [],
   "source": [
    "genes_use_list<-map(\n",
    "    c(50, seq(100, nrow(sc.myeloid$counts), 100), nrow(sc.myeloid$counts)), \n",
    "    ~ data.frame(\n",
    "        genes = sc.syno_genes_max_zscores %>% \n",
    "            top_n(wt = zscore, n = .x) %>% \n",
    "            with(unique(feature))\n",
    "        ) %>% \n",
    "        mutate(source = paste0('top', .x))\n",
    "    )"
   ]
  },
  {
   "cell_type": "code",
   "execution_count": null,
   "id": "c608017a-776b-49ee-aecf-fba5c9af8c99",
   "metadata": {},
   "outputs": [],
   "source": [
    "map(genes_use_list, ~ length(.x$genes))"
   ]
  },
  {
   "cell_type": "code",
   "execution_count": null,
   "id": "30b69e08-6806-4550-99fa-4eb2c258ac7b",
   "metadata": {
    "scrolled": false
   },
   "outputs": [],
   "source": [
    "batch<-c('sample','Experiment')\n",
    "theta_harmony<-c(0,2) \n",
    "sigma_harmony<-0.2\n",
    "\n",
    "sc.myeloid_meta<-map(genes_use_list, function(genes_use){\n",
    "    \n",
    "    sc.myeloid<-list()\n",
    "    sc.myeloid$metadata<-sc.syno$metadata %>%  subset(cosmx.celltype %in% c(\"STM\",\"cDC\")) \n",
    "    sc.myeloid$counts<-sc.syno$counts[genes_use$genes, rownames(sc.myeloid$metadata)]\n",
    "    \n",
    "    print(dimlist(sc.myeloid))\n",
    "    system.time({\n",
    "        sc.myeloid.harmony<-QC_harmony_pipeline_normval(\n",
    "            sc.myeloid, \n",
    "            ngenes_threshold = 9, \n",
    "            ncounts_threshold = 12, \n",
    "            do_cluster_after = TRUE,\n",
    "            resolution_clustering = c(1.5, 2.5, 3.5),\n",
    "            do_umap_after = TRUE,\n",
    "            vars_use = batch,\n",
    "            theta = theta_harmony,\n",
    "            sigma = sigma_harmony,\n",
    "            max.iter.harmony = 15,\n",
    "            max.iter.cluster = 300,\n",
    "            return_object = TRUE\n",
    "        )\n",
    "\n",
    "    sc.myeloid.harmony$sigma_harmony<-sigma_harmony\n",
    "    sc.myeloid.harmony$vars_use<-batch\n",
    "    sc.myeloid.harmony$theta_harmony<-theta_harmony    \n",
    "    sc.myeloid.harmony$source = genes_use$source\n",
    "    })\n",
    "    \n",
    "    return(sc.myeloid.harmony)\n",
    "})\n",
    "saveRDS(sc.myeloid_meta, \"./cache/sc.myeloid_sensitivity.RDS\")"
   ]
  },
  {
   "cell_type": "markdown",
   "id": "89abfdce-f337-44f3-aeb2-354c0c2548aa",
   "metadata": {},
   "source": [
    "## load"
   ]
  },
  {
   "cell_type": "code",
   "execution_count": null,
   "id": "e6b409e9-0295-43ae-a3cd-71c29454625c",
   "metadata": {},
   "outputs": [],
   "source": [
    "sc.myeloid_meta<-readRDS(\"./cache/sc.myeloid_sensitivity.RDS\")"
   ]
  },
  {
   "cell_type": "code",
   "execution_count": null,
   "id": "767d146d-6ac8-4b65-b2aa-05a0ce9c41f4",
   "metadata": {},
   "outputs": [],
   "source": [
    "length(sc.myeloid_meta)"
   ]
  },
  {
   "cell_type": "code",
   "execution_count": null,
   "id": "467fb252-3127-4c36-8791-cfe741375e72",
   "metadata": {},
   "outputs": [],
   "source": [
    "(sc.myeloid_meta[[1]]$source[1])"
   ]
  },
  {
   "cell_type": "code",
   "execution_count": null,
   "id": "ec13b6f4-3d02-435b-a320-7e5722d38143",
   "metadata": {},
   "outputs": [],
   "source": [
    "sc.myeloid_meta[[4]]$metadata %>% with(unique(cosmx.myeloid))"
   ]
  },
  {
   "cell_type": "markdown",
   "id": "1ecbb124-8e5a-48d6-adc0-da58b87bb645",
   "metadata": {},
   "source": [
    "## Figures"
   ]
  },
  {
   "cell_type": "code",
   "execution_count": null,
   "id": "50e3edd5-f662-42d3-89bb-c90a815c1336",
   "metadata": {},
   "outputs": [],
   "source": [
    "map(sc.myeloid_meta, function(sc.myeloid.harmony){\n",
    "    pca_before<-plot_dim_red(\n",
    "        dim_red_embeddings = sc.myeloid.harmony$pca_res$embeddings,\n",
    "        clusters = rep(1, nrow(sc.myeloid.harmony$pca_res$embeddings)),\n",
    "        metadata = sc.myeloid.harmony$metadata, \n",
    "        cell_id_colname = \"cellID\",\n",
    "        color_by = \"sample\",\n",
    "        plot_title = paste0(\"PCA before Harmony colored by sample - \", sc.myeloid.harmony$source[1], \" genes\"),\n",
    "        dim_red_type = \"PCA\",\n",
    "        size_points = 0.2\n",
    "    )\n",
    "    pca_after<-plot_dim_red(\n",
    "        dim_red_embeddings = sc.myeloid.harmony$H,\n",
    "        clusters = rep(1, nrow(sc.myeloid.harmony$pca_res$embeddings)),\n",
    "        metadata = sc.myeloid.harmony$metadata, \n",
    "        cell_id_colname = \"cellID\",\n",
    "        color_by = \"sample\",\n",
    "        plot_title = paste0(\"PCA after Harmony colored by sample - \", sc.myeloid.harmony$source[1], \" genes\"),\n",
    "        dim_red_type = \"PCA\",\n",
    "        size_points = 0.2\n",
    "    )\n",
    "    \n",
    "    fig.size(5, 10)\n",
    "    pca_before + theme(legend.position = \"none\") |\n",
    "    pca_after + theme(legend.position = \"none\")\n",
    "})"
   ]
  },
  {
   "cell_type": "code",
   "execution_count": null,
   "id": "830eb6e9-be26-4242-a0ce-2c85e6f0f576",
   "metadata": {
    "scrolled": false
   },
   "outputs": [],
   "source": [
    "map(sc.myeloid_meta, function(sc.myeloid.harmony){\n",
    "    pca_before<-plot_dim_red(\n",
    "        dim_red_embeddings = sc.myeloid.harmony$pca_res$embeddings,\n",
    "        clusters = rep(1, nrow(sc.myeloid.harmony$pca_res$embeddings)),\n",
    "        metadata = sc.myeloid.harmony$metadata, \n",
    "        cell_id_colname = \"cellID\",\n",
    "        color_by = \"cosmx.myeloid\",\n",
    "        plot_title = paste0(\"PCA before Harmony colored by sample - \", sc.myeloid.harmony$source[1], \" genes\"),\n",
    "        dim_red_type = \"PCA\",\n",
    "        size_points = 0.2\n",
    "    )\n",
    "    pca_after<-plot_dim_red(\n",
    "        dim_red_embeddings = sc.myeloid.harmony$H,\n",
    "        clusters = rep(1, nrow(sc.myeloid.harmony$pca_res$embeddings)),\n",
    "        metadata = sc.myeloid.harmony$metadata, \n",
    "        cell_id_colname = \"cellID\",\n",
    "        color_by = \"cosmx.myeloid\",\n",
    "        plot_title = paste0(\"PCA after Harmony colored by sample - \", sc.myeloid.harmony$source[1], \" genes\"),\n",
    "        dim_red_type = \"PCA\",\n",
    "        size_points = 0.2\n",
    "    )\n",
    "    \n",
    "    fig.size(5, 20)\n",
    "    pca_before | \n",
    "    pca_after \n",
    "})"
   ]
  },
  {
   "cell_type": "code",
   "execution_count": null,
   "metadata": {},
   "outputs": [],
   "source": [
    "plot_dim_red <- function (dim_red_embeddings, clusters = NULL, metadata, cell_id_colname = \"cellID\", \n",
    "    color_by, plot_title = \"title\", dim_red_type, legend_posn = \"right\", \n",
    "    shape_points = \".\", size_points = 0.1, point_type = \"size\", \n",
    "    legend_title_input = NULL, plot_labels = FALSE, shorten_labels = FALSE) \n",
    "{\n",
    "    if (is.null(clusters)) \n",
    "        clusters = rep(1, nrow(dim_red_embeddings))\n",
    "    plt_df <- dim_red_embeddings[, 1:2] %>% as.data.frame %>%\n",
    "        purrr::set_names(\"V1\", \"V2\") %>% \n",
    "        cbind(clusters) %>% cbind(metadata) %>% \n",
    "        rename(color_col = as.symbol(color_by)) %>% group_by(color_col) %>% \n",
    "        mutate(x_mid = median(V1), y_mid = median(V2), label_col = color_col) %>% \n",
    "        ungroup() %>% sample_frac(1)\n",
    "    cols_plot <- generate_colors_tableau(plt_df$color_col)\n",
    "    if (is.null(legend_title_input)) \n",
    "        legend_title_input = \"color_col\"\n",
    "    if (plot_labels & shorten_labels) {\n",
    "        plt_df <- plt_df %>% mutate(label_col = gsub(\"(.*?):.*\", \n",
    "            \"\\\\1\", color_col))\n",
    "    }\n",
    "#     print(head(plt_df))\n",
    "    p <- ggplot(data = plt_df, aes(V1, V2, color = color_col)) + \n",
    "        {\n",
    "            if (point_type == \"size\") \n",
    "                geom_point(size = size_points)\n",
    "        } + {\n",
    "        if (point_type == \"shape\") \n",
    "            geom_point(shape = shape_points)\n",
    "    } + ggtitle(plot_title) + scale_color_manual(values = cols_plot) + \n",
    "        {\n",
    "            if (plot_labels) \n",
    "                geom_label_repel(data = plt_df %>% dplyr::select(starts_with(c(\"col\", \n",
    "                  \"x_mid\", \"y_mid\", \"label\"))) %>% distinct, \n",
    "                  aes(x = x_mid, y = y_mid, label = label_col, \n",
    "                    fill = color_col), color = \"black\", size = 5, \n",
    "                  min.segment.length = 0, max.overlaps = Inf)\n",
    "        } + {\n",
    "        if (plot_labels) \n",
    "            scale_fill_manual(values = cols_plot)\n",
    "    } + {\n",
    "        if (plot_labels) \n",
    "            guides(fill = guide_legend(title = legend_title_input, \n",
    "                override.aes = list(color = NA)))\n",
    "    } + {\n",
    "        if (!plot_labels) \n",
    "            guides(color = guide_legend(title = legend_title_input, \n",
    "                override.aes = list(shape = 16, alpha = 1, size = 5)))\n",
    "    } + xlab(paste0(dim_red_type, \"_1\")) + ylab(paste0(dim_red_type, \n",
    "        \"_2\")) + theme(plot.title = element_textbox_simple(margin = margin(10, \n",
    "        0, 10, 0)), legend.position = legend_posn, legend.text = element_textbox_simple(width = unit(5, \n",
    "        \"cm\")))\n",
    "}"
   ]
  },
  {
   "cell_type": "markdown",
   "id": "ccd1e23e-0a24-49e2-9440-5ad44a1e820c",
   "metadata": {},
   "source": [
    "## UMAP"
   ]
  },
  {
   "cell_type": "code",
   "execution_count": null,
   "id": "73a6451e-d32a-4848-8c42-de76dfebe0b2",
   "metadata": {},
   "outputs": [],
   "source": [
    "map(sc.myeloid_meta, function(sc.myeloid.harmony){\n",
    "    \n",
    "    umap_before<-plot_dim_red(\n",
    "        dim_red_embeddings = sc.myeloid.harmony$umap$embedding,\n",
    "        clusters = rep(1, nrow(sc.myeloid.harmony$pca_res$embeddings)),\n",
    "        metadata = sc.myeloid.harmony$metadata, \n",
    "        cell_id_colname = \"cellID\",\n",
    "        color_by = \"sample\",\n",
    "        plot_title = paste0(\"UMAP before Harmony colored by sample - \", sc.myeloid.harmony$source[1], \" genes\"),\n",
    "        dim_red_type = \"UMAP\",\n",
    "        size_points = 0.2\n",
    "    )\n",
    "    umap_after<-plot_dim_red(\n",
    "        dim_red_embeddings = sc.myeloid.harmony$Humap$embedding,\n",
    "        clusters = rep(1, nrow(sc.myeloid.harmony$pca_res$embeddings)),\n",
    "        metadata = sc.myeloid.harmony$metadata, \n",
    "        cell_id_colname = \"cellID\",\n",
    "        color_by = \"sample\",\n",
    "        plot_title = paste0(\"UMAP after Harmony colored by sample - \", sc.myeloid.harmony$source[1], \" genes\"),\n",
    "        dim_red_type = \"UMAP\",\n",
    "        size_points = 0.2\n",
    "    )\n",
    "    \n",
    "    fig.size(5, 10)\n",
    "    umap_before + theme(legend.position = \"none\") |\n",
    "    umap_after + theme(legend.position = \"none\")\n",
    "    \n",
    "})"
   ]
  },
  {
   "cell_type": "markdown",
   "id": "a319b691-969e-421d-a2ac-b97bbdbc8317",
   "metadata": {},
   "source": [
    "### by cell type"
   ]
  },
  {
   "cell_type": "code",
   "execution_count": null,
   "id": "3daac30e-24e8-49eb-a680-5e3dc0ce6403",
   "metadata": {},
   "outputs": [],
   "source": [
    "library(ggh4x)"
   ]
  },
  {
   "cell_type": "code",
   "execution_count": null,
   "id": "1926f0b7-f7af-412e-a644-8b1d3fe7d4b7",
   "metadata": {},
   "outputs": [],
   "source": [
    "map(sc.myeloid_meta, function(sc.myeloid.harmony){\n",
    "    \n",
    "     umap_before<-plot_dim_red(\n",
    "         dim_red_embeddings = sc.myeloid.harmony$umap$embedding,\n",
    "         metadata = sc.myeloid.harmony$metadata, \n",
    "         cell_id_colname = \"cellID\",\n",
    "         color_by = \"cosmx.myeloid\",\n",
    "         plot_title = paste0(\"UMAP before Harmony colored by celltype - \", sc.myeloid.harmony$source[1], \" genes\"),\n",
    "         dim_red_type = \"UMAP\",\n",
    "         size_points = 0.1\n",
    "     )\n",
    "    umap_after<-plot_dim_red(\n",
    "        dim_red_embeddings = sc.myeloid.harmony$Humap$embedding,\n",
    "        clusters = rep(1, nrow(sc.myeloid.harmony$pca_res$embeddings)),\n",
    "        metadata = sc.myeloid.harmony$metadata, \n",
    "        cell_id_colname = \"cellID\",\n",
    "        color_by = \"cosmx.myeloid\",\n",
    "        plot_title = paste0(\"UMAP after Harmony colored by celltype - \", sc.myeloid.harmony$source[1], \" genes\"),\n",
    "        dim_red_type = \"UMAP\",\n",
    "        size_points = 0.1\n",
    "    )\n",
    "   \n",
    "    cells_cols<-generate_colors_tableau(sc.myeloid.harmony$metadata$new_cluster)\n",
    "    strip<-strip_themed(background_x = elem_list_rect(fill = cells_cols))\n",
    "    fig.size(5, 15)\n",
    "    # umap_before + theme(legend.position = \"none\") |\n",
    "    umap_after +\n",
    "#         theme(\n",
    "#             legend.text = element_textbox_simple(width = unit(5, \"cm\")), \n",
    "#             legend.key.height=unit(2, \"cm\"),\n",
    "#             plot.title = element_textbox_simple(margin = margin(10, 0, 10, 0))\n",
    "#         )  |\n",
    "    umap_after + \n",
    "        facet_wrap2(~ color_col, strip = strip) + \n",
    "        theme(\n",
    "            legend.position = \"none\",\n",
    "            strip.text = element_textbox_simple(size = 8, width = unit(4, \"cm\"))\n",
    "             ) +\n",
    "        NULL\n",
    "    \n",
    "})"
   ]
  },
  {
   "cell_type": "markdown",
   "id": "a3109841-86f1-46c9-907c-a87f131abf16",
   "metadata": {},
   "source": [
    "# Integrate with CosMx data"
   ]
  },
  {
   "cell_type": "markdown",
   "id": "a30a3673-45ea-4e61-af88-615a088f21e2",
   "metadata": {},
   "source": [
    "## load CosMx data"
   ]
  },
  {
   "cell_type": "code",
   "execution_count": null,
   "id": "58b31ded-e4aa-400c-9d5f-cd38da5f1f21",
   "metadata": {},
   "outputs": [],
   "source": [
    "cosmx.syno<-readRDS(\"./cache/CosMxcoarseGrainharmonyObj_markers.RDS\")"
   ]
  },
  {
   "cell_type": "code",
   "execution_count": null,
   "id": "6c38eece-6e79-4b57-989b-696102bb0c91",
   "metadata": {},
   "outputs": [],
   "source": [
    "dimlist(cosmx.syno) "
   ]
  },
  {
   "cell_type": "code",
   "execution_count": null,
   "metadata": {},
   "outputs": [],
   "source": [
    "head(cosmx.syno$metadata)"
   ]
  },
  {
   "cell_type": "code",
   "execution_count": null,
   "id": "aab038cb-a1ae-44f5-8256-de97014a3466",
   "metadata": {},
   "outputs": [],
   "source": [
    "celltype<-c(\"Myeloid\",\"DC\")"
   ]
  },
  {
   "cell_type": "code",
   "execution_count": null,
   "id": "3baee488-4a2b-4294-91b1-75943634bc08",
   "metadata": {},
   "outputs": [],
   "source": [
    "head(cosmx.syno$metadata)"
   ]
  },
  {
   "cell_type": "code",
   "execution_count": null,
   "id": "b4d9512f-6826-4706-8923-ea0d6663dc0c",
   "metadata": {},
   "outputs": [],
   "source": [
    "cosmx.syno$metadata<-cosmx.syno$metadata %>% \n",
    "    dplyr::mutate(\n",
    "        celltype.custom = celltype.coarse,\n",
    "        SampleFOV = paste0(SampleID, '_', FOV)\n",
    "    )\n",
    "    "
   ]
  },
  {
   "cell_type": "markdown",
   "id": "3938a6c6-b0d5-4188-be09-0b43eb54fbc7",
   "metadata": {},
   "source": [
    "## filter"
   ]
  },
  {
   "cell_type": "code",
   "execution_count": null,
   "id": "3f59c455-c907-4335-a6d9-1e51770e2ce8",
   "metadata": {},
   "outputs": [],
   "source": [
    "cell.ids<-cosmx.syno$metadata %>% \n",
    "    filter(celltype.custom %in% celltype) %>% \n",
    "    dplyr::select(cellID)"
   ]
  },
  {
   "cell_type": "code",
   "execution_count": null,
   "id": "c0f18c70-5d08-419a-a0ae-28ac7965194a",
   "metadata": {},
   "outputs": [],
   "source": [
    "cosmx.syno$metadata %>% filter(cellID %in% cell.ids$cellID) %>% head"
   ]
  },
  {
   "cell_type": "code",
   "execution_count": null,
   "id": "3c20366e-742e-4aad-bd73-39846fc9bc08",
   "metadata": {},
   "outputs": [],
   "source": [
    "cosmx.myeloid<-list()\n",
    "cosmx.myeloid$counts<-cosmx.syno$counts[, colnames(cosmx.syno$counts) %in% cell.ids$cellID]\n",
    "cosmx.myeloid$metadata<-cosmx.syno$metadata %>% subset(cellID %in% cell.ids$cellID)"
   ]
  },
  {
   "cell_type": "code",
   "execution_count": null,
   "id": "301cedb2-d9d3-4054-8f1a-831f12a59808",
   "metadata": {},
   "outputs": [],
   "source": [
    "dimlist(cosmx.myeloid)"
   ]
  },
  {
   "cell_type": "code",
   "execution_count": null,
   "id": "ad3d42b1-33ca-484d-9a51-4e148a0770f8",
   "metadata": {},
   "outputs": [],
   "source": [
    "all(cosmx.myeloid$metadata$cellID == colnames(cosmx.myeloid$counts))"
   ]
  },
  {
   "cell_type": "code",
   "execution_count": null,
   "id": "5cf8fd2d-8ff6-414f-9117-181d48c04566",
   "metadata": {},
   "outputs": [],
   "source": [
    "fig.size(5, 5)\n",
    "map(sc.myeloid_meta, function(sc.myeloid.harmony){\n",
    "    genes_use<-rownames(sc.myeloid.harmony$counts)\n",
    "    cosmxdata<-list()\n",
    "    cosmxdata$counts<-cosmx.myeloid$counts[genes_use, ]\n",
    "    cosmxdata$metadata<-cosmx.myeloid$metadata %>% subset(cellID %in% colnames(cosmxdata$counts))\n",
    "    \n",
    "    data_qc<-QC_gcmat(cosmxdata$counts, gene_thresh = 3, count_thresh = 7)\n",
    "    \n",
    "    cell_count<-data.frame(frac_cells = ncol(data_qc)/ncol(cosmxdata$counts), ngenes = length(genes_use))\n",
    "    \n",
    "    }) %>% \n",
    "    rbindlist %>% \n",
    "    ggplot(aes(ngenes, frac_cells)) + \n",
    "        geom_point() + \n",
    "        ggtitle(\"Fraction of cells after QC vs number of relevant genes\") + \n",
    "        theme(plot.title = element_textbox_simple()) + \n",
    "        ylab(\"Fraction of cells remaining after QC\")\n",
    "    \n",
    "#     fig.size(12, 20)\n",
    "# tibble(\n",
    "#     gene = genes_use, \n",
    "#     cosmx = prop.table(rowSums(cosmxdata$counts[genes_use, ])), \n",
    "#     amp = prop.table(rowSums(sc.syno$counts[genes_use, ]))\n",
    "# ) %>% \n",
    "#     ggplot(aes(amp, cosmx)) + \n",
    "#         geom_point() + \n",
    "#         geom_text_repel(aes(label = gene), max.overlaps = Inf) + \n",
    "#         geom_abline() + \n",
    "#         geom_smooth() + \n",
    "#         scale_x_log10() + scale_y_log10() + \n",
    "        \n",
    "#         NULL\n",
    "\n",
    "\n"
   ]
  },
  {
   "cell_type": "code",
   "execution_count": null,
   "id": "e66c4f11-df0f-492d-96f4-6153be566189",
   "metadata": {},
   "outputs": [],
   "source": [
    "fig.size(5, 5)\n",
    "map(sc.myeloid_meta, function(sc.myeloid.harmony){\n",
    "    genes_use<-rownames(sc.myeloid.harmony$counts)\n",
    "    cosmxdata<-list()\n",
    "    cosmxdata$counts<-cosmx.myeloid$counts[genes_use, ]\n",
    "    cosmxdata$metadata<-cosmx.myeloid$metadata %>% subset(cellID %in% colnames(cosmxdata$counts))\n",
    "    \n",
    "    data_qc<-QC_gcmat(cosmxdata$counts, gene_thresh = 10, count_thresh = 15)\n",
    "    \n",
    "    cell_count<-data.frame(frac_cells = ncol(data_qc)/ncol(cosmxdata$counts), ngenes = length(genes_use))\n",
    "    \n",
    "    }) %>% \n",
    "    rbindlist %>% \n",
    "    ggplot(aes(ngenes, frac_cells)) + \n",
    "        geom_point() + \n",
    "        ggtitle(\"Fraction of cells after QC vs number of relevant genes\") + \n",
    "        theme(plot.title = element_textbox_simple()) + \n",
    "        ylab(\"Fraction of cells remaining after QC\")"
   ]
  },
  {
   "cell_type": "markdown",
   "id": "a39cd6a1-45a2-490b-a931-9feb80850185",
   "metadata": {},
   "source": [
    "# I will integrate with 400 genes"
   ]
  },
  {
   "cell_type": "markdown",
   "id": "b2945fa7-bf8d-494c-8183-d6490beab6a4",
   "metadata": {},
   "source": [
    "## Clean up and annotate sc.syno with 400 genes"
   ]
  },
  {
   "cell_type": "code",
   "execution_count": null,
   "id": "c92cc30e-c86d-42c2-a201-6649f2a94569",
   "metadata": {},
   "outputs": [],
   "source": [
    "sc.myeloid_meta[[4]]$metadata %>% with(table(cosmx.myeloid))"
   ]
  },
  {
   "cell_type": "code",
   "execution_count": null,
   "id": "274d5d00-6d90-429e-b794-95d331865737",
   "metadata": {
    "scrolled": true
   },
   "outputs": [],
   "source": [
    "dimlist(sc.myeloid_meta[[5]])"
   ]
  },
  {
   "cell_type": "code",
   "execution_count": null,
   "id": "29d1d1e7-7c9a-4e63-a77e-d5b5afda4b78",
   "metadata": {},
   "outputs": [],
   "source": [
    "sc.myeloid<-sc.myeloid_meta[[5]]"
   ]
  },
  {
   "cell_type": "code",
   "execution_count": null,
   "id": "7cb6656f-fb11-484a-b161-83e52d9f1495",
   "metadata": {},
   "outputs": [],
   "source": [
    "sc.myeloid$metadata %>% cbind(sc.myeloid$Humap$clusters) %>% with(table(Clust1.5))"
   ]
  },
  {
   "cell_type": "code",
   "execution_count": null,
   "metadata": {},
   "outputs": [],
   "source": [
    "head(sc.myeloid$Humap$clusters)"
   ]
  },
  {
   "cell_type": "code",
   "execution_count": null,
   "id": "4b72f2ce-6846-4353-81a0-b27e8c479cad",
   "metadata": {},
   "outputs": [],
   "source": [
    "pclust1<-plot_dim_red(\n",
    "        dim_red_embeddings = sc.myeloid$Humap$embedding,\n",
    "        clusters = sc.myeloid$Humap$clusters,\n",
    "        metadata = sc.myeloid$metadata, \n",
    "        cell_id_colname = \"cellID\",\n",
    "        color_by = \"Clust1.5\",\n",
    "        plot_title = paste0(\"UMAP after Harmony colored by celltype - \", sc.myeloid$source[1], \" genes\"),\n",
    "        dim_red_type = \"UMAP\",\n",
    "        plot_labels = TRUE\n",
    "    )\n",
    "pclust2<-plot_dim_red(\n",
    "        dim_red_embeddings = sc.myeloid$Humap$embedding,\n",
    "        clusters = sc.myeloid$Humap$clusters,\n",
    "        metadata = sc.myeloid$metadata, \n",
    "        cell_id_colname = \"cellID\",\n",
    "        color_by = \"Clust2.5\",\n",
    "        plot_title = paste0(\"UMAP after Harmony colored by celltype - \", sc.myeloid$source[1], \" genes\"),\n",
    "        dim_red_type = \"UMAP\",\n",
    "        plot_labels = TRUE\n",
    "    )\n",
    "pclust3<-plot_dim_red(\n",
    "        dim_red_embeddings = sc.myeloid$Humap$embedding,\n",
    "        clusters = sc.myeloid$Humap$clusters,\n",
    "        metadata = sc.myeloid$metadata, \n",
    "        cell_id_colname = \"cellID\",\n",
    "        color_by = \"Clust3.5\",\n",
    "        plot_title = paste0(\"UMAP after Harmony colored by celltype - \", sc.myeloid$source[1], \" genes\"),\n",
    "        dim_red_type = \"UMAP\",\n",
    "        plot_labels = TRUE\n",
    "    )\n",
    "ptype<-plot_dim_red(\n",
    "        dim_red_embeddings = sc.myeloid$Humap$embedding,\n",
    "        clusters = sc.myeloid$Humap$clusters,\n",
    "        metadata = sc.myeloid$metadata, \n",
    "        cell_id_colname = \"cellID\",\n",
    "        color_by = \"cosmx.myeloid\",\n",
    "        plot_title = paste0(\"UMAP after Harmony colored by celltype - \", sc.myeloid$source[1], \" genes\"),\n",
    "        dim_red_type = \"UMAP\"\n",
    "    )"
   ]
  },
  {
   "cell_type": "code",
   "execution_count": null,
   "id": "d6fe93a8-7f6e-4fc6-b27f-8517c4819eb8",
   "metadata": {
    "scrolled": true
   },
   "outputs": [],
   "source": [
    "fig.size(5, 9)\n",
    "ptype \n",
    "fig.size(5, 9)\n",
    "pclust1\n",
    "fig.size(5, 9)\n",
    "pclust2\n",
    "fig.size(5, 9)\n",
    "pclust3"
   ]
  },
  {
   "cell_type": "code",
   "execution_count": null,
   "id": "0faca183-44b0-4158-8ba4-10c9e3126d50",
   "metadata": {},
   "outputs": [],
   "source": [
    "fig.size(7, 15)\n",
    "pclust1 + facet_wrap(~ color_col)"
   ]
  },
  {
   "cell_type": "code",
   "execution_count": null,
   "id": "cb3a949b-7546-4d35-a5af-98c1de441005",
   "metadata": {
    "scrolled": true
   },
   "outputs": [],
   "source": [
    "fig.size(7, 10)\n",
    "sc.myeloid$metadata %>% \n",
    "    cbind(sc.myeloid$Humap$clusters) %>% \n",
    "    with(table(cosmx.myeloid, Clust1.5)) %>% \n",
    "    prop.table(1) %>% \n",
    "    prop.table(2) %>% \n",
    "    Heatmap"
   ]
  },
  {
   "cell_type": "markdown",
   "metadata": {},
   "source": [
    "Higher resolution (3.5) still does not even split DC1 from DC2 so we need to isolate and run seperately so just return to 1.5 resolution to make things easier"
   ]
  },
  {
   "cell_type": "code",
   "execution_count": null,
   "metadata": {},
   "outputs": [],
   "source": [
    "head(sc.myeloid$metadata)"
   ]
  },
  {
   "cell_type": "code",
   "execution_count": null,
   "metadata": {},
   "outputs": [],
   "source": [
    "sc.myeloid$metadata$Clust1.5<-sc.myeloid$Humap$clusters$`Clust1.5`"
   ]
  },
  {
   "cell_type": "code",
   "execution_count": null,
   "metadata": {},
   "outputs": [],
   "source": [
    "head(sc.myeloid$metadata)"
   ]
  },
  {
   "cell_type": "markdown",
   "metadata": {},
   "source": [
    "## Subset DCs and recluster "
   ]
  },
  {
   "cell_type": "code",
   "execution_count": null,
   "metadata": {},
   "outputs": [],
   "source": [
    "SPP1subclustering <- subcluster_cells(sc.myeloid$counts, sc.myeloid$metadata, sc.myeloid$Humap$snn, \n",
    "                             \"Clust1.5\", 4, c(0.2,0.4))"
   ]
  },
  {
   "cell_type": "code",
   "execution_count": null,
   "metadata": {},
   "outputs": [],
   "source": [
    "head(SPP1subclustering)"
   ]
  },
  {
   "cell_type": "code",
   "execution_count": null,
   "metadata": {},
   "outputs": [],
   "source": [
    "merged.clusters <- merge_clusters(sc.myeloid$metadata, SPP1subclustering, \"Clust1.5\", \"finetype.Clust0.4\")"
   ]
  },
  {
   "cell_type": "code",
   "execution_count": null,
   "metadata": {},
   "outputs": [],
   "source": [
    "sc.myeloid$metadata <- merged.clusters"
   ]
  },
  {
   "cell_type": "code",
   "execution_count": null,
   "metadata": {},
   "outputs": [],
   "source": [
    "head(merged.clusters)"
   ]
  },
  {
   "cell_type": "code",
   "execution_count": null,
   "metadata": {},
   "outputs": [],
   "source": [
    "DCsubclustering <- subcluster_cells(sc.myeloid$counts, sc.myeloid$metadata, sc.myeloid$Humap$snn, \n",
    "                             \"Clust1.5\", 8, c(0.2,0.3,0.4,0.5))"
   ]
  },
  {
   "cell_type": "code",
   "execution_count": null,
   "metadata": {},
   "outputs": [],
   "source": [
    "head(DCsubclustering)"
   ]
  },
  {
   "cell_type": "code",
   "execution_count": null,
   "metadata": {},
   "outputs": [],
   "source": [
    "merged.clusters <- merge_clusters(sc.myeloid$metadata, DCsubclustering, \"Clust1.5\", \"finetype.Clust0.5\")"
   ]
  },
  {
   "cell_type": "code",
   "execution_count": null,
   "metadata": {},
   "outputs": [],
   "source": [
    "sc.myeloid$metadata <- merged.clusters"
   ]
  },
  {
   "cell_type": "code",
   "execution_count": null,
   "metadata": {},
   "outputs": [],
   "source": [
    "head(merged.clusters)"
   ]
  },
  {
   "cell_type": "code",
   "execution_count": null,
   "metadata": {},
   "outputs": [],
   "source": [
    "unique(merged.clusters$Clust1.5)"
   ]
  },
  {
   "cell_type": "code",
   "execution_count": null,
   "metadata": {},
   "outputs": [],
   "source": [
    "plot1 <- plot_dim_red(\n",
    "        dim_red_embeddings = sc.myeloid$Humap$embedding,\n",
    "        metadata = sc.myeloid$metadata, \n",
    "        cell_id_colname = \"cellID\",\n",
    "        color_by = \"Clust1.5\",\n",
    "        plot_title = paste0(\"UMAP after Harmony colored by celltype - \", sc.myeloid$source[1], \" genes\"),\n",
    "        dim_red_type = \"UMAP\"\n",
    "    )"
   ]
  },
  {
   "cell_type": "code",
   "execution_count": null,
   "metadata": {},
   "outputs": [],
   "source": [
    "fig.size(7,10)\n",
    "\n",
    "plot1"
   ]
  },
  {
   "cell_type": "code",
   "execution_count": null,
   "metadata": {},
   "outputs": [],
   "source": [
    "fig.size(7, 15)\n",
    "plot1 + facet_wrap(~ color_col)"
   ]
  },
  {
   "cell_type": "code",
   "execution_count": null,
   "metadata": {
    "scrolled": true
   },
   "outputs": [],
   "source": [
    "fig.size(7, 15)\n",
    "sc.myeloid$metadata %>% \n",
    "    cbind(sc.myeloid$Humap$clusters) %>% \n",
    "    with(table(cosmx.myeloid, Clust1.5)) %>% \n",
    "    prop.table(1) %>% \n",
    "    prop.table(2) %>% \n",
    "    Heatmap"
   ]
  },
  {
   "cell_type": "code",
   "execution_count": null,
   "metadata": {},
   "outputs": [],
   "source": [
    "monoDCsubclustering <- subcluster_cells(sc.myeloid$counts, sc.myeloid$metadata, sc.myeloid$Humap$snn, \n",
    "                             \"Clust1.5\", 1, c(0.3))"
   ]
  },
  {
   "cell_type": "code",
   "execution_count": null,
   "metadata": {},
   "outputs": [],
   "source": [
    "head(monoDCsubclustering)"
   ]
  },
  {
   "cell_type": "code",
   "execution_count": null,
   "metadata": {},
   "outputs": [],
   "source": [
    "merged.clusters <- merge_clusters(sc.myeloid$metadata, monoDCsubclustering, \"Clust1.5\", \"Clust0.3\")"
   ]
  },
  {
   "cell_type": "code",
   "execution_count": null,
   "metadata": {},
   "outputs": [],
   "source": [
    "sc.myeloid$metadata <- merged.clusters"
   ]
  },
  {
   "cell_type": "code",
   "execution_count": null,
   "metadata": {},
   "outputs": [],
   "source": [
    "head(merged.clusters)"
   ]
  },
  {
   "cell_type": "code",
   "execution_count": null,
   "metadata": {},
   "outputs": [],
   "source": [
    "unique(merged.clusters$Clust1.5)"
   ]
  },
  {
   "cell_type": "code",
   "execution_count": null,
   "metadata": {},
   "outputs": [],
   "source": [
    "plot1 <- plot_dim_red(\n",
    "        dim_red_embeddings = sc.myeloid$Humap$embedding,\n",
    "        metadata = sc.myeloid$metadata, \n",
    "        cell_id_colname = \"cellID\",\n",
    "        color_by = \"Clust1.5\",\n",
    "        plot_title = paste0(\"UMAP after Harmony colored by celltype - \", sc.myeloid$source[1], \" genes\"),\n",
    "        dim_red_type = \"UMAP\"\n",
    "    )"
   ]
  },
  {
   "cell_type": "code",
   "execution_count": null,
   "metadata": {},
   "outputs": [],
   "source": [
    "fig.size(7,10)\n",
    "\n",
    "plot1"
   ]
  },
  {
   "cell_type": "code",
   "execution_count": null,
   "metadata": {},
   "outputs": [],
   "source": [
    "fig.size(7, 15)\n",
    "plot1 + facet_wrap(~ color_col)"
   ]
  },
  {
   "cell_type": "code",
   "execution_count": null,
   "metadata": {
    "scrolled": true
   },
   "outputs": [],
   "source": [
    "fig.size(7, 15)\n",
    "sc.myeloid$metadata %>% \n",
    "    cbind(sc.myeloid$Humap$clusters) %>% \n",
    "    with(table(cosmx.myeloid, Clust1.5)) %>% \n",
    "    prop.table(1) %>% \n",
    "    prop.table(2) %>% \n",
    "    Heatmap"
   ]
  },
  {
   "cell_type": "markdown",
   "id": "8359b68f-f4f2-4047-b06b-58576479fef6",
   "metadata": {},
   "source": [
    "## Annotations"
   ]
  },
  {
   "cell_type": "code",
   "execution_count": null,
   "id": "ca50808d-81b1-4062-8db4-537905dfb007",
   "metadata": {},
   "outputs": [],
   "source": [
    "annotations<-sc.myeloid$metadata %>% \n",
    "    cbind(sc.myeloid$Humap$clusters) %>% \n",
    "    with(table(cosmx.myeloid, Clust1.5)) %>% \n",
    "    prop.table(1) %>% \n",
    "    prop.table(2) %>% \n",
    "    as.data.frame %>% \n",
    "    group_by(Clust1.5) %>% \n",
    "    mutate(maxFreq = max(Freq)) %>% \n",
    "    subset(Freq == maxFreq) %>% \n",
    "    mutate(\n",
    "        cosmx.myeloid = as.character(cosmx.myeloid),\n",
    "        Clust1.5 = as.character(Clust1.5)\n",
    "    ) %>% \n",
    "    dplyr::select(cosmx.myeloid, Clust1.5) %>% \n",
    "    rename(fine_type = cosmx.myeloid)"
   ]
  },
  {
   "cell_type": "code",
   "execution_count": null,
   "metadata": {
    "scrolled": true
   },
   "outputs": [],
   "source": [
    "annotations"
   ]
  },
  {
   "cell_type": "code",
   "execution_count": null,
   "id": "501dac3f-e748-4d04-ad22-8bd99232dad0",
   "metadata": {},
   "outputs": [],
   "source": [
    "ann_auto<-annotations %>% \n",
    "    group_by(fine_type) %>% \n",
    "    summarise(clusters = paste(Clust1.5, collapse = \".\")) %>%  \n",
    "    mutate(fine_type = gsub(\"(.*?):.*\", \"\\\\1\", fine_type))"
   ]
  },
  {
   "cell_type": "code",
   "execution_count": null,
   "metadata": {},
   "outputs": [],
   "source": [
    "ann_auto"
   ]
  },
  {
   "cell_type": "code",
   "execution_count": null,
   "metadata": {},
   "outputs": [],
   "source": [
    "sc.myeloid$metadata<-sc.myeloid$metadata %>% \n",
    "    left_join(annotations, by = \"Clust1.5\")"
   ]
  },
  {
   "cell_type": "code",
   "execution_count": null,
   "id": "3a51a800-13ea-41e6-b6bc-f68a34a9e46a",
   "metadata": {},
   "outputs": [],
   "source": [
    "fig.size(7, 7)\n",
    "sc.myeloid$metadata %>% \n",
    "    with(table(cosmx.myeloid, fine_type)) %>% \n",
    "    prop.table(1) %>% \n",
    "    prop.table(2) %>% \n",
    "    Heatmap"
   ]
  },
  {
   "cell_type": "code",
   "execution_count": null,
   "id": "3f047c77-364c-4b7c-9066-74765fb2426d",
   "metadata": {
    "scrolled": true
   },
   "outputs": [],
   "source": [
    "table(sc.myeloid$metadata$fine_type)"
   ]
  },
  {
   "cell_type": "code",
   "execution_count": null,
   "metadata": {},
   "outputs": [],
   "source": [
    "plot1 <- plot_dim_red(\n",
    "        dim_red_embeddings = sc.myeloid$Humap$embedding,\n",
    "        metadata = sc.myeloid$metadata, \n",
    "        cell_id_colname = \"cellID\",\n",
    "        color_by = \"fine_type\",\n",
    "        plot_title = paste0(\"UMAP after Harmony colored by celltype - \", sc.myeloid$source[1], \" genes\"),\n",
    "        dim_red_type = \"UMAP\"\n",
    "    )"
   ]
  },
  {
   "cell_type": "code",
   "execution_count": null,
   "metadata": {},
   "outputs": [],
   "source": [
    "sc.myeloid$metadata"
   ]
  },
  {
   "cell_type": "code",
   "execution_count": null,
   "metadata": {},
   "outputs": [],
   "source": [
    "fig.size(7,10)\n",
    "\n",
    "plot1"
   ]
  },
  {
   "cell_type": "markdown",
   "id": "6d8eef22-796f-4288-92e4-0b45b866ae10",
   "metadata": {},
   "source": [
    "## delete clashing cells"
   ]
  },
  {
   "cell_type": "code",
   "execution_count": null,
   "id": "7af1d9d9-5edf-489d-9a00-78266f6fc766",
   "metadata": {},
   "outputs": [],
   "source": [
    "sc.myeloid$metadata<-sc.myeloid$metadata %>% \n",
    "    subset(cosmx.myeloid == fine_type)\n",
    "sc.myeloid$counts<-sc.myeloid$counts[, colnames(sc.myeloid$counts) %in% sc.myeloid$metadata$cellID]"
   ]
  },
  {
   "cell_type": "code",
   "execution_count": null,
   "id": "9b459d12-ed14-405b-83b6-54b0a99f1d35",
   "metadata": {},
   "outputs": [],
   "source": [
    "dimlist(sc.myeloid)"
   ]
  },
  {
   "cell_type": "code",
   "execution_count": null,
   "id": "6ebf7c0f-1f7b-4011-afb3-240ceaea0ca4",
   "metadata": {},
   "outputs": [],
   "source": [
    "all(colnames(sc.myeloid$counts) == sc.myeloid$metadata$cellID)"
   ]
  },
  {
   "cell_type": "code",
   "execution_count": null,
   "id": "3d3a646c-dd96-4d09-8325-346ea976bcbf",
   "metadata": {},
   "outputs": [],
   "source": [
    "table(sc.myeloid$metadata$fine_type) %>% as.data.frame "
   ]
  },
  {
   "cell_type": "markdown",
   "id": "4fd0175b-bcf1-4b52-95d3-f07064b74fd8",
   "metadata": {},
   "source": [
    "## UMAP before and after merging labels"
   ]
  },
  {
   "cell_type": "code",
   "execution_count": null,
   "id": "03ee35b4-af5f-4af4-9997-fcab6850c74b",
   "metadata": {},
   "outputs": [],
   "source": [
    "sc_before_merge<-sc.myeloid_meta[[5]]"
   ]
  },
  {
   "cell_type": "code",
   "execution_count": null,
   "id": "ead0e471-b1a6-450a-825f-9f461b86c7b1",
   "metadata": {},
   "outputs": [],
   "source": [
    "umap_before_clean<-plot_dim_red(\n",
    "        dim_red_embeddings = sc_before_merge$Humap$embedding,\n",
    "        clusters = rep(1, nrow(sc_before_merge$pca_res$embeddings)),\n",
    "        metadata = sc_before_merge$metadata, \n",
    "        cell_id_colname = \"cellID\",\n",
    "        color_by = \"cosmx.myeloid\",\n",
    "        plot_title = \"UMAP of reference cells with relevant genes colored by their annotations\",\n",
    "        dim_red_type = \"UMAP\",\n",
    "        size_points = 0.1\n",
    "    )\n"
   ]
  },
  {
   "cell_type": "code",
   "execution_count": null,
   "id": "e248be06-5402-426d-a19e-82b744cd00e0",
   "metadata": {},
   "outputs": [],
   "source": [
    "cols_pal<-tableau_color_pal(\"Tableau 20\")(19)"
   ]
  },
  {
   "cell_type": "code",
   "execution_count": null,
   "id": "6fc1ab2d-692d-4538-b656-dd6c207aa640",
   "metadata": {},
   "outputs": [],
   "source": [
    "names(cols_pal)<-unique(sc_before_merge$metadata$cosmx.myeloid) %>% sort"
   ]
  },
  {
   "cell_type": "code",
   "execution_count": null,
   "id": "04a3c372-3cba-4426-945a-cc553ac615ba",
   "metadata": {},
   "outputs": [],
   "source": [
    "cols_pal"
   ]
  },
  {
   "cell_type": "code",
   "execution_count": null,
   "id": "c747a0ee-8a08-4467-9337-bf9ec0d213b5",
   "metadata": {},
   "outputs": [],
   "source": [
    "fig.size(6, 16)\n",
    "umap_before_clean + \n",
    "    labs(color = \"celltype\")  |\n",
    "\n",
    "ptype + \n",
    "    labs(color = \"celltype\") + \n",
    "    ggtitle(\"UMAP of reference cells with relevant genes after cleanup\") +\n",
    "    scale_color_manual(values = cols_pal) \n"
   ]
  },
  {
   "cell_type": "code",
   "execution_count": null,
   "id": "073fa4d8-583a-43c4-affd-e7cd124fa7a2",
   "metadata": {},
   "outputs": [],
   "source": [
    "ncells_type<-sc.myeloid$metadata %>% with(table(fine_type)) %>%  as.data.frame \n",
    "ncells_type"
   ]
  },
  {
   "cell_type": "markdown",
   "id": "4ea035e6-66de-401d-b258-ef72cc9d0f9c",
   "metadata": {},
   "source": [
    "# downsample ref"
   ]
  },
  {
   "cell_type": "code",
   "execution_count": null,
   "id": "5defe891-7fb6-441b-a92e-c937c1e02bc7",
   "metadata": {},
   "outputs": [],
   "source": [
    "sc.myeloid_down<-list()\n",
    "sc.myeloid_down$metadata<-sc.myeloid$metadata %>% \n",
    "    dplyr::group_by(fine_type) %>% \n",
    "    dplyr::sample_n(min(n(), round(median(ncells_type$Freq))))\n",
    "sc.myeloid_down$counts<-sc.myeloid$counts[, sc.myeloid_down$metadata$cellID]"
   ]
  },
  {
   "cell_type": "code",
   "execution_count": null,
   "metadata": {},
   "outputs": [],
   "source": [
    "dimlist(sc.myeloid)"
   ]
  },
  {
   "cell_type": "code",
   "execution_count": null,
   "id": "b59bca92-f4af-4efe-a57a-db736f21f8ff",
   "metadata": {},
   "outputs": [],
   "source": [
    "dimlist(sc.myeloid_down)"
   ]
  },
  {
   "cell_type": "markdown",
   "id": "87405eb3-14ab-49b6-8fa3-e4d64ea735c2",
   "metadata": {},
   "source": [
    "### downsampling bring us down to 21223 cells from 9647 "
   ]
  },
  {
   "cell_type": "code",
   "execution_count": null,
   "id": "e4da0955-e0de-448c-837f-edf86bcf57f4",
   "metadata": {},
   "outputs": [],
   "source": [
    "batch<-c(\"sample\")\n",
    "cluster_res<-c(1.5, 2.5)\n",
    "theta_harmony<-c(0) \n",
    "sigma_harmony<-0.2\n",
    "system.time({\n",
    "    sc.myeloid.harmony_down<-QC_harmony_pipeline_normval(\n",
    "        sc.myeloid_down, \n",
    "        ngenes_threshold = 9, \n",
    "        ncounts_threshold = 12, \n",
    "        do_cluster_after = TRUE,\n",
    "        do_umap_after = TRUE,\n",
    "        resolution_clustering = cluster_res, \n",
    "        clustering_ncores = 5,\n",
    "        vars_use = batch,\n",
    "        theta = theta_harmony,\n",
    "        sigma = sigma_harmony,\n",
    "        max.iter.harmony = 7,\n",
    "        max.iter.cluster = 50,\n",
    "        return_object = TRUE\n",
    "    )\n",
    "\n",
    "    sc.myeloid.harmony_down$sigma_harmony<-sigma_harmony\n",
    "    sc.myeloid.harmony_down$vars_use<-batch\n",
    "    sc.myeloid.harmony_down$theta_harmony<-theta_harmony    \n",
    "\n",
    "    })\n"
   ]
  },
  {
   "cell_type": "markdown",
   "id": "10830e3b-cb36-48ce-9603-b9e013bd9672",
   "metadata": {},
   "source": [
    "# cache"
   ]
  },
  {
   "cell_type": "markdown",
   "id": "a0a749d9-b7cc-4355-b9ed-70b20ba7b4db",
   "metadata": {},
   "source": [
    "## add the df with original cell fractions to downsampled oect"
   ]
  },
  {
   "cell_type": "code",
   "execution_count": null,
   "id": "10b09d17-e118-4da7-9f38-1dfd4873997f",
   "metadata": {},
   "outputs": [],
   "source": [
    "sc.syno<-readRDS(\"./cache/sc.syno.rds\")"
   ]
  },
  {
   "cell_type": "code",
   "execution_count": null,
   "id": "f19adfd1-970a-42c1-8e57-ffdbee94fcfe",
   "metadata": {},
   "outputs": [],
   "source": [
    "ncells_raw<-sc.syno$metadata %>% \n",
    "    subset(cosmx.celltype %in% c(\"STM\",\"cDC\")) %>% \n",
    "    with(table(cosmx.myeloid)) %>% \n",
    "    as.data.frame\n",
    "ncells_raw"
   ]
  },
  {
   "cell_type": "code",
   "execution_count": null,
   "id": "eb448bc5-51c7-4183-917e-a16921adee24",
   "metadata": {},
   "outputs": [],
   "source": [
    "sc.myeloid.harmony_down$ncells_raw<-ncells_raw"
   ]
  },
  {
   "cell_type": "code",
   "execution_count": null,
   "metadata": {},
   "outputs": [],
   "source": [
    "sc.myeloid.harmony_down$metadata$cosmx400.myeloid <- sc.myeloid.harmony_down$metadata$fine_type"
   ]
  },
  {
   "cell_type": "code",
   "execution_count": null,
   "id": "31d27045-2ed6-4922-90e6-395e5042ddef",
   "metadata": {},
   "outputs": [],
   "source": [
    "saveRDS(sc.myeloid.harmony_down, \"./cache/sc.myeloid.harmony_down.RDS\")"
   ]
  },
  {
   "cell_type": "markdown",
   "id": "55d20d24-fc63-4028-95f9-481489465bd7",
   "metadata": {},
   "source": [
    "# Viz before QC, after QC, and after downsampling"
   ]
  },
  {
   "cell_type": "code",
   "execution_count": null,
   "id": "6dd6c137-7fb0-495f-9aa8-c2e8c8babc59",
   "metadata": {},
   "outputs": [],
   "source": [
    "p_downsampled_newref<-plot_dim_red(\n",
    "    sc.myeloid.harmony_down$Humap$embedding,\n",
    "    metadata = sc.myeloid.harmony_down$metadata, \n",
    "    color_by = \"fine_type\", \n",
    "    plot_title = \"UMAP new annotations\", \n",
    "    dim_red_type = \"UMAP\"\n",
    "    )\n",
    "\n",
    "p_downsampled<-plot_dim_red(\n",
    "    sc.myeloid.harmony_down$Humap$embedding,\n",
    "    metadata = sc.myeloid.harmony_down$metadata, \n",
    "    color_by = \"cosmx.myeloid\", \n",
    "    plot_title = \"UMAP ground truth annotations\", \n",
    "    dim_red_type = \"UMAP\"\n",
    "    )"
   ]
  },
  {
   "cell_type": "code",
   "execution_count": null,
   "id": "d9330faf-f5a4-4ed5-a309-5b906c405d3d",
   "metadata": {},
   "outputs": [],
   "source": [
    "fig.size(5, 15)\n",
    "p_downsampled_newref | p_downsampled"
   ]
  },
  {
   "cell_type": "code",
   "execution_count": null,
   "id": "1655ed9f-7918-42fa-a25c-2e93a4f25a82",
   "metadata": {},
   "outputs": [],
   "source": [
    "fig.size(5, 22)\n",
    "p<-umap_before_clean + \n",
    "    labs(color = \"celltype\")  |\n",
    "\n",
    "ptype + \n",
    "    labs(color = \"celltype\") +\n",
    "    ggtitle(\"UMAP of reference cells with relevant genes after cleanup\") +\n",
    "    scale_color_manual(values = cols_pal) |\n",
    "\n",
    "p_downsampled  + \n",
    "    ggtitle(\"UMAP of reference cells with relevant genes after downsampling\") +\n",
    "    scale_color_manual(values = cols_pal) "
   ]
  },
  {
   "cell_type": "code",
   "execution_count": null,
   "id": "e5c4141b-80b6-4c9f-b763-59522ca9f61e",
   "metadata": {},
   "outputs": [],
   "source": [
    "print(p, vp=grid::viewport(width = unit(22, 'inch'), height = unit(5, 'inch')))"
   ]
  },
  {
   "cell_type": "code",
   "execution_count": null,
   "metadata": {},
   "outputs": [],
   "source": [
    "ls()"
   ]
  },
  {
   "cell_type": "code",
   "execution_count": null,
   "metadata": {},
   "outputs": [],
   "source": [
    "rm(list = ls())"
   ]
  }
 ],
 "metadata": {
  "kernelspec": {
   "display_name": "R",
   "language": "R",
   "name": "ir"
  },
  "language_info": {
   "codemirror_mode": "r",
   "file_extension": ".r",
   "mimetype": "text/x-r-source",
   "name": "R",
   "pygments_lexer": "r",
   "version": "4.1.0"
  }
 },
 "nbformat": 4,
 "nbformat_minor": 5
}
