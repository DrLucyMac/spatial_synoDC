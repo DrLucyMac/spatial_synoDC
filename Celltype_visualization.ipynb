{
 "cells": [
  {
   "cell_type": "markdown",
   "id": "824ad282-0f19-40ec-b32a-ca07dbbbdbf8",
   "metadata": {},
   "source": [
    "# Fine Cell Typing"
   ]
  },
  {
   "cell_type": "code",
   "execution_count": null,
   "id": "26018b23",
   "metadata": {},
   "outputs": [],
   "source": [
    "options(warn = -1, verbose=FALSE)\n",
    "#!/usr/bin/env Rscript \n",
    "library(dplyr)\n",
    "library(Seurat)\n",
    "library(httr)\n",
    "library(readr)\n",
    "library(pheatmap)\n",
    "library(RColorBrewer)\n",
    "library(ggplot2)\n",
    "library(cowplot)\n",
    "library(patchwork)\n",
    "library(unixtools)\n",
    "library(ggrepel)\n",
    "library(repr)\n",
    "library(ggmin)\n",
    "library(harmony)\n",
    "library(SeuratWrappers)\n",
    "library(Nebulosa)\n",
    "library(ggthemes)\n",
    "library(purrr)\n",
    "library(presto)\n",
    "library(pryr)\n",
    "set_config(config(ssl_verifypeer = 0L))\n",
    "ulimit::memory_limit(50000)\n",
    "set.tempdir(\"/datastore/lucy/tmp/\")\n",
    "setwd(\"/datastore/lucy/CosMx\")\n",
    "source(\"./R/utils.R\")\n",
    "start_upR(clusterfiles = TRUE)"
   ]
  },
  {
   "cell_type": "markdown",
   "id": "f0a60261-3211-4718-b804-b7294cb6927a",
   "metadata": {},
   "source": [
    "# Load coarse cell typed CosMx data"
   ]
  },
  {
   "cell_type": "code",
   "execution_count": null,
   "id": "4ea95de5",
   "metadata": {},
   "outputs": [],
   "source": [
    "objH <- readRDS(\"./cache/CosMxcoarseGrainharmonyObj_markers.RDS\")"
   ]
  },
  {
   "cell_type": "code",
   "execution_count": null,
   "metadata": {},
   "outputs": [],
   "source": [
    "objH$metadata$new.coarse.types <- as.ordered(factor(objH$metadata$new.coarse.types, c(\"Adipocytes\",\"PRG4+ Lining Fibroblast\",\"Fibroblast\",\"Mural\",\"Endothelial\",\n",
    "                                                                                    \"Plasma\",\"B cells\",\"CD4+ Tcell\",\"CD8+ Tcell\",\"NK cell\",\"Mast\",\"Macrophage\",\n",
    "                                                                                    \"cDC\")))\n",
    "                                                                    \n",
    "cols <- c(\"#ffeca9\",\"gold\",\"sienna1\",\"sienna3\",\"red3\",\"pink\",\"deeppink\",\"green3\",\"green4\",\"darkgreen\",\"lightblue1\",\"royalblue1\",\"turquoise1\")\n",
    "names(cols) <- levels(objH$metadata$new.coarse.types)"
   ]
  },
  {
   "cell_type": "code",
   "execution_count": null,
   "id": "b8ca2686",
   "metadata": {},
   "outputs": [],
   "source": [
    "fig.size(6, 10)\n",
    "plot <- plot_dim_red(\n",
    "    dim_red_embeddings = objH$Humap$embedding,\n",
    "    clusters = objH$Humap$clusters,\n",
    "    metadata = objH$metadata,\n",
    "    cell_id_colname = \"cellID\",\n",
    "    color_by = \"new.coarse.types\",\n",
    "    plot_title = \"UMAP after Harmony\",\n",
    "    dim_red_type = \"UMAP\",\n",
    "    size_points = 0.3,\n",
    "    plot_labels = FALSE\n",
    ")\n",
    "plot + \n",
    "  theme(legend.position=\"none\") + theme_void() + scale_fill_manual(values=cols)+ scale_color_manual(values=cols)"
   ]
  },
  {
   "cell_type": "markdown",
   "id": "63d9c8bc",
   "metadata": {},
   "source": [
    "# Load cell geoms"
   ]
  },
  {
   "cell_type": "code",
   "execution_count": null,
   "metadata": {},
   "outputs": [],
   "source": [
    "cellgeoms <- readRDS(\"./cache/cellgeoms_finetyped.RDS\")"
   ]
  },
  {
   "cell_type": "code",
   "execution_count": null,
   "metadata": {},
   "outputs": [],
   "source": [
    "#Load niche annotations for each cell\n",
    "niche_ann <- readRDS(\"./cache/tissueSegmentation/niche_ann.rds\")"
   ]
  },
  {
   "cell_type": "code",
   "execution_count": null,
   "metadata": {},
   "outputs": [],
   "source": [
    "head(niche_ann)"
   ]
  },
  {
   "cell_type": "code",
   "execution_count": null,
   "metadata": {},
   "outputs": [],
   "source": [
    "niche_ann <- niche_ann %>% dplyr::select(cellID, highres.regions)\n",
    "#Add niche info to cell geoms\n",
    "cellgeoms <- cellgeoms %>% left_join(niche_ann, by=\"cellID\")"
   ]
  },
  {
   "cell_type": "code",
   "execution_count": null,
   "metadata": {},
   "outputs": [],
   "source": [
    "head(cellgeoms)"
   ]
  },
  {
   "cell_type": "code",
   "execution_count": null,
   "metadata": {},
   "outputs": [],
   "source": [
    "unique(cellgeoms$SampleFOV)"
   ]
  },
  {
   "cell_type": "code",
   "execution_count": null,
   "metadata": {},
   "outputs": [],
   "source": [
    "cellgeoms$centroid <- st_centroid(cellgeoms$shape)"
   ]
  },
  {
   "cell_type": "code",
   "execution_count": null,
   "metadata": {},
   "outputs": [],
   "source": [
    "cols <- c(\"#ffeca9\",\"gold\",\"sienna1\",\"sienna3\",\"red3\",\"pink\",\"deeppink\",\"green3\",\"green4\",\"darkgreen\",\"lightblue1\",\"royalblue1\",\"turquoise1\")\n",
    "names(cols) <- levels(cellgeoms$new.coarse.types)"
   ]
  },
  {
   "cell_type": "code",
   "execution_count": null,
   "metadata": {},
   "outputs": [],
   "source": [
    "unique(cellgeoms$SampleFOV)"
   ]
  },
  {
   "cell_type": "markdown",
   "id": "76a10b4f",
   "metadata": {},
   "source": [
    "# New coarse cell types in space"
   ]
  },
  {
   "cell_type": "code",
   "execution_count": null,
   "metadata": {},
   "outputs": [],
   "source": [
    "library(ggdark)\n",
    "options(repr.plot.width=5, repr.plot.height=5)\n",
    "cellgeoms %>% \n",
    "    with(SampleFOV) %>%  \n",
    "    unique %>% \n",
    "    # head(1) %>% \n",
    "    purrr::map(~ cellgeoms %>% \n",
    "        subset(SampleFOV %in% .x) %>% \n",
    "        ggplot() + \n",
    "            geom_sf(aes(geometry = geometry, fill = new.coarse.types, color=new.coarse.types), na.rm=TRUE) + #geom_sf(data = niche_shape) +\n",
    "            scale_fill_manual(values = cols, na.value = \"black\", na.translate = TRUE) + scale_color_manual(values = cols,na.value=\"black\")+ dark_theme_classic() +\n",
    "            ggtitle(.x) + guides(fill=FALSE, color=FALSE) + theme(axis.text=element_blank(), axis.ticks=element_blank()) \n",
    "    )"
   ]
  },
  {
   "cell_type": "code",
   "execution_count": null,
   "id": "5c9b1d5a",
   "metadata": {},
   "outputs": [],
   "source": [
    "library(ggdark)\n",
    "options(repr.plot.width=5, repr.plot.height=5)\n",
    "cellgeoms %>% \n",
    "        subset(SampleFOV %in% \"Run5666_G7G72_G22G5_F023\") %>% \n",
    "        ggplot() + \n",
    "            geom_sf(aes(geometry = geometry, fill = new.coarse.types, color=new.coarse.types), na.rm=TRUE) + #geom_sf(data = niche_shape) +\n",
    "            scale_fill_manual(values = cols, na.value = \"black\", na.translate = TRUE) + scale_color_manual(values = cols,na.value=\"black\")+ dark_theme_classic() +\n",
    "            ggtitle(cellgeoms$SampleFOV) + guides(fill=FALSE, color=FALSE) + theme(axis.text=element_blank(), axis.ticks=element_blank()) + coord_sf(ylim = c(-6100,-6400), xlim=c(44850,45150), clip = \"on\")\n",
    "    "
   ]
  },
  {
   "cell_type": "code",
   "execution_count": null,
   "metadata": {},
   "outputs": [],
   "source": [
    "library(ggdark)\n",
    "options(repr.plot.width=5, repr.plot.height=5)\n",
    "cellgeoms %>% \n",
    "    with(SampleFOV) %>%  \n",
    "    unique %>% \n",
    "    # head(1) %>% \n",
    "    purrr::map(~ cellgeoms %>% \n",
    "        subset(SampleFOV %in% .x) %>% \n",
    "        ggplot() + \n",
    "            geom_sf(aes(geometry = geometry, fill = new.coarse.types, color=new.coarse.types), na.rm=TRUE) + #geom_sf(data = niche_shape) +\n",
    "            scale_fill_manual(values = cols, na.value = \"lightgrey\", na.translate = TRUE) + scale_color_manual(values = cols,na.value=\"white\")+ \n",
    "            ggtitle(.x) + guides(fill=FALSE, color=FALSE) + theme_powerpoint() + theme(axis.text=element_blank(), axis.ticks=element_blank())\n",
    "    )"
   ]
  },
  {
   "cell_type": "code",
   "execution_count": null,
   "metadata": {},
   "outputs": [],
   "source": [
    "cellgeoms$highres.regions <- as.ordered(factor(cellgeoms$highres.regions, levels=c('PRG4+ FLS Lining','Myeloid-rich Lining',\n",
    "                                                                                 'Sublining',\n",
    "                                                                                  'Adipocyte-rich','Perivascular',\n",
    "                                                                                'TGFB+ Myeloid-rich', 'Plasma-rich',\n",
    "                                                                                  'Lymphoid')))"
   ]
  },
  {
   "cell_type": "code",
   "execution_count": null,
   "metadata": {},
   "outputs": [],
   "source": [
    "unique(cellgeoms$highres.regions)"
   ]
  },
  {
   "cell_type": "code",
   "execution_count": null,
   "metadata": {},
   "outputs": [],
   "source": [
    "highres.cols <- c(\"gold\",\"#F28E2B\",\"#8CD17D\",\"#FFBC79\",\"#FF534E\",\"pink\",\"hotpink\",\n",
    "                  \"#4DCBE8\")\n",
    "names(highres.cols)  <- levels(cellgeoms$highres.regions)"
   ]
  },
  {
   "cell_type": "code",
   "execution_count": null,
   "metadata": {},
   "outputs": [],
   "source": [
    "options(repr.plot.width=6, repr.plot.height=5)\n",
    "cellgeoms %>% \n",
    "    with(SampleFOV) %>%  \n",
    "    unique %>% \n",
    "    # head(1) %>% \n",
    "    purrr::map(~ cellgeoms %>% \n",
    "        subset(SampleFOV %in% .x) %>% \n",
    "        ggplot() + \n",
    "             geom_sf(aes(geometry = shape, fill = highres.regions, color = highres.regions), alpha = 1, linewidth=1, na.rm=TRUE)  +\n",
    "     scale_fill_manual(values = highres.cols, na.value = \"black\", na.translate = TRUE) + scale_color_manual(values = highres.cols)+ ggtitle(\"\")+ theme_powerpoint() + dark_theme_classic() + theme(axis.text=element_blank(), axis.ticks=element_blank()) + guides(fill=FALSE, color=FALSE)\n",
    ")"
   ]
  },
  {
   "cell_type": "code",
   "execution_count": null,
   "metadata": {},
   "outputs": [],
   "source": [
    "options(repr.plot.width=6, repr.plot.height=5)\n",
    "cellgeoms %>% \n",
    "    with(SampleFOV) %>%  \n",
    "    unique %>% \n",
    "    # head(1) %>% \n",
    "    purrr::map(~ cellgeoms %>% \n",
    "        subset(SampleFOV %in% .x) %>% \n",
    "        ggplot() + \n",
    "             geom_sf(aes(geometry = shape, fill = highres.regions, color = highres.regions), alpha = 1, linewidth=1, na.rm=TRUE)  +\n",
    "     scale_fill_manual(values = highres.cols, na.value = \"white\", na.translate = TRUE) + scale_color_manual(values = highres.cols)+ ggtitle(\"\")+ theme_powerpoint() + theme(axis.text=element_blank(), axis.ticks=element_blank()) + guides(fill=FALSE, color=FALSE) \n",
    ")"
   ]
  },
  {
   "cell_type": "markdown",
   "id": "9425013d",
   "metadata": {},
   "source": [
    "# New coarse cell types illustrating only cDC and CD4 t cell in space"
   ]
  },
  {
   "cell_type": "code",
   "execution_count": null,
   "id": "df2e0a33",
   "metadata": {},
   "outputs": [],
   "source": [
    "cellgeoms$coarse.interest <- ifelse(cellgeoms$new.coarse.types%in%c(\"CD4+ Tcell\",\"cDC\"), as.character(cellgeoms$new.coarse.types), NA)"
   ]
  },
  {
   "cell_type": "code",
   "execution_count": null,
   "id": "bb53e02a",
   "metadata": {},
   "outputs": [],
   "source": [
    "#Assign levels so clusters appear in order\n",
    "cellgeoms$fine.types <- as.ordered(factor(cellgeoms$fine.types, \n",
    "                        levels=c('Myeloid_DC1 CLEC9A+',\n",
    "                                 'Myeloid_DC2 CD1c+',\n",
    "                                 'Myeloid_DC2 CCR7+',\n",
    "                                 'Myeloid_DC3 CD1clowCD163+',\n",
    "                                 'Myeloid_iDC3 CD14highCD163+',\n",
    "                                 'Myeloid_FOLR2highCLEC10A+ STM',\n",
    "                                 'Myeloid_DC2 CD1c+_doublet',\n",
    "                                 \n",
    "                                 'Myeloid_CLEC10A+ATF3+ STM',\n",
    "                                 'Myeloid_FOLR2highEGR1+ STM',\n",
    "                                 'Myeloid_FOLR2highLYVE1+ STM',\n",
    "                                 'Myeloid_TGFB2+BIRC5+ STM',\n",
    "                                 'Myeloid_BIRC5+ cycling STM',\n",
    "                                 'Myeloid_TREM2+ STM',\n",
    "                                 'Myeloid_TREM2+LPL+ STM',\n",
    "                                 'Myeloid_SPP1+TREM2low STM',\n",
    "                                 'Myeloid_SPP1+ STM',\n",
    "                                 'Myeloid_TNF+ICAM1+ STM',\n",
    "                                 'Myeloid_ISG15+CXCL10+ STM',\n",
    "                                 'Myeloid_CD14highS100A12+ monoSTM',\n",
    "                                 'Myeloid_FCGR3A+ monoSTM',\n",
    "                                 'Myeloid',\n",
    "                                 'DC',\n",
    "                                 'Fibroblasts',\n",
    "                                 \n",
    "                                 'Stromal_PRG4+ lining FLS',\n",
    "                                 'Stromal_PRG4+MMP3+ lining FLS',\n",
    "                                 'Stromal_THY1+CXCL12+ FLS',\n",
    "                                 'Stromal_THY1+COL1A1+ FLS',\n",
    "                                 'Stromal_THY1+CD34+MFAP5+ FLS',\n",
    "                                 'Stromal_THY1+GAS6+CXCL14+ FLS',\n",
    "                                 'Stromal_CYP1B1+CD52+ FLS',\n",
    "                                 'Stromal_C1QA+ FLS doublets', \n",
    "                                 \n",
    "                                 'Stromal_NOTCH3+MCAM+ mural cells',\n",
    "                                 'Stromal_SPARC+ capillary EC',\n",
    "                                 'Stromal_NOTCH4+ arteriolar EC',\n",
    "                                 'Stromal_ICAM1+CLU+ venular EC',\n",
    "                                 'Stromal_CCL21+LYVE1+ lymphatic EC',\n",
    "                                 'Stromal_NA',\n",
    "                                 \n",
    "                                 \"Tcell_CD55+PDE4B+CD4+ Naive\",\n",
    "                                 \"Tcell_CCR7+CD7+CD4+ Naive/TCM\",\n",
    "                                 'Tcell_T/FLS doublet',\n",
    "                                 'Tcell_BAG3+DNAJB1+CD4+ T',\n",
    "                                 'Tcell_CCR6+RORA+TNFSF13B+ TEM',\n",
    "                                  'Tcell_CCL5+GZMA+CD4+ TEM',\n",
    "                                 'Tcell_CCL5+CXCR6+MAF+ TPH',\n",
    "                                 'Tcell_CXCL13hi MAF+ TPH',\n",
    "                                 'Tcell_FOXP3+ Tregs',\n",
    "                                 'Tcell_ANXA1+HSP+ CD4/CD8',\n",
    "                                 'Tcell_low counts',\n",
    "                                 'Tcell_CCL5+CD8B+CD8A+ Naive',\n",
    "                                 'Tcell_GZMK+CCL5+CD8A+ TEM',\n",
    "                                 'Tcell_GZMK+CCL5+CD8A+/FLS doublet',\n",
    "                                 'Tcell_KLRB1+GZMK+ NKT','Tcell_MYOM2+ NK/STM doublet',\n",
    "                                 'Tcell_MYOM2+ NK', 'Tcell_KLRC2+ NK','Tcell_XCL1+ NK',\n",
    "                                 \n",
    "                                \n",
    "                                 \"Adipocytes\",\n",
    "                                 \"Plasma\",\"B cells\",\"Mast\"\n",
    "                                )))"
   ]
  },
  {
   "cell_type": "code",
   "execution_count": null,
   "id": "444632c2",
   "metadata": {},
   "outputs": [],
   "source": [
    "#Assign colour for each cluster\n",
    "fine.type.cols <- c('Myeloid_DC1 CLEC9A+'=\"#00689A\",\n",
    "                    'Myeloid_DC2 CD1c+'=\"#43f782\",\n",
    "                    'Myeloid_DC2 CCR7+'=\"#C776F8\",\n",
    "                    'Myeloid_DC3 CD1clowCD163+'=\"#F8A640\",\n",
    "                    'Myeloid_iDC3 CD14highCD163+'=\"#FF6C67\",\n",
    "                    'Myeloid_FOLR2highCLEC10A+ STM'=\"yellow\",\n",
    "                    \n",
    "                                 'Myeloid_CLEC10A+ATF3+ STM'='yellow',\n",
    "                                 'Myeloid_FOLR2highEGR1+ STM'='#27CAF3',\n",
    "                                 'Myeloid_FOLR2highLYVE1+ STM'=\"#9aecfa\",\n",
    "                                  'Myeloid_TGFB2+BIRC5+ STM'='orchid1',\n",
    "\n",
    "                                 'Myeloid_BIRC5+ cycling STM'='magenta1',\n",
    "                                 'Myeloid_TREM2+ STM'='dodgerblue2',\n",
    "                                 'Myeloid_TREM2+LPL+ STM'='dodgerblue2',\n",
    "                                 'Myeloid_SPP1+TREM2low STM'='#FF070A',\n",
    "                                 'Myeloid_SPP1+ STM'='#FF070A',\n",
    "                                 'Myeloid_TNF+ICAM1+ STM'='deeppink4',\n",
    "                                 'Myeloid_ISG15+CXCL10+ STM'='#EB4691',\n",
    "                                 'Myeloid_CD14highS100A12+ monoSTM'='#EF90D4',\n",
    "                                 'Myeloid_FCGR3A+ monoSTM'='darkorchid3',\n",
    "                                 'Myeloid'=\"royalblue1\",\n",
    "                                 'DC'=\"turquoise1\",\n",
    "                                 'Fibroblasts'=\"gold\",\n",
    "                                 'Stromal_PRG4+ lining FLS'=\"yellow\",\n",
    "                                 'Stromal_PRG4+MMP3+ lining FLS'=\"orange\",\n",
    "                                 'Stromal_THY1+CXCL12+ FLS'='red',\n",
    "                                 'Stromal_THY1+COL1A1+ FLS'=\"pink\",\n",
    "                                 'Stromal_THY1+CD34+MFAP5+ FLS'=\"green\",\n",
    "                                 'Stromal_THY1+GAS6+CXCL14+ FLS'='dodgerblue1',\n",
    "                                 'Stromal_CYP1B1+CD52+ FLS'=\"gold\",\n",
    "                                 'Stromal_C1QA+ FLS doublets'=\"dodgerblue1\", \n",
    "                                 \n",
    "                                 'Stromal_NOTCH3+MCAM+ mural cells'=\"#B29A42\",\n",
    "                                 'Stromal_SPARC+ capillary EC'=\"#D0605E\",\n",
    "                                 'Stromal_NOTCH4+ arteriolar EC'=\"#E49343\",\n",
    "                                 'Stromal_ICAM1+CLU+ venular EC'=\"#F5C187\",\n",
    "                                 'Stromal_CCL21+LYVE1+ lymphatic EC'=\"#5878A3\",\n",
    "                                 'Stromal_NA'=\"#EBCF73\",\n",
    "                \"Tcell_CD55+PDE4B+CD4+ Naive\"='#AFE1AF',\n",
    "\"Tcell_CCR7+CD7+CD4+ Naive/TCM\"=\"#7CFC00\",\n",
    "'Tcell_BAG3+DNAJB1+CD4+ T'=\"Purple\",\n",
    "                         'Tcell_CCR6+RORA+TNFSF13B+ TEM'=\"darkorange\",\n",
    "                                                      'Tcell_CCL5+GZMA+CD4+ TEM'='#FF3131',\n",
    "                                                                         'Tcell_CCL5+CXCR6+MAF+ TPH'=\"dodgerblue2\",\n",
    "                                                                         'Tcell_CXCL13hi MAF+ TPH'=\"darkturquoise\",\n",
    "                                                                         'Tcell_FOXP3+ Tregs'=\"#FFFF00\",\n",
    "                                                                         'Tcell_ANXA1+HSP+ CD4/CD8'=\"#EEDE5A\",\n",
    "                                                                         'Tcell_low counts'=\"#FDBF6F\",\n",
    "                                                                         'Tcell_CCL5+CD8B+CD8A+ Naive'=\"#FF7F0E\",\n",
    "                                                                         'Tcell_GZMK+CCL5+CD8A+ TEM'=\"deeppink1\",\n",
    "                                                                         'Tcell_GZMK+CCL5+CD8A+/FLS doublet'=\"#D62728\",\n",
    "                                                                         'Tcell_KLRB1+GZMK+ NKT'=\"maroon\",\n",
    "                                                                         'Tcell_MYOM2+ NK/STM doublet'=\"#FB9A99\",\n",
    "                                                                         'Tcell_MYOM2+ NK'=\"#CAB2D6\",\n",
    "                                                                         'Tcell_KLRC2+ NK'=\"#9467BD\",\n",
    "                                                                         'Tcell_XCL1+ NK'=\"#6A3D9A\",\n",
    " \"Adipocytes\"=\"#ffeca9\",\n",
    "                                 \"Plasma\"=\"pink\",\"B cells\"=\"deeppink\",\"Mast\"=\"lightblue1\"\n",
    "                                )"
   ]
  },
  {
   "cell_type": "markdown",
   "id": "38f88b8f",
   "metadata": {},
   "source": [
    "# cDC finetypes"
   ]
  },
  {
   "cell_type": "code",
   "execution_count": null,
   "metadata": {},
   "outputs": [],
   "source": [
    "head(cellgeoms)"
   ]
  },
  {
   "cell_type": "code",
   "execution_count": null,
   "id": "87f786be",
   "metadata": {},
   "outputs": [],
   "source": [
    "cellgeoms$dc.niche <- ifelse(cellgeoms$fine.types%in%c('Myeloid_DC1 CLEC9A+',\n",
    "                                 'Myeloid_DC2 CD1c+',\n",
    "                                 'Myeloid_DC2 CCR7+',\n",
    "                                 'Myeloid_DC3 CD1clowCD163+',\n",
    "                                                                                           'Myeloid_iDC3 CD14highCD163+',\n",
    "                                 'Myeloid_FOLR2highCLEC10A+ STM'), as.character(cellgeoms$fine.types), as.character(cellgeoms$highres.regions))"
   ]
  },
  {
   "cell_type": "code",
   "execution_count": null,
   "metadata": {},
   "outputs": [],
   "source": [
    "cellgeoms$dc.interest <- ifelse(cellgeoms$fine.types%in%c('Myeloid_DC1 CLEC9A+',\n",
    "                                 'Myeloid_DC2 CD1c+',\n",
    "                                 'Myeloid_DC2 CCR7+',\n",
    "                                 'Myeloid_DC3 CD1clowCD163+',\n",
    "                                                                                           'Myeloid_iDC3 CD14highCD163+',\n",
    "                                 'Myeloid_FOLR2highCLEC10A+ STM'), as.character(cellgeoms$fine.types), NA)"
   ]
  },
  {
   "cell_type": "code",
   "execution_count": null,
   "id": "bff0bf88",
   "metadata": {},
   "outputs": [],
   "source": [
    "unique(cellgeoms$dc.niche)"
   ]
  },
  {
   "cell_type": "code",
   "execution_count": null,
   "id": "1842c15d",
   "metadata": {},
   "outputs": [],
   "source": [
    "cellgeoms$dc.interest <- as.ordered(factor(cellgeoms$dc.interest, \n",
    "                        levels=c('Myeloid_DC1 CLEC9A+',\n",
    "                                 'Myeloid_DC2 CD1c+',\n",
    "                                 'Myeloid_DC2 CCR7+',\n",
    "                                 'Myeloid_DC3 CD1clowCD163+',\n",
    "                                 'Myeloid_iDC3 CD14highCD163+',\n",
    "                                 'Myeloid_FOLR2highCLEC10A+ STM'\n",
    "                                )))"
   ]
  },
  {
   "cell_type": "code",
   "execution_count": null,
   "metadata": {},
   "outputs": [],
   "source": [
    "cellgeoms$dc.niche <- as.ordered(factor(cellgeoms$dc.niche, \n",
    "                        levels=c('Myeloid_DC1 CLEC9A+',\n",
    "                                 'Myeloid_DC2 CD1c+',\n",
    "                                 'Myeloid_DC2 CCR7+',\n",
    "                                 'Myeloid_DC3 CD1clowCD163+',\n",
    "                                 'Myeloid_iDC3 CD14highCD163+',\n",
    "                                 'Myeloid_FOLR2highCLEC10A+ STM',\n",
    "                                 levels(cellgeoms$highres.regions)\n",
    "                                )))"
   ]
  },
  {
   "cell_type": "code",
   "execution_count": null,
   "id": "42b0c5aa",
   "metadata": {},
   "outputs": [],
   "source": [
    "cellgeoms$t.interest <- ifelse(cellgeoms$fine.types%in%c(\n",
    "                                 \"Tcell_CD55+PDE4B+CD4+ Naive\",\n",
    "                                 \"Tcell_CCR7+CD7+CD4+ Naive/TCM\",\n",
    "                                 'Tcell_BAG3+DNAJB1+CD4+ T',\n",
    "                                 'Tcell_CCR6+RORA+TNFSF13B+ TEM',\n",
    "                                  'Tcell_CCL5+GZMA+CD4+ TEM',\n",
    "                                 'Tcell_CCL5+CXCR6+MAF+ TPH',\n",
    "                                 'Tcell_CXCL13hi MAF+ TPH',\n",
    "                                 'Tcell_FOXP3+ Tregs'), as.character(cellgeoms$fine.types), NA)"
   ]
  },
  {
   "cell_type": "code",
   "execution_count": null,
   "metadata": {},
   "outputs": [],
   "source": [
    "levels(cellgeoms$highres.regions)"
   ]
  },
  {
   "cell_type": "code",
   "execution_count": null,
   "metadata": {},
   "outputs": [],
   "source": [
    "outline.cols <- c(\"#00689A\",\"#43f782\",\"#C776F8\",\"#F8A640\",\n",
    "                \"#FF6C67\",\"yellow\",rep(\"grey50\",2),rep(\"grey\",10))\n",
    "names(outline.cols) <- levels(cellgeoms$dc.niche)"
   ]
  },
  {
   "cell_type": "code",
   "execution_count": null,
   "metadata": {},
   "outputs": [],
   "source": [
    "levels(cellgeoms$dc.niche)"
   ]
  },
  {
   "cell_type": "code",
   "execution_count": null,
   "metadata": {},
   "outputs": [],
   "source": [
    "lining.cols <- c(\"#00689A\",\"#43f782\",\"#C776F8\",\"#F8A640\",\n",
    "                \"#FF6C67\",\"yellow\",rep(\"grey50\",2),rep(\"black\",10))\n",
    "names(lining.cols) <- levels(cellgeoms$dc.niche)"
   ]
  },
  {
   "cell_type": "code",
   "execution_count": null,
   "metadata": {},
   "outputs": [],
   "source": [
    "library(ggdark)"
   ]
  },
  {
   "cell_type": "code",
   "execution_count": null,
   "metadata": {},
   "outputs": [],
   "source": [
    "options(repr.plot.width=5, repr.plot.height=5)\n",
    "cellgeoms %>% \n",
    "    with(SampleFOV) %>%  \n",
    "    unique %>% \n",
    "    # head(1) %>% \n",
    "    purrr::map(~ cellgeoms %>% \n",
    "        subset(SampleFOV %in% .x) %>% \n",
    "        ggplot() + \n",
    "             geom_sf(aes(geometry = shape, fill = dc.niche, color = dc.niche), na.rm=TRUE,linewidth = 0.1,size=1)  +\n",
    "     scale_fill_manual(values = lining.cols, na.value = \"black\", na.translate = TRUE) + scale_color_manual(values = outline.cols)+ ggtitle(\"\")+ theme_powerpoint() + dark_theme_classic() + guides(fill=FALSE,color=FALSE)\n",
    ")"
   ]
  },
  {
   "cell_type": "code",
   "execution_count": null,
   "metadata": {},
   "outputs": [],
   "source": [
    "outline.cols <- c(\"black\",\"black\",\"black\",\"black\",\n",
    "                \"black\",\"black\",rep(\"darkgrey\",2),rep(\"darkgrey\",10))\n",
    "names(outline.cols) <- levels(cellgeoms$dc.niche)"
   ]
  },
  {
   "cell_type": "code",
   "execution_count": null,
   "metadata": {},
   "outputs": [],
   "source": [
    "lining.cols <- c(\"#00689A\",\"#43f782\",\"#C776F8\",\"#F8A640\",\n",
    "                \"#FF6C67\",\"yellow\",rep(\"darkgrey\",2),rep(\"white\",10))\n",
    "names(lining.cols) <- levels(cellgeoms$dc.niche)"
   ]
  },
  {
   "cell_type": "code",
   "execution_count": null,
   "metadata": {},
   "outputs": [],
   "source": [
    "options(repr.plot.width=6, repr.plot.height=5)\n",
    "cellgeoms %>% \n",
    "    with(SampleFOV) %>%  \n",
    "    unique %>% \n",
    "    # head(1) %>% \n",
    "    purrr::map(~ cellgeoms %>% \n",
    "        subset(SampleFOV %in% .x) %>% \n",
    "        ggplot() + \n",
    "             geom_sf(aes(geometry = shape, fill = dc.niche, color = dc.niche), na.rm=TRUE, linewidth=0.05)  +\n",
    "     scale_fill_manual(values = lining.cols, na.value = \"white\", na.translate = TRUE) + scale_color_manual(values = outline.cols)+ ggtitle(\"\")+ theme_powerpoint() + guides(fill=FALSE, color=FALSE) + theme(axis.text=element_blank(), axis.ticks=element_blank()) \n",
    ")"
   ]
  },
  {
   "cell_type": "code",
   "execution_count": null,
   "metadata": {},
   "outputs": [],
   "source": [
    "outline.cols <- c(\"#00689A\",\"#43f782\",\"#C776F8\",\"#F8A640\",\n",
    "                \"#FF6C67\",\"yellow\",rep(\"grey\",7),\"grey50\")\n",
    "names(outline.cols) <- levels(cellgeoms$dc.niche)"
   ]
  },
  {
   "cell_type": "code",
   "execution_count": null,
   "metadata": {},
   "outputs": [],
   "source": [
    "lymphoid.cols <- c(\"#00689A\",\"#43f782\",\"#C776F8\",\"#F8A640\",\n",
    "                \"#FF6C67\",\"yellow\",rep(\"black\",7),\"grey50\")\n",
    "names(lymphoid.cols) <- levels(cellgeoms$dc.niche)"
   ]
  },
  {
   "cell_type": "code",
   "execution_count": null,
   "metadata": {},
   "outputs": [],
   "source": [
    "library(ggdark)\n",
    "options(repr.plot.width=5, repr.plot.height=5)\n",
    "cellgeoms %>% \n",
    "    with(SampleFOV) %>%  \n",
    "    unique %>% \n",
    "    # head(1) %>% \n",
    "    purrr::map(~ cellgeoms %>% \n",
    "        subset(SampleFOV %in% .x) %>% \n",
    "        ggplot() + \n",
    "             geom_sf(aes(geometry = shape, fill = dc.niche, color = dc.niche), na.rm=TRUE,linewidth = 0.15)  +\n",
    "     scale_fill_manual(values = lymphoid.cols, na.value = \"black\", na.translate = TRUE) + scale_color_manual(values = outline.cols)+ ggtitle(\"\")+ theme_powerpoint() + dark_theme_classic() + guides(fill=FALSE, color=FALSE) + theme(axis.text=element_blank(), axis.ticks=element_blank()) \n",
    ")"
   ]
  },
  {
   "cell_type": "code",
   "execution_count": null,
   "metadata": {},
   "outputs": [],
   "source": [
    "outline.cols <- c(\"black\",\"black\",\"black\",\"black\",\n",
    "                \"black\",\"black\",rep(\"grey\",7),\"darkgrey\")\n",
    "names(outline.cols) <- levels(cellgeoms$dc.niche)"
   ]
  },
  {
   "cell_type": "code",
   "execution_count": null,
   "metadata": {},
   "outputs": [],
   "source": [
    "lymphoid.cols <- c(\"#00689A\",\"#43f782\",\"#C776F8\",\"#F8A640\",\n",
    "                \"#FF6C67\",\"yellow\",rep(\"white\",7),\"darkgrey\")\n",
    "names(lymphoid.cols) <- levels(cellgeoms$dc.niche)"
   ]
  },
  {
   "cell_type": "code",
   "execution_count": null,
   "metadata": {},
   "outputs": [],
   "source": [
    "options(repr.plot.width=6, repr.plot.height=5)\n",
    "cellgeoms %>% \n",
    "    with(SampleFOV) %>%  \n",
    "    unique %>% \n",
    "    # head(1) %>% \n",
    "    purrr::map(~ cellgeoms %>% \n",
    "        subset(SampleFOV %in% .x) %>% \n",
    "        ggplot() + \n",
    "             geom_sf(aes(geometry = shape, fill = dc.niche, color = dc.niche), na.rm=TRUE, linewidth=0.05)  +\n",
    "     scale_fill_manual(values = lymphoid.cols, na.value = \"white\", na.translate = TRUE) + scale_color_manual(values = outline.cols)+ ggtitle(\"\")+ theme_powerpoint() + guides(fill=FALSE, color=FALSE) + theme(axis.text=element_blank(), axis.ticks=element_blank()) \n",
    ")"
   ]
  },
  {
   "cell_type": "code",
   "execution_count": null,
   "metadata": {},
   "outputs": [],
   "source": [
    "outline.cols <- c(\"#00689A\",\"#43f782\",\"#C776F8\",\"#F8A640\",\n",
    "                \"#FF6C67\",\"yellow\",rep(\"grey\",2),\"grey50\",rep(\"grey\",8))\n",
    "names(outline.cols) <- levels(cellgeoms$dc.niche)"
   ]
  },
  {
   "cell_type": "code",
   "execution_count": null,
   "metadata": {},
   "outputs": [],
   "source": [
    "myeloidsub.cols <- c(\"#00689A\",\"#43f782\",\"#C776F8\",\"#F8A640\",\n",
    "                \"#FF6C67\",\"yellow\",rep(\"black\",2),\"grey50\",rep(\"black\",8))\n",
    "names(myeloidsub.cols) <- levels(cellgeoms$dc.niche)"
   ]
  },
  {
   "cell_type": "code",
   "execution_count": null,
   "metadata": {},
   "outputs": [],
   "source": [
    "options(repr.plot.width=5, repr.plot.height=5)\n",
    "cellgeoms %>% \n",
    "    with(SampleFOV) %>%  \n",
    "    unique %>% \n",
    "    # head(1) %>% \n",
    "    purrr::map(~ cellgeoms %>% \n",
    "        subset(SampleFOV %in% .x) %>% \n",
    "        ggplot() + \n",
    "             geom_sf(aes(geometry = shape, fill = dc.niche, color = dc.niche), na.rm=TRUE,linewidth = 0.15, alpha=3)  +\n",
    "     scale_fill_manual(values = myeloidsub.cols, na.value = \"black\", na.translate = TRUE) + scale_color_manual(values = outline.cols)+ ggtitle(\"\")+ theme_powerpoint() + dark_theme_classic() + guides(fill=FALSE, color=FALSE) + theme(axis.text=element_blank(), axis.ticks=element_blank()) \n",
    ")"
   ]
  },
  {
   "cell_type": "code",
   "execution_count": null,
   "id": "80fd5bef",
   "metadata": {},
   "outputs": [],
   "source": [
    "unique(cellgeoms$t.interest)"
   ]
  },
  {
   "cell_type": "code",
   "execution_count": null,
   "id": "230d0849",
   "metadata": {},
   "outputs": [],
   "source": [
    "cellgeoms$t.interest <- as.ordered(factor(cellgeoms$t.interest, \n",
    "                        levels=c(\n",
    "                                 \"Tcell_CD55+PDE4B+CD4+ Naive\",\n",
    "                                 \"Tcell_CCR7+CD7+CD4+ Naive/TCM\",\n",
    "                                 'Tcell_BAG3+DNAJB1+CD4+ T',\n",
    "                                 'Tcell_CCR6+RORA+TNFSF13B+ TEM',\n",
    "                                  'Tcell_CCL5+GZMA+CD4+ TEM',\n",
    "                                 'Tcell_CCL5+CXCR6+MAF+ TPH',\n",
    "                                 'Tcell_CXCL13hi MAF+ TPH',\n",
    "                                 'Tcell_FOXP3+ Tregs'\n",
    "                                )))"
   ]
  },
  {
   "cell_type": "code",
   "execution_count": null,
   "metadata": {},
   "outputs": [],
   "source": [
    "unique(cellgeoms$"
   ]
  },
  {
   "cell_type": "code",
   "execution_count": null,
   "metadata": {},
   "outputs": [],
   "source": [
    "cols"
   ]
  },
  {
   "cell_type": "code",
   "execution_count": null,
   "metadata": {},
   "outputs": [],
   "source": [
    "cellgeoms$coarse.niche <- ifelse(cellgeoms$new.coarse.types%in%c(\"CD4+ Tcell\",\"cDC\"),\n",
    "                                    as.character(cellgeoms$new.coarse.types), \n",
    "                                    as.character(cellgeoms$highres.regions))"
   ]
  },
  {
   "cell_type": "code",
   "execution_count": null,
   "metadata": {},
   "outputs": [],
   "source": [
    "cellgeoms$coarse.niche <- as.ordered(factor(cellgeoms$coarse.niche, levels=c(\"cDC\",\"CD4+ Tcell\",levels(cellgeoms$highres.regions))))\n",
    "                                "
   ]
  },
  {
   "cell_type": "code",
   "execution_count": null,
   "metadata": {
    "scrolled": true
   },
   "outputs": [],
   "source": [
    "levels(cellgeoms$coarse.niche)"
   ]
  },
  {
   "cell_type": "code",
   "execution_count": null,
   "metadata": {},
   "outputs": [],
   "source": [
    "outline.cols <- c('turquoise1',\"green4\",rep(\"grey50\",10),\"grey50\",\"grey50\")\n",
    "names(outline.cols) <- levels(cellgeoms$coarse.niche)"
   ]
  },
  {
   "cell_type": "code",
   "execution_count": null,
   "metadata": {},
   "outputs": [],
   "source": [
    "dc.t.cols <- c('turquoise1',\"green4\",rep(\"black\",10),\"grey50\",\"black\")\n",
    "names(dc.t.cols) <- levels(cellgeoms$coarse.niche)"
   ]
  },
  {
   "cell_type": "code",
   "execution_count": null,
   "metadata": {
    "scrolled": false
   },
   "outputs": [],
   "source": [
    "library(ggdark)\n",
    "options(repr.plot.width=5, repr.plot.height=5)\n",
    "cellgeoms %>% \n",
    "    with(SampleFOV) %>%  \n",
    "    unique %>% \n",
    "    # head(1) %>% \n",
    "    purrr::map(~ cellgeoms %>% \n",
    "        subset(SampleFOV %in% .x) %>% \n",
    "        ggplot() + \n",
    "             geom_sf(aes(geometry = shape, fill = coarse.niche, color=coarse.niche), na.rm=TRUE,linewidth = 0.15) + \n",
    "     scale_fill_manual(values = dc.t.cols, na.value = \"grey50\", na.translate = TRUE) + scale_color_manual(values = outline.cols,na.value=\"grey50\")+ ggtitle(cellgeoms$SampleFOV)+ theme_powerpoint() + guides(fill=FALSE, color=FALSE)+ dark_theme_classic() + theme(axis.text=element_blank(), axis.ticks=element_blank()) \n",
    ")"
   ]
  },
  {
   "cell_type": "code",
   "execution_count": null,
   "metadata": {},
   "outputs": [],
   "source": [
    "cellgeoms$t.interest <- as.ordered(factor(cellgeoms$t.interest, \n",
    "                        levels=c(\n",
    "                                 \"Tcell_CD55+PDE4B+CD4+ Naive\",\n",
    "                                 \"Tcell_CCR7+CD7+CD4+ Naive/TCM\",\n",
    "                                 'Tcell_BAG3+DNAJB1+CD4+ T',\n",
    "                                 'Tcell_CCR6+RORA+TNFSF13B+ TEM',\n",
    "                                  'Tcell_CCL5+GZMA+CD4+ TEM',\n",
    "                                 'Tcell_CCL5+CXCR6+MAF+ TPH',\n",
    "                                 'Tcell_CXCL13hi MAF+ TPH',\n",
    "                                 'Tcell_FOXP3+ Tregs'\n",
    "                                )))"
   ]
  },
  {
   "cell_type": "code",
   "execution_count": null,
   "metadata": {},
   "outputs": [],
   "source": [
    "unique(cellgeoms$"
   ]
  },
  {
   "cell_type": "code",
   "execution_count": null,
   "metadata": {},
   "outputs": [],
   "source": [
    "cols"
   ]
  },
  {
   "cell_type": "code",
   "execution_count": null,
   "metadata": {},
   "outputs": [],
   "source": [
    "cellgeoms$coarse.niche <- ifelse(cellgeoms$new.coarse.types%in%c(\"CD4+ Tcell\",\"cDC\"),\n",
    "                                    as.character(cellgeoms$new.coarse.types), \n",
    "                                    as.character(cellgeoms$highres.regions))"
   ]
  },
  {
   "cell_type": "code",
   "execution_count": null,
   "metadata": {
    "scrolled": true
   },
   "outputs": [],
   "source": [
    "levels(cellgeoms$coarse.niche)"
   ]
  },
  {
   "cell_type": "code",
   "execution_count": null,
   "metadata": {},
   "outputs": [],
   "source": [
    "outline.cols <- c('turquoise1',\"green4\",rep(\"grey50\",10),\"grey50\",\"grey50\")\n",
    "names(outline.cols) <- levels(cellgeoms$coarse.niche)"
   ]
  },
  {
   "cell_type": "code",
   "execution_count": null,
   "metadata": {},
   "outputs": [],
   "source": [
    "dc.t.cols <- c('turquoise1',\"green4\",rep(\"black\",10),\"grey50\",\"black\")\n",
    "names(dc.t.cols) <- levels(cellgeoms$coarse.niche)"
   ]
  },
  {
   "cell_type": "code",
   "execution_count": null,
   "metadata": {
    "scrolled": true
   },
   "outputs": [],
   "source": [
    "library(ggdark)\n",
    "options(repr.plot.width=10, repr.plot.height=10)\n",
    "cellgeoms %>% \n",
    "    with(SampleFOV) %>%  \n",
    "    unique %>% \n",
    "    # head(1) %>% \n",
    "    purrr::map(~ cellgeoms %>% \n",
    "        subset(SampleFOV %in% .x) %>% \n",
    "        ggplot() + \n",
    "             geom_sf(aes(geometry = shape, fill = interest, color=interest), na.rm=TRUE,linewidth = 0.15) + \n",
    "     scale_fill_manual(values = fine.type.cols, na.value = \"grey\", na.translate = TRUE) + scale_color_manual(values = fine.type.cols,na.value=\"grey\")+ ggtitle(FOV)+ theme_powerpoint()\n",
    ")"
   ]
  },
  {
   "cell_type": "code",
   "execution_count": null,
   "metadata": {},
   "outputs": [],
   "source": [
    "cellgeoms$interest <- ifelse(cellgeoms$fine.types%in%c(\n",
    "                                 'Myeloid_iDC3 CD14highCD163+',\n",
    "                                  'Tcell_CCL5+GZMA+CD4+ TEM',\n",
    "                                 'Tcell_CCL5+CXCR6+MAF+ TPH'), as.character(cellgeoms$fine.types), NA)"
   ]
  },
  {
   "cell_type": "code",
   "execution_count": null,
   "metadata": {},
   "outputs": [],
   "source": [
    "cellgeoms$interest <- as.ordered(factor(cellgeoms$interest, levels=c('Myeloid_iDC3 CD14highCD163+',\n",
    "                                  'Tcell_CCL5+GZMA+CD4+ TEM',\n",
    "                                 'Tcell_CCL5+CXCR6+MAF+ TPH')))\n",
    "                                "
   ]
  },
  {
   "cell_type": "code",
   "execution_count": null,
   "metadata": {},
   "outputs": [],
   "source": [
    "cols <- c(\"white\",\"#FF3131\",\"dodgerblue2\",rep(\"black\",13))\n",
    "names(cols) <- levels(cellgeoms$interest)\n",
    "outline.cols <- c(\"white\",\"#FF3131\",\"dodgerblue2\",rep(\"grey50\",14),rep(\"black\",13))\n",
    "names(outline.cols) <- levels(cellgeoms$interest)"
   ]
  },
  {
   "cell_type": "code",
   "execution_count": null,
   "metadata": {
    "scrolled": false
   },
   "outputs": [],
   "source": [
    "library(ggdark)\n",
    "options(repr.plot.width=10, repr.plot.height=10)\n",
    "cellgeoms %>% \n",
    "    with(SampleFOV) %>%  \n",
    "    unique %>% \n",
    "    # head(1) %>% \n",
    "    purrr::map(~ cellgeoms %>% \n",
    "        subset(SampleFOV %in% .x) %>% \n",
    "        ggplot() + \n",
    "             geom_sf(aes(geometry = shape, fill = interest, color=interest), na.rm=TRUE,linewidth = 0.15) + \n",
    "     scale_fill_manual(values = cols, na.value = \"black\", na.translate = TRUE) + scale_color_manual(values = outline.cols,na.value=\"grey\")+ ggtitle(cellgeoms$SampleFOV)+ theme_powerpoint() + ggtitle(\"\")+ theme_powerpoint() + dark_theme_classic() + guides(fill=FALSE, color=FALSE) + theme(axis.text=element_blank(), axis.ticks=element_blank()) \n",
    ")"
   ]
  },
  {
   "cell_type": "code",
   "execution_count": null,
   "id": "320fe361",
   "metadata": {
    "scrolled": true
   },
   "outputs": [],
   "source": [
    "library(ggdark)\n",
    "options(repr.plot.width=10, repr.plot.height=10)\n",
    "cellgeoms %>% \n",
    "    with(SampleFOV) %>%  \n",
    "    unique %>% \n",
    "    # head(1) %>% \n",
    "    purrr::map(~ cellgeoms %>% \n",
    "        subset(SampleFOV %in% .x) %>% \n",
    "        ggplot() + \n",
    "             geom_sf(aes(geometry = shape, fill = interest, color=interest), na.rm=TRUE,linewidth = 0.15) + \n",
    "     scale_fill_manual(values = c(\"white\",\"dodgerblue2\",\"#FF3131\"), na.value = \"black\", na.translate = TRUE) + scale_color_manual(values = c(\"white\",\"dodgerblue2\",\"#FF3131\"),na.value=\"grey\") +  ggtitle(cellgeoms$SampleFOV)+ theme_powerpoint() + ggtitle(\"\")+ theme_powerpoint() + dark_theme_classic() + theme(axis.text=element_blank(), axis.ticks=element_blank()) \n",
    ")"
   ]
  },
  {
   "cell_type": "code",
   "execution_count": null,
   "metadata": {},
   "outputs": [],
   "source": [
    "cellgeoms$interest <- ifelse(cellgeoms$fine.types%in%c('Myeloid_DC1 CLEC9A+',\n",
    "                                 'Myeloid_DC2 CD1c+',\n",
    "                                 'Myeloid_DC2 CCR7+',\n",
    "                                 'Myeloid_DC3 CD1clowCD163+',\n",
    "                                 'Myeloid_iDC3 CD14highCD163+',\n",
    "                                 'Myeloid_FOLR2highCLEC10A+ STM',\"Tcell_CD55+PDE4B+CD4+ Naive\",\n",
    "                                 \"Tcell_CCR7+CD7+CD4+ Naive/TCM\",\n",
    "                                 'Tcell_T/FLS doublet',\n",
    "                                 'Tcell_BAG3+DNAJB1+CD4+ T',\n",
    "                                 'Tcell_CCR6+RORA+TNFSF13B+ TEM',\n",
    "                                  'Tcell_CCL5+GZMA+CD4+ TEM',\n",
    "                                 'Tcell_CCL5+CXCR6+MAF+ TPH',\n",
    "                                 'Tcell_CXCL13hi MAF+ TPH',\n",
    "                                 'Tcell_FOXP3+ Tregs'), as.character(cellgeoms$fine.types), as.character(cellgeoms$highres.regions))"
   ]
  },
  {
   "cell_type": "code",
   "execution_count": null,
   "metadata": {},
   "outputs": [],
   "source": [
    "cellgeoms$interest <- as.ordered(factor(cellgeoms$interest, levels=c('Myeloid_DC1 CLEC9A+',\n",
    "                                 'Myeloid_DC2 CD1c+',\n",
    "                                 'Myeloid_DC2 CCR7+',\n",
    "                                 'Myeloid_DC3 CD1clowCD163+',\n",
    "                                 'Myeloid_iDC3 CD14highCD163+',\n",
    "                                 'Myeloid_FOLR2highCLEC10A+ STM',\"Tcell_CD55+PDE4B+CD4+ Naive\",\n",
    "                                 \"Tcell_CCR7+CD7+CD4+ Naive/TCM\",\n",
    "                                 'Tcell_BAG3+DNAJB1+CD4+ T',\n",
    "                                 'Tcell_CCR6+RORA+TNFSF13B+ TEM',\n",
    "                                  'Tcell_CCL5+GZMA+CD4+ TEM',\n",
    "                                 'Tcell_CCL5+CXCR6+MAF+ TPH',\n",
    "                                 'Tcell_CXCL13hi MAF+ TPH',\n",
    "                                 'Tcell_FOXP3+ Tregs','Lining','Lining_Myeloid-rich',\n",
    "        'Sublining_FLS-rich','Sublining_Myeloid-rich',\n",
    "        'Sublining_Mast','Adipocyte-rich','Perivascular','Vascular',\n",
    "        'Plasma-rich','Plasma-rich/Macro',\n",
    "        'Lymphoid','Myeloid-rich/BIRC5+')))\n",
    "                                "
   ]
  },
  {
   "cell_type": "code",
   "execution_count": null,
   "metadata": {
    "scrolled": true
   },
   "outputs": [],
   "source": [
    "levels(cellgeoms$interest)"
   ]
  },
  {
   "cell_type": "code",
   "execution_count": null,
   "metadata": {},
   "outputs": [],
   "source": [
    "outline.cols <- c(\"#00689A\",\"#43f782\",\"#C776F8\",\"#F8A640\",\n",
    "                \"#FF6C67\",\"yellow\",rep(\"white\",8),rep(\"grey50\",10),\"grey50\",\"grey50\")\n",
    "names(outline.cols) <- levels(cellgeoms$interest)"
   ]
  },
  {
   "cell_type": "code",
   "execution_count": null,
   "metadata": {},
   "outputs": [],
   "source": [
    "dc.t.cols <- c(\"#00689A\",\"#43f782\",\"#C776F8\",\"#F8A640\",\n",
    "                \"#FF6C67\",\"yellow\",rep(\"white\",8),rep(\"grey50\",2),rep(\"black\",10),\"black\")\n",
    "names(dc.t.cols) <- levels(cellgeoms$interest)"
   ]
  },
  {
   "cell_type": "code",
   "execution_count": null,
   "metadata": {
    "scrolled": true
   },
   "outputs": [],
   "source": [
    "library(ggdark)\n",
    "options(repr.plot.width=5, repr.plot.height=5)\n",
    "cellgeoms %>% \n",
    "    with(SampleFOV) %>%  \n",
    "    unique %>% \n",
    "    # head(1) %>% \n",
    "    purrr::map(~ cellgeoms %>% \n",
    "        subset(SampleFOV %in% .x) %>% \n",
    "        ggplot() + \n",
    "             geom_sf(aes(geometry = shape, fill = interest, color=interest), na.rm=TRUE,linewidth = 0.15) + \n",
    "             scale_fill_manual(values = dc.t.cols, na.value = \"grey\", na.translate = TRUE) + \n",
    "               scale_color_manual(values = outline.cols,na.value=\"grey\") + guides(fill=FALSE, color=FALSE) + \n",
    "               dark_theme_classic() + theme(axis.text=element_blank(), axis.ticks=element_blank()))"
   ]
  },
  {
   "cell_type": "code",
   "execution_count": null,
   "metadata": {},
   "outputs": [],
   "source": [
    "cellgeoms$interest <- ifelse(cellgeoms$fine.types%in%c('Myeloid_DC1 CLEC9A+',\n",
    "                                 'Myeloid_DC2 CD1c+',\n",
    "                                 'Myeloid_DC2 CCR7+',\n",
    "                                 'Myeloid_DC3 CD1clowCD163+',\n",
    "                                 'Myeloid_iDC3 CD14highCD163+',\n",
    "                                 'Myeloid_FOLR2highCLEC10A+ STM',\"Tcell_CD55+PDE4B+CD4+ Naive\",\n",
    "                                 \"Tcell_CCR7+CD7+CD4+ Naive/TCM\",\n",
    "                                 'Tcell_T/FLS doublet',\n",
    "                                 'Tcell_BAG3+DNAJB1+CD4+ T',\n",
    "                                 'Tcell_CCR6+RORA+TNFSF13B+ TEM',\n",
    "                                  'Tcell_CCL5+GZMA+CD4+ TEM',\n",
    "                                 'Tcell_CCL5+CXCR6+MAF+ TPH',\n",
    "                                 'Tcell_CXCL13hi MAF+ TPH',\n",
    "                                 'Tcell_FOXP3+ Tregs'), as.character(cellgeoms$fine.types), NA)"
   ]
  },
  {
   "cell_type": "code",
   "execution_count": null,
   "metadata": {},
   "outputs": [],
   "source": [
    "cellgeoms$interest <- as.ordered(factor(cellgeoms$interest, levels=c('Myeloid_DC1 CLEC9A+',\n",
    "                                 'Myeloid_DC2 CD1c+',\n",
    "                                 'Myeloid_DC2 CCR7+',\n",
    "                                 'Myeloid_DC3 CD1clowCD163+',\n",
    "                                 'Myeloid_iDC3 CD14highCD163+',\n",
    "                                 'Myeloid_FOLR2highCLEC10A+ STM',\"Tcell_CD55+PDE4B+CD4+ Naive\",\n",
    "                                 \"Tcell_CCR7+CD7+CD4+ Naive/TCM\",\n",
    "                                 'Tcell_BAG3+DNAJB1+CD4+ T',\n",
    "                                 'Tcell_CCR6+RORA+TNFSF13B+ TEM',\n",
    "                                  'Tcell_CCL5+GZMA+CD4+ TEM',\n",
    "                                 'Tcell_CCL5+CXCR6+MAF+ TPH',\n",
    "                                 'Tcell_CXCL13hi MAF+ TPH',\n",
    "                                 'Tcell_FOXP3+ Tregs')))\n",
    "                                "
   ]
  },
  {
   "cell_type": "code",
   "execution_count": null,
   "metadata": {},
   "outputs": [],
   "source": [
    "#Assign colour for each cluster\n",
    "fine.type.cols <- c('Myeloid_DC1 CLEC9A+'=\"white\",\n",
    "                    'Myeloid_DC2 CD1c+'=\"white\",\n",
    "                    'Myeloid_DC2 CCR7+'=\"white\",\n",
    "                    'Myeloid_DC3 CD1clowCD163+'=\"white\",\n",
    "                    'Myeloid_iDC3 CD14highCD163+'=\"white\",\n",
    "                    'Myeloid_FOLR2highCLEC10A+ STM'=\"white\",\n",
    "                \"Tcell_CD55+PDE4B+CD4+ Naive\"='#AFE1AF',\n",
    "\"Tcell_CCR7+CD7+CD4+ Naive/TCM\"=\"#7CFC00\",\n",
    "'Tcell_BAG3+DNAJB1+CD4+ T'=\"Purple\",\n",
    "                         'Tcell_CCR6+RORA+TNFSF13B+ TEM'=\"darkorange\",\n",
    "                                                      'Tcell_CCL5+GZMA+CD4+ TEM'='#FF3131',\n",
    "                                                                         'Tcell_CCL5+CXCR6+MAF+ TPH'=\"dodgerblue2\",\n",
    "                                                                         'Tcell_CXCL13hi MAF+ TPH'=\"darkturquoise\",\n",
    "                                                                         'Tcell_FOXP3+ Tregs'=\"#FFFF00\")"
   ]
  },
  {
   "cell_type": "code",
   "execution_count": null,
   "metadata": {
    "scrolled": false
   },
   "outputs": [],
   "source": [
    "library(ggdark)\n",
    "options(repr.plot.width=5, repr.plot.height=5)\n",
    "cellgeoms %>% \n",
    "    with(SampleFOV) %>%  \n",
    "    unique %>% \n",
    "    # head(1) %>% \n",
    "    purrr::map(~ cellgeoms %>% \n",
    "        subset(SampleFOV %in% .x) %>% \n",
    "        ggplot() + \n",
    "             geom_sf(aes(geometry = shape, fill = interest, color=interest), na.rm=TRUE,linewidth = 0.15) + \n",
    "     scale_fill_manual(values = fine.type.cols, na.value = \"black\", na.translate = TRUE) + scale_color_manual(values = fine.type.cols,na.value=\"grey50\")+ ggtitle(cellgeoms$SampleFOV)+ theme_powerpoint() + dark_theme_classic()+ guides(fill=FALSE, color=FALSE) + \n",
    "               theme(axis.text=element_blank(), axis.ticks=element_blank())\n",
    ")"
   ]
  },
  {
   "cell_type": "code",
   "execution_count": null,
   "metadata": {},
   "outputs": [],
   "source": [
    "cellgeoms$interest <- ifelse(cellgeoms$fine.types%in%c(\n",
    "                                 'Myeloid_DC2 CCR7+',\"Tcell_CD55+PDE4B+CD4+ Naive\",\n",
    "                                 'Tcell_CXCL13hi MAF+ TPH',\n",
    "                                 'Tcell_FOXP3+ Tregs'), as.character(cellgeoms$fine.types), NA)"
   ]
  },
  {
   "cell_type": "code",
   "execution_count": null,
   "metadata": {},
   "outputs": [],
   "source": [
    "cellgeoms$interest <- as.ordered(factor(cellgeoms$interest, levels=c('Myeloid_DC1 CLEC9A+',\n",
    "                                 'Myeloid_DC2 CD1c+',\n",
    "                                 'Myeloid_DC2 CCR7+',\n",
    "                                 'Myeloid_DC3 CD1clowCD163+',\n",
    "                                 'Myeloid_iDC3 CD14highCD163+',\n",
    "                                 'Myeloid_FOLR2highCLEC10A+ STM',\"Tcell_CD55+PDE4B+CD4+ Naive\",\n",
    "                                 \"Tcell_CCR7+CD7+CD4+ Naive/TCM\",\n",
    "                                 'Tcell_BAG3+DNAJB1+CD4+ T',\n",
    "                                 'Tcell_CCR6+RORA+TNFSF13B+ TEM',\n",
    "                                  'Tcell_CCL5+GZMA+CD4+ TEM',\n",
    "                                 'Tcell_CCL5+CXCR6+MAF+ TPH',\n",
    "                                 'Tcell_CXCL13hi MAF+ TPH',\n",
    "                                 'Tcell_FOXP3+ Tregs')))\n",
    "                                "
   ]
  },
  {
   "cell_type": "code",
   "execution_count": null,
   "metadata": {},
   "outputs": [],
   "source": [
    "#Assign colour for each cluster\n",
    "fine.type.cols <- c('Myeloid_DC1 CLEC9A+'=\"white\",\n",
    "                    'Myeloid_DC2 CD1c+'=\"white\",\n",
    "                    'Myeloid_DC2 CCR7+'=\"white\",\n",
    "                    'Myeloid_DC3 CD1clowCD163+'=\"white\",\n",
    "                    'Myeloid_iDC3 CD14highCD163+'=\"white\",\n",
    "                    'Myeloid_FOLR2highCLEC10A+ STM'=\"white\",\n",
    "                \"Tcell_CD55+PDE4B+CD4+ Naive\"='#AFE1AF',\n",
    "\"Tcell_CCR7+CD7+CD4+ Naive/TCM\"=\"#7CFC00\",\n",
    "'Tcell_BAG3+DNAJB1+CD4+ T'=\"Purple\",\n",
    "                         'Tcell_CCR6+RORA+TNFSF13B+ TEM'=\"darkorange\",\n",
    "                                                      'Tcell_CCL5+GZMA+CD4+ TEM'='#FF3131',\n",
    "                                                                         'Tcell_CCL5+CXCR6+MAF+ TPH'=\"dodgerblue2\",\n",
    "                                                                         'Tcell_CXCL13hi MAF+ TPH'=\"darkturquoise\",\n",
    "                                                                         'Tcell_FOXP3+ Tregs'=\"#FFFF00\")"
   ]
  },
  {
   "cell_type": "code",
   "execution_count": null,
   "metadata": {
    "scrolled": true
   },
   "outputs": [],
   "source": [
    "library(ggdark)\n",
    "options(repr.plot.width=5, repr.plot.height=5)\n",
    "cellgeoms %>% \n",
    "    with(SampleFOV) %>%  \n",
    "    unique %>% \n",
    "    # head(1) %>% \n",
    "    purrr::map(~ cellgeoms %>% \n",
    "        subset(SampleFOV %in% .x) %>% \n",
    "        ggplot() + \n",
    "             geom_sf(aes(geometry = shape, fill = interest, color=interest), na.rm=TRUE,linewidth = 0.15) + \n",
    "     scale_fill_manual(values = fine.type.cols, na.value = \"black\", na.translate = TRUE) + scale_color_manual(values = fine.type.cols,na.value=\"grey50\")+ ggtitle(cellgeoms$SampleFOV)+ theme_powerpoint() + dark_theme_classic()+ guides(fill=FALSE, color=FALSE) + \n",
    "               theme(axis.text=element_blank(), axis.ticks=element_blank())\n",
    ")"
   ]
  },
  {
   "cell_type": "code",
   "execution_count": null,
   "metadata": {},
   "outputs": [],
   "source": []
  },
  {
   "cell_type": "code",
   "execution_count": null,
   "metadata": {},
   "outputs": [],
   "source": [
    "cellgeoms$interest <- ifelse(cellgeoms$fine.types%in%c('Myeloid_DC1 CLEC9A+',\n",
    "                                 'Myeloid_DC2 CD1c+',\n",
    "                                 'Myeloid_DC2 CCR7+',\n",
    "                                 'Myeloid_DC3 CD1clowCD163+',\n",
    "                                 'Myeloid_iDC3 CD14highCD163+',\n",
    "                                 'Myeloid_FOLR2highCLEC10A+ STM',\"Tcell_CD55+PDE4B+CD4+ Naive\",\n",
    "                                 \"Tcell_CCR7+CD7+CD4+ Naive/TCM\",\n",
    "                                 'Tcell_T/FLS doublet',\n",
    "                                 'Tcell_BAG3+DNAJB1+CD4+ T',\n",
    "                                 'Tcell_CCR6+RORA+TNFSF13B+ TEM',\n",
    "                                  'Tcell_CCL5+GZMA+CD4+ TEM',\n",
    "                                 'Tcell_CCL5+CXCR6+MAF+ TPH',\n",
    "                                 'Tcell_CXCL13hi MAF+ TPH',\n",
    "                                 'Tcell_FOXP3+ Tregs'), as.character(cellgeoms$fine.types), NA)"
   ]
  },
  {
   "cell_type": "code",
   "execution_count": null,
   "metadata": {},
   "outputs": [],
   "source": [
    "cellgeoms$interest <- as.ordered(factor(cellgeoms$interest, levels=c('Myeloid_DC1 CLEC9A+',\n",
    "                                 'Myeloid_DC2 CD1c+',\n",
    "                                 'Myeloid_DC2 CCR7+',\n",
    "                                 'Myeloid_DC3 CD1clowCD163+',\n",
    "                                 'Myeloid_iDC3 CD14highCD163+',\n",
    "                                 'Myeloid_FOLR2highCLEC10A+ STM',\"Tcell_CD55+PDE4B+CD4+ Naive\",\n",
    "                                 \"Tcell_CCR7+CD7+CD4+ Naive/TCM\",\n",
    "                                 'Tcell_BAG3+DNAJB1+CD4+ T',\n",
    "                                 'Tcell_CCR6+RORA+TNFSF13B+ TEM',\n",
    "                                  'Tcell_CCL5+GZMA+CD4+ TEM',\n",
    "                                 'Tcell_CCL5+CXCR6+MAF+ TPH',\n",
    "                                 'Tcell_CXCL13hi MAF+ TPH',\n",
    "                                 'Tcell_FOXP3+ Tregs')))\n",
    "                                "
   ]
  },
  {
   "cell_type": "code",
   "execution_count": null,
   "metadata": {},
   "outputs": [],
   "source": [
    "#Assign colour for each cluster\n",
    "fine.type.cols <- c('Myeloid_DC1 CLEC9A+'=\"#00689A\",\n",
    "                    'Myeloid_DC2 CD1c+'=\"#43f782\",\n",
    "                    'Myeloid_DC2 CCR7+'=\"#C776F8\",\n",
    "                    'Myeloid_DC3 CD1clowCD163+'=\"#F8A640\",\n",
    "                    'Myeloid_iDC3 CD14highCD163+'=\"#FF6C67\",\n",
    "                    'Myeloid_FOLR2highCLEC10A+ STM'=\"yellow\",\n",
    "                \"Tcell_CD55+PDE4B+CD4+ Naive\"='#AFE1AF',\n",
    "\"Tcell_CCR7+CD7+CD4+ Naive/TCM\"=\"#7CFC00\",\n",
    "'Tcell_BAG3+DNAJB1+CD4+ T'=\"Purple\",\n",
    "                         'Tcell_CCR6+RORA+TNFSF13B+ TEM'=\"darkorange\",\n",
    "                                                      'Tcell_CCL5+GZMA+CD4+ TEM'='#FF3131',\n",
    "                                                                         'Tcell_CCL5+CXCR6+MAF+ TPH'=\"dodgerblue2\",\n",
    "                                                                         'Tcell_CXCL13hi MAF+ TPH'=\"darkturquoise\",\n",
    "                                                                         'Tcell_FOXP3+ Tregs'=\"#FFFF00\")"
   ]
  },
  {
   "cell_type": "code",
   "execution_count": null,
   "metadata": {},
   "outputs": [],
   "source": [
    "library(ggdark)\n",
    "options(repr.plot.width=5, repr.plot.height=5)\n",
    "cellgeoms %>% \n",
    "    with(SampleFOV) %>%  \n",
    "    unique %>% \n",
    "    # head(1) %>% \n",
    "    purrr::map(~ cellgeoms %>% \n",
    "        subset(SampleFOV %in% .x) %>% \n",
    "        ggplot() + \n",
    "             geom_sf(aes(geometry = shape, fill = interest, color=interest), na.rm=TRUE,linewidth = 0.15) + \n",
    "     scale_fill_manual(values = fine.type.cols, na.value = \"black\", na.translate = TRUE) + scale_color_manual(values = fine.type.cols,na.value=\"grey50\")+ ggtitle(cellgeoms$SampleFOV)+ theme_powerpoint() + dark_theme_classic()+ guides(color=FALSE) + \n",
    "               theme(axis.text=element_blank(), axis.ticks=element_blank())\n",
    ")"
   ]
  },
  {
   "cell_type": "code",
   "execution_count": null,
   "metadata": {},
   "outputs": [],
   "source": [
    "library(ggdark)\n",
    "options(repr.plot.width=10, repr.plot.height=10)\n",
    "cellgeoms %>% \n",
    "    with(SampleFOV) %>%  \n",
    "    unique %>% \n",
    "    # head(1) %>% \n",
    "    purrr::map(~ cellgeoms %>% \n",
    "        subset(SampleFOV %in% .x) %>% \n",
    "        ggplot() + \n",
    "             geom_sf(aes(geometry = shape, fill = interest, color=interest), na.rm=TRUE,linewidth = 0.15) + \n",
    "     scale_fill_manual(values = fine.type.cols, na.value = \"black\", na.translate = TRUE) + scale_color_manual(values = fine.type.cols,na.value=\"grey50\")+ theme_powerpoint() + dark_theme_classic()+ guides(fill=FALSE, color=FALSE) + \n",
    "               theme(axis.text=element_blank(), axis.ticks=element_blank())\n",
    ")"
   ]
  },
  {
   "cell_type": "code",
   "execution_count": null,
   "metadata": {},
   "outputs": [],
   "source": [
    "cellgeoms$interest <- ifelse(cellgeoms$fine.types%in%c(\n",
    "                                 'Myeloid_DC3 CD1clowCD163+',\n",
    "                                 'Tcell_FOXP3+ Tregs',                         \n",
    "                                 \"Tcell_CCR7+CD7+CD4+ Naive/TCM\"), as.character(cellgeoms$fine.types), NA)"
   ]
  },
  {
   "cell_type": "code",
   "execution_count": null,
   "metadata": {},
   "outputs": [],
   "source": [
    "cellgeoms$interest <- ifelse(cellgeoms$fine.types%in%c(\n",
    "                                 'Myeloid_DC3 CD1clowCD163+',\n",
    "                                 'Tcell_FOXP3+ Tregs',                         \n",
    "                                 \"Tcell_CCR7+CD7+CD4+ Naive/TCM\"), as.character(cellgeoms$fine.types), NA)"
   ]
  }
 ],
 "metadata": {
  "kernelspec": {
   "display_name": "R",
   "language": "R",
   "name": "ir"
  },
  "language_info": {
   "codemirror_mode": "r",
   "file_extension": ".r",
   "mimetype": "text/x-r-source",
   "name": "R",
   "pygments_lexer": "r",
   "version": "4.1.0"
  }
 },
 "nbformat": 4,
 "nbformat_minor": 5
}
