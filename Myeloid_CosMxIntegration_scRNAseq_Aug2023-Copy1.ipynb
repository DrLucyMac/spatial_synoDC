{
 "cells": [
  {
   "cell_type": "markdown",
   "id": "1e09c645-634b-47c8-83c8-c92968d0d0f4",
   "metadata": {},
   "source": [
    "# Myeloid integration"
   ]
  },
  {
   "cell_type": "markdown",
   "id": "eebdee4f-d842-462a-bac0-059ff71d33fa",
   "metadata": {},
   "source": [
    "# load"
   ]
  },
  {
   "cell_type": "code",
   "execution_count": null,
   "id": "cffb9a4c-e344-4403-b14b-ba0d0015d53a",
   "metadata": {},
   "outputs": [],
   "source": [
    "options(warn = -1, verbose=FALSE)\n",
    "#!/usr/bin/env Rscript \n",
    "library(dplyr)\n",
    "library(Seurat)\n",
    "library(httr)\n",
    "library(readr)\n",
    "library(pheatmap)\n",
    "library(RColorBrewer)\n",
    "library(ggplot2)\n",
    "library(cowplot)\n",
    "library(patchwork)\n",
    "library(unixtools)\n",
    "library(ggrepel)\n",
    "library(repr)\n",
    "library(ggmin)\n",
    "library(harmony)\n",
    "library(SeuratWrappers)\n",
    "library(Nebulosa)\n",
    "library(ggthemes)\n",
    "library(purrr)\n",
    "library(radiant.data)\n",
    "library(presto)\n",
    "library(pryr)\n",
    "set_config(config(ssl_verifypeer = 0L))\n",
    "ulimit::memory_limit(100000)\n",
    "set.tempdir(\"/datastore/lucy/tmp/\")\n",
    "setwd(\"/datastore/lucy/CosMx\")"
   ]
  },
  {
   "cell_type": "markdown",
   "metadata": {},
   "source": [
    "# Load Korsunsky lab functions"
   ]
  },
  {
   "cell_type": "code",
   "execution_count": null,
   "metadata": {},
   "outputs": [],
   "source": [
    "source(\"./R/utils.R\")\n",
    "start_upR(clusterfiles = TRUE)"
   ]
  },
  {
   "cell_type": "markdown",
   "id": "3862762e-192e-4955-ab4c-e63d7a038694",
   "metadata": {},
   "source": [
    "# Load synovial tissue single-cell data"
   ]
  },
  {
   "cell_type": "code",
   "execution_count": null,
   "id": "b8cfecec-0387-47d3-80ee-9d63ab7f49e7",
   "metadata": {},
   "outputs": [],
   "source": [
    "sc.myeloid<-readRDS(\"./cache/sc.myeloid.harmony_down.RDS\")"
   ]
  },
  {
   "cell_type": "code",
   "execution_count": null,
   "id": "03bd7ca8-eebe-4266-bc83-c0d4effc3573",
   "metadata": {},
   "outputs": [],
   "source": [
    "dimlist(sc.myeloid)"
   ]
  },
  {
   "cell_type": "markdown",
   "id": "9ea442f2-fd5a-4443-939e-4d05bd2d6dd0",
   "metadata": {},
   "source": [
    "## cosmx"
   ]
  },
  {
   "cell_type": "code",
   "execution_count": null,
   "id": "e58522ee-f9e6-4ca1-a7d2-ecc31e13fb13",
   "metadata": {},
   "outputs": [],
   "source": [
    "cosmx.syno<-readRDS(\"./cache/CosMxcoarseGrainharmonyObj_markers.RDS\")"
   ]
  },
  {
   "cell_type": "code",
   "execution_count": null,
   "id": "9fbe3751-adb9-4cba-8337-e333583400c6",
   "metadata": {},
   "outputs": [],
   "source": [
    "dimlist(cosmx.syno) "
   ]
  },
  {
   "cell_type": "code",
   "execution_count": null,
   "id": "50ce4f53-2364-45f5-b6fe-fd755de81d38",
   "metadata": {},
   "outputs": [],
   "source": [
    "unique(cosmx.syno$metadata$celltype.coarse)"
   ]
  },
  {
   "cell_type": "code",
   "execution_count": null,
   "id": "01d808d8-deda-4f1f-95c6-7d755307e722",
   "metadata": {},
   "outputs": [],
   "source": [
    "celltype<-c(\"Myeloid\",\"DC\")"
   ]
  },
  {
   "cell_type": "markdown",
   "id": "21c4a7d1-b0e9-42d4-bab5-89785450ea9c",
   "metadata": {},
   "source": [
    "### subset cosmx cells"
   ]
  },
  {
   "cell_type": "code",
   "execution_count": null,
   "id": "c9359fa7-735a-4006-b13a-0967ab2a1835",
   "metadata": {},
   "outputs": [],
   "source": [
    "cell.ids<-cosmx.syno$metadata %>% \n",
    "    subset(celltype.coarse %in% celltype) %>% \n",
    "    with(cellID)"
   ]
  },
  {
   "cell_type": "code",
   "execution_count": null,
   "id": "4b845f87-bd0a-4086-8a23-f4a5c0ed3ce7",
   "metadata": {},
   "outputs": [],
   "source": [
    "length(cell.ids)"
   ]
  },
  {
   "cell_type": "code",
   "execution_count": null,
   "metadata": {},
   "outputs": [],
   "source": [
    "sampleFOVcondition <- read.table(\"/datastore/lucy/CosMx/cache/SampleFOV-condition.csv\", header=TRUE, sep=\",\")"
   ]
  },
  {
   "cell_type": "code",
   "execution_count": null,
   "metadata": {},
   "outputs": [],
   "source": [
    "cosmx.cell.ids<-cosmx.syno$metadata %>% \n",
    "    subset(celltype.coarse %in% celltype) %>% \n",
    "    with(cellID)"
   ]
  },
  {
   "cell_type": "code",
   "execution_count": null,
   "metadata": {},
   "outputs": [],
   "source": [
    "rownames(cosmx.syno$metadata) <- cosmx.syno$metadata$cellID"
   ]
  },
  {
   "cell_type": "code",
   "execution_count": null,
   "metadata": {},
   "outputs": [],
   "source": [
    "cosmx.syno$metadata <- merge(cosmx.syno$metadata, sampleFOVcondition, all=FALSE)"
   ]
  },
  {
   "cell_type": "code",
   "execution_count": null,
   "metadata": {},
   "outputs": [],
   "source": [
    "cosmx.syno$metadata %>% subset(cellID %in% cell.ids) %>% head"
   ]
  },
  {
   "cell_type": "code",
   "execution_count": null,
   "metadata": {},
   "outputs": [],
   "source": [
    "cosmx.syno$metadata$SampleFOV <- paste0(cosmx.syno$metadata$Condition,\"_\",cosmx.syno$metadata$SampleFOV)"
   ]
  },
  {
   "cell_type": "code",
   "execution_count": null,
   "id": "0bc6bd74-9201-4b55-ab6a-b8c62d10b45f",
   "metadata": {},
   "outputs": [],
   "source": [
    "cosmx.syno$metadata %>% subset(cellID %in% cell.ids) %>% head"
   ]
  },
  {
   "cell_type": "code",
   "execution_count": null,
   "metadata": {},
   "outputs": [],
   "source": [
    "cosmx.syno$metadata$Experiment <- \"CosMx\""
   ]
  },
  {
   "cell_type": "code",
   "execution_count": null,
   "id": "e56dc994-e9a2-434f-925c-d866b9ad1f1c",
   "metadata": {},
   "outputs": [],
   "source": [
    "cosmx.myeloid<-list()\n",
    "cosmx.myeloid$counts<-cosmx.syno$counts[, cell.ids]\n",
    "cosmx.myeloid$metadata<-cosmx.syno$metadata %>% subset(cellID %in% cell.ids)"
   ]
  },
  {
   "cell_type": "code",
   "execution_count": null,
   "id": "40860630-8a6f-4666-ade9-abf4ab614240",
   "metadata": {},
   "outputs": [],
   "source": [
    "dimlist(cosmx.myeloid)"
   ]
  },
  {
   "cell_type": "code",
   "execution_count": null,
   "id": "9920f586-59fe-4987-bdc0-85c7e4c86f39",
   "metadata": {},
   "outputs": [],
   "source": [
    "all(cosmx.myeloid$metadata$cellID == colnames(cosmx.myeloid$counts))"
   ]
  },
  {
   "cell_type": "markdown",
   "id": "d53c2578-1a44-44fa-bcdf-d639107059bd",
   "metadata": {},
   "source": [
    "## now let us integrate"
   ]
  },
  {
   "cell_type": "code",
   "execution_count": null,
   "id": "4ef61276-76b3-4615-859a-c9bd05b88b9c",
   "metadata": {},
   "outputs": [],
   "source": [
    "genes_use<-rownames(sc.myeloid$counts)\n",
    "length(genes_use)"
   ]
  },
  {
   "cell_type": "code",
   "execution_count": null,
   "metadata": {},
   "outputs": [],
   "source": [
    "sc.myeloid$metadata"
   ]
  },
  {
   "cell_type": "code",
   "execution_count": null,
   "id": "62d98d52-3cc4-43d6-a2f5-8025ac4c7c43",
   "metadata": {},
   "outputs": [],
   "source": [
    "obj<-list()\n",
    "obj$counts<-cbind(cosmx.myeloid$counts[genes_use, ], sc.myeloid$counts[genes_use, ])\n",
    "obj$metadata<-dplyr::bind_rows(\n",
    "    list(\n",
    "        cosmx = cosmx.myeloid$metadata %>% \n",
    "            dplyr::select(cellID, SampleID, SampleFOV, celltype.coarse, Experiment),\n",
    "        sc = sc.myeloid$metadata %>% \n",
    "            dplyr::select(cellID, sample, cosmx.myeloid, cosmx400.myeloid, Experiment)\n",
    "    ),\n",
    "    .id = \"source\") %>% \n",
    "    mutate(\n",
    "        SampleID = if_else(SampleID %in% NA, sample, SampleID),\n",
    "        SampleFOV = if_else(\n",
    "            SampleFOV %in% NA, paste(SampleID, SampleFOV, sep = \"_\"), SampleFOV\n",
    "            )\n",
    "    ) \n"
   ]
  },
  {
   "cell_type": "code",
   "execution_count": null,
   "metadata": {},
   "outputs": [],
   "source": [
    "head(obj$metadata)"
   ]
  },
  {
   "cell_type": "code",
   "execution_count": null,
   "id": "6305d838-3f81-44e6-8c90-6bdc837895a2",
   "metadata": {},
   "outputs": [],
   "source": [
    "ngenes_qc<-3\n",
    "ncounts_qc<-7\n",
    "cells_qc<-colnames(QC_gcmat(obj$counts, gene_thresh = ngenes_qc, count_thresh = ncounts_qc)) \n",
    "norm_value<-median(c(\n",
    "    median(colSums(cosmx.myeloid$counts[genes_use, colnames(cosmx.myeloid$counts) %in% cells_qc])), \n",
    "    median(colSums(sc.myeloid$counts[genes_use, colnames(sc.myeloid$counts) %in% cells_qc])))\n",
    "    )\n",
    "\n",
    "norm_value"
   ]
  },
  {
   "cell_type": "code",
   "execution_count": null,
   "id": "767d6c3f-a452-4e5e-aaa8-d8ee258aaf38",
   "metadata": {},
   "outputs": [],
   "source": [
    "median(colSums(cosmx.myeloid$counts[genes_use, colnames(cosmx.myeloid$counts) %in% cells_qc]))\n",
    "median(colSums(sc.myeloid$counts[genes_use, colnames(sc.myeloid$counts) %in% cells_qc]))"
   ]
  },
  {
   "cell_type": "code",
   "execution_count": null,
   "id": "31cef3fc-5aa6-478f-bc68-8b52e39cf6fb",
   "metadata": {},
   "outputs": [],
   "source": [
    "batch<-c('source', 'SampleID', 'SampleFOV')\n",
    "cluster_res<-c(1.5, 2.5, 3.5)\n",
    "theta_harmony<-c(2, 0) \n",
    "sigma_harmony<-0.2\n",
    "system.time({\n",
    "    integrated.myeloid<-QC_harmony_pipeline(\n",
    "        obj, \n",
    "        ngenes_threshold = ngenes_qc, \n",
    "        ncounts_threshold = ncounts_qc, \n",
    "        normval = norm_value,\n",
    "        do_cluster_after = TRUE,\n",
    "        do_umap_after = TRUE,\n",
    "        resolution_clustering = cluster_res, \n",
    "        clustering_ncores = 10,\n",
    "        vars_use = batch,\n",
    "        theta = theta_harmony,\n",
    "        sigma = sigma_harmony,\n",
    "        max.iter.harmony = 12,\n",
    "        max.iter.cluster = 50,\n",
    "        return_object = TRUE\n",
    "    )\n",
    "\n",
    "    integrated.myeloid$sigma_harmony<-sigma_harmony\n",
    "    integrated.myeloid$vars_use<-batch\n",
    "    integrated.myeloid$theta_harmony<-theta_harmony    \n",
    "\n",
    "    })\n"
   ]
  },
  {
   "cell_type": "code",
   "execution_count": null,
   "id": "77ecd9ad-3a57-4978-8d19-1f4163c69bcc",
   "metadata": {},
   "outputs": [],
   "source": [
    "saveRDS(integrated.myeloid, \"./cache/new.integrated.myeloid.RDS\")"
   ]
  },
  {
   "cell_type": "code",
   "execution_count": null,
   "id": "b9ab3fc9-2dff-4632-a872-1d3993997c41",
   "metadata": {},
   "outputs": [],
   "source": [
    "graphics::plot(harmony:::HarmonyConvergencePlot(integrated.myeloid$Hobj))"
   ]
  },
  {
   "cell_type": "markdown",
   "id": "9d82eb01-c6bb-4692-a665-d5a5c63792ac",
   "metadata": {},
   "source": [
    "## load"
   ]
  },
  {
   "cell_type": "code",
   "execution_count": null,
   "id": "99f8d96a-9ca3-4906-b6cb-78942a03273c",
   "metadata": {},
   "outputs": [],
   "source": [
    "integrated.myeloid<-readRDS(\"./cache/new.integrated.myeloid.RDS\")"
   ]
  },
  {
   "cell_type": "code",
   "execution_count": null,
   "id": "890c4c0a-1d44-418b-bd36-60c455f15677",
   "metadata": {},
   "outputs": [],
   "source": [
    "dimlist(integrated.myeloid)"
   ]
  },
  {
   "cell_type": "markdown",
   "id": "25a04764-40d8-4cd7-b299-317e5b7c181a",
   "metadata": {},
   "source": [
    "# PCA"
   ]
  },
  {
   "cell_type": "code",
   "execution_count": null,
   "id": "bfeca061-742d-44a9-ae4c-4e3d68b9d147",
   "metadata": {},
   "outputs": [],
   "source": [
    "dimlist(integrated.myeloid)"
   ]
  },
  {
   "cell_type": "code",
   "execution_count": null,
   "id": "cbb6b730-a407-4031-81c0-0942fd2cd05a",
   "metadata": {},
   "outputs": [],
   "source": [
    "p_before<-plot_dim_red(integrated.myeloid$pca_res$embeddings, integrated.myeloid$Humap$clusters, integrated.myeloid$metadata, \"cellID\", \"SampleID\", \"PCA before Harmony\", \"PCA\")\n",
    "p_after<-plot_dim_red(integrated.myeloid$H, integrated.myeloid$Humap$clusters, integrated.myeloid$metadata, \"cellID\", \"SampleID\", \"PCA after Harmony\", \"PCA\")"
   ]
  },
  {
   "cell_type": "code",
   "execution_count": null,
   "id": "bf9af04b-298d-4451-a573-3d864af9d2fa",
   "metadata": {},
   "outputs": [],
   "source": [
    "fig.size(5, 20)\n",
    "p_before  | \n",
    "p_after "
   ]
  },
  {
   "cell_type": "code",
   "execution_count": null,
   "id": "76ef55db-556e-44bf-b469-f954d8a836dc",
   "metadata": {},
   "outputs": [],
   "source": [
    "p_before<-plot_dim_red(integrated.myeloid$pca_res$embeddings, integrated.myeloid$Humap$clusters, integrated.myeloid$metadata, \"cellID\", \"source\", \"PCA before Harmony\", \"PCA\")\n",
    "p_after<-plot_dim_red(integrated.myeloid$H, integrated.myeloid$Humap$clusters, integrated.myeloid$metadata, \"cellID\", \"source\", \"PCA after Harmony\", \"PCA\")"
   ]
  },
  {
   "cell_type": "code",
   "execution_count": null,
   "id": "6310c0ab-1cef-4ceb-9bfb-7bc59d0a122d",
   "metadata": {},
   "outputs": [],
   "source": [
    "fig.size(5, 15)\n",
    "p_before |\n",
    "p_after"
   ]
  },
  {
   "cell_type": "code",
   "execution_count": null,
   "id": "1fa88b20-5aa7-4314-8fbb-8b390c4ee485",
   "metadata": {},
   "outputs": [],
   "source": [
    "p_before<-plot_dim_red(integrated.myeloid$pca_res$embeddings, integrated.myeloid$Humap$clusters, integrated.myeloid$metadata, \"cellID\", \"cosmx400.myeloid\", \"PCA before Harmony\", \"PCA\")\n",
    "p_after<-plot_dim_red(integrated.myeloid$H, integrated.myeloid$Humap$clusters, integrated.myeloid$metadata, \"cellID\", \"cosmx400.myeloid\", \"PCA after Harmony\", \"PCA\")"
   ]
  },
  {
   "cell_type": "code",
   "execution_count": null,
   "id": "88a9f3d0-5e7d-43bb-b60c-ab99655f5c68",
   "metadata": {},
   "outputs": [],
   "source": [
    "fig.size(5, 20)\n",
    "p_before | \n",
    "p_after"
   ]
  },
  {
   "cell_type": "code",
   "execution_count": null,
   "id": "5c54e6d6-1661-4b38-8c4f-2701d9cdbea9",
   "metadata": {},
   "outputs": [],
   "source": [
    "fig.size(10, 20)\n",
    "p_after |\n",
    "p_after + facet_wrap(~ source)"
   ]
  },
  {
   "cell_type": "code",
   "execution_count": null,
   "id": "ac20f2ab-776a-4280-85eb-a4ec344b9195",
   "metadata": {},
   "outputs": [],
   "source": [
    "fig.size(10, 20)\n",
    "p_after |\n",
    "p_after + facet_wrap(~ source + color_col) "
   ]
  },
  {
   "cell_type": "markdown",
   "id": "8a4819c0-4757-4061-be72-0fefe6803258",
   "metadata": {},
   "source": [
    "# UMAP"
   ]
  },
  {
   "cell_type": "code",
   "execution_count": null,
   "id": "9ca6d7ce-1596-4362-9eca-91896235b7a6",
   "metadata": {},
   "outputs": [],
   "source": [
    "table(integrated.myeloid$metadata$source)"
   ]
  },
  {
   "cell_type": "markdown",
   "id": "95c5cec4-40ee-48eb-90a4-1a5f16bb8d54",
   "metadata": {},
   "source": [
    "## colored by Sample"
   ]
  },
  {
   "cell_type": "code",
   "execution_count": null,
   "metadata": {},
   "outputs": [],
   "source": [
    "p_before<-plot_dim_red(integrated.myeloid$umap$embedding, integrated.myeloid$Humap$clusters, integrated.myeloid$metadata, \"cellID\", \"SampleID\", \"UMAP before Harmony\", \"UMAP\")\n",
    "p_after<-plot_dim_red(integrated.myeloid$Humap$embedding, integrated.myeloid$Humap$clusters, integrated.myeloid$metadata, \"cellID\", \"SampleID\", \"UMAP after Harmony\", \"UMAP\")"
   ]
  },
  {
   "cell_type": "code",
   "execution_count": null,
   "metadata": {},
   "outputs": [],
   "source": [
    "fig.size(5, 20)\n",
    "p_before | \n",
    "p_after "
   ]
  },
  {
   "cell_type": "code",
   "execution_count": null,
   "metadata": {
    "scrolled": true
   },
   "outputs": [],
   "source": [
    "fig.size(5, 10)\n",
    "p_after "
   ]
  },
  {
   "cell_type": "code",
   "execution_count": null,
   "id": "26d0c7ca-f17d-4541-b448-a4ae5b24d9ae",
   "metadata": {},
   "outputs": [],
   "source": [
    "p_before<-plot_dim_red(integrated.myeloid$umap$embedding, integrated.myeloid$Humap$clusters, integrated.myeloid$metadata, \"cellID\", \"SampleFOV\", \"UMAP before Harmony\", \"UMAP\") + guides(color=FALSE)\n",
    "p_after<-plot_dim_red(integrated.myeloid$Humap$embedding, integrated.myeloid$Humap$clusters, integrated.myeloid$metadata, \"cellID\", \"SampleFOV\", \"UMAP after Harmony\", \"UMAP\")+ guides(color=FALSE)"
   ]
  },
  {
   "cell_type": "code",
   "execution_count": null,
   "id": "f59a13df-c95f-4307-a74a-f8c644360a99",
   "metadata": {},
   "outputs": [],
   "source": [
    "fig.size(5, 20)\n",
    "p_before | \n",
    "p_after "
   ]
  },
  {
   "cell_type": "code",
   "execution_count": null,
   "id": "d9bd8ffe-a4fd-43bc-a1dd-6a5b32706414",
   "metadata": {
    "scrolled": true
   },
   "outputs": [],
   "source": [
    "fig.size(5, 10)\n",
    "p_after "
   ]
  },
  {
   "cell_type": "code",
   "execution_count": null,
   "id": "298a421f-1172-4666-b06a-19d7a51676cc",
   "metadata": {},
   "outputs": [],
   "source": [
    "p_before<-plot_dim_red(integrated.myeloid$umap$embedding, integrated.myeloid$Humap$clusters, integrated.myeloid$metadata, \"cellID\", \"source\", \"UMAP before Harmony\", \"UMAP\")\n",
    "p_after<-plot_dim_red(integrated.myeloid$Humap$embedding, integrated.myeloid$Humap$clusters, integrated.myeloid$metadata, \"cellID\", \"source\", \"UMAP after Harmony\", \"UMAP\")"
   ]
  },
  {
   "cell_type": "code",
   "execution_count": null,
   "metadata": {},
   "outputs": [],
   "source": [
    "plot_dim_red"
   ]
  },
  {
   "cell_type": "code",
   "execution_count": null,
   "id": "a17063e8-7acd-4c39-b8ae-653edbff0590",
   "metadata": {},
   "outputs": [],
   "source": [
    "fig.size(5, 15)\n",
    "p_before | \n",
    "p_after "
   ]
  },
  {
   "cell_type": "code",
   "execution_count": null,
   "id": "9188eb22-0cb6-4728-ad37-d22854017952",
   "metadata": {},
   "outputs": [],
   "source": [
    "fig.size(5, 8)\n",
    "p_after + facet_wrap(~ color_col)"
   ]
  },
  {
   "cell_type": "markdown",
   "id": "0e74c8c6-66ee-4860-aac9-1303c0cc2daa",
   "metadata": {},
   "source": [
    "## colored by cell type"
   ]
  },
  {
   "cell_type": "code",
   "execution_count": null,
   "id": "97e3442b-35a6-4f7e-8dfb-ae6d9b7cdbe2",
   "metadata": {},
   "outputs": [],
   "source": [
    "p_before<-plot_dim_red(integrated.myeloid$umap$embedding, integrated.myeloid$Humap$clusters, integrated.myeloid$metadata, \"cellID\", \"cosmx400.myeloid\", \"UMAP before Harmony\", \"UMAP\")\n",
    "p_after<-plot_dim_red(integrated.myeloid$Humap$embedding, integrated.myeloid$Humap$clusters, integrated.myeloid$metadata, \"cellID\", \"cosmx400.myeloid\", \"UMAP after Harmony\", \"UMAP\")"
   ]
  },
  {
   "cell_type": "code",
   "execution_count": null,
   "id": "52d5b514-a670-45e2-ab55-d7ac1a70a63d",
   "metadata": {},
   "outputs": [],
   "source": [
    "fig.size(5, 20)\n",
    "p_before  | \n",
    "p_after "
   ]
  },
  {
   "cell_type": "code",
   "execution_count": null,
   "metadata": {},
   "outputs": [],
   "source": [
    "p_before<-plot_dim_red(integrated.myeloid$umap$embedding, integrated.myeloid$Humap$clusters, integrated.myeloid$metadata, \"cellID\", \"Experiment\", \"UMAP before Harmony\", \"UMAP\")\n",
    "p_after<-plot_dim_red(integrated.myeloid$Humap$embedding, integrated.myeloid$Humap$clusters, integrated.myeloid$metadata, \"cellID\", \"Experiment\", \"UMAP after Harmony\", \"UMAP\")"
   ]
  },
  {
   "cell_type": "code",
   "execution_count": null,
   "metadata": {},
   "outputs": [],
   "source": [
    "fig.size(5, 20)\n",
    "p_before  | \n",
    "p_after "
   ]
  },
  {
   "cell_type": "code",
   "execution_count": null,
   "id": "d6d91bb2-d07c-4a5e-9a0a-cc2081a46b02",
   "metadata": {},
   "outputs": [],
   "source": [
    "fig.size(5, 10) \n",
    "p_after<-plot_dim_red(\n",
    "    integrated.myeloid$Humap$embedding[integrated.myeloid$metadata %>% subset(source %in% \"sc\") %>% with(cellID), ],\n",
    "    metadata = integrated.myeloid$metadata %>% subset(source %in% \"sc\"),\n",
    "    cell_id_colname = \"cellID\",\n",
    "    color_by = \"cosmx400.myeloid\", \n",
    "    plot_title = \"UMAP of only single cell data\", \n",
    "    dim_red_type = \"UMAP\"\n",
    ")"
   ]
  },
  {
   "cell_type": "code",
   "execution_count": null,
   "id": "076e3501-3034-48bd-9745-9802f042d954",
   "metadata": {},
   "outputs": [],
   "source": [
    "fig.size(5, 10)\n",
    "p_after \n",
    "fig.size(10, 10)\n",
    "p_after + facet_wrap(~color_col)"
   ]
  },
  {
   "cell_type": "code",
   "execution_count": null,
   "id": "2bd849f6-e84f-41aa-be36-97166ac42dd5",
   "metadata": {},
   "outputs": [],
   "source": [
    "head(integrated.myeloid$Humap$clusters)"
   ]
  },
  {
   "cell_type": "markdown",
   "id": "a5bcc43b-4778-4850-a17b-0f4f191c738a",
   "metadata": {},
   "source": [
    "## colored by clust"
   ]
  },
  {
   "cell_type": "code",
   "execution_count": null,
   "id": "6ae41378-f812-450d-9907-0b76365b3cb9",
   "metadata": {},
   "outputs": [],
   "source": [
    "p<-plot_dim_red(\n",
    "    integrated.myeloid$Humap$embedding, \n",
    "    integrated.myeloid$Humap$clusters, \n",
    "    integrated.myeloid$metadata, \n",
    "    \"cellID\", \n",
    "    \"Clust2.5\", \n",
    "    \"UMAP after Harmony\", \n",
    "    \"UMAP\",\n",
    "    plot_labels = TRUE)\n",
    "fig.size(5, 20)\n",
    "p + facet_wrap(~ source)"
   ]
  },
  {
   "cell_type": "code",
   "execution_count": null,
   "metadata": {},
   "outputs": [],
   "source": [
    "p<-plot_dim_red(\n",
    "    integrated.myeloid$Humap$embedding, \n",
    "    integrated.myeloid$Humap$clusters, \n",
    "    integrated.myeloid$metadata, \n",
    "    \"cellID\", \n",
    "    \"Clust3.5\", \n",
    "    \"UMAP after Harmony\", \n",
    "    \"UMAP\",\n",
    "    plot_labels = TRUE)\n",
    "fig.size(5, 20)\n",
    "p + facet_wrap(~ source)"
   ]
  },
  {
   "cell_type": "code",
   "execution_count": null,
   "metadata": {},
   "outputs": [],
   "source": [
    "fig.size(30, 30)\n",
    "p + facet_wrap(~ color_col)"
   ]
  },
  {
   "cell_type": "markdown",
   "id": "6cffb3db-33fd-4fea-94af-b1b414da0994",
   "metadata": {
    "tags": []
   },
   "source": [
    "# annotation:\n",
    "1. Find correlations b/w sc named clusters and unnamed clusters"
   ]
  },
  {
   "cell_type": "code",
   "execution_count": null,
   "metadata": {},
   "outputs": [],
   "source": [
    "integrated.myeloid$metadata <- integrated.myeloid$metadata %>% \n",
    "    cbind(integrated.myeloid$Humap$clusters)"
   ]
  },
  {
   "cell_type": "code",
   "execution_count": null,
   "id": "9258d930-a2c2-40d3-b8aa-9ba240c3c350",
   "metadata": {},
   "outputs": [],
   "source": [
    "tail(integrated.myeloid$metadata)"
   ]
  },
  {
   "cell_type": "code",
   "execution_count": null,
   "id": "36432f2c-c78e-4889-a75e-e586683d6d7f",
   "metadata": {},
   "outputs": [],
   "source": [
    "integrated.myeloid$metadata$cosmx400.myeloid %>% unique"
   ]
  },
  {
   "cell_type": "code",
   "execution_count": null,
   "metadata": {},
   "outputs": [],
   "source": [
    "find_glmer_markers_amp"
   ]
  },
  {
   "cell_type": "code",
   "execution_count": null,
   "metadata": {},
   "outputs": [],
   "source": [
    "presto.presto <- function (formula, design, response, size_varname, features = NULL, \n",
    "    effects_cov = c(\"\"), ncore = 1, nsim = 100, family = \"poisson\", \n",
    "    min_sigma = 0, verbose = 0L) \n",
    "{\n",
    "    if (is.null(features)) {\n",
    "        features <- rownames(response)\n",
    "    }\n",
    "    if (family %in% c(\"poisson\", \"binomial\", \"nb\")) {\n",
    "        message(\"CAUTION: if using GLMM, make sure your counts are integers!\")\n",
    "    }\n",
    "    design$EXPOSURE <- design[[size_varname]]\n",
    "    fstr <- gsub(size_varname, \"EXPOSURE\", as.character(formula))\n",
    "    formula <- as.formula(sprintf(\"%s~%s\", fstr[[2]], fstr[[3]]), \n",
    "        env = .GlobalEnv)\n",
    "    if (verbose > 0) {\n",
    "        message(\"Set up models\")\n",
    "    }\n",
    "    model_base <- fit_model.presto(formula, design, response[features[[1]], \n",
    "        ], family)\n",
    "    priornames_df <- as.data.frame(VarCorr(model_base))[, 1:3]\n",
    "    if (isGLMM(model_base)) {\n",
    "        priornames_df <- rbind(priornames_df, tibble(grp = \"Residual\", \n",
    "            var1 = NA, var2 = NA))\n",
    "    }\n",
    "    has_offset <- !all(map_lgl(model_base@resp$offset, identical, \n",
    "        0))\n",
    "    betanames_df <- make_betanames_df(model_base, has_offset)\n",
    "    features <- intersect(features, rownames(response))\n",
    "    if (ncore == 1) {\n",
    "        future::plan(sequential)\n",
    "    }\n",
    "    else if (ncore %in% c(0, Inf)) {\n",
    "        ncore <- 15\n",
    "        future::plan(multisession)\n",
    "    }\n",
    "    else {\n",
    "        .ncore <<- 15\n",
    "        future::plan(future::multisession(workers = .ncore))\n",
    "        rm(.ncore)\n",
    "    }\n",
    "    if (verbose > 0) {\n",
    "        message(\"Learn the models\")\n",
    "    }\n",
    "    lres <- furrr::future_map(features, glmm_uni, formula, design, \n",
    "        response, effects_cov, family, nsim, has_offset, min_sigma)\n",
    "    names(lres) <- features\n",
    "    lres <- lres[which(purrr::map_lgl(as.integer(map_int(lres, \n",
    "        \"status\")), identical, 0L))]\n",
    "    if (verbose > 0) {\n",
    "        message(\"Aggregate the results\")\n",
    "    }\n",
    "    res <- collapse_lres(lres)\n",
    "    if (verbose > 0) {\n",
    "        message(\"Cleap up names\")\n",
    "    }\n",
    "    covmat_names <- tibble(grpvar_orig = rownames(res$covmat)) %>% \n",
    "        left_join(subset(betanames_df, term %in% c(\"(Intercept)\", \n",
    "            \"Fixed\"))) %>% dplyr::mutate(newname = case_when(is.na(grpvar) ~ \n",
    "        grpvar_orig, TRUE ~ as.character(glue::glue(\"{grpvar}.{grp}.{term}\")))) %>% \n",
    "        with(newname)\n",
    "    dimnames(res$covmat) <- list(covmat_names, covmat_names, \n",
    "        colnames(res$beta))\n",
    "    res$betanames_df <- betanames_df\n",
    "    res$priornames_df <- priornames_df\n",
    "    res$meta_data <- design\n",
    "    if (has_offset) {\n",
    "        res$design <- list(EXPOSURE = model_base@resp$offset, \n",
    "            t(model_base@pp$X), model_base@pp$Zt) %>% purrr::reduce(Matrix::rbind2)\n",
    "    }\n",
    "    else {\n",
    "        res$design <- list(t(model_base@pp$X), model_base@pp$Zt) %>% \n",
    "            purrr::reduce(Matrix::rbind2)\n",
    "    }\n",
    "    row.names(res$design) <- res$betanames_df$grp\n",
    "    res$response <- response[names(lres), ]\n",
    "    if (verbose > 0) {\n",
    "        message(\"Compute gene means\")\n",
    "    }\n",
    "    res <- genemeans.presto(res, xpm = 1e+06)\n",
    "    res$has_offset <- has_offset\n",
    "    res$family <- family\n",
    "    res$size_varname <- size_varname\n",
    "    res$nsim <- nsim\n",
    "    res$formula_str <- as.character(formula)\n",
    "    return(res)\n",
    "}"
   ]
  },
  {
   "cell_type": "code",
   "execution_count": null,
   "metadata": {},
   "outputs": [],
   "source": [
    "#These are internal functions i.e. unexported so we must access with :::\n",
    "collapse_vecs <- presto:::collapse_vecs\n",
    "collapse_mats <- presto:::collapse_mats\n",
    "collapse_lres <- presto:::collapse_lres"
   ]
  },
  {
   "cell_type": "code",
   "execution_count": null,
   "metadata": {},
   "outputs": [],
   "source": [
    "        future::plan(multisession)\n"
   ]
  },
  {
   "cell_type": "code",
   "execution_count": null,
   "id": "6a634fc4-3c3e-402f-92fb-084601ff4df0",
   "metadata": {
    "tags": []
   },
   "outputs": [],
   "source": [
    "cluster_col_name<-\"cosmx400.myeloid\"\n",
    "term_1<-paste0(\"1 + (1|\", cluster_col_name, \")\")\n",
    "term_2<-c(paste0(\"(1|\", cluster_col_name, \":SampleID)\"), paste0(\"(1|SampleID)\"), \"offset(logUMI)\")\n",
    "formula_glmer_input<-createFormula(\"y\", term_1, term_2)\n",
    "\n",
    "sc.cells.idx<-integrated.myeloid$metadata %>% subset(source %in% \"sc\") %>% with(cellID)\n",
    "effects_marginal_sc_ref<-find_glmer_markers_amp(\n",
    "    integrated.myeloid$counts[, colnames(integrated.myeloid$counts) %in% sc.cells.idx],\n",
    "    integrated.myeloid$metadata %>% subset(cellID %in% sc.cells.idx),\n",
    "    formula_glmer_input, \n",
    "    cluster_col_name, \n",
    "    c(\"SampleID\", cluster_col_name) \n",
    ")"
   ]
  },
  {
   "cell_type": "code",
   "execution_count": null,
   "id": "5e56ee38-aec2-4caa-bc6a-1d435d767033",
   "metadata": {
    "tags": []
   },
   "outputs": [],
   "source": [
    "cluster_col_name<-\"Clust3.5\"\n",
    "term_1<-paste0(\"1 + (1|\", cluster_col_name, \")\")\n",
    "term_2<-c(paste0(\"(1|\", cluster_col_name, \":SampleID)\"), paste0(\"(1|SampleID)\"), \"offset(logUMI)\")\n",
    "formula_glmer_input<-createFormula(\"y\", term_1, term_2)\n",
    "\n",
    "sc.cells.idx<-integrated.myeloid$metadata %>% subset(source %in% \"sc\") %>% with(cellID)\n",
    "effects_marginal_sc_clust<-find_glmer_markers_amp(\n",
    "    integrated.myeloid$counts[, colnames(integrated.myeloid$counts) %in% sc.cells.idx],\n",
    "    integrated.myeloid$metadata %>% cbind(integrated.myeloid$Humap$clusters) %>% subset(cellID %in% sc.cells.idx),\n",
    "    formula_glmer_input, \n",
    "    cluster_col_name, \n",
    "    c(\"SampleID\", cluster_col_name) \n",
    ")"
   ]
  },
  {
   "cell_type": "code",
   "execution_count": null,
   "metadata": {},
   "outputs": [],
   "source": [
    "head(integrated.myeloid$metadata)"
   ]
  },
  {
   "cell_type": "code",
   "execution_count": null,
   "id": "87a3f1f5-4d62-4440-b8bf-9ec5cc3130bd",
   "metadata": {},
   "outputs": [],
   "source": [
    "genes_use_corr<-rbind(effects_marginal_sc_ref, effects_marginal_sc_clust) %>% \n",
    "    subset(abs(logFC) > 0.5 & pvalue < 0.05) %>% \n",
    "    with(feature) %>% \n",
    "    unique\n",
    "corr_mat_sc<-rbind(effects_marginal_sc_ref, effects_marginal_sc_clust) %>% \n",
    "    subset(feature %in% genes_use_corr) %>% \n",
    "    dplyr::select(contrast, feature, logFC) %>% \n",
    "    spread(contrast, logFC, fill = NA) %>% \n",
    "    column_to_rownames(\"feature\") %>% \n",
    "    as.matrix %>% \n",
    "    cor "
   ]
  },
  {
   "cell_type": "code",
   "execution_count": null,
   "id": "a144ace8-d1e8-432e-bb72-c623828454db",
   "metadata": {},
   "outputs": [],
   "source": [
    "sc_clust_names<-effects_marginal_sc_ref %>% with(contrast) %>% unique\n",
    "\n",
    ".mat<-corr_mat_sc[sc_clust_names, ]\n",
    "h<-.mat %>% \n",
    "    Heatmap(\n",
    "        name = 'logFC',\n",
    "        col = circlize::colorRamp2(c(-1, 0.1, 1), c(muted(\"blue\"), \"white\", \"red\")),\n",
    "        width = ncol(.mat)*unit(5, \"mm\"), \n",
    "        height = nrow(.mat)*unit(5, \"mm\"),\n",
    "        column_names_gp = grid::gpar(fontsize = 10),\n",
    "        row_names_gp = grid::gpar(fontsize = 10),\n",
    "        column_title = stringr::str_wrap(\"Marker correlations b/w cosmx clusters and sc reference labels\", 35),\n",
    "        column_title_gp= grid::gpar(fontsize = 15),\n",
    "        row_dend_side = \"right\",\n",
    "        heatmap_legend_param = list(\n",
    "            legend_direction = \"horizontal\", \n",
    "            legend_width = unit(6, \"cm\")\n",
    "        ),\n",
    "        use_raster = TRUE\n",
    "        \n",
    ")\n",
    "\n",
    "fig.size(7, 12)\n",
    "draw(h, heatmap_legend_side = \"left\")"
   ]
  },
  {
   "cell_type": "code",
   "execution_count": null,
   "metadata": {},
   "outputs": [],
   "source": [
    "integrated.myeloid$metadata %>% \n",
    "    cbind(integrated.myeloid$Humap$clusters) %>% \n",
    "    subset(source %in% \"sc\") %>% \n",
    "    with(table(cosmx400.myeloid, Clust3.5)) %>% \n",
    "    prop.table(1) %>% \n",
    "    prop.table(2)"
   ]
  },
  {
   "cell_type": "markdown",
   "id": "719bf30a-9077-4218-a209-8b1e73bb92c0",
   "metadata": {},
   "source": [
    "### Confusion matrix"
   ]
  },
  {
   "cell_type": "code",
   "execution_count": null,
   "id": "6d9f3c6b-144d-4c0a-bf11-b5df4491b72f",
   "metadata": {},
   "outputs": [],
   "source": [
    "h<-integrated.myeloid$metadata %>% \n",
    "    cbind(integrated.myeloid$Humap$clusters) %>% \n",
    "    subset(source %in% \"sc\") %>% \n",
    "    with(table(cosmx400.myeloid, Clust3.5)) %>% \n",
    "    prop.table(1) %>% \n",
    "    prop.table(2) %>% \n",
    "    Heatmap(\n",
    "        name = \"Freq\",\n",
    "        column_title = stringr::str_wrap(\"Confusion matrix of unnamed sc cells vs sc reference annotations\", width = 35),\n",
    "        width = ncol(18)*unit(5, \"mm\"), \n",
    "        height = nrow(.mat)*unit(5, \"mm\"),\n",
    "        # row_dend_side = \"right\",\n",
    "        heatmap_legend_param = list(\n",
    "            legend_direction = \"horizontal\", \n",
    "            legend_width = unit(6, \"cm\")\n",
    "        )\n",
    "    )\n",
    "fig.size(7, 12)\n",
    "draw(h, heatmap_legend_side = \"bottom\")"
   ]
  },
  {
   "cell_type": "code",
   "execution_count": null,
   "metadata": {},
   "outputs": [],
   "source": [
    "top20 <- effects_marginal_sc_clust %>% group_by(contrast) %>% slice_max(n = 20, order_by = logFC)"
   ]
  },
  {
   "cell_type": "code",
   "execution_count": null,
   "metadata": {},
   "outputs": [],
   "source": [
    "unique(top20$contrast)"
   ]
  },
  {
   "cell_type": "code",
   "execution_count": null,
   "metadata": {},
   "outputs": [],
   "source": [
    "top20[top20$contrast==\"16\",]"
   ]
  },
  {
   "cell_type": "markdown",
   "metadata": {},
   "source": [
    "## Subset and recluster"
   ]
  },
  {
   "cell_type": "code",
   "execution_count": null,
   "metadata": {},
   "outputs": [],
   "source": [
    "subclustering <- subcluster_cells(integrated.myeloid$counts, integrated.myeloid$metadata, integrated.myeloid$Humap$snn, \n",
    "                             \"Clust3.5\", 4, c(0.2,0.4))"
   ]
  },
  {
   "cell_type": "code",
   "execution_count": null,
   "metadata": {},
   "outputs": [],
   "source": [
    "head(subclustering)"
   ]
  },
  {
   "cell_type": "code",
   "execution_count": null,
   "metadata": {},
   "outputs": [],
   "source": [
    "merge_clusters"
   ]
  },
  {
   "cell_type": "code",
   "execution_count": null,
   "metadata": {},
   "outputs": [],
   "source": [
    "head(integrated.myeloid$metadata)"
   ]
  },
  {
   "cell_type": "code",
   "execution_count": null,
   "metadata": {},
   "outputs": [],
   "source": [
    "merged.clusters <- merge_clusters(integrated.myeloid$metadata, subclustering, \"Clust3.5\", subclustering[[1]]$)"
   ]
  },
  {
   "cell_type": "code",
   "execution_count": null,
   "metadata": {},
   "outputs": [],
   "source": [
    "integrated.myeloid$metadata <- merged.clusters"
   ]
  },
  {
   "cell_type": "code",
   "execution_count": null,
   "metadata": {
    "scrolled": true
   },
   "outputs": [],
   "source": [
    "head(merged.clusters)"
   ]
  },
  {
   "cell_type": "code",
   "execution_count": null,
   "metadata": {},
   "outputs": [],
   "source": [
    "subclustering <- subcluster_cells(integrated.myeloid$counts, integrated.myeloid$metadata, integrated.myeloid$Humap$snn, \n",
    "                             \"Clust3.5\", 19, 0.4)"
   ]
  },
  {
   "cell_type": "code",
   "execution_count": null,
   "metadata": {},
   "outputs": [],
   "source": [
    "subclustering"
   ]
  },
  {
   "cell_type": "code",
   "execution_count": null,
   "metadata": {},
   "outputs": [],
   "source": [
    "merged.clusters <- merge_clusters(integrated.myeloid$metadata, subclustering, \"Clust3.5\", \"Clust0.4\")"
   ]
  },
  {
   "cell_type": "code",
   "execution_count": null,
   "metadata": {},
   "outputs": [],
   "source": [
    "integrated.myeloid$metadata <- merged.clusters"
   ]
  },
  {
   "cell_type": "code",
   "execution_count": null,
   "metadata": {
    "scrolled": true
   },
   "outputs": [],
   "source": [
    "head(merged.clusters)"
   ]
  },
  {
   "cell_type": "code",
   "execution_count": null,
   "metadata": {},
   "outputs": [],
   "source": [
    "subclustering <- subcluster_cells(integrated.myeloid$counts, integrated.myeloid$metadata, integrated.myeloid$Humap$snn, \n",
    "                             \"Clust3.5\", 30, c(0.2))"
   ]
  },
  {
   "cell_type": "code",
   "execution_count": null,
   "metadata": {},
   "outputs": [],
   "source": [
    "subclustering"
   ]
  },
  {
   "cell_type": "code",
   "execution_count": null,
   "metadata": {},
   "outputs": [],
   "source": [
    "head(integrated.myeloid$metadata)"
   ]
  },
  {
   "cell_type": "code",
   "execution_count": null,
   "metadata": {},
   "outputs": [],
   "source": [
    "merged.clusters <- merge_clusters(integrated.myeloid$metadata, subclustering, \"Clust3.5\", \"Clust0.2\")"
   ]
  },
  {
   "cell_type": "code",
   "execution_count": null,
   "metadata": {},
   "outputs": [],
   "source": [
    "integrated.myeloid$metadata <- merged.clusters"
   ]
  },
  {
   "cell_type": "code",
   "execution_count": null,
   "metadata": {
    "scrolled": true
   },
   "outputs": [],
   "source": [
    "head(merged.clusters)"
   ]
  },
  {
   "cell_type": "code",
   "execution_count": null,
   "metadata": {},
   "outputs": [],
   "source": [
    "plot1 <- plot_dim_red(\n",
    "        dim_red_embeddings = integrated.myeloid$Humap$embedding,\n",
    "        metadata = integrated.myeloid$metadata, \n",
    "        cell_id_colname = \"cellID\",\n",
    "        color_by = \"Clust3.5\",\n",
    "        plot_title = paste0(\"UMAP after Harmony colored by celltype - \", integrated.myeloid$source[1], \" genes\"),\n",
    "        dim_red_type = \"UMAP\"\n",
    "    )"
   ]
  },
  {
   "cell_type": "code",
   "execution_count": null,
   "metadata": {},
   "outputs": [],
   "source": [
    "fig.size(7,20)\n",
    "plot1"
   ]
  },
  {
   "cell_type": "code",
   "execution_count": null,
   "metadata": {},
   "outputs": [],
   "source": [
    "fig.size(10, 20)\n",
    "plot1 + facet_wrap(~ color_col)"
   ]
  },
  {
   "cell_type": "code",
   "execution_count": null,
   "metadata": {},
   "outputs": [],
   "source": [
    "h<-integrated.myeloid$metadata %>% \n",
    "    cbind(integrated.myeloid$Humap$clusters) %>% \n",
    "    subset(source %in% \"sc\") %>% \n",
    "    with(table(cosmx400.myeloid, Clust3.5)) %>% \n",
    "    prop.table(1) %>% \n",
    "    prop.table(2) %>% \n",
    "    Heatmap(\n",
    "        name = \"Freq\",\n",
    "        column_title = stringr::str_wrap(\"Confusion matrix of unnamed sc cells vs sc reference annotations\", width = 35),\n",
    "        width = 40*unit(5, \"mm\"), \n",
    "        height = 20*unit(5, \"mm\"),\n",
    "        # row_dend_side = \"right\",\n",
    "        heatmap_legend_param = list(\n",
    "            legend_direction = \"horizontal\", \n",
    "            legend_width = unit(6, \"cm\")\n",
    "        )\n",
    "    )\n",
    "fig.size(7, 12)\n",
    "draw(h, heatmap_legend_side = \"bottom\")"
   ]
  },
  {
   "cell_type": "code",
   "execution_count": null,
   "metadata": {
    "tags": []
   },
   "outputs": [],
   "source": [
    "cluster_col_name<-\"cosmx400.myeloid\"\n",
    "term_1<-paste0(\"1 + (1|\", cluster_col_name, \")\")\n",
    "term_2<-c(paste0(\"(1|\", cluster_col_name, \":SampleID)\"), paste0(\"(1|SampleID)\"), \"offset(logUMI)\")\n",
    "formula_glmer_input<-createFormula(\"y\", term_1, term_2)\n",
    "\n",
    "sc.cells.idx<-integrated.myeloid$metadata %>% subset(source %in% \"sc\") %>% with(cellID)\n",
    "effects_marginal_sc_ref<-find_glmer_markers_amp(\n",
    "    integrated.myeloid$counts[, colnames(integrated.myeloid$counts) %in% sc.cells.idx],\n",
    "    integrated.myeloid$metadata %>% subset(cellID %in% sc.cells.idx),\n",
    "    formula_glmer_input, \n",
    "    cluster_col_name, \n",
    "    c(\"SampleID\", cluster_col_name) \n",
    ")"
   ]
  },
  {
   "cell_type": "code",
   "execution_count": null,
   "metadata": {
    "tags": []
   },
   "outputs": [],
   "source": [
    "cluster_col_name<-\"Clust3.5\"\n",
    "term_1<-paste0(\"1 + (1|\", cluster_col_name, \")\")\n",
    "term_2<-c(paste0(\"(1|\", cluster_col_name, \":SampleID)\"), paste0(\"(1|SampleID)\"), \"offset(logUMI)\")\n",
    "formula_glmer_input<-createFormula(\"y\", term_1, term_2)\n",
    "\n",
    "sc.cells.idx<-integrated.myeloid$metadata %>% subset(source %in% \"sc\") %>% with(cellID)\n",
    "effects_marginal_sc_clust<-find_glmer_markers_amp(\n",
    "    integrated.myeloid$counts[, colnames(integrated.myeloid$counts) %in% sc.cells.idx],\n",
    "    integrated.myeloid$metadata %>% cbind(integrated.myeloid$Humap$clusters) %>% subset(cellID %in% sc.cells.idx),\n",
    "    formula_glmer_input, \n",
    "    cluster_col_name, \n",
    "    c(\"SampleID\", cluster_col_name) \n",
    ")"
   ]
  },
  {
   "cell_type": "code",
   "execution_count": null,
   "metadata": {},
   "outputs": [],
   "source": [
    "head(integrated.myeloid$metadata)"
   ]
  },
  {
   "cell_type": "code",
   "execution_count": null,
   "metadata": {},
   "outputs": [],
   "source": [
    "genes_use_corr<-rbind(effects_marginal_sc_ref, effects_marginal_sc_clust) %>% \n",
    "    subset(abs(logFC) > 0.5 & pvalue < 0.05) %>% \n",
    "    with(feature) %>% \n",
    "    unique\n",
    "corr_mat_sc<-rbind(effects_marginal_sc_ref, effects_marginal_sc_clust) %>% \n",
    "    subset(feature %in% genes_use_corr) %>% \n",
    "    dplyr::select(contrast, feature, logFC) %>% \n",
    "    spread(contrast, logFC, fill = NA) %>% \n",
    "    column_to_rownames(\"feature\") %>% \n",
    "    as.matrix %>% \n",
    "    cor "
   ]
  },
  {
   "cell_type": "code",
   "execution_count": null,
   "metadata": {},
   "outputs": [],
   "source": [
    "top20 <- effects_marginal_cosmx %>% group_by(contrast) %>% slice_max(n = 20, order_by = logFC)"
   ]
  },
  {
   "cell_type": "code",
   "execution_count": null,
   "metadata": {},
   "outputs": [],
   "source": [
    "top20[top20$contrast==\"10\",]"
   ]
  },
  {
   "cell_type": "code",
   "execution_count": null,
   "metadata": {},
   "outputs": [],
   "source": [
    "sc_clust_names<-effects_marginal_sc_ref %>% with(contrast) %>% unique\n",
    "\n",
    ".mat<-corr_mat_sc[sc_clust_names, ]\n",
    "h<-.mat %>% \n",
    "    Heatmap(\n",
    "        name = 'logFC',\n",
    "        col = circlize::colorRamp2(c(-1, 0.1, 1), c(muted(\"blue\"), \"white\", \"red\")),\n",
    "        width = ncol(.mat)*unit(5, \"mm\"), \n",
    "        height = nrow(.mat)*unit(5, \"mm\"),\n",
    "        column_names_gp = grid::gpar(fontsize = 10),\n",
    "        row_names_gp = grid::gpar(fontsize = 10),\n",
    "        column_title = stringr::str_wrap(\"Marker correlations b/w cosmx clusters and sc reference labels\", 35),\n",
    "        column_title_gp= grid::gpar(fontsize = 15),\n",
    "        row_dend_side = \"right\",\n",
    "        heatmap_legend_param = list(\n",
    "            legend_direction = \"horizontal\", \n",
    "            legend_width = unit(6, \"cm\")\n",
    "        ),\n",
    "        use_raster = TRUE\n",
    "        \n",
    ")\n",
    "\n",
    "fig.size(7, 12)\n",
    "draw(h, heatmap_legend_side = \"left\")"
   ]
  },
  {
   "cell_type": "markdown",
   "id": "5ec26b57-d373-4449-9813-562cbd653faa",
   "metadata": {},
   "source": [
    "## Fractions of cells from different sources in each cluster"
   ]
  },
  {
   "cell_type": "code",
   "execution_count": null,
   "id": "0b2376e4-bb7d-490f-bbf0-a6f8bea04ff6",
   "metadata": {},
   "outputs": [],
   "source": [
    "integrated.myeloid$metadata %>% \n",
    "    with(table(Clust3.5, source)) %>% \n",
    "    as.data.frame %>% \n",
    "    mutate(Clust3.5 = as.character(Clust3.5)) %>% \n",
    "    spread(source, Freq) %>% \n",
    "    rename_at(vars(-Clust3.5), ~ paste0(\"ncells_\", .x)) %>% \n",
    "    mutate(\n",
    "        Freq_sc = ncells_sc/(ncells_sc + ncells_cosmx),\n",
    "        Freq_cosmx = ncells_cosmx/(ncells_sc + ncells_cosmx)\n",
    "    ) "
   ]
  },
  {
   "cell_type": "code",
   "execution_count": null,
   "metadata": {},
   "outputs": [],
   "source": [
    "mat_ann<-t(.mat)\n",
    "annotations_sc<-data.frame(cluster = rownames(mat_ann), type_harmony = colnames(mat_ann)[max.col(mat_ann)])"
   ]
  },
  {
   "cell_type": "code",
   "execution_count": null,
   "metadata": {},
   "outputs": [],
   "source": [
    "annotations_sc"
   ]
  },
  {
   "cell_type": "code",
   "execution_count": null,
   "id": "22348c31-3d83-4389-82eb-9c645271ec3e",
   "metadata": {},
   "outputs": [],
   "source": [
    "fig.size(5, 20)\n",
    "integrated.myeloid$metadata %>% \n",
    "    with(table(Clust3.5, source)) %>% \n",
    "    as.data.frame %>% \n",
    "    mutate(Clust3.5 = as.character(Clust3.5)) %>% # converting to char so that o\n",
    "    spread(source, Freq) %>% \n",
    "    rename_at(vars(-Clust3.5), ~ paste0(\"ncells_\", .x)) %>% \n",
    "    mutate(\n",
    "        Freq_sc = ncells_sc/(ncells_sc + ncells_cosmx),\n",
    "        Freq_cosmx = ncells_cosmx/(ncells_sc + ncells_cosmx)\n",
    "    ) %>% \n",
    "    mutate(across(where(is.numeric), ~round(.x, 2))) %>% \n",
    "    gather(source, Freq, -c(Clust3.5, starts_with(\"ncells\"))) %>% \n",
    "    # mutate(Clust1.5 = as.numeric(Clust1.5)) %>%\n",
    "    dplyr::arrange(Clust3.5) %>% \n",
    "    ggplot() + \n",
    "        geom_col(aes(factor(Clust3.5), Freq, fill = source)) + \n",
    "        scale_fill_tableau() + \n",
    "        ggtitle(\"Fraction of cells from different technologies in each cluster\") +\n",
    "        theme(plot.title = element_textbox_simple()) + \n",
    "        NULL"
   ]
  },
  {
   "cell_type": "code",
   "execution_count": null,
   "metadata": {},
   "outputs": [],
   "source": [
    "availableCores()"
   ]
  },
  {
   "cell_type": "code",
   "execution_count": null,
   "id": "595080a6-4695-4ecc-b648-8d0fa52263b9",
   "metadata": {},
   "outputs": [],
   "source": [
    "annotations_sc %>%  \n",
    "    arrange(type_harmony) %>% \n",
    "    group_by(type_harmony) %>% \n",
    "    summarise(clusters = paste(cluster, collapse = \"_\"))"
   ]
  },
  {
   "cell_type": "code",
   "execution_count": null,
   "id": "73269923-6e48-4f21-83ad-b23bc097ccc6",
   "metadata": {},
   "outputs": [],
   "source": [
    "annotations_sc"
   ]
  },
  {
   "cell_type": "code",
   "execution_count": null,
   "metadata": {},
   "outputs": [],
   "source": [
    "manual.anno.clust <- c(\"0\" = \"unmapped_0\",\n",
    "\"1\" = \"SPP1+ STM\",\n",
    "\"2\" = \"unmapped_2\",\n",
    "\"3\" = \"FOLR2highCLEC10A+ STM\",\n",
    "\"4_0\" = \"CD14highS100A12+ monoSTM\",\n",
    "\"4_1\" = \"CD14highS100A12+ monoSTM\",\n",
    "\"4_2\" = \"iDC3 CD14highCD163+\",\n",
    "\"5\" = \"iDC3 CD14highCD163+\",\n",
    "\"6\" = \"TREM2+LPL+ STM_6\",\n",
    "\"7\" = \"TNF+ICAM1+ STM\",\n",
    "\"8\" = \"DC2 CD1c+_doublet\",\n",
    "\"9\" = \"unmapped_9\",\n",
    "\"10\" = \"TREM2+ STM_10\",\n",
    "\"11\" = \"unmapped_11\",\n",
    "\"12\" = \"DC3 CD1clowCD163+\",\n",
    "\"13\" = \"unmapped_13\",\n",
    "\"14\" = \"SPP1+TREM2low STM\",\n",
    "\"15\" = \"ISG15+CXCL10+ STM\",\n",
    "\"16\" = \"FOLR2highLYVE1+ STM_16\",\n",
    "\"17\" = \"TREM2+LPL+ STM_17\",\n",
    "\"18\" = \"TREM2+ STM_18\",\n",
    "\"19_0\" = \"DC2 CD1c+\",\n",
    "\"19_1\" = \"DC2 CD1c+\",\n",
    "\"19_2\" = \"DC2 CCR7+\",\n",
    "\"20\" = \"FOLR2highEGR1+ STM\",\n",
    "\"21\" = \"SPP1+ STM\",\n",
    "\"22\" = \"BIRC5+ cycling STM\",\n",
    "\"23\" = \"FOLR2highCLEC10A+ STM\",\n",
    "\"24\" = \"FOLR2highLYVE1+ STM_24\",\n",
    "\"25\" = \"CLEC10A+ATF3+ STM\",\n",
    "\"26\" = \"DC3 CD1clowCD163+\",\n",
    "\"27\" = \"FOLR2highLYVE1+ STM_27\",\n",
    "\"28\" = \"unmapped_28\",\n",
    "\"29\" = \"TREM2+LPL+ STM_29\",\n",
    "\"30_1\" = \"DC1 CLEC9A+\",\n",
    "\"30_0\" = \"DC2 CCR7+\",\n",
    "\"31\" = \"TREM2+LPL+ STM_31\",\n",
    "\"32\" = \"unmapped_32\",\n",
    "\"33\" = \"FCGR3A+ monoSTM\",\n",
    "\"34\" = \"BIRC5+ cycling STM\",\n",
    "\"35\" = \"unmapped_35\")"
   ]
  },
  {
   "cell_type": "code",
   "execution_count": null,
   "metadata": {},
   "outputs": [],
   "source": [
    "manual.anno <- c(\"0\" = \"unmapped_0\",\n",
    "\"1\" = \"SPP1+ STM\",\n",
    "\"2\" = \"unmapped_2\",\n",
    "\"3\" = \"FOLR2highCLEC10A+ STM\",\n",
    "\"4_0\" = \"CD14highS100A12+ monoSTM\",\n",
    "\"4_1\" = \"CD14highS100A12+ monoSTM\",\n",
    "\"4_2\" = \"iDC3 CD14highCD163+\",\n",
    "\"5\" = \"iDC3 CD14highCD163+\",\n",
    "\"6\" = \"TREM2+LPL+ STM\",\n",
    "\"7\" = \"TNF+ICAM1+ STM\",\n",
    "\"8\" = \"DC2 CD1c+\",\n",
    "\"9\" = \"unmapped_9\",\n",
    "\"10\" = \"TREM2+ STM\",\n",
    "\"11\" = \"unmapped_11\",\n",
    "\"12\" = \"DC3 CD1clowCD163+\",\n",
    "\"13\" = \"unmapped_13\",\n",
    "\"14\" = \"SPP1+TREM2low STM\",\n",
    "\"15\" = \"ISG15+CXCL10+ STM\",\n",
    "\"16\" = \"FOLR2highLYVE1+ STM\",\n",
    "\"17\" = \"TREM2+LPL+ STM\",\n",
    "\"18\" = \"TREM2+ STM\",\n",
    "\"19_0\" = \"DC2 CD1c+\",\n",
    "\"19_1\" = \"DC2 CD1c+\",\n",
    "\"19_2\" = \"DC2 CD1c+CCR7+\",\n",
    "\"20\" = \"FOLR2highEGR1+ STM\",\n",
    "\"21\" = \"SPP1+ STM\",\n",
    "\"22\" = \"BIRC5+ cycling STM\",\n",
    "\"23\" = \"FOLR2highCLEC10A+ STM\",\n",
    "\"24\" = \"FOLR2highLYVE1+ STM\",\n",
    "\"25\" = \"CLEC10A+ATF3+ STM\",\n",
    "\"26\" = \"DC3 CD1clowCD163+\",\n",
    "\"27\" = \"FOLR2highLYVE1+ STM\",\n",
    "\"28\" = \"unmapped_28\",\n",
    "\"29\" = \"TREM2+LPL+ STM\",\n",
    "\"30_1\" = \"DC1 CLEC9A+\",\n",
    "\"30_0\" = \"DC2 CD1c+CCR7+\",\n",
    "\"31\" = \"TREM2+LPL+ STM\",\n",
    "\"32\" = \"unmapped_32\",\n",
    "\"33\" = \"FCGR3A+ monoSTM\",\n",
    "\"34\" = \"BIRC5+ cycling STM\",\n",
    "\"35\" = \"unmapped_35\")"
   ]
  },
  {
   "cell_type": "markdown",
   "id": "d3fe2820-3dfe-4859-b8d1-5b7886d1b75a",
   "metadata": {},
   "source": [
    "# transfer labels"
   ]
  },
  {
   "cell_type": "code",
   "execution_count": null,
   "metadata": {},
   "outputs": [],
   "source": [
    "integrated.myeloid$metadata$type_harmony <- plyr::revalue(as.character(integrated.myeloid$metadata$Clust3.5),\n",
    "                        manual.anno)"
   ]
  },
  {
   "cell_type": "code",
   "execution_count": null,
   "metadata": {},
   "outputs": [],
   "source": [
    "integrated.myeloid$metadata$type_harmony_clust <- plyr::revalue(as.character(integrated.myeloid$metadata$Clust3.5),\n",
    "                        manual.anno.clust)"
   ]
  },
  {
   "cell_type": "code",
   "execution_count": null,
   "metadata": {},
   "outputs": [],
   "source": [
    "`%notin%` <- Negate(`%in%`)"
   ]
  },
  {
   "cell_type": "code",
   "execution_count": null,
   "id": "67985529-8d02-44ec-bf78-f7ee152a00d5",
   "metadata": {},
   "outputs": [],
   "source": [
    "unique(integrated.myeloid$metadata$type_harmony)"
   ]
  },
  {
   "cell_type": "code",
   "execution_count": null,
   "id": "232ee5a1-2d91-4508-9c46-6a613a55f270",
   "metadata": {},
   "outputs": [],
   "source": [
    "p<-plot_dim_red(\n",
    "    integrated.myeloid$Humap$embedding,  \n",
    "    clusters = NULL,\n",
    "    integrated.myeloid$metadata, \n",
    "    \"cellID\", \n",
    "    color_by = \"type_harmony\", \n",
    "    \"UMAP after Harmony\", \n",
    "    \"UMAP\"\n",
    ")"
   ]
  },
  {
   "cell_type": "code",
   "execution_count": null,
   "metadata": {},
   "outputs": [],
   "source": [
    "fig.size(5, 15)\n",
    "p"
   ]
  },
  {
   "cell_type": "code",
   "execution_count": null,
   "id": "f7460f56-7b39-4aea-b38c-454773d5a284",
   "metadata": {},
   "outputs": [],
   "source": [
    "fig.size(5, 12)\n",
    "p + facet_wrap(~ source)"
   ]
  },
  {
   "cell_type": "code",
   "execution_count": null,
   "metadata": {
    "scrolled": true
   },
   "outputs": [],
   "source": [
    "fig.size(30, 30)\n",
    "p + facet_wrap(~ color_col)"
   ]
  },
  {
   "cell_type": "markdown",
   "id": "9d5abbc5-aa27-4315-b814-13a88211f8be",
   "metadata": {},
   "source": [
    "## correlations b/w sc reference and newly annotated cosmx cells"
   ]
  },
  {
   "cell_type": "code",
   "execution_count": null,
   "id": "6820d5c6-a02d-47de-b1a6-02a132a4f90d",
   "metadata": {},
   "outputs": [],
   "source": [
    "integrated.myeloid$metadata<-integrated.myeloid$metadata %>% \n",
    "    separate(SampleFOV, c(\"SampleID\", \"FOV\"), remove = FALSE, sep=\"_(?=[^_]+$)\")"
   ]
  },
  {
   "cell_type": "code",
   "execution_count": null,
   "metadata": {},
   "outputs": [],
   "source": [
    "integrated.myeloid$metadata<-integrated.myeloid$metadata %>% \n",
    "    cbind(integrated.myeloid$Humap$clusters)"
   ]
  },
  {
   "cell_type": "code",
   "execution_count": null,
   "metadata": {},
   "outputs": [],
   "source": [
    "colnames(integrated.myeloid$metadata)"
   ]
  },
  {
   "cell_type": "code",
   "execution_count": null,
   "id": "27293687-ab58-4d95-a992-183745f8a83a",
   "metadata": {},
   "outputs": [],
   "source": [
    "cluster_col_name<-\"Clust3.5\"\n",
    "term_1<-paste0(\"1 + (1|\", cluster_col_name, \")\")\n",
    "term_2<-c(paste0(\"(1|SampleFOV/\", cluster_col_name, \")\"), paste0(\"(1|SampleID/\", cluster_col_name, \")\"), \"offset(logUMI)\")\n",
    "formula_glmer_input<-createFormula(\"y\", term_1, term_2)\n",
    "cosmx.cells.idx<-integrated.myeloid$metadata %>% subset(source %in% \"cosmx\") %>% with(cellID)\n",
    "effects_marginal_cosmx<-find_glmer_markers(\n",
    "    integrated.myeloid$counts[, colnames(integrated.myeloid$counts) %in% cosmx.cells.idx],\n",
    "    integrated.myeloid$metadata %>% cbind(integrated.myeloid$Humap$clusters) %>% subset(cellID %in% cosmx.cells.idx),\n",
    "    formula_glmer_input, \n",
    "    cluster_col_name, \n",
    "    c(\"SampleID\", \"FOV\", cluster_col_name) \n",
    ")"
   ]
  },
  {
   "cell_type": "code",
   "execution_count": null,
   "metadata": {},
   "outputs": [],
   "source": [
    "cluster_col_name<-\"type_harmony\"\n",
    "term_1<-paste0(\"1 + (1|\", cluster_col_name, \")\")\n",
    "term_2<-c(paste0(\"(1|SampleFOV/\", cluster_col_name, \")\"), paste0(\"(1|SampleID/\", cluster_col_name, \")\"), \"offset(logUMI)\")\n",
    "formula_glmer_input<-createFormula(\"y\", term_1, term_2)\n",
    "\n",
    "cosmx.cells.idx<-integrated.myeloid$metadata %>% subset(source %in% \"cosmx\") %>% with(cellID)\n",
    "effects_marginal_cosmx<-find_glmer_markers(\n",
    "    integrated.myeloid$counts[, colnames(integrated.myeloid$counts) %in% cosmx.cells.idx],\n",
    "    integrated.myeloid$metadata %>% cbind(integrated.myeloid$Humap$clusters) %>% subset(cellID %in% cosmx.cells.idx),\n",
    "    formula_glmer_input, \n",
    "    cluster_col_name, \n",
    "    c(\"SampleID\", \"FOV\", cluster_col_name) \n",
    ")"
   ]
  },
  {
   "cell_type": "code",
   "execution_count": null,
   "metadata": {},
   "outputs": [],
   "source": [
    "genes_use_corr<-rbind(effects_marginal_sc_ref, effects_marginal_sc_clust) %>% \n",
    "    subset(abs(logFC) > 0.5 & pvalue < 0.05) %>% \n",
    "    with(feature) %>% \n",
    "    unique\n",
    "corr_mat_sc<-rbind(effects_marginal_sc_ref, effects_marginal_sc_clust) %>% \n",
    "    subset(feature %in% genes_use_corr) %>% \n",
    "    dplyr::select(contrast, feature, logFC) %>% \n",
    "    spread(contrast, logFC, fill = NA) %>% \n",
    "    column_to_rownames(\"feature\") %>% \n",
    "    as.matrix %>% \n",
    "    cor "
   ]
  },
  {
   "cell_type": "code",
   "execution_count": null,
   "metadata": {},
   "outputs": [],
   "source": [
    "seurat.myeloid <- CreateSeuratObject(counts=integrated.myeloid$counts,\n",
    "                                     data=integrated.myeloid$logcpx)"
   ]
  },
  {
   "cell_type": "code",
   "execution_count": null,
   "metadata": {},
   "outputs": [],
   "source": [
    "colnames(integrated.myeloid$metadata)"
   ]
  },
  {
   "cell_type": "code",
   "execution_count": null,
   "metadata": {},
   "outputs": [],
   "source": [
    "integrated.myeloid$metadata$cosmx.clusters <- integrated.myeloid$metadata$type_harmony_clust"
   ]
  },
  {
   "cell_type": "code",
   "execution_count": null,
   "metadata": {},
   "outputs": [],
   "source": [
    "colnames(integrated.myeloid$metadata)"
   ]
  },
  {
   "cell_type": "code",
   "execution_count": null,
   "metadata": {},
   "outputs": [],
   "source": [
    "meta <- as.data.frame(integrated.myeloid$metadata) %>% dplyr::select(SampleID, SampleFOV, cosmx.clusters, cellID) "
   ]
  },
  {
   "cell_type": "code",
   "execution_count": null,
   "metadata": {},
   "outputs": [],
   "source": [
    "seurat.myeloid <- Seurat::AddMetaData(seurat.myeloid, meta)"
   ]
  },
  {
   "cell_type": "code",
   "execution_count": null,
   "metadata": {},
   "outputs": [],
   "source": [
    "Idents(seurat.myeloid) <- \"cosmx.clusters\""
   ]
  },
  {
   "cell_type": "code",
   "execution_count": null,
   "metadata": {},
   "outputs": [],
   "source": [
    "rownames(integrated.myeloid$counts)"
   ]
  },
  {
   "cell_type": "code",
   "execution_count": null,
   "metadata": {},
   "outputs": [],
   "source": [
    "fig.size(10, 20)\n",
    "VlnPlot(seurat.myeloid, \"CD209\", cols=rainbow(n=length(unique(Idents(seurat.myeloid)))), slot=\"data\")"
   ]
  },
  {
   "cell_type": "code",
   "execution_count": null,
   "metadata": {},
   "outputs": [],
   "source": [
    "unique(effects_marginal_cosmx$contrast)"
   ]
  },
  {
   "cell_type": "code",
   "execution_count": null,
   "metadata": {},
   "outputs": [],
   "source": [
    "top20 <- effects_marginal_cosmx %>% group_by(contrast) %>% slice_max(n = 20, order_by = logFC)"
   ]
  },
  {
   "cell_type": "code",
   "execution_count": null,
   "metadata": {},
   "outputs": [],
   "source": [
    "top20[top20$contrast==\"unmapped_2\",]"
   ]
  },
  {
   "cell_type": "code",
   "execution_count": null,
   "metadata": {},
   "outputs": [],
   "source": [
    "top20[top20$contrast==\"DC2 CD1c+_doublet\",]"
   ]
  },
  {
   "cell_type": "code",
   "execution_count": null,
   "metadata": {},
   "outputs": [],
   "source": [
    "top20[top20$contrast==\"DC2 CD1c+\",]"
   ]
  },
  {
   "cell_type": "code",
   "execution_count": null,
   "id": "46840c61-ce3e-4651-bd82-b5614892e16a",
   "metadata": {},
   "outputs": [],
   "source": [
    "# markers of sc cell clusters - annotated based on the marker correlations with sc ref\n",
    "cluster_col_name<-\"Clust3.5\"\n",
    "term_1<-paste0(\"1 + (1|\", cluster_col_name, \")\")\n",
    "term_2<-c(paste0(\"(1|\", cluster_col_name, \":SampleID)\"), paste0(\"(1|SampleID)\"), \"offset(logUMI)\")\n",
    "formula_glmer_input<-createFormula(\"y\", term_1, term_2)\n",
    "\n",
    "sc.cells.idx<-integrated.myeloid$metadata %>% subset(source %in% \"sc\") %>% with(cellID)\n",
    "effects_marginal_sc_clust_ann<-find_glmer_markers_amp(\n",
    "    integrated.myeloid$counts[, colnames(integrated.myeloid$counts) %in% sc.cells.idx],\n",
    "    integrated.myeloid$metadata %>% cbind(integrated.myeloid$Humap$clusters) %>% subset(cellID %in% sc.cells.idx),\n",
    "    formula_glmer_input, \n",
    "    cluster_col_name, \n",
    "    c(\"SampleID\", cluster_col_name) \n",
    ")"
   ]
  },
  {
   "cell_type": "code",
   "execution_count": null,
   "metadata": {},
   "outputs": [],
   "source": [
    "# markers of sc cell clusters - annotated based on the marker correlations with sc ref\n",
    "cluster_col_name<-\"type_harmony\"\n",
    "term_1<-paste0(\"1 + (1|\", cluster_col_name, \")\")\n",
    "term_2<-c(paste0(\"(1|\", cluster_col_name, \":SampleID)\"), paste0(\"(1|SampleID)\"), \"offset(logUMI)\")\n",
    "formula_glmer_input<-createFormula(\"y\", term_1, term_2)\n",
    "\n",
    "sc.cells.idx<-integrated.myeloid$metadata %>% subset(source %in% \"sc\") %>% with(cellID)\n",
    "effects_marginal_sc_clust_ann<-find_glmer_markers_amp(\n",
    "    integrated.myeloid$counts[, colnames(integrated.myeloid$counts) %in% sc.cells.idx],\n",
    "    integrated.myeloid$metadata %>% cbind(integrated.myeloid$Humap$clusters) %>% subset(cellID %in% sc.cells.idx),\n",
    "    formula_glmer_input, \n",
    "    cluster_col_name, \n",
    "    c(\"SampleID\", cluster_col_name) \n",
    ")"
   ]
  },
  {
   "cell_type": "code",
   "execution_count": null,
   "id": "94e64943-259a-4896-a2c3-b7fae3cc2527",
   "metadata": {},
   "outputs": [],
   "source": [
    "corr_sc_cosmx<-rbind(\n",
    "    effects_marginal_sc_ref %>% mutate(contrast = paste0(contrast, \"_sc\")), \n",
    "    effects_marginal_cosmx %>% mutate(contrast = paste0(contrast, \"_cosmx\"))\n",
    ") %>% \n",
    "    subset(feature %in% genes_use_corr) %>% \n",
    "    dplyr::select(contrast, feature, logFC) %>% \n",
    "    spread(contrast, logFC, fill = NA) %>% \n",
    "    column_to_rownames(\"feature\") %>% \n",
    "    as.matrix %>% \n",
    "    cor %>% \n",
    "    identity\n",
    "\n",
    "sc_ref_clusters<-effects_marginal_sc_ref %>% mutate(contrast = paste0(contrast, \"_sc\")) %>% with(contrast) %>% unique\n",
    "\n",
    ".mat<-corr_sc_cosmx[sc_ref_clusters, ]\n",
    "h<-.mat %>% \n",
    "    Heatmap(\n",
    "        name = 'logFC',\n",
    "        col = circlize::colorRamp2(c(-1, 0.1, 1), c(muted(\"blue\"), \"white\", \"red\")),\n",
    "        width = ncol(.mat)*unit(6, \"mm\"), \n",
    "        height = nrow(.mat)*unit(6, \"mm\"),\n",
    "        cluster_columns = FALSE,\n",
    "        column_names_gp = grid::gpar(fontsize = 10),\n",
    "        row_names_gp = grid::gpar(fontsize = 10),\n",
    "        column_title = stringr::str_wrap(\"Marker correlations b/w cosmx clusters and sc reference labels\", 35),\n",
    "        column_title_gp= grid::gpar(fontsize = 15),\n",
    "        # heatmap_legend_param = list(\n",
    "        #     legend_direction = \"horizontal\", \n",
    "        #     legend_width = unit(6, \"cm\")\n",
    "        # ),\n",
    "        use_raster = TRUE,\n",
    "        cell_fun = function(j, i, x, y, width, height, fill) {\n",
    "            grid.text(sprintf(\"%.1f\", .mat[i, j]), x, y, gp = gpar(fontsize = 5))\n",
    "            }\n",
    "        \n",
    ")"
   ]
  },
  {
   "cell_type": "code",
   "execution_count": null,
   "id": "b4febc90-b1f4-409a-ac31-8d14f03f0e79",
   "metadata": {},
   "outputs": [],
   "source": [
    "fig.size(10, 18)\n",
    "draw(h, heatmap_legend_side = \"left\")"
   ]
  },
  {
   "cell_type": "code",
   "execution_count": null,
   "metadata": {},
   "outputs": [],
   "source": [
    "top20 <- effects_marginal_cosmx %>% group_by(contrast) %>% slice_max(n = 20, order_by = logFC)"
   ]
  },
  {
   "cell_type": "code",
   "execution_count": null,
   "id": "9fbb6aea-70b2-4cce-97b1-2641e795ac39",
   "metadata": {},
   "outputs": [],
   "source": [
    "corr_sc_cosmx<-rbind(\n",
    "    effects_marginal_sc_ref %>% mutate(contrast = paste0(contrast, \"_sc\")), \n",
    "    effects_marginal_sc_clust_ann %>% mutate(contrast = paste0(contrast, \"_sc_ann\")), \n",
    "    effects_marginal_cosmx %>% mutate(contrast = paste0(contrast, \"_cosmx\"))\n",
    ") %>% \n",
    "    subset(feature %in% genes_use_corr) %>% \n",
    "    dplyr::select(contrast, feature, logFC) %>% \n",
    "    spread(contrast, logFC, fill = NA) %>% \n",
    "    column_to_rownames(\"feature\") %>% \n",
    "    as.matrix %>% \n",
    "    cor %>% \n",
    "    identity\n",
    "\n",
    "sc_ref_clusters<-effects_marginal_sc_ref %>% mutate(contrast = paste0(contrast, \"_sc\")) %>% with(contrast) %>% unique\n",
    "\n",
    ".mat<-corr_sc_cosmx[sc_ref_clusters, ]\n",
    "h<-.mat %>% \n",
    "    Heatmap(\n",
    "        name = 'logFC',\n",
    "        col = circlize::colorRamp2(c(-1, 0.1, 1), c(muted(\"blue\"), \"white\", \"red\")),\n",
    "        width = ncol(.mat)*unit(6, \"mm\"), \n",
    "        height = nrow(.mat)*unit(6, \"mm\"),\n",
    "        cluster_columns = FALSE,\n",
    "        column_names_gp = grid::gpar(fontsize = 10),\n",
    "        row_names_gp = grid::gpar(fontsize = 10),\n",
    "        column_title = stringr::str_wrap(\"Marker correlations b/w cosmx clusters and sc reference labels\", 35),\n",
    "        column_title_gp= grid::gpar(fontsize = 15),\n",
    "        # heatmap_legend_param = list(\n",
    "        #     legend_direction = \"horizontal\", \n",
    "        #     legend_width = unit(6, \"cm\")\n",
    "        # ),\n",
    "        use_raster = TRUE,\n",
    "        cell_fun = function(j, i, x, y, width, height, fill) {\n",
    "            grid.text(sprintf(\"%.1f\", .mat[i, j]), x, y, gp = gpar(fontsize = 5))\n",
    "            }\n",
    "        \n",
    ")"
   ]
  },
  {
   "cell_type": "code",
   "execution_count": null,
   "id": "7617a885-4aab-46dc-9a0a-f00d12ab829c",
   "metadata": {},
   "outputs": [],
   "source": [
    "fig.size(10, 18)\n",
    "draw(h, heatmap_legend_side = \"left\")"
   ]
  },
  {
   "cell_type": "code",
   "execution_count": null,
   "metadata": {},
   "outputs": [],
   "source": [
    "# markers of sc cell clusters - annotated based on the marker correlations with sc ref\n",
    "cluster_col_name<-\"type_harmony_clust\"\n",
    "term_1<-paste0(\"1 + (1|\", cluster_col_name, \")\")\n",
    "term_2<-c(paste0(\"(1|SampleFOV/\", cluster_col_name, \")\"), paste0(\"(1|SampleID/\", cluster_col_name, \")\"), \"offset(logUMI)\")\n",
    "formula_glmer_input<-createFormula(\"y\", term_1, term_2)\n",
    "cosmx.cells.idx<-integrated.myeloid$metadata %>% subset(source %in% \"cosmx\") %>% with(cellID)\n",
    "effects_marginal_cosmx<-find_glmer_markers(\n",
    "    integrated.myeloid$counts[, colnames(integrated.myeloid$counts) %in% cosmx.cells.idx],\n",
    "    integrated.myeloid$metadata %>% cbind(integrated.myeloid$Humap$clusters) %>% subset(cellID %in% cosmx.cells.idx),\n",
    "    formula_glmer_input, \n",
    "    cluster_col_name, \n",
    "    c(\"SampleID\", \"FOV\", cluster_col_name) \n",
    ")"
   ]
  },
  {
   "cell_type": "code",
   "execution_count": null,
   "metadata": {},
   "outputs": [],
   "source": [
    "top20 <- effects_marginal_cosmx %>% group_by(contrast) %>% slice_max(n = 20, order_by = logFC)"
   ]
  },
  {
   "cell_type": "code",
   "execution_count": null,
   "metadata": {},
   "outputs": [],
   "source": [
    "top20[top20$contrast==\"FOLR2highLYVE1+ STM_3\",]"
   ]
  },
  {
   "cell_type": "code",
   "execution_count": null,
   "metadata": {},
   "outputs": [],
   "source": [
    "top20[top20$contrast==\"FOLR2highLYVE1+ STM_16\",]"
   ]
  },
  {
   "cell_type": "code",
   "execution_count": null,
   "metadata": {},
   "outputs": [],
   "source": [
    "top20[top20$contrast==\"FOLR2highLYVE1+ STM_24\",]"
   ]
  },
  {
   "cell_type": "code",
   "execution_count": null,
   "metadata": {},
   "outputs": [],
   "source": [
    "top20[top20$contrast==\"FOLR2highLYVE1+ STM_27\",]"
   ]
  },
  {
   "cell_type": "code",
   "execution_count": null,
   "metadata": {},
   "outputs": [],
   "source": [
    "integrated.myeloid$metadata$total.counts <- colSums(integrated.myeloid$counts)\n",
    "table <- data.frame(integrated.myeloid$metadata$type_harmony, \n",
    "                    integrated.myeloid$metadata$total.counts, \n",
    "                    integrated.myeloid$metadata$source)\n",
    "colnames(table) <- c(\"cluster\",\"counts\", \"source\")\n",
    "ggplot(table, aes(x=cluster, y=counts)) + \n",
    "  geom_bar(stat = \"identity\") + theme(axis.text.x=element_text(angle=90)) + facet_wrap(~source)"
   ]
  },
  {
   "cell_type": "code",
   "execution_count": null,
   "metadata": {},
   "outputs": [],
   "source": [
    "head(integrated.myeloid$metadata)"
   ]
  },
  {
   "cell_type": "code",
   "execution_count": null,
   "metadata": {},
   "outputs": [],
   "source": [
    "integrated.myeloid$metadata$type_harmony_clean <- NULL"
   ]
  },
  {
   "cell_type": "code",
   "execution_count": null,
   "metadata": {},
   "outputs": [],
   "source": [
    "integrated.myeloid$metadata$type_harmony_clust <- plyr::revalue(as.character(integrated.myeloid$metadata$type_harmony_clust),\n",
    "                        c(\"unmapped_0\"=\"FOLR2highLYVE1+ STM\", \"unmapped_11\"=\"FOLR2+ STM/FLS doublet\", \n",
    "                          \"unmapped_13\"=\"DC3/FLS doublet\", \"unmapped_28\"=\"FOLR2+ STM/FLS/Plasma doublet\", \n",
    "                          \"unmapped_32\"=\"FOLR2highCLEC10A+ STM\", \"unmapped_35\"=\"FOLR2+ STM/Bcell doublet\",\n",
    "                          \"unmapped_9\"=\"HBA1+CLEC9A+ DC1\", \"unmapped_2\"=\"TGFB2+BIRC5+ STM\",\"FOLR2highLYVE1+ STM_3\"=\"FOLR2highCLEC10A+ STM\"))\n",
    "    "
   ]
  },
  {
   "cell_type": "code",
   "execution_count": null,
   "metadata": {},
   "outputs": [],
   "source": [
    "integrated.myeloid$metadata$type_harmony_clean <- plyr::revalue(as.character(integrated.myeloid$metadata$type_harmony_clust),\n",
    "                        c(\"unmapped_0\"=\"FOLR2highLYVE1+ STM\", \"unmapped_11\"=\"FOLR2+ STM/FLS doublet\", \n",
    "                          \"unmapped_13\"=\"DC3/FLS doublet\", \"unmapped_28\"=\"FOLR2+ STM/FLS/Plasma doublet\", \n",
    "                          \"unmapped_32\"=\"FOLR2highCLEC10A+ STM\", \"unmapped_35\"=\"FOLR2+ STM/Bcell doublet\",\n",
    "                          \"unmapped_9\"=\"HBA1+CLEC9A+ DC1\", \"unmapped_2\"=\"TGFB2+BIRC5+ STM\",\"FOLR2highLYVE1+ STM_3\"=\"FOLR2highCLEC10A+ STM\"))\n",
    "    "
   ]
  },
  {
   "cell_type": "code",
   "execution_count": null,
   "metadata": {},
   "outputs": [],
   "source": [
    "unique(integrated.myeloid$metadata$type_harmony_clean)"
   ]
  },
  {
   "cell_type": "code",
   "execution_count": null,
   "metadata": {},
   "outputs": [],
   "source": [
    "integrated.myeloid$metadata$type_harmony_clean <- plyr::revalue(as.character(integrated.myeloid$metadata$type_harmony_clean),\n",
    "                        c( \"DC2 CD1c+_doublet\"=\"DC2 CD1c+\"))\n",
    "    "
   ]
  },
  {
   "cell_type": "code",
   "execution_count": null,
   "metadata": {},
   "outputs": [],
   "source": [
    "unique(integrated.myeloid$metadata$type_harmony_clean)"
   ]
  },
  {
   "cell_type": "code",
   "execution_count": null,
   "metadata": {},
   "outputs": [],
   "source": [
    "integrated.myeloid$metadata$type_harmony_clust_clean <- plyr::revalue(as.character(integrated.myeloid$metadata$type_harmony_clust),\n",
    "                        c(\"unmapped_0\"=\"FOLR2highLYVE1+ STM\", \"unmapped_11\"=\"FOLR2+ STM/FLS doublet\", \n",
    "                          \"unmapped_13\"=\"DC3/FLS doublet\", \"unmapped_28\"=\"FOLR2+ STM/FLS/Plasma doublet\", \n",
    "                          \"unmapped_32\"=\"FOLR2highCLEC10A+ STM\", \"unmapped_35\"=\"FOLR2+ STM/Bcell doublet\",\n",
    "                          \"unmapped_9\"=\"HBA1+CLEC9A+ DC1\", \"unmapped_2\"=\"TGFB2+BIRC5+ STM\"))\n",
    "    "
   ]
  },
  {
   "cell_type": "code",
   "execution_count": null,
   "metadata": {},
   "outputs": [],
   "source": [
    "integrated.myeloid$metadata$type_harmony_clean <- plyr::revalue(as.character(integrated.myeloid$metadata$type_harmony_clust_clean),\n",
    "                        c(\"TREM2+LPL+ STM_6\"=\"TREM2+LPL+\",\n",
    "                          \"TREM2+ STM_10\"=\"TREM2+ STM\",\n",
    "                          \"FOLR2highLYVE1+ STM_16\"=\"FOLR2highLYVE1+ STM\",\n",
    "                          \"TREM2+LPL+ STM_17\"=\"TREM2+LPL+\",\n",
    "                          \"TREM2+ STM_18\"= \"TREM2+ STM\",\n",
    "                          \"FOLR2highLYVE1+ STM_24\"=\"FOLR2highLYVE1+ STM\",\n",
    "                          \"FOLR2highLYVE1+ STM_27\"=\"FOLR2highLYVE1+ STM\",\n",
    "                          \"TREM2+LPL+ STM_29\"=\"TREM2+LPL+\",\n",
    "                          \"TREM2+LPL+ STM_31\"=\"TREM2+LPL+\",\n",
    "                         \"DC2 CD1c+_doublet\"=\"DC2 CD1c+\"))\n",
    "    "
   ]
  },
  {
   "cell_type": "code",
   "execution_count": null,
   "metadata": {},
   "outputs": [],
   "source": [
    "unique(integrated.myeloid$metadata$type_harmony_clean)"
   ]
  },
  {
   "cell_type": "code",
   "execution_count": null,
   "metadata": {},
   "outputs": [],
   "source": [
    "table(integrated.myeloid$metadata$type_harmony_clean)"
   ]
  },
  {
   "cell_type": "code",
   "execution_count": null,
   "metadata": {},
   "outputs": [],
   "source": [
    "integrated.myeloid$metadata$Clust1.5 <- NULL\n",
    "integrated.myeloid$metadata$Clust2.5 <- NULL\n",
    "integrated.myeloid$metadata$Clust3.5 <- NULL"
   ]
  },
  {
   "cell_type": "code",
   "execution_count": null,
   "metadata": {},
   "outputs": [],
   "source": [
    "p<-plot_dim_red(\n",
    "    integrated.myeloid$Humap$embedding, \n",
    "    integrated.myeloid$Humap$clusters, \n",
    "    integrated.myeloid$metadata, \n",
    "    \"cellID\", \n",
    "    color_by = \"type_harmony_clean\", \n",
    "    \"UMAP after Harmony\", \n",
    "    \"UMAP\"\n",
    ")\n",
    "p"
   ]
  },
  {
   "cell_type": "code",
   "execution_count": null,
   "metadata": {},
   "outputs": [],
   "source": [
    "saveRDS(integrated.myeloid, \"./cache/integrated.myeloid.renamed.rds\")"
   ]
  },
  {
   "cell_type": "code",
   "execution_count": null,
   "metadata": {},
   "outputs": [],
   "source": [
    "integrated.myeloid <- readRDS(\"./cache/integrated.myeloid.renamed.rds\")"
   ]
  },
  {
   "cell_type": "markdown",
   "metadata": {},
   "source": [
    "## Where are the clusters in space?"
   ]
  },
  {
   "cell_type": "code",
   "execution_count": null,
   "metadata": {},
   "outputs": [],
   "source": [
    "cellgeoms<-readRDS(\"/datastore/lucy/CosMx/cache/raw/Glasgow_cellgeoms_QC.RDS\")"
   ]
  },
  {
   "cell_type": "code",
   "execution_count": null,
   "metadata": {},
   "outputs": [],
   "source": [
    "head(cellgeoms)"
   ]
  },
  {
   "cell_type": "code",
   "execution_count": null,
   "metadata": {},
   "outputs": [],
   "source": [
    "sampleFOVcondition <- read.table(\"/datastore/lucy/CosMx/cache/SampleFOV-condition.csv\", header=TRUE, sep=\",\")"
   ]
  },
  {
   "cell_type": "code",
   "execution_count": null,
   "metadata": {},
   "outputs": [],
   "source": [
    "cosmx.cell.ids<-integrated.myeloid$metadata %>% \n",
    "    subset(source %in% \"cosmx\") %>% \n",
    "    with(cellID)"
   ]
  },
  {
   "cell_type": "code",
   "execution_count": null,
   "metadata": {},
   "outputs": [],
   "source": [
    "head(integrated.myeloid$metadata)"
   ]
  },
  {
   "cell_type": "code",
   "execution_count": null,
   "metadata": {},
   "outputs": [],
   "source": [
    "rownames(integrated.myeloid$metadata) <- integrated.myeloid$metadata$cellID"
   ]
  },
  {
   "cell_type": "code",
   "execution_count": null,
   "metadata": {},
   "outputs": [],
   "source": [
    "niche_anno <-readRDS(\"./cache/tissueSegmentation/spatialObjregions.RDS\")$metadata\n",
    "niche_anno<-niche_anno %>% dplyr::select(cellID,highres.regions) \n",
    "head(niche_anno)"
   ]
  },
  {
   "cell_type": "code",
   "execution_count": null,
   "metadata": {},
   "outputs": [],
   "source": [
    "cellgeoms <- cellgeoms %>% left_join(niche_anno, by = \"cellID\")"
   ]
  },
  {
   "cell_type": "code",
   "execution_count": null,
   "metadata": {},
   "outputs": [],
   "source": [
    "#Isolate cosmx data now its annotated\n",
    "myeloid.anno.cosmx <- list()\n",
    "myeloid.anno.cosmx$counts <- integrated.myeloid$counts[,cosmx.cell.ids]\n",
    "myeloid.anno.cosmx$metadata <- integrated.myeloid$metadata[cosmx.cell.ids,]"
   ]
  },
  {
   "cell_type": "code",
   "execution_count": null,
   "metadata": {},
   "outputs": [],
   "source": [
    "cellgeoms <- merge(cellgeoms, sampleFOVcondition, all=FALSE)"
   ]
  },
  {
   "cell_type": "code",
   "execution_count": null,
   "metadata": {},
   "outputs": [],
   "source": [
    "cellgeoms$SampleFOV <- paste0(cellgeoms$Condition,\"_\",cellgeoms$SampleFOV)"
   ]
  },
  {
   "cell_type": "code",
   "execution_count": null,
   "metadata": {},
   "outputs": [],
   "source": [
    "unique(cellgeoms$type_harmony_clust)"
   ]
  },
  {
   "cell_type": "code",
   "execution_count": null,
   "metadata": {},
   "outputs": [],
   "source": [
    "col_pal <- rainbow(n=length(unique(cellgeoms$type_harmony_clean)))"
   ]
  },
  {
   "cell_type": "code",
   "execution_count": null,
   "metadata": {},
   "outputs": [],
   "source": [
    "library(ggdark)\n",
    "fig.size(6, 8)\n",
    "cellgeoms %>% \n",
    "    with(SampleFOV) %>%  \n",
    "    unique %>% \n",
    "    # head(1) %>% \n",
    "    purrr::map(~ cellgeoms %>% \n",
    "        tidyr::unite(\"SampleFOV\", c(\"Condition\",\"SampleID\", \"FOV\")) %>% \n",
    "        # subset(!grepl(\"Doublet*|Low_Quality\", celltype.coarse)) %>% \n",
    "        subset(SampleFOV %in% .x) %>% \n",
    "        ggplot() + \n",
    "            geom_sf(aes(geometry = centroid, fill = type_harmony_clean), linewidth = 0.2) + \n",
    "            scale_fill_manual(values = col_pal, na.value = \"black\", na.translate = TRUE) + \n",
    "            ggtitle(.x) + dark_theme_classic() \n",
    "    )\n"
   ]
  },
  {
   "cell_type": "markdown",
   "id": "33d2e5bb-d567-4ec5-8e46-6e0d3e3bc087",
   "metadata": {},
   "source": [
    "## cell fractions"
   ]
  },
  {
   "cell_type": "code",
   "execution_count": null,
   "metadata": {},
   "outputs": [],
   "source": [
    "head(integrated.myeloid$metadata)"
   ]
  },
  {
   "cell_type": "code",
   "execution_count": null,
   "metadata": {},
   "outputs": [],
   "source": [
    "head(sampleFOVcondition)"
   ]
  },
  {
   "cell_type": "code",
   "execution_count": null,
   "metadata": {},
   "outputs": [],
   "source": [
    "integrated.myeloid$metadata <- integrated.myeloid$metadata %>% \n",
    "left_join(dplyr::select(sampleFOVcondition, c(\"SampleFOV\",\"Condition\",\"PatientID\")), by = \"SampleFOV\")"
   ]
  },
  {
   "cell_type": "code",
   "execution_count": null,
   "metadata": {},
   "outputs": [],
   "source": [
    "head(integrated.myeloid$metadata)"
   ]
  },
  {
   "cell_type": "code",
   "execution_count": null,
   "metadata": {},
   "outputs": [],
   "source": [
    "integrated.myeloid$metadata$SampleFOV <- paste0(integrated.myeloid$metadata$Condition,\"_\",integrated.myeloid$metadata$SampleFOV)"
   ]
  },
  {
   "cell_type": "code",
   "execution_count": null,
   "metadata": {},
   "outputs": [],
   "source": [
    "num_clust <- length(unique(integrated.myeloid$metadata$type_harmony_clean))"
   ]
  },
  {
   "cell_type": "code",
   "execution_count": null,
   "id": "5a0af738-9571-4d7e-adaa-c98706c63c17",
   "metadata": {},
   "outputs": [],
   "source": [
    "fig.size(10, 25)\n",
    ".vals<-unique(integrated.myeloid$metadata$type_harmony_clean)\n",
    ".vals<-.vals[!is.na(.vals)]\n",
    ".pal<-colorRampPalette(tableau_color_pal('Tableau 20')(20))(length(.vals))\n",
    "names(.pal)<-.vals\n",
    "\n",
    "integrated.myeloid$metadata %>% \n",
    "    filter(source == \"cosmx\") %>% \n",
    "    with(table(type_harmony_clean, SampleFOV)) %>% \n",
    "    prop.table(margin = 2) %>% \n",
    "    as.data.frame %>% \n",
    "    separate(SampleFOV, c(\"SampleID\", \"FOV\"), remove = FALSE, sep=\"_(?=[^_]+$)\") %>% \n",
    "    ggplot() + \n",
    "        geom_col(aes(x = FOV, y = Freq, fill = type_harmony_clean)) + \n",
    "        scale_fill_manual(values = .pal) +\n",
    "        guides(x =  guide_axis(angle = 90)) +\n",
    "        ggtitle(paste0(\"Abundance of cells across Samples\")) + \n",
    "        facet_wrap(~ SampleID, scales = \"free_x\") + \n",
    "        NULL\n",
    "fig.size(10, 25)\n",
    "integrated.myeloid$metadata %>% \n",
    "    subset(source %in% \"cosmx\") %>% \n",
    "    with(table(type_harmony_clean, SampleFOV)) %>%\n",
    "    as.data.frame %>% \n",
    "    separate(SampleFOV, c(\"SampleID\", \"FOV\"), remove = FALSE, sep=\"_(?=[^_]+$)\") %>% \n",
    "    # left_join(integrated.tcell$metadata %>% subset(source %in% \"cosmx\") %>% dplyr::select(SampleID, SampleFOV, FOV), by = \"SampleFOV\") %>% \n",
    "    ggplot() + \n",
    "        geom_col(aes(x = FOV, y = Freq, fill = type_harmony_clean)) + \n",
    "        scale_fill_manual(values = .pal) +\n",
    "        guides(x =  guide_axis(angle = 90)) +\n",
    "        ggtitle(paste0(\"Abundance of cells across Samples\")) + \n",
    "        facet_wrap(~ SampleID, scales = \"free\") + \n",
    "        NULL\n",
    "\n"
   ]
  },
  {
   "cell_type": "code",
   "execution_count": null,
   "metadata": {},
   "outputs": [],
   "source": [
    "integrated.myeloid$metadata %>% \n",
    "    subset(source %in% \"cosmx\") %>% \n",
    "    with(table(type_harmony_clean, SampleFOV, PatientID)) %>%\n",
    "    as.data.frame"
   ]
  },
  {
   "cell_type": "markdown",
   "id": "17d55a72-3e80-4241-a1ab-7d852d52751b",
   "metadata": {},
   "source": [
    "## add data to cache"
   ]
  },
  {
   "cell_type": "code",
   "execution_count": null,
   "id": "e155dbef-d29b-4880-bf5b-c3bcbb6e288a",
   "metadata": {},
   "outputs": [],
   "source": [
    "integrated.myeloid$effects_marginal_sc_ref<-effects_marginal_sc_ref\n",
    "integrated.myeloid$effects_marginal_sc_clust<-effects_marginal_sc_clust\n",
    "integrated.myeloid$effects_marginal_sc_clust_ann<-effects_marginal_sc_clust_ann\n",
    "integrated.myeloid$effects_marginal_cosmx_coarse<-effects_marginal_cosmx"
   ]
  },
  {
   "cell_type": "code",
   "execution_count": null,
   "metadata": {},
   "outputs": [],
   "source": [
    "head(integrated.myeloid$effects_marginal_cosmx_coarse)"
   ]
  },
  {
   "cell_type": "markdown",
   "id": "3bace8cf-d6ad-4a4d-85ee-f803e50e62e0",
   "metadata": {},
   "source": [
    "## Cleaning up labels and re-calculating correlations"
   ]
  },
  {
   "cell_type": "markdown",
   "id": "420be076-6909-44e5-9d57-031932f4031b",
   "metadata": {},
   "source": [
    "+ I would like to preserve the labels above and also merge all the unmapped and predominantly cosmx clusters appropriately"
   ]
  },
  {
   "cell_type": "code",
   "execution_count": null,
   "id": "e5767cdb-b7f3-4c13-9c9e-001d96848326",
   "metadata": {},
   "outputs": [],
   "source": [
    "unique(integrated.myeloid$metadata$type_harmony_clean)"
   ]
  },
  {
   "cell_type": "code",
   "execution_count": null,
   "id": "8c730902-416b-41d9-8f32-ac4e2c47f797",
   "metadata": {},
   "outputs": [],
   "source": [
    "fig.size(5, 8)\n",
    "\n",
    "left_join(\n",
    "    table(integrated.myeloid$metadata$type_harmony) %>% as.data.frame,\n",
    "    table(integrated.myeloid$metadata$type_harmony_clean) %>% as.data.frame,\n",
    "    by = \"Var1\",\n",
    "    suffix = c(\"_before_merge\", \"_after_merge\")\n",
    ") %>% \n",
    "    mutate_if(is.numeric, ~replace(., is.na(.), 0)) %>% \n",
    "    # gather(source, Freq, -(Var1)) %>% \n",
    "    ggplot(aes(Freq_before_merge, Freq_after_merge)) + \n",
    "        geom_point(aes(color = Var1)) + \n",
    "        geom_abline(slope = 1) + \n",
    "        # scale_color_tableau() + \n",
    "        ggtitle(\"Cell numbers before and after merge are the same\")"
   ]
  },
  {
   "cell_type": "code",
   "execution_count": null,
   "metadata": {},
   "outputs": [],
   "source": [
    "h<-integrated.myeloid$metadata %>% \n",
    "    subset(source %in% \"sc\") %>% \n",
    "    with(table(cosmx400.myeloid, type_harmony_clean)) %>% \n",
    "    prop.table(1) %>% \n",
    "    prop.table(2) %>% \n",
    "    Heatmap(\n",
    "        name = \"Freq\",\n",
    "        column_title = stringr::str_wrap(\"Confusion matrix of sc cells in new integrated clusters vs sc reference annotations\", width = 35),\n",
    "        width = 40*unit(5, \"mm\"), \n",
    "        height = 20*unit(5, \"mm\"),\n",
    "        # row_dend_side = \"right\",\n",
    "        heatmap_legend_param = list(\n",
    "            legend_direction = \"horizontal\", \n",
    "            legend_width = unit(6, \"cm\")\n",
    "        )\n",
    "    )\n",
    "fig.size(7, 12)\n",
    "draw(h, heatmap_legend_side = \"bottom\")"
   ]
  },
  {
   "cell_type": "markdown",
   "id": "d086550f-9ec8-4b98-9165-928b872e585c",
   "metadata": {},
   "source": [
    "## correlations b/w sc reference and newly annotated cosmx cells"
   ]
  },
  {
   "cell_type": "code",
   "execution_count": null,
   "id": "bc74e0e4-7c14-4396-960b-fe919cfad11b",
   "metadata": {},
   "outputs": [],
   "source": [
    "cluster_col_name<-\"type_harmony_clean\"\n",
    "term_1<-paste0(\"1 + (1|\", cluster_col_name, \")\")\n",
    "term_2<-c(paste0(\"(1|SampleFOV/\", cluster_col_name, \")\"), paste0(\"(1|SampleID/\", cluster_col_name, \")\"), \"offset(logUMI)\")\n",
    "formula_glmer_input<-createFormula(\"y\", term_1, term_2)\n",
    "\n",
    "cosmx.cells.idx<-integrated.myeloid$metadata %>% subset(source %in% \"cosmx\") %>% with(cellID)\n",
    "effects_marginal_cosmx_clean<-find_glmer_markers(\n",
    "    integrated.myeloid$counts[, colnames(integrated.myeloid$counts) %in% cosmx.cells.idx],\n",
    "    integrated.myeloid$metadata %>% cbind(integrated.myeloid$Humap$clusters) %>% subset(cellID %in% cosmx.cells.idx),\n",
    "    formula_glmer_input, \n",
    "    cluster_col_name, \n",
    "    c(\"SampleID\", \"FOV\", cluster_col_name) \n",
    ")"
   ]
  },
  {
   "cell_type": "code",
   "execution_count": null,
   "metadata": {},
   "outputs": [],
   "source": [
    "unique(effects_marginal_cosmx_clean$contrast)"
   ]
  },
  {
   "cell_type": "code",
   "execution_count": null,
   "metadata": {},
   "outputs": [],
   "source": [
    "effects_marginal_cosmx_clean$contrast <- paste0(\"Myeloid_\",effects_marginal_cosmx_clean$contrast)"
   ]
  },
  {
   "cell_type": "code",
   "execution_count": null,
   "metadata": {},
   "outputs": [],
   "source": [
    "myeloid.clust <- c('Myeloid_DC1 CLEC9A+',\n",
    "                                 'Myeloid_DC2 CD1c+',\n",
    "                                 'Myeloid_DC2 CCR7+',\n",
    "                                 'Myeloid_DC3 CD1clowCD163+',\n",
    "                                 'Myeloid_iDC3 CD14highCD163+',\n",
    "                                 'Myeloid_FOLR2highCLEC10A+ STM',\n",
    "                                 'Myeloid_DC2 CD1c+_doublet',\n",
    "                                 \n",
    "                                 'Myeloid_CLEC10A+ATF3+ STM',\n",
    "                                 'Myeloid_FOLR2highEGR1+ STM',\n",
    "                                 'Myeloid_FOLR2highLYVE1+ STM',\n",
    "                                 'Myeloid_TGFB2+BIRC5+ STM',\n",
    "                                 'Myeloid_BIRC5+ cycling STM',\n",
    "                                 'Myeloid_TREM2+ STM',\n",
    "                                 'Myeloid_TREM2+LPL+ STM',\n",
    "                                 'Myeloid_SPP1+TREM2low STM',\n",
    "                                 'Myeloid_SPP1+ STM',\n",
    "                                 'Myeloid_TNF+ICAM1+ STM',\n",
    "                                 'Myeloid_ISG15+CXCL10+ STM',\n",
    "                                 'Myeloid_CD14highS100A12+ monoSTM',\n",
    "                                 'Myeloid_FCGR3A+ monoSTM')"
   ]
  },
  {
   "cell_type": "code",
   "execution_count": null,
   "metadata": {},
   "outputs": [],
   "source": [
    "effects_marginal_cosmx_clean_sub <- effects_marginal_cosmx_clean[which(effects_marginal_cosmx_clean$contrast%in%myeloid.clust),]"
   ]
  },
  {
   "cell_type": "code",
   "execution_count": null,
   "metadata": {},
   "outputs": [],
   "source": [
    "effects_marginal_cosmx_clean_sub %>% \n",
    "    group_by(contrast) %>% \n",
    "    filter(pvalue < 1e-02) %>% \n",
    "    filter(logFC > 0.5) %>% \n",
    "    top_n(n = 20, wt = logFC) %>% \n",
    "    mutate(rank = rank(-logFC)) %>% \n",
    "    ungroup %>% \n",
    "    # dplyr::mutate(feature = paste0(feature, \"_\", logFC)) %>% \n",
    "    dplyr::select(contrast, feature, rank) %>% \n",
    "    spread(contrast, feature, fill = NA)"
   ]
  },
  {
   "cell_type": "code",
   "execution_count": null,
   "metadata": {},
   "outputs": [],
   "source": [
    "effects_marginal_cosmx_clean_sub"
   ]
  },
  {
   "cell_type": "code",
   "execution_count": null,
   "metadata": {},
   "outputs": [],
   "source": [
    "# pick signficant genes to show in the heatmap\n",
    "# arrange the genes such that the gene with max logFC is at the center and values decrease as we move away from center\n",
    "genes_use_df<-data.table(effects_marginal_cosmx_clean_sub)[\n",
    "    pvalue < 0.05][\n",
    "    , .SD[order(-zscore)][1, ], by = feature][\n",
    "    , .SD[order(-logFC)][1:20, ], by = contrast][\n",
    "    , .SD[!is.na(feature)]][\n",
    "    , .SD[order(logFC)], by = contrast][\n",
    "    , \":=\" (len = .N, rank = frank(logFC)), by = contrast][\n",
    "    , .SD[c(seq(1, round(.SD$len[1]/3), 1), seq(.SD$len[1], round(.SD$len[1]/3)+1, -1)), ], by = contrast][\n",
    "    , .(feature, logFC, zscore, contrast, pvalue) # the genes in this list will be unique because I assigned one z-score to each gene\n",
    "]"
   ]
  },
  {
   "cell_type": "code",
   "execution_count": null,
   "metadata": {},
   "outputs": [],
   "source": [
    "\n",
    "message(\"Checking that the genes are unique: \", nrow(genes_use_df) == length(unique(genes_use_df$feature)))\n",
    "message(\"Number of genes in heatmap: \", nrow(genes_use_df))\n",
    "\n",
    "# select the top 3 genes with highest logFC in each cluster and assign each gene to a cell type based on it logFC - the gene belongs to the celltype with higher logFC\n",
    "genes_to_mark_celltypes<-genes_use_df[, .SD[order(-logFC)][1:5, ], by = contrast][\n",
    "    , .(contrast, feature)\n",
    "]\n",
    "genes_to_mark_celltypes<-genes_to_mark_celltypes %>% \n",
    "    # subset(! contrast %in% c(\"Neutrophils\", \"T cells\")) %>% \n",
    "    rbind(genes_use_df[feature %in% c(\"MPO\", \"CYSTM1\", \"EFNA4\"), .(contrast, feature)]) %>% \n",
    "    rbind(genes_use_df[feature %in% c(\"CD3G\", \"CD3E\", \"IL32\"), .(contrast, feature)])\n",
    "\n",
    ".mat<-effects_marginal_cosmx_clean_sub %>% \n",
    "    subset(feature %in% genes_use_df$feature) %>% \n",
    "    dplyr::select(cluster, logFC, feature) %>% \n",
    "    tidyr::spread(cluster, logFC) %>% \n",
    "    tibble::column_to_rownames('feature') %>% \n",
    "    as.matrix() %>% t() \n",
    ".mat<-.mat[, genes_use_df$feature]\n",
    "\n",
    "message(\n",
    "    \"Are all genes that are being marked also present in the matrix?: \", \n",
    "    length(setdiff(genes_to_mark_celltypes$feature, colnames(.mat))) == 0\n",
    ")\n",
    "\n",
    "genes_idx<-data.frame(idx = which(colnames(.mat) %in% genes_to_mark_celltypes$feature)) %>% \n",
    "    mutate(feature = colnames(.mat)[idx])\n",
    "\n",
    "genes_to_mark_celltypes<-genes_to_mark_celltypes %>% left_join(genes_idx, by = \"feature\")"
   ]
  },
  {
   "cell_type": "code",
   "execution_count": null,
   "metadata": {},
   "outputs": [],
   "source": [
    "\n",
    "unique()\n",
    "cols <- \n",
    "names(cols)<-char(levels(effects_marginal_cosmx_clean))\n",
    "message(\"Colors being used: \")\n",
    "print(cols)\n",
    "message(\"Check if any cell types above are not getting a color because of a smaller palette\")\n",
    "\n",
    "\n",
    "fig.size(5, 15)\n",
    "ha<-columnAnnotation(\n",
    "    col_ann = anno_mark(\n",
    "        at = genes_to_mark_celltypes$idx,\n",
    "        side = \"bottom\",\n",
    "        labels = genes_to_mark_celltypes$feature)\n",
    "    )\n",
    "\n",
    "ha2<-columnAnnotation(show_legend = FALSE,\n",
    "    celltypes = genes_use_df$contrast,\n",
    "    col = list(celltypes = cols)\n",
    "    )\n",
    "\n",
    "# ha2<-columnAnnotation(\n",
    "#     celltypes = anno_block(\n",
    "#         gp = gpar(fill = col_pal), \n",
    "#         labels = genes_use_df$contrast %>% unique\n",
    "\n",
    "# ))\n",
    "split<-genes_use_df$contrast\n",
    "colnames(.mat)<-NULL\n",
    ".mat %>% \n",
    "    Heatmap(\n",
    "        name = 'logFC',\n",
    "        col = circlize::colorRamp2(c(0, 0.1, 3), c('white', 'white', muted('blue'))),\n",
    "        # column_names_gp = grid::gpar(fontsize = 10),\n",
    "        row_dend_side = \"right\",\n",
    "        cluster_rows = FALSE,\n",
    "        cluster_columns = FALSE,\n",
    "        top_annotation = ha2, \n",
    "        # row_km = 12,\n",
    "        bottom_annotation = ha,\n",
    "        column_split = split\n",
    "    )"
   ]
  },
  {
   "cell_type": "code",
   "execution_count": null,
   "id": "550eb4fb-e14e-422f-a594-874f6f2532e2",
   "metadata": {
    "scrolled": true
   },
   "outputs": [],
   "source": [
    "# markers of sc cell clusters - annotated based on the marker correlations with sc ref\n",
    "cluster_col_name<-\"type_harmony_clean\"\n",
    "term_1<-paste0(\"1 + (1|\", cluster_col_name, \")\")\n",
    "term_2<-c(paste0(\"(1|\", cluster_col_name, \":SampleID)\"), paste0(\"(1|SampleID)\"), \"offset(logUMI)\")\n",
    "formula_glmer_input<-createFormula(\"y\", term_1, term_2)\n",
    "\n",
    "sc.cells.idx<-integrated.myeloid$metadata %>% subset(source %in% \"sc\") %>% with(cellID)\n",
    "effects_marginal_sc_ann_clean<-find_glmer_markers_amp(\n",
    "    integrated.myeloid$counts[, colnames(integrated.myeloid$counts) %in% sc.cells.idx],\n",
    "    integrated.myeloid$metadata %>% cbind(integrated.myeloid$Humap$clusters) %>% subset(cellID %in% sc.cells.idx),\n",
    "    formula_glmer_input, \n",
    "    cluster_col_name, \n",
    "    c(\"SampleID\", cluster_col_name) \n",
    ")"
   ]
  },
  {
   "cell_type": "code",
   "execution_count": null,
   "metadata": {},
   "outputs": [],
   "source": [
    "genes_use_corr<-rbind(effects_marginal_sc_ref, effects_marginal_cosmx_clean) %>% \n",
    "    subset(abs(logFC) > 0.5 & pvalue < 0.05) %>% \n",
    "    with(feature) %>% \n",
    "    unique"
   ]
  },
  {
   "cell_type": "code",
   "execution_count": null,
   "id": "1dd286f5-3baf-4b36-af6a-33b3a9ce243a",
   "metadata": {},
   "outputs": [],
   "source": [
    "corr_sc_cosmx<-rbind(\n",
    "    effects_marginal_sc_ref %>% mutate(contrast = paste0(contrast, \"_sc\")), \n",
    "    effects_marginal_cosmx_clean %>% mutate(contrast = paste0(contrast, \"_cosmx\"))\n",
    ") %>% \n",
    "    subset(feature %in% genes_use_corr) %>% \n",
    "    dplyr::select(contrast, feature, logFC) %>% \n",
    "    spread(contrast, logFC, fill = NA) %>% \n",
    "    column_to_rownames(\"feature\") %>% \n",
    "    as.matrix %>% \n",
    "    cor %>% \n",
    "    identity\n",
    "\n",
    "sc_ref_clusters<-effects_marginal_sc_ref %>% mutate(contrast = paste0(contrast, \"_sc\")) %>% with(contrast) %>% unique\n",
    "\n",
    ".mat<-corr_sc_cosmx[sc_ref_clusters, ]\n",
    "h<-.mat %>% \n",
    "    Heatmap(\n",
    "        name = 'logFC',\n",
    "        col = circlize::colorRamp2(c(-1, 0.1, 1), c(muted(\"blue\"), \"white\", \"red\")),\n",
    "        width = ncol(.mat)*unit(6, \"mm\"), \n",
    "        height = nrow(.mat)*unit(6, \"mm\"),\n",
    "        cluster_columns = FALSE,\n",
    "        column_names_gp = grid::gpar(fontsize = 10),\n",
    "        row_names_gp = grid::gpar(fontsize = 10),\n",
    "        column_title = stringr::str_wrap(\"Marker correlations b/w cosmx clusters and sc reference labels\", 35),\n",
    "        column_title_gp= grid::gpar(fontsize = 15),\n",
    "        # heatmap_legend_param = list(\n",
    "        #     legend_direction = \"horizontal\", \n",
    "        #     legend_width = unit(6, \"cm\")\n",
    "        # ),\n",
    "        use_raster = TRUE,\n",
    "        cell_fun = function(j, i, x, y, width, height, fill) {\n",
    "            grid.text(sprintf(\"%.1f\", .mat[i, j]), x, y, gp = gpar(fontsize = 5))\n",
    "            }\n",
    "        \n",
    ")"
   ]
  },
  {
   "cell_type": "code",
   "execution_count": null,
   "id": "b10605e3-fc6a-45d0-9607-e4035f137b92",
   "metadata": {},
   "outputs": [],
   "source": [
    "fig.size(10, 18)\n",
    "vp<-grid::viewport(width = unit(1, \"inch\"), height = unit(1, \"inch\"))\n",
    "pushViewport(vp)\n",
    "draw(h, heatmap_legend_side = \"left\")"
   ]
  },
  {
   "cell_type": "code",
   "execution_count": null,
   "id": "e43052df-b72c-45ca-9284-554621d93648",
   "metadata": {},
   "outputs": [],
   "source": [
    "p<-plot_dim_red(\n",
    "    integrated.myeloid$Humap$embedding, \n",
    "    integrated.myeloid$Humap$clusters, \n",
    "    integrated.myeloid$metadata, \n",
    "    \"cellID\", \n",
    "    color_by = \"type_harmony_clean\", \n",
    "    \"UMAP after Harmony\", \n",
    "    \"UMAP\"\n",
    ")"
   ]
  },
  {
   "cell_type": "code",
   "execution_count": null,
   "id": "b9eec011-37af-4f88-93e4-ccd6f3bc27de",
   "metadata": {},
   "outputs": [],
   "source": [
    "fig.size(5, 12)\n",
    "p + facet_wrap(~ source)"
   ]
  },
  {
   "cell_type": "markdown",
   "id": "6380837e-0f60-40a3-90a6-5b6bd45740fe",
   "metadata": {},
   "source": [
    "## cell fractions"
   ]
  },
  {
   "cell_type": "code",
   "execution_count": null,
   "id": "b3169b70-b8ff-4ec9-a593-8d60a7fc0c4f",
   "metadata": {},
   "outputs": [],
   "source": [
    "fig.size(6, 25)\n",
    ".vals<-unique(integrated.myeloid$metadata$type_harmony_clean)\n",
    ".vals<-.vals[!is.na(.vals)]\n",
    ".pal<-colorRampPalette(tableau_color_pal('Tableau 10')(10))(length(.vals))\n",
    "names(.pal)<-.vals\n",
    "\n",
    "integrated.myeloid$metadata %>% \n",
    "    filter(source == \"cosmx\") %>% \n",
    "    with(table(type_harmony_clean, SampleFOV)) %>% \n",
    "    prop.table(margin = 2) %>% \n",
    "    as.data.frame %>% \n",
    "    ggplot() + \n",
    "        geom_col(aes(x = SampleFOV, y = Freq, fill = type_harmony_clean)) + \n",
    "        scale_fill_manual(values = .pal) +\n",
    "        guides(x =  guide_axis(angle = 90)) +\n",
    "        ggtitle(paste0(\"Abundance of cells across Samples\")) + \n",
    "        NULL\n",
    "fig.size(10, 25)\n",
    "integrated.myeloid$metadata %>% \n",
    "    subset(source %in% \"cosmx\") %>% \n",
    "    with(table(type_harmony_clean, SampleFOV)) %>%\n",
    "    as.data.frame %>% \n",
    "    separate(SampleFOV, c(\"SampleID\", \"FOV\"), remove = FALSE, sep=\"_(?=[^_]+$)\") %>% \n",
    "    # left_join(integrated.myeloid$metadata %>% subset(source %in% \"cosmx\") %>% dplyr::select(SampleID, SampleFOV, FOV), by = \"SampleFOV\") %>% \n",
    "    ggplot() + \n",
    "        geom_col(aes(x = FOV, y = Freq, fill = type_harmony_clean)) + \n",
    "        scale_fill_manual(values = .pal) +\n",
    "        guides(x =  guide_axis(angle = 90)) +\n",
    "        ggtitle(paste0(\"Abundance of cells across Samples\")) + \n",
    "        facet_wrap(~ SampleID, scales = \"free\") + \n",
    "        NULL\n",
    "\n"
   ]
  },
  {
   "cell_type": "markdown",
   "id": "ec9c0816-6ac0-46d9-85a2-c7f663ee4f6e",
   "metadata": {},
   "source": [
    "# Marker logFC scatter plots"
   ]
  },
  {
   "cell_type": "markdown",
   "id": "c18b22d8-1ffb-4656-afcf-59636ef373c7",
   "metadata": {},
   "source": [
    "## on coarse data"
   ]
  },
  {
   "cell_type": "code",
   "execution_count": null,
   "id": "51da323a-2f4c-4995-81ad-30e83156e7ce",
   "metadata": {},
   "outputs": [],
   "source": [
    "genes_bad<-full_join(\n",
    "        integrated.myeloid$effects_marginal_sc_clust_ann %>%  dplyr::select(c(logFC, feature, contrast, pvalue)), \n",
    "        integrated.myeloid$effects_marginal_cosmx_coarse %>% \n",
    "            filter(pvalue > 1e-02) %>% \n",
    "            dplyr::select(c(logFC, feature, contrast, pvalue)) %>% \n",
    "            group_by(contrast) %>% \n",
    "            mutate(logFCrank = rank(logFC)) %>% \n",
    "            ungroup, \n",
    "        by = c('feature', 'contrast'), \n",
    "        suffix = c('_sc', '_cosmx')\n",
    "        ) %>% \n",
    "    dplyr::select(c(contrast, everything())) %>% \n",
    "    filter(logFC_cosmx < 0.07) %>% \n",
    "    group_by(contrast) %>% \n",
    "    top_n(wt = (logFC_sc), n = 5) %>% \n",
    "    mutate(type = 'bad genes') \n",
    "    \n",
    "genes_good<-full_join(\n",
    "        integrated.myeloid$effects_marginal_sc_clust_ann %>% filter(logFC > 0.5 & pvalue < 1e-02) %>% dplyr::select(c(logFC, feature, contrast, pvalue)), \n",
    "        integrated.myeloid$effects_marginal_cosmx_coarse %>% filter(logFC > 0.5 & pvalue < 1e-02) %>% dplyr::select(c(logFC, feature, contrast, pvalue)), \n",
    "        by = c('feature', 'contrast'), \n",
    "        suffix = c('_sc', '_cosmx')\n",
    "        ) %>% \n",
    "    dplyr::select(c(contrast, everything())) %>% \n",
    "    group_by(contrast) %>% \n",
    "    top_n(wt = (logFC_cosmx), n = 5) %>% \n",
    "    mutate(type = 'good genes') \n",
    "    "
   ]
  },
  {
   "cell_type": "code",
   "execution_count": null,
   "id": "6976cbfc-d8ff-4bf2-8046-be2a42a14654",
   "metadata": {},
   "outputs": [],
   "source": [
    "genes_label<-rbind(genes_good, genes_bad)"
   ]
  },
  {
   "cell_type": "code",
   "execution_count": null,
   "id": "4df2c628-4ff2-4784-9463-b09a82d27d05",
   "metadata": {},
   "outputs": [],
   "source": [
    "nrow(genes_label)"
   ]
  },
  {
   "cell_type": "code",
   "execution_count": null,
   "id": "cae5ad27-b584-4d9b-88b3-4a4488c265f5",
   "metadata": {},
   "outputs": [],
   "source": [
    "integrated.myeloid$metadata$type_harmony %>% unique"
   ]
  },
  {
   "cell_type": "code",
   "execution_count": null,
   "id": "cb969b9d-dfe6-4991-a6fd-3c3d38acace4",
   "metadata": {},
   "outputs": [],
   "source": [
    "# genepanel<-readRDS(\"../data_new/genepanel_cosmx.RDS\")"
   ]
  },
  {
   "cell_type": "code",
   "execution_count": null,
   "id": "aee98650-47a2-47d3-92ea-a5d793cede62",
   "metadata": {},
   "outputs": [],
   "source": [
    "# genes_label_ann<-c(\"CD24\", \"CD27\", \"IGHM\", \"CD11b\", \"IGD\", \"TCL1A\", \"Lsc1\", \"CD1C\")"
   ]
  },
  {
   "cell_type": "code",
   "execution_count": null,
   "id": "dc455f6c-f27a-47a5-a406-57431766fb20",
   "metadata": {},
   "outputs": [],
   "source": [
    "# genepanel[grepl(paste(genes_label_ann, collapse = \"|\"), genepanel)]"
   ]
  },
  {
   "cell_type": "code",
   "execution_count": null,
   "id": "13eaf422-5c7a-4133-a138-94a3933772b9",
   "metadata": {},
   "outputs": [],
   "source": [
    "# genes_label_ann_df<-inner_join(\n",
    "#         integrated.myeloid$effects_marginal_sc_ref %>%  dplyr::select(c(logFC, feature, contrast, pvalue)), \n",
    "#         integrated.myeloid$effects_marginal_cosmx_coarse %>% \n",
    "#             subset(feature %in% genes_label_ann) %>% \n",
    "#             dplyr::select(c(logFC, feature, contrast, pvalue)) %>% \n",
    "#             group_by(contrast) %>% \n",
    "#             mutate(logFCrank = rank(logFC)) %>% \n",
    "#             ungroup, \n",
    "#         by = c('feature', 'contrast'), \n",
    "#         suffix = c('_sc', '_cosmx')\n",
    "#         ) %>% \n",
    "#     dplyr::select(c(contrast, everything()))"
   ]
  },
  {
   "cell_type": "code",
   "execution_count": null,
   "id": "3e371e7a-5e1f-4f79-b623-88b25951b37f",
   "metadata": {},
   "outputs": [],
   "source": [
    "# genes_label_ann_df<-c()"
   ]
  },
  {
   "cell_type": "code",
   "execution_count": null,
   "id": "02cd90b2-81d7-4fc3-9002-18a3e46c9bc4",
   "metadata": {},
   "outputs": [],
   "source": [
    "# genes_label<-rbind(genes_label, genes_label_ann_df)"
   ]
  },
  {
   "cell_type": "code",
   "execution_count": null,
   "id": "1329094f-d7ae-49f0-9404-04b544d72ad7",
   "metadata": {},
   "outputs": [],
   "source": [
    "nrow(genes_label)"
   ]
  },
  {
   "cell_type": "code",
   "execution_count": null,
   "id": "364ebafa-f184-4c73-9656-3336a60dcaa6",
   "metadata": {
    "tags": []
   },
   "outputs": [],
   "source": [
    "fig.size(10, 20)\n",
    "inner_join(\n",
    "        integrated.myeloid$effects_marginal_sc_clust_ann, \n",
    "        integrated.myeloid$effects_marginal_cosmx_coarse,  \n",
    "        by = c('feature', 'contrast'), \n",
    "        suffix = c('_sc', '_cosmx')\n",
    "        ) %>% \n",
    "    ggplot(aes(logFC_cosmx, logFC_sc)) + \n",
    "        geom_hline(yintercept = 0, linetype = 2) + \n",
    "        geom_vline(xintercept = 0, linetype = 2) + \n",
    "        geom_abline() + \n",
    "        geom_point(size = .5, alpha = 0.2) + \n",
    "        facet_wrap(~contrast, scales = 'free') + \n",
    "        geom_smooth(method = 'lm') + \n",
    "        ggtitle(paste0('Marker logFC comparison')) +\n",
    "        geom_point(\n",
    "            data = genes_label, \n",
    "            aes(logFC_cosmx, logFC_sc, color = type)\n",
    "            ) + \n",
    "        geom_text_repel(\n",
    "            data = genes_label, \n",
    "            aes(logFC_cosmx, logFC_sc, label = feature, color = type),\n",
    "            min.segment.length = 0,\n",
    "            max.overlaps = Inf,\n",
    "            show.legend = FALSE,\n",
    "            fontface = 'bold',\n",
    "            box.padding = 1\n",
    "            ) + \n",
    "        guides(color = guide_legend(override.aes = list(shape = 16, alpha = 1, size = 5))) + \n",
    "        scale_color_tableau('Classic Blue-Red 6') + \n",
    "        # geom_text(data = genes_label %>%  mutate(x = , aes(x = 1, y=c(2, 3, 5, 7, 9), label = c(genes_label$type))\n",
    "        NULL\n",
    "\n",
    "# geom_text(data=annotation, aes( x=x, y=y, label=label),                 , \n",
    "#            color=\"orange\", \n",
    "#            size=7 , angle=45, fontface=\"bold\" )\n",
    "\n"
   ]
  },
  {
   "cell_type": "code",
   "execution_count": null,
   "id": "f504426b-e794-41c9-9819-d0cb08f6594e",
   "metadata": {},
   "outputs": [],
   "source": [
    "fig.size(8, 12)\n",
    "inner_join(integrated.myeloid$effects_marginal_sc_clust_ann, integrated.myeloid$effects_marginal_cosmx_coarse, by = c('feature', 'contrast'), suffix = c('_sc', '_cosmx')) %>% \n",
    "    ggplot(aes(logFC_cosmx, logFC_sc)) + \n",
    "        geom_hline(yintercept = 0, linetype = 2) + \n",
    "        geom_vline(xintercept = 0, linetype = 2) + \n",
    "        geom_abline() + \n",
    "        geom_point(size = .5) + \n",
    "        facet_wrap(~contrast) + \n",
    "        geom_smooth(method = 'lm') + \n",
    "        ggtitle(paste0('Marker logFC comparison'))\n"
   ]
  },
  {
   "cell_type": "markdown",
   "id": "26b36032-f5c9-4b45-9a9a-a95d20358228",
   "metadata": {},
   "source": [
    "## on clean data"
   ]
  },
  {
   "cell_type": "code",
   "execution_count": null,
   "id": "72a99881-dc48-4b44-81fe-408273a7250f",
   "metadata": {},
   "outputs": [],
   "source": [
    "genes_bad<-full_join(\n",
    "        integrated.myeloid$effects_marginal_sc_ref %>%  dplyr::select(c(logFC, feature, contrast, pvalue)), \n",
    "        integrated.myeloid$effects_marginal_cosmx_clean %>% \n",
    "            filter(pvalue > 1e-02) %>% \n",
    "            dplyr::select(c(logFC, feature, contrast, pvalue)) %>% \n",
    "            group_by(contrast) %>% \n",
    "            mutate(logFCrank = rank(logFC)) %>% \n",
    "            ungroup, \n",
    "        by = c('feature', 'contrast'), \n",
    "        suffix = c('_sc', '_cosmx')\n",
    "        ) %>% \n",
    "    dplyr::select(c(contrast, everything())) %>% \n",
    "    filter(logFC_cosmx < 0.07) %>% \n",
    "    group_by(contrast) %>% \n",
    "    top_n(wt = (logFC_sc), n = 5) %>% \n",
    "    mutate(type = 'bad genes') \n",
    "    \n",
    "genes_good<-full_join(\n",
    "        integrated.myeloid$effects_marginal_sc_ref %>% filter(logFC > 0.5 & pvalue < 0.05) %>% dplyr::select(c(logFC, feature, contrast, pvalue)), \n",
    "        integrated.myeloid$effects_marginal_cosmx_clean %>% filter(logFC > 0.5 & pvalue < 0.05) %>% dplyr::select(c(logFC, feature, contrast, pvalue)), \n",
    "        by = c('feature', 'contrast'), \n",
    "        suffix = c('_sc', '_cosmx')\n",
    "        ) %>% \n",
    "    dplyr::select(c(contrast, everything())) %>% \n",
    "    group_by(contrast) %>% \n",
    "    top_n(wt = (logFC_cosmx), n = 5) %>% \n",
    "    mutate(type = 'good genes') \n",
    "    \n",
    "\n",
    "genes_label<-rbind(genes_good, genes_bad)\n",
    "\n",
    "fig.size(10, 20)\n",
    "inner_join(\n",
    "        integrated.myeloid$effects_marginal_sc_ref, \n",
    "        integrated.myeloid$effects_marginal_cosmx_clean,  \n",
    "        by = c('feature', 'contrast'), \n",
    "        suffix = c('_sc', '_cosmx')\n",
    "        ) %>% \n",
    "    ggplot(aes(logFC_cosmx, logFC_sc)) + \n",
    "        geom_hline(yintercept = 0, linetype = 2) + \n",
    "        geom_vline(xintercept = 0, linetype = 2) + \n",
    "        geom_abline() + \n",
    "        geom_point(size = .5, alpha = 0.2) + \n",
    "        facet_wrap(~contrast, scales = 'free') + \n",
    "        geom_smooth(method = 'lm') + \n",
    "        ggtitle(paste0('Marker logFC comparison')) +\n",
    "        geom_point(\n",
    "            data = genes_label, \n",
    "            aes(logFC_cosmx, logFC_sc, color = type)\n",
    "            ) + \n",
    "        geom_text_repel(\n",
    "            data = genes_label, \n",
    "            aes(logFC_cosmx, logFC_sc, label = feature, color = type),\n",
    "            min.segment.length = 0,\n",
    "            max.overlaps = Inf,\n",
    "            show.legend = FALSE,\n",
    "            fontface = 'bold',\n",
    "            box.padding = 1\n",
    "            ) + \n",
    "        guides(color = guide_legend(override.aes = list(shape = 16, alpha = 1, size = 5))) + \n",
    "        scale_color_tableau('Classic Blue-Red 6') + \n",
    "        # geom_text(data = genes_label %>%  mutate(x = , aes(x = 1, y=c(2, 3, 5, 7, 9), label = c(genes_label$type))\n",
    "        NULL\n",
    "\n",
    "# geom_text(data=annotation, aes( x=x, y=y, label=label),                 , \n",
    "#            color=\"orange\", \n",
    "#            size=7 , angle=45, fontface=\"bold\" )\n",
    "\n",
    "\n",
    "\n",
    "fig.size(8, 12)\n",
    "inner_join(integrated.myeloid$effects_marginal_sc_ref, integrated.myeloid$effects_marginal_cosmx_clean, by = c('feature', 'contrast'), suffix = c('_sc', '_cosmx')) %>% \n",
    "    ggplot(aes(logFC_cosmx, logFC_sc)) + \n",
    "        geom_hline(yintercept = 0, linetype = 2) + \n",
    "        geom_vline(xintercept = 0, linetype = 2) + \n",
    "        geom_abline() + \n",
    "        geom_point(size = .5) + \n",
    "        facet_wrap(~contrast) + \n",
    "        geom_smooth(method = 'lm') + \n",
    "        ggtitle(paste0('Marker logFC comparison'))\n"
   ]
  },
  {
   "cell_type": "markdown",
   "id": "e7a1c3ab-b9f6-4f2b-8520-fcc89760a9aa",
   "metadata": {},
   "source": [
    "### comparing with sc cells with ann. to see if that changes anything - nope doesnt change"
   ]
  },
  {
   "cell_type": "code",
   "execution_count": null,
   "id": "aaba797c-f673-4ff7-ac35-a0ce05f43e02",
   "metadata": {},
   "outputs": [],
   "source": [
    "genes_bad<-full_join(\n",
    "        integrated.myeloid$effects_marginal_sc_ann_clean %>%  dplyr::select(c(logFC, feature, contrast, pvalue)), \n",
    "        integrated.myeloid$effects_marginal_cosmx_clean %>% \n",
    "            filter(pvalue > 1e-02) %>% \n",
    "            dplyr::select(c(logFC, feature, contrast, pvalue)) %>% \n",
    "            group_by(contrast) %>% \n",
    "            mutate(logFCrank = rank(logFC)) %>% \n",
    "            ungroup, \n",
    "        by = c('feature', 'contrast'), \n",
    "        suffix = c('_sc', '_cosmx')\n",
    "        ) %>% \n",
    "    dplyr::select(c(contrast, everything())) %>% \n",
    "    filter(logFC_cosmx < 0.07) %>% \n",
    "    group_by(contrast) %>% \n",
    "    top_n(wt = (logFC_sc), n = 5) %>% \n",
    "    mutate(type = 'bad genes') \n",
    "    \n",
    "genes_good<-full_join(\n",
    "        integrated.myeloid$effects_marginal_sc_ann_clean %>% filter(logFC > 0.5 & pvalue < 0.05) %>% dplyr::select(c(logFC, feature, contrast, pvalue)), \n",
    "        integrated.myeloid$effects_marginal_cosmx_clean %>% filter(logFC > 0.5 & pvalue < 0.05) %>% dplyr::select(c(logFC, feature, contrast, pvalue)), \n",
    "        by = c('feature', 'contrast'), \n",
    "        suffix = c('_sc', '_cosmx')\n",
    "        ) %>% \n",
    "    dplyr::select(c(contrast, everything())) %>% \n",
    "    group_by(contrast) %>% \n",
    "    top_n(wt = (logFC_cosmx), n = 5) %>% \n",
    "    mutate(type = 'good genes') \n",
    "    \n",
    "\n",
    "genes_label<-rbind(genes_good, genes_bad)\n",
    "\n",
    "fig.size(10, 20)\n",
    "inner_join(\n",
    "        integrated.myeloid$effects_marginal_sc_ann_clean, \n",
    "        integrated.myeloid$effects_marginal_cosmx_clean,  \n",
    "        by = c('feature', 'contrast'), \n",
    "        suffix = c('_sc', '_cosmx')\n",
    "        ) %>% \n",
    "    ggplot(aes(logFC_cosmx, logFC_sc)) + \n",
    "        geom_hline(yintercept = 0, linetype = 2) + \n",
    "        geom_vline(xintercept = 0, linetype = 2) + \n",
    "        geom_abline() + \n",
    "        geom_point(size = .5, alpha = 0.2) + \n",
    "        facet_wrap(~contrast, scales = 'free') + \n",
    "        geom_smooth(method = 'lm') + \n",
    "        ggtitle(paste0('Marker logFC comparison')) +\n",
    "        geom_point(\n",
    "            data = genes_label, \n",
    "            aes(logFC_cosmx, logFC_sc, color = type)\n",
    "            ) + \n",
    "        geom_text_repel(\n",
    "            data = genes_label, \n",
    "            aes(logFC_cosmx, logFC_sc, label = feature, color = type),\n",
    "            min.segment.length = 0,\n",
    "            max.overlaps = Inf,\n",
    "            show.legend = FALSE,\n",
    "            fontface = 'bold',\n",
    "            box.padding = 1\n",
    "            ) + \n",
    "        guides(color = guide_legend(override.aes = list(shape = 16, alpha = 1, size = 5))) + \n",
    "        scale_color_tableau('Classic Blue-Red 6') + \n",
    "        # geom_text(data = genes_label %>%  mutate(x = , aes(x = 1, y=c(2, 3, 5, 7, 9), label = c(genes_label$type))\n",
    "        NULL\n",
    "\n",
    "# geom_text(data=annotation, aes( x=x, y=y, label=label),                 , \n",
    "#            color=\"orange\", \n",
    "#            size=7 , angle=45, fontface=\"bold\" )\n",
    "\n",
    "\n",
    "\n",
    "fig.size(8, 12)\n",
    "inner_join(integrated.myeloid$effects_marginal_sc_ann_clean, integrated.myeloid$effects_marginal_cosmx_clean, by = c('feature', 'contrast'), suffix = c('_sc', '_cosmx')) %>% \n",
    "    ggplot(aes(logFC_cosmx, logFC_sc)) + \n",
    "        geom_hline(yintercept = 0, linetype = 2) + \n",
    "        geom_vline(xintercept = 0, linetype = 2) + \n",
    "        geom_abline() + \n",
    "        geom_point(size = .5) + \n",
    "        facet_wrap(~contrast) + \n",
    "        geom_smooth(method = 'lm') + \n",
    "        ggtitle(paste0('Marker logFC comparison'))\n"
   ]
  },
  {
   "cell_type": "markdown",
   "id": "58c9876f-053c-4248-9efe-9d51d29abf3b",
   "metadata": {},
   "source": [
    "# what are the correlations b/w clusters in sc data?"
   ]
  },
  {
   "cell_type": "code",
   "execution_count": null,
   "id": "ae64de2e-ae44-4d7a-87dd-e42fa9b59e73",
   "metadata": {},
   "outputs": [],
   "source": [
    "# sc_corr_raw<-map(unique(markers_sc_corr$contrast), function(clust_name){\n",
    "    \n",
    "#     cosmx_clust<-markers_sc_corr %>% \n",
    "#         subset(contrast %in% clust_name)\n",
    "#     # print(head(cosmx_clust))\n",
    "    \n",
    "#     map(unique(markers_sc_corr$contrast), function(sc_clust){\n",
    "        \n",
    "#         marker_corr<-data.frame(\n",
    "#             cosmx_clust = clust_name,\n",
    "#             sc_clust = sc_clust,\n",
    "#             corr = markers_sc_corr %>% \n",
    "#                 subset(contrast %in% sc_clust) %>% \n",
    "#                 left_join(cosmx_clust, by = \"feature\", suffix = c(\"_sc\", \"_cosmx\")) %>% \n",
    "#                 with(cor(logFC_sc, logFC_cosmx)) \n",
    "#             )\n",
    "        \n",
    "        \n",
    "#     }) %>% rbindlist\n",
    "        \n",
    "# }) %>% \n",
    "#     rbindlist %>% \n",
    "#     spread(sc_clust, corr) %>% \n",
    "#     column_to_rownames(\"cosmx_clust\") %>% \n",
    "#     as.matrix() %>% \n",
    "#     t() \n",
    "\n",
    "# sc_corr_raw %>% Heatmap()"
   ]
  },
  {
   "cell_type": "markdown",
   "id": "6c077c0a-b2bd-414c-b350-75357b8a4602",
   "metadata": {},
   "source": [
    "# find correlation of genes per cluster"
   ]
  },
  {
   "cell_type": "code",
   "execution_count": null,
   "id": "6eb27241-ab71-4711-9f26-144305d4a936",
   "metadata": {},
   "outputs": [],
   "source": [
    ".t<-inner_join(integrated.myeloid$effects_marginal_sc_ann_clean, integrated.myeloid$effects_marginal_cosmx_clean, by = c('feature', 'cluster'), suffix = c('_sc', '_cosmx')) %>% \n",
    "    group_by(cluster) %>% \n",
    "    summarise(corr.val = cor(logFC_cosmx, logFC_sc))"
   ]
  },
  {
   "cell_type": "code",
   "execution_count": null,
   "id": "60fb4835-27dd-48fb-9f3d-1faa912604ae",
   "metadata": {},
   "outputs": [],
   "source": [
    "head(.t)"
   ]
  },
  {
   "cell_type": "code",
   "execution_count": null,
   "id": "d78e5b86-1d2b-4b66-894c-4a52922138ac",
   "metadata": {},
   "outputs": [],
   "source": [
    "fig.size(8, 8) \n",
    ".t %>% \n",
    "    ggplot() + \n",
    "        geom_point(aes(cluster, corr.val)) + \n",
    "        ggtitle(paste0('Correlations b/w sc and cosmx markers in each cluster')) +\n",
    "        theme(plot.title = element_textbox_simple()) +\n",
    "        ylim(min(0, min(.t$corr.val)), 1) + \n",
    "        guides(x =  guide_axis(angle = 90)) +\n",
    "        NULL"
   ]
  },
  {
   "cell_type": "markdown",
   "id": "d6d30740-2722-4172-ad66-05eb11d7c1ab",
   "metadata": {},
   "source": [
    "## cosmx clean ann marker list"
   ]
  },
  {
   "cell_type": "code",
   "execution_count": null,
   "id": "2fea416f-eaa4-41a4-b887-e435c1458469",
   "metadata": {},
   "outputs": [],
   "source": [
    "integrated.myeloid$effects_marginal_cosmx_clean %>% head"
   ]
  },
  {
   "cell_type": "code",
   "execution_count": null,
   "id": "88b14dd6-13f4-465c-834d-93e8e7427990",
   "metadata": {},
   "outputs": [],
   "source": [
    "integrated.myeloid$effects_marginal_cosmx_clean %>% \n",
    "    group_by(contrast) %>% \n",
    "    subset(logFC > 0.5 & pvalue < 0.05 ) %>% \n",
    "    top_n(n = 20, wt = logFC) %>% \n",
    "    mutate(rank = rank(-logFC)) %>% \n",
    "    ungroup %>% \n",
    "    # mutate(feature_new = paste(feature, logFC)) %>% \n",
    "    dplyr::select(contrast, feature, rank) %>% \n",
    "    spread(contrast, feature, fill = NA)"
   ]
  },
  {
   "cell_type": "markdown",
   "id": "8a89b235-4890-4746-bbcf-243f146e630d",
   "metadata": {},
   "source": [
    "## cosmx marker list"
   ]
  },
  {
   "cell_type": "code",
   "execution_count": null,
   "id": "36c5eb93-a8b6-4bb3-8c82-80dfe4973a01",
   "metadata": {},
   "outputs": [],
   "source": [
    "integrated.myeloid$effects_marginal_cosmx_coarse %>% \n",
    "    group_by(contrast) %>% \n",
    "    subset(logFC > 0.5 & pvalue < 0.05 ) %>% \n",
    "    top_n(n = 20, wt = logFC) %>% \n",
    "    mutate(rank = rank(-logFC)) %>% \n",
    "    ungroup %>% \n",
    "    mutate(feature = paste(feature, logFC)) %>% \n",
    "    dplyr::select(contrast, feature, rank) %>% \n",
    "    spread(contrast, feature, fill = NA)"
   ]
  },
  {
   "cell_type": "markdown",
   "id": "6b9813c1-4495-4b9a-b36a-0b40dd7bb204",
   "metadata": {},
   "source": [
    "# Viz"
   ]
  },
  {
   "cell_type": "markdown",
   "id": "5c71d054-dc3a-4c3f-be24-477f3007057c",
   "metadata": {},
   "source": [
    "### extract the full gene counts from main df"
   ]
  },
  {
   "cell_type": "code",
   "execution_count": null,
   "id": "2390d694-d0c1-434a-8805-884b22d3cc2b",
   "metadata": {},
   "outputs": [],
   "source": [
    "cellids.finetype.cosmx<-integrated.myeloid$metadata %>% \n",
    "    subset(source %in% \"cosmx\") %>%  with(cellID)"
   ]
  },
  {
   "cell_type": "code",
   "execution_count": null,
   "id": "20503da3-7451-42d6-befe-f47dee7f0283",
   "metadata": {},
   "outputs": [],
   "source": [
    "length(cellids.finetype.cosmx)"
   ]
  },
  {
   "cell_type": "code",
   "execution_count": null,
   "id": "c8b31d6c-beae-4084-8a62-b42b885f0d64",
   "metadata": {},
   "outputs": [],
   "source": [
    "genecounts.finetype.cosmx<-cosmx.syno$metadata %>% subset(cellID %in% cellids.finetype.cosmx)"
   ]
  },
  {
   "cell_type": "code",
   "execution_count": null,
   "id": "e6bf5fa7-84a9-491b-9e09-8a5437d32961",
   "metadata": {},
   "outputs": [],
   "source": [
    "p_counts<-plot_dim_red_cont(\n",
    "        integrated.myeloid$Humap$embedding[cellids.finetype.cosmx, ], \n",
    "        cosmx.syno$metadata %>% subset(cellID %in% cellids.finetype.cosmx), \n",
    "        \"cellID\",\n",
    "        \"nCounts\",\n",
    "        \"celltype.coarse\",\n",
    "        \"nCounts of CosMx cells(from all 960 genes)\", \n",
    "        \"UMAP\"\n",
    "    )\n",
    "p_gene<-plot_dim_red_cont(\n",
    "        integrated.myeloid$Humap$embedding[cellids.finetype.cosmx, ], \n",
    "        cosmx.syno$metadata %>% subset(cellID %in% cellids.finetype.cosmx), \n",
    "        \"cellID\",\n",
    "        \"nGene\",\n",
    "        \"celltype.coarse\",\n",
    "        \"nGenes of CosMx cells(from all 960 genes)\", \n",
    "        \"UMAP\"\n",
    "    )\n"
   ]
  },
  {
   "cell_type": "code",
   "execution_count": null,
   "id": "638ebfcc-14ed-4dff-b249-b5177b38b93b",
   "metadata": {},
   "outputs": [],
   "source": [
    "fig.size(5, 15)\n",
    "p_counts | p_gene"
   ]
  },
  {
   "cell_type": "markdown",
   "id": "71e7a920-e41a-4a45-8733-382a234dffa6",
   "metadata": {},
   "source": [
    "### now where are the unmapped clusters?"
   ]
  },
  {
   "cell_type": "code",
   "execution_count": null,
   "id": "39f882c5-d778-4834-b124-f832b58ed6d5",
   "metadata": {},
   "outputs": [],
   "source": [
    "integrated.myeloid$Humap$embedding[cellids.finetype.cosmx,  ] %>% nrow"
   ]
  },
  {
   "cell_type": "code",
   "execution_count": null,
   "id": "fd4ea856-38b3-4190-8112-e1672db25fd8",
   "metadata": {},
   "outputs": [],
   "source": [
    "p_finetyped<-plot_dim_red(\n",
    "    integrated.myeloid$Humap$embedding[cellids.finetype.cosmx,  ],\n",
    "    rep(1, nrow(integrated.myeloid$Humap$embedding[cellids.finetype.cosmx,  ])),\n",
    "    integrated.myeloid$metadata %>% subset(cellID %in% cellids.finetype.cosmx), \n",
    "    \"cellID\", \n",
    "    \"type_harmony\", \n",
    "    \"UMAP after Harmony of cosmxfinetype\",\n",
    "    \"UMAP\", \n",
    "    plot_labels = TRUE\n",
    ")"
   ]
  },
  {
   "cell_type": "code",
   "execution_count": null,
   "id": "cf95a1e1-3c30-4551-a05a-de0f6b64027b",
   "metadata": {},
   "outputs": [],
   "source": [
    "fig.size(6, 6)\n",
    "p_finetyped + theme(legend.position = \"none\") "
   ]
  },
  {
   "cell_type": "code",
   "execution_count": null,
   "id": "5f9a7b64-3f21-4ffb-9da8-25ee799c609e",
   "metadata": {},
   "outputs": [],
   "source": [
    "p_finetyped_nolabels<-plot_dim_red(\n",
    "    integrated.myeloid$Humap$embedding[cellids.finetype.cosmx,  ],\n",
    "    rep(1, nrow(integrated.myeloid$Humap$embedding[cellids.finetype.cosmx,  ])),\n",
    "    integrated.myeloid$metadata %>% subset(cellID %in% cellids.finetype.cosmx), \n",
    "    \"cellID\", \n",
    "    \"type_harmony\", \n",
    "    \"UMAP of cosmx finetype\",\n",
    "    \"UMAP\", \n",
    "    plot_labels = FALSE\n",
    ")"
   ]
  },
  {
   "cell_type": "code",
   "execution_count": null,
   "id": "0135f779-72e6-4f8e-886e-0abb668494dc",
   "metadata": {},
   "outputs": [],
   "source": [
    "fig.size(5, 15)\n",
    "p_counts | p_finetyped_nolabels "
   ]
  },
  {
   "cell_type": "markdown",
   "id": "1a60e283-5f6e-4c8d-9300-6b6dc092fea7",
   "metadata": {},
   "source": [
    "### bar plots: median nCounts per finetyped cluster"
   ]
  },
  {
   "cell_type": "code",
   "execution_count": null,
   "id": "d2ac2d62-5d6c-411a-b8c3-fe39bc3890b9",
   "metadata": {},
   "outputs": [],
   "source": [
    "cosmx.syno$metadata %>% \n",
    "    subset(cellID %in% cellids.finetype.cosmx) %>% \n",
    "    left_join(integrated.myeloid$metadata %>%  \n",
    "              subset(cellID %in% cellids.finetype.cosmx) %>%  \n",
    "              dplyr::select(cellID, type_harmony),\n",
    "        by = \"cellID\"\n",
    "    ) %>% \n",
    "    group_by(type_harmony) %>% \n",
    "    summarise(\n",
    "        medianCounts = median(nCounts),\n",
    "        medianGenes = median(nGene)\n",
    "    ) %>%  \n",
    "    ungroup %>% \n",
    "    ggplot() + \n",
    "        geom_col(aes(medianGenes, type_harmony))"
   ]
  },
  {
   "cell_type": "markdown",
   "id": "d34e322a-23a1-4e16-84e2-006d55c9d3ec",
   "metadata": {},
   "source": [
    "## Gene counts in UMAP space – finetype fine type specific genes (the selected genes?)"
   ]
  },
  {
   "cell_type": "code",
   "execution_count": null,
   "id": "a98c838f-2c1c-4c6d-a73f-2ad25dacbff1",
   "metadata": {},
   "outputs": [],
   "source": [
    "gc_select<-data.frame(\n",
    "    nCounts = colSums(integrated.myeloid$counts[, colnames(integrated.myeloid$counts) %in% cellids.finetype.cosmx]),\n",
    "    nGene = colSums(integrated.myeloid$counts[, colnames(integrated.myeloid$counts) %in% cellids.finetype.cosmx] > 0)\n",
    ") %>% \n",
    "    rownames_to_column(\"cellID\") %>% \n",
    "    left_join(integrated.myeloid$metadata %>% dplyr::select(cellID, type_harmony, SampleID), by = \"cellID\")"
   ]
  },
  {
   "cell_type": "code",
   "execution_count": null,
   "id": "0a6085a8-0f5f-4239-ad1c-ca64841ebcf7",
   "metadata": {},
   "outputs": [],
   "source": [
    "head(gc_select)"
   ]
  },
  {
   "cell_type": "code",
   "execution_count": null,
   "id": "4becdecb-b771-4c1b-b824-f2a451a9e439",
   "metadata": {},
   "outputs": [],
   "source": [
    "p_counts_selected<-plot_dim_red_cont(\n",
    "        integrated.myeloid$Humap$embedding[cellids.finetype.cosmx, ], \n",
    "        gc_select,\n",
    "        \"cellID\",\n",
    "        \"nCounts\",\n",
    "        \"type_harmony\",\n",
    "        \"nCounts (from only relevant genes)\", \n",
    "        \"UMAP\"\n",
    "    )\n",
    "\n",
    "p_genes_selected<-plot_dim_red_cont(\n",
    "        integrated.myeloid$Humap$embedding[cellids.finetype.cosmx, ], \n",
    "        gc_select,\n",
    "        \"cellID\",\n",
    "        \"nGene\",\n",
    "        \"type_harmony\",\n",
    "        \"nGenes (from only relevant genes)\", \n",
    "        \"UMAP\"\n",
    "    )"
   ]
  },
  {
   "cell_type": "code",
   "execution_count": null,
   "id": "3693ebad-4b84-41ba-882b-f46d8e3066e1",
   "metadata": {},
   "outputs": [],
   "source": [
    "fig.size(5, 12)\n",
    "p_counts_selected | p_genes_selected"
   ]
  },
  {
   "cell_type": "code",
   "execution_count": null,
   "id": "b7c14a0f-bf69-4ecc-b9b7-4d9448386dbe",
   "metadata": {},
   "outputs": [],
   "source": [
    "fig.size(5, 15)\n",
    "p_counts_selected | p_finetyped_nolabels "
   ]
  },
  {
   "cell_type": "code",
   "execution_count": null,
   "id": "ff4e39cc-f90f-4385-ace4-9c5e74149f11",
   "metadata": {},
   "outputs": [],
   "source": [
    "ncounts_cosmx_genes<-colSums(integrated.myeloid$counts[, colnames(integrated.myeloid$counts) %in% cellids.finetype.cosmx])\n",
    "ngenes_cosmx_genes<-colSums(integrated.myeloid$counts[, colnames(integrated.myeloid$counts) %in% cellids.finetype.cosmx] > 0)"
   ]
  },
  {
   "cell_type": "code",
   "execution_count": null,
   "id": "91a1324c-6f34-4069-87b8-3d7270a1b68a",
   "metadata": {},
   "outputs": [],
   "source": [
    "cosmx.syno$metadata %>% \n",
    "    subset(cellID %in% cellids.finetype.cosmx) %>% \n",
    "    left_join(integrated.myeloid$metadata %>%  \n",
    "              subset(cellID %in% cellids.finetype.cosmx) %>%  \n",
    "              dplyr::select(cellID, type_harmony),\n",
    "        by = \"cellID\"\n",
    "    ) %>% \n",
    "    cbind(\n",
    "        nCounts_genes = ncounts_cosmx_genes,\n",
    "        nGenes_genes = ngenes_cosmx_genes\n",
    "    ) %>%       \n",
    "    group_by(type_harmony) %>% \n",
    "    summarise(\n",
    "        medianCounts = median(nCounts_genes),\n",
    "        medianGenes = median(nGenes_genes)\n",
    "    ) %>%  \n",
    "    ungroup %>% \n",
    "    ggplot() + \n",
    "        geom_col(aes(medianGenes, type_harmony))"
   ]
  },
  {
   "cell_type": "markdown",
   "id": "37b6d437-f5db-4e7e-88cc-ae1f2f5020ce",
   "metadata": {},
   "source": [
    "## Isolate TPH and recluster"
   ]
  },
  {
   "cell_type": "code",
   "execution_count": null,
   "id": "07414cfc-1312-4e82-ba05-7e74e401b0c9",
   "metadata": {},
   "outputs": [],
   "source": [
    "CXCR6tph <-integrated.myeloid$metadata %>% \n",
    "    subset(type_harmony %in% c(\"CCL5+CXCR6+MAF+ TPH\")) "
   ]
  },
  {
   "cell_type": "code",
   "execution_count": null,
   "id": "9da5bdd9-9fc6-4d8e-b349-f1a2dc0ba893",
   "metadata": {},
   "outputs": [],
   "source": [
    "rownames(CXCR6tph) <- CXCR6tph$cellID\n",
    "cellids_CXCR6tph<-rownames(CXCR6tph)"
   ]
  },
  {
   "cell_type": "code",
   "execution_count": null,
   "id": "bf31a11d-47c1-42e0-83d4-9010f194dcf8",
   "metadata": {},
   "outputs": [],
   "source": [
    "CXCR6tph<-list()\n",
    "CXCR6tph$counts<-integrated.myeloid$counts[, cellids_CXCR6tph]\n",
    "CXCR6tph$metadata<-integrated.myeloid$metadata[cellids_CXCR6tph, ]"
   ]
  },
  {
   "cell_type": "code",
   "execution_count": null,
   "id": "6398811f-d1e3-4c43-b5e2-581736c3c6f1",
   "metadata": {},
   "outputs": [],
   "source": [
    "QC_harmony_pipeline_normval"
   ]
  },
  {
   "cell_type": "code",
   "execution_count": null,
   "metadata": {},
   "outputs": [],
   "source": [
    "CXCR6tph$Humap$fgraph"
   ]
  },
  {
   "cell_type": "code",
   "execution_count": null,
   "metadata": {},
   "outputs": [],
   "source": [
    "library(parallel)\n",
    "detectCores()"
   ]
  },
  {
   "cell_type": "code",
   "execution_count": null,
   "metadata": {},
   "outputs": [],
   "source": [
    "CXCR6tph$Humap$snn"
   ]
  },
  {
   "cell_type": "code",
   "execution_count": null,
   "metadata": {},
   "outputs": [],
   "source": [
    "set.seed(9)\n",
    "            CXCR6tph$Humap$clusters <- RunModularityClustering(CXCR6tph$Humap$snn, \n",
    "                resolution = c(0.5,1.5,2.5),  n_cores=1,\n",
    "                print.output = FALSE)"
   ]
  },
  {
   "cell_type": "code",
   "execution_count": null,
   "id": "46052381-85e2-4966-9bd6-57f6e6fc0a42",
   "metadata": {},
   "outputs": [],
   "source": [
    "diag(CXCR6tph$Humap$fgraph)"
   ]
  },
  {
   "cell_type": "code",
   "execution_count": null,
   "id": "e63205fd-c9a1-40f5-b239-1175e8abfad0",
   "metadata": {},
   "outputs": [],
   "source": []
  },
  {
   "cell_type": "code",
   "execution_count": null,
   "id": "194eb336-0a8c-4fec-90a1-2d597af6e117",
   "metadata": {},
   "outputs": [],
   "source": []
  },
  {
   "cell_type": "code",
   "execution_count": null,
   "id": "1a9699d0-f316-46d5-a59c-2ddbcde5d3ee",
   "metadata": {},
   "outputs": [],
   "source": []
  },
  {
   "cell_type": "code",
   "execution_count": null,
   "id": "b2be3584-5987-46d9-9f6b-5472096400ad",
   "metadata": {},
   "outputs": [],
   "source": []
  },
  {
   "cell_type": "code",
   "execution_count": null,
   "id": "fab9e758-05b3-436e-bb27-d30c585f7edb",
   "metadata": {},
   "outputs": [],
   "source": []
  },
  {
   "cell_type": "code",
   "execution_count": null,
   "id": "357e13a4-f4ea-4612-bd26-8ddadceaeaec",
   "metadata": {},
   "outputs": [],
   "source": []
  },
  {
   "cell_type": "code",
   "execution_count": null,
   "id": "3797c7ed-207f-44c4-985e-bd96b4d1ea8c",
   "metadata": {},
   "outputs": [],
   "source": []
  },
  {
   "cell_type": "code",
   "execution_count": null,
   "id": "cb4be90a-d895-4d3f-8f64-e04e0e6667c4",
   "metadata": {},
   "outputs": [],
   "source": []
  },
  {
   "cell_type": "code",
   "execution_count": null,
   "id": "1cc9d835-fb07-491d-b232-3c6d4ed561ee",
   "metadata": {},
   "outputs": [],
   "source": []
  },
  {
   "cell_type": "code",
   "execution_count": null,
   "id": "7e99df1b-a7f7-4565-9750-73c2f19125e5",
   "metadata": {},
   "outputs": [],
   "source": []
  },
  {
   "cell_type": "code",
   "execution_count": null,
   "id": "85ea7678-8584-41b1-ad60-11ba43a25cbd",
   "metadata": {},
   "outputs": [],
   "source": []
  },
  {
   "cell_type": "code",
   "execution_count": null,
   "id": "348d380b-b63f-468a-a52b-65083b45e5ce",
   "metadata": {},
   "outputs": [],
   "source": []
  },
  {
   "cell_type": "code",
   "execution_count": null,
   "id": "00ce5829-8550-4dc7-9551-69f685dae6bf",
   "metadata": {},
   "outputs": [],
   "source": []
  },
  {
   "cell_type": "code",
   "execution_count": null,
   "id": "054af872-cb1b-4394-bfa6-52e073e89e2a",
   "metadata": {},
   "outputs": [],
   "source": []
  },
  {
   "cell_type": "code",
   "execution_count": null,
   "id": "653c5edc-9b14-4aaa-a0e1-aeeadcd26ce0",
   "metadata": {},
   "outputs": [],
   "source": []
  },
  {
   "cell_type": "code",
   "execution_count": null,
   "id": "832728dd-d4a4-4c9d-9f02-47d8a7080573",
   "metadata": {},
   "outputs": [],
   "source": []
  }
 ],
 "metadata": {
  "kernelspec": {
   "display_name": "R",
   "language": "R",
   "name": "ir"
  },
  "language_info": {
   "codemirror_mode": "r",
   "file_extension": ".r",
   "mimetype": "text/x-r-source",
   "name": "R",
   "pygments_lexer": "r",
   "version": "4.1.0"
  }
 },
 "nbformat": 4,
 "nbformat_minor": 5
}
