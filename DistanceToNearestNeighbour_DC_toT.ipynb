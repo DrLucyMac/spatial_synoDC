{
 "cells": [
  {
   "cell_type": "code",
   "execution_count": null,
   "metadata": {},
   "outputs": [],
   "source": [
    "options(warn = -1, verbose=FALSE)\n",
    "#!/usr/bin/env Rscript \n",
    "library(dplyr)\n",
    "library(httr)\n",
    "library(pheatmap)\n",
    "library(ggplot2)\n",
    "library(unixtools)\n",
    "library(repr)\n",
    "library(ggmin)\n",
    "library(purrr)\n",
    "library(geojsonio)\n",
    "library(circlize)\n",
    "library(pryr)\n",
    "set_config(config(ssl_verifypeer = 0L))\n",
    "ulimit::memory_limit(100000)\n",
    "set.tempdir(\"/datastore/lucy/tmp/\")\n",
    "setwd(\"/datastore/lucy/CosMx\")"
   ]
  },
  {
   "cell_type": "markdown",
   "metadata": {},
   "source": [
    "## Load Korsunksy lab functions"
   ]
  },
  {
   "cell_type": "code",
   "execution_count": null,
   "id": "314bbd5d-4f4e-4dc8-862f-73b09dbe62d3",
   "metadata": {},
   "outputs": [],
   "source": [
    "source(\"./R/utils.R\")\n",
    "start_upR(TRUE)\n",
    "source(\"./R/TissueSegFunctions.R\")"
   ]
  },
  {
   "cell_type": "markdown",
   "metadata": {},
   "source": [
    "## Load cell geometry and annotations"
   ]
  },
  {
   "cell_type": "code",
   "execution_count": null,
   "metadata": {},
   "outputs": [],
   "source": [
    "objH<-readRDS(\"./cache/tissueSegmentation/spatialObjregions.RDS\")"
   ]
  },
  {
   "cell_type": "code",
   "execution_count": null,
   "metadata": {},
   "outputs": [],
   "source": [
    "head(objH$metadata)"
   ]
  },
  {
   "cell_type": "code",
   "execution_count": null,
   "metadata": {},
   "outputs": [],
   "source": [
    "niche_anno<-objH$metadata %>% dplyr::select(cellID,highres.regions) \n",
    "head(niche_anno)"
   ]
  },
  {
   "cell_type": "code",
   "execution_count": null,
   "metadata": {},
   "outputs": [],
   "source": [
    "rm(objH)"
   ]
  },
  {
   "cell_type": "code",
   "execution_count": null,
   "id": "0f923483-1138-4d3d-824f-175a9609a6c4",
   "metadata": {},
   "outputs": [],
   "source": [
    "cellgeoms<-readRDS(\"./cache/raw/Glasgow_cellgeoms_QC.RDS\") "
   ]
  },
  {
   "cell_type": "code",
   "execution_count": null,
   "id": "c64b55fe-e752-465e-a4c8-2f84802630f3",
   "metadata": {},
   "outputs": [],
   "source": [
    "head(cellgeoms, 2)"
   ]
  },
  {
   "cell_type": "code",
   "execution_count": null,
   "id": "310b42e3-ce65-41b6-8560-f8905656238c",
   "metadata": {},
   "outputs": [],
   "source": [
    "cell_ann<-readRDS(\"cache/CosMxcoarseGrainharmonyObj_markers.RDS\")$metadata"
   ]
  },
  {
   "cell_type": "code",
   "execution_count": null,
   "id": "b027d837-7e77-462b-923d-26014e540c6c",
   "metadata": {},
   "outputs": [],
   "source": [
    "head(cell_ann, 2)"
   ]
  },
  {
   "cell_type": "code",
   "execution_count": null,
   "metadata": {},
   "outputs": [],
   "source": [
    "cell_ann <- cell_ann %>% left_join(niche_anno, by = \"cellID\")"
   ]
  },
  {
   "cell_type": "code",
   "execution_count": null,
   "metadata": {},
   "outputs": [],
   "source": [
    "head(cell_ann, 2)"
   ]
  },
  {
   "cell_type": "code",
   "execution_count": null,
   "metadata": {},
   "outputs": [],
   "source": [
    "unique(cell_ann$fine.types)"
   ]
  },
  {
   "cell_type": "code",
   "execution_count": null,
   "metadata": {},
   "outputs": [],
   "source": [
    "sampleFOVcondition <- read.table(\"/datastore/lucy/CosMx/cache/SampleFOV-condition.csv\", header=TRUE, sep=\",\")"
   ]
  },
  {
   "cell_type": "code",
   "execution_count": null,
   "metadata": {},
   "outputs": [],
   "source": [
    "#Combine with info about condition of each FOV\n",
    "cellgeoms <- merge(cellgeoms, sampleFOVcondition, all=FALSE)\n",
    "cell_ann <- merge(cell_ann, sampleFOVcondition, all=FALSE)"
   ]
  },
  {
   "cell_type": "code",
   "execution_count": null,
   "metadata": {},
   "outputs": [],
   "source": [
    "cellgeoms$SampleFOV <- paste0(cellgeoms$Condition,\"_\",cellgeoms$SampleFOV)\n",
    "cell_ann$SampleFOV <- paste0(cell_ann$Condition,\"_\",cell_ann$SampleFOV)"
   ]
  },
  {
   "cell_type": "code",
   "execution_count": null,
   "metadata": {},
   "outputs": [],
   "source": [
    "pixel_size <- (0.18^2) #This is incorrect"
   ]
  },
  {
   "cell_type": "code",
   "execution_count": null,
   "metadata": {},
   "outputs": [],
   "source": [
    "pixel_size"
   ]
  },
  {
   "cell_type": "code",
   "execution_count": null,
   "id": "4e84af69-839d-4c10-ae75-3c09f665bf41",
   "metadata": {},
   "outputs": [],
   "source": [
    "mean(cellgeoms$area_um) "
   ]
  },
  {
   "cell_type": "code",
   "execution_count": null,
   "metadata": {},
   "outputs": [],
   "source": [
    "cell_ann$dc.t <- ifelse(cell_ann$fine.types%in%c('Myeloid_DC1 CLEC9A+',\n",
    "                                 'Myeloid_DC2 CD1c+',\n",
    "                                 'Myeloid_DC2 CCR7+',\n",
    "                                 'Myeloid_DC3 CD1clowCD163+',\n",
    "                                 'Myeloid_iDC3 CD14highCD163+',\n",
    "                                 'Myeloid_FOLR2highCLEC10A+ STM',\"Tcell_CD55+PDE4B+CD4+ Naive\",\n",
    "                                 \"Tcell_CCR7+CD7+CD4+ Naive/TCM\",\n",
    "                                 'Tcell_BAG3+DNAJB1+CD4+ T',\n",
    "                                 'Tcell_CCR6+RORA+TNFSF13B+ TEM',\n",
    "                                  'Tcell_CCL5+GZMA+CD4+ TEM',\n",
    "                                 'Tcell_CCL5+CXCR6+MAF+ TPH',\n",
    "                                 'Tcell_CXCL13hi MAF+ TPH',\n",
    "                                 'Tcell_FOXP3+ Tregs'), as.character(cell_ann$fine.types), as.character(cell_ann$new.coarse.types))"
   ]
  },
  {
   "cell_type": "code",
   "execution_count": null,
   "metadata": {},
   "outputs": [],
   "source": [
    "unique(cell_ann$dc.t)"
   ]
  },
  {
   "cell_type": "code",
   "execution_count": null,
   "metadata": {},
   "outputs": [],
   "source": [
    "cell_ann$dc.t <- as.ordered(factor(cell_ann$dc.t, \n",
    "                        levels=c(\"Adipocytes\",\"PRG4+ Lining Fibroblast\",\"Fibroblast\",\n",
    "                                 \"Mural\",\"Endothelial\",\"Plasma\",\"B cells\",\n",
    "                                 \"Tcell_CD55+PDE4B+CD4+ Naive\",\"Tcell_CCR7+CD7+CD4+ Naive/TCM\",\n",
    "                                 'Tcell_BAG3+DNAJB1+CD4+ T',\n",
    "                                 'Tcell_CCR6+RORA+TNFSF13B+ TEM',\n",
    "                                  'Tcell_CCL5+GZMA+CD4+ TEM',\n",
    "                                 'Tcell_CCL5+CXCR6+MAF+ TPH',\n",
    "                                 'Tcell_CXCL13hi MAF+ TPH',\n",
    "                                 'Tcell_FOXP3+ Tregs',\"CD8+ Tcell\",\"NK cell\",\"Mast\",\"Macrophage\",\n",
    "                                 'Myeloid_FOLR2highCLEC10A+ STM','Myeloid_iDC3 CD14highCD163+','Myeloid_DC3 CD1clowCD163+',\n",
    "                                 'Myeloid_DC2 CD1c+','Myeloid_DC2 CCR7+','Myeloid_DC1 CLEC9A+'\n",
    "                                 )))"
   ]
  },
  {
   "cell_type": "code",
   "execution_count": null,
   "metadata": {},
   "outputs": [],
   "source": [
    "levels(cell_ann$dc.t)"
   ]
  },
  {
   "cell_type": "code",
   "execution_count": null,
   "metadata": {},
   "outputs": [],
   "source": [
    "t.cell.clusts <- c(\"Tcell_CD55+PDE4B+CD4+ Naive\",\n",
    "                                 \"Tcell_CCR7+CD7+CD4+ Naive/TCM\",\n",
    "                                 'Tcell_BAG3+DNAJB1+CD4+ T',\n",
    "                                 'Tcell_CCR6+RORA+TNFSF13B+ TEM',\n",
    "                                  'Tcell_CCL5+GZMA+CD4+ TEM',\n",
    "                                 'Tcell_CCL5+CXCR6+MAF+ TPH',\n",
    "                                 'Tcell_CXCL13hi MAF+ TPH',\n",
    "                                 'Tcell_FOXP3+ Tregs')"
   ]
  },
  {
   "cell_type": "code",
   "execution_count": null,
   "metadata": {},
   "outputs": [],
   "source": [
    "t.cols <- c(\"Tcell_CD55+PDE4B+CD4+ Naive\"='#AFE1AF',\n",
    "\"Tcell_CCR7+CD7+CD4+ Naive/TCM\"=\"#7CFC00\",\n",
    "'Tcell_BAG3+DNAJB1+CD4+ T'=\"Purple\",\n",
    "                         'Tcell_CCR6+RORA+TNFSF13B+ TEM'=\"darkorange\",\n",
    "                                                      'Tcell_CCL5+GZMA+CD4+ TEM'='#FF3131',\n",
    "                                                                         'Tcell_CCL5+CXCR6+MAF+ TPH'=\"dodgerblue2\",\n",
    "                                                                         'Tcell_CXCL13hi MAF+ TPH'=\"darkturquoise\",\n",
    "                                                                         'Tcell_FOXP3+ Tregs'=\"#FFFF00\")"
   ]
  },
  {
   "cell_type": "code",
   "execution_count": null,
   "metadata": {
    "scrolled": true
   },
   "outputs": [],
   "source": [
    "unique(activeRA_cell_ann$highres.regions)"
   ]
  },
  {
   "cell_type": "markdown",
   "metadata": {},
   "source": [
    "## cDC and CD4 T cell"
   ]
  },
  {
   "cell_type": "code",
   "execution_count": null,
   "metadata": {},
   "outputs": [],
   "source": [
    "#Isolate cells in region of interest and get centroid coords\n",
    "annotations <- activeRA_cell_ann <- cell_ann[which(cell_ann$Condition%in%\"Active RA\"),]\n",
    "coords <- annotations[, .(x, y)]"
   ]
  },
  {
   "cell_type": "code",
   "execution_count": null,
   "metadata": {},
   "outputs": [],
   "source": [
    "#Get index cell type of interest\n",
    "index_type <- \"cDC\""
   ]
  },
  {
   "cell_type": "code",
   "execution_count": null,
   "metadata": {},
   "outputs": [],
   "source": [
    "#Calculate nearest neighbours, return_weights=TRUE returns distances\n",
    "adj = spatula::getSpatialNeighbors(coords, return_weights = TRUE)\n",
    "mean(adj@x)\n",
    "quantile(adj@x, c(.05, .95))\n",
    "head(adj)"
   ]
  },
  {
   "cell_type": "code",
   "execution_count": null,
   "metadata": {},
   "outputs": [],
   "source": [
    "#Add cell IDs\n",
    "rownames(adj) <- annotations$cellID\n",
    "colnames(adj) <- annotations$cellID\n",
    "dim(adj)"
   ]
  },
  {
   "cell_type": "code",
   "execution_count": null,
   "metadata": {},
   "outputs": [],
   "source": [
    "#Subset matrix to contain only neighbours\n",
    "i_index <- which(annotations$new.coarse.types%in%index_type)\n",
    "index_neighbours = as.data.frame(t(as.matrix(adj[i_index, ])))"
   ]
  },
  {
   "cell_type": "code",
   "execution_count": null,
   "metadata": {},
   "outputs": [],
   "source": [
    "dim(index_neighbours)\n",
    "head(index_neighbours)"
   ]
  },
  {
   "cell_type": "code",
   "execution_count": null,
   "metadata": {},
   "outputs": [],
   "source": [
    "index_neighbours$new.coarse.types <- annotations$new.coarse.types\n",
    "index_neighbours$fine.type <- annotations$fine.type\n",
    "index_neighbours$neighbour <- rownames(index_neighbours)"
   ]
  },
  {
   "cell_type": "code",
   "execution_count": null,
   "metadata": {},
   "outputs": [],
   "source": [
    "index_neighbours.melt <- melt(index_neighbours)"
   ]
  },
  {
   "cell_type": "code",
   "execution_count": null,
   "metadata": {},
   "outputs": [],
   "source": [
    "index_neighbours.melt$index_fine.type <- index_type"
   ]
  },
  {
   "cell_type": "code",
   "execution_count": null,
   "metadata": {
    "scrolled": true
   },
   "outputs": [],
   "source": [
    "colnames(index_neighbours.melt) <- c(\"neighbour_coarse\",\"neighbour_fine.type\",\"neighbour\",\"index\",\"distance\",\"index_type\")\n",
    "head(index_neighbours.melt)"
   ]
  },
  {
   "cell_type": "code",
   "execution_count": null,
   "metadata": {},
   "outputs": [],
   "source": [
    "index_neighbours.melt <- index_neighbours.melt[index_neighbours.melt$distance>0,]"
   ]
  },
  {
   "cell_type": "code",
   "execution_count": null,
   "metadata": {},
   "outputs": [],
   "source": [
    "index_neighbours.tcell.melt_activeRA <- index_neighbours.melt[which(index_neighbours.melt$neighbour_coarse%in%\"CD4+ Tcell\"),]"
   ]
  },
  {
   "cell_type": "code",
   "execution_count": null,
   "metadata": {},
   "outputs": [],
   "source": [
    "index_neighbours.tcell.melt_activeRA$condition <- \"Active RA\""
   ]
  },
  {
   "cell_type": "code",
   "execution_count": null,
   "metadata": {},
   "outputs": [],
   "source": [
    "unique(cell_ann$Condition)"
   ]
  },
  {
   "cell_type": "code",
   "execution_count": null,
   "metadata": {},
   "outputs": [],
   "source": [
    "#Isolate cells in region of interest and get centroid coords\n",
    "annotations <- cell_ann[which(cell_ann$Condition%in%\"RemissionRA\"),]\n",
    "coords <- annotations[, .(x, y)]"
   ]
  },
  {
   "cell_type": "code",
   "execution_count": null,
   "metadata": {},
   "outputs": [],
   "source": [
    "#Get index cell type of interest\n",
    "index_type <- \"cDC\""
   ]
  },
  {
   "cell_type": "code",
   "execution_count": null,
   "metadata": {},
   "outputs": [],
   "source": [
    "#Calculate nearest neighbours, return_weights=TRUE returns distances\n",
    "adj = spatula::getSpatialNeighbors(coords, return_weights = TRUE)\n",
    "mean(adj@x)\n",
    "quantile(adj@x, c(.05, .95))\n",
    "head(adj)"
   ]
  },
  {
   "cell_type": "code",
   "execution_count": null,
   "metadata": {},
   "outputs": [],
   "source": [
    "#Add cell IDs\n",
    "rownames(adj) <- annotations$cellID\n",
    "colnames(adj) <- annotations$cellID\n",
    "dim(adj)"
   ]
  },
  {
   "cell_type": "code",
   "execution_count": null,
   "metadata": {},
   "outputs": [],
   "source": [
    "#Subset matrix to contain only neighbours\n",
    "i_index <- which(annotations$new.coarse.types%in%index_type)\n",
    "index_neighbours = as.data.frame(t(as.matrix(adj[i_index, ])))"
   ]
  },
  {
   "cell_type": "code",
   "execution_count": null,
   "metadata": {},
   "outputs": [],
   "source": [
    "dim(index_neighbours)\n",
    "head(index_neighbours)"
   ]
  },
  {
   "cell_type": "code",
   "execution_count": null,
   "metadata": {},
   "outputs": [],
   "source": [
    "index_neighbours$new.coarse.types <- annotations$new.coarse.types\n",
    "index_neighbours$fine.type <- annotations$fine.type\n",
    "index_neighbours$neighbour <- rownames(index_neighbours)"
   ]
  },
  {
   "cell_type": "code",
   "execution_count": null,
   "metadata": {},
   "outputs": [],
   "source": [
    "index_neighbours.melt <- melt(index_neighbours)"
   ]
  },
  {
   "cell_type": "code",
   "execution_count": null,
   "metadata": {},
   "outputs": [],
   "source": [
    "index_neighbours.melt$index_fine.type <- index_type"
   ]
  },
  {
   "cell_type": "code",
   "execution_count": null,
   "metadata": {
    "scrolled": true
   },
   "outputs": [],
   "source": [
    "colnames(index_neighbours.melt) <- c(\"neighbour_coarse\",\"neighbour_fine.type\",\"neighbour\",\"index\",\"distance\",\"index_type\")\n",
    "head(index_neighbours.melt)"
   ]
  },
  {
   "cell_type": "code",
   "execution_count": null,
   "metadata": {},
   "outputs": [],
   "source": [
    "index_neighbours.melt <- index_neighbours.melt[index_neighbours.melt$distance>0,]"
   ]
  },
  {
   "cell_type": "code",
   "execution_count": null,
   "metadata": {},
   "outputs": [],
   "source": [
    "index_neighbours.tcell.melt_remRA <- index_neighbours.melt[which(index_neighbours.melt$neighbour_coarse%in%\"CD4+ Tcell\"),]"
   ]
  },
  {
   "cell_type": "code",
   "execution_count": null,
   "metadata": {},
   "outputs": [],
   "source": [
    "index_neighbours.tcell.melt_remRA$condition <- \"Remission RA\""
   ]
  },
  {
   "cell_type": "code",
   "execution_count": null,
   "metadata": {},
   "outputs": [],
   "source": [
    "index_neighbours.tcell.melt <- rbind(index_neighbours.tcell.melt_activeRA, index_neighbours.tcell.melt_remRA)"
   ]
  },
  {
   "cell_type": "code",
   "execution_count": null,
   "metadata": {
    "scrolled": true
   },
   "outputs": [],
   "source": [
    "fig.size(6, 10)\n",
    "ggplot(index_neighbours.tcell.melt_remRA) + geom_freqpoly(aes(distance, color=condition), bins=10, size=2) + \n",
    "    guides(fill=FALSE) + xlim(0,100) + theme_powerpoint() + \n",
    "    theme(plot.title=element_text(size=30),axis.text=element_text(size=20),axis.title=element_text(size=25)) + ggtitle(paste0(index_type)) + xlab(\"Distance to CD4 T cell neighbour\") + ylab(\"Neighbour count\") + scale_color_manual(values=c(\"blue\"))"
   ]
  },
  {
   "cell_type": "code",
   "execution_count": null,
   "metadata": {
    "scrolled": true
   },
   "outputs": [],
   "source": [
    "fig.size(6, 10)\n",
    "ggplot(index_neighbours.tcell.melt) + geom_freqpoly(aes(distance, color=condition), bins=10, size=2) + \n",
    "    guides(fill=FALSE) + xlim(0,100) + theme_powerpoint() + \n",
    "    theme(plot.title=element_text(size=30),axis.text=element_text(size=20),axis.title=element_text(size=25)) + ggtitle(paste0(index_type)) + xlab(\"Distance to CD4 T cell neighbour\") + ylab(\"Neighbour count\") + scale_color_manual(values=c(\"red\",\"blue\"))"
   ]
  },
  {
   "cell_type": "code",
   "execution_count": null,
   "metadata": {
    "scrolled": false
   },
   "outputs": [],
   "source": [
    "fig.size(3, 6)\n",
    "ggplot(index_neighbours.tcell.melt) + geom_freqpoly(aes(distance, color=condition), bins=10, size=2) + scale_y_log10() + \n",
    "    guides(fill=FALSE) + xlim(0,100) + theme_powerpoint() + \n",
    "    theme(plot.title=element_text(size=20),axis.text=element_text(size=20),legend.text=element_text(size=20),legend.title=element_blank(),axis.title=element_text(size=15)) + ggtitle(\"Myeloid DC\") + xlab(\"Distance to CD4 T cell neighbour (um)\") + ylab(\"Neighbour count (log10)\") + scale_color_manual(values=c(\"red\",\"blue\"))"
   ]
  },
  {
   "cell_type": "markdown",
   "metadata": {},
   "source": [
    "## Myeloid_DC2 CCR7+ in Active RA "
   ]
  },
  {
   "cell_type": "code",
   "execution_count": null,
   "metadata": {},
   "outputs": [],
   "source": [
    "#Isolate cells in region of interest and get centroid coords\n",
    "annotations <- activeRA_cell_ann\n",
    "coords <- annotations[, .(x, y)]"
   ]
  },
  {
   "cell_type": "code",
   "execution_count": null,
   "metadata": {},
   "outputs": [],
   "source": [
    "#Get index cell type of interest\n",
    "index_type <- \"Myeloid_DC2 CCR7+\""
   ]
  },
  {
   "cell_type": "code",
   "execution_count": null,
   "metadata": {},
   "outputs": [],
   "source": [
    "#Calculate nearest neighbours, return_weights=TRUE returns distances\n",
    "adj = spatula::getSpatialNeighbors(coords, return_weights = TRUE)\n",
    "mean(adj@x)\n",
    "quantile(adj@x, c(.05, .95))\n",
    "head(adj)"
   ]
  },
  {
   "cell_type": "code",
   "execution_count": null,
   "metadata": {},
   "outputs": [],
   "source": [
    "#Add cell IDs\n",
    "rownames(adj) <- annotations$cellID\n",
    "colnames(adj) <- annotations$cellID\n",
    "dim(adj)"
   ]
  },
  {
   "cell_type": "code",
   "execution_count": null,
   "metadata": {},
   "outputs": [],
   "source": [
    "#Subset matrix to contain only neighbours\n",
    "i_index <- which(annotations$fine.type%in%index_type)\n",
    "index_neighbours = as.data.frame(t(as.matrix(adj[i_index, ])))\n",
    "dim(index_neighbours)\n",
    "head(index_neighbours)"
   ]
  },
  {
   "cell_type": "code",
   "execution_count": null,
   "metadata": {},
   "outputs": [],
   "source": [
    "#Add cell metadata\n",
    "index_neighbours$new.coarse.types <- annotations$new.coarse.types\n",
    "index_neighbours$fine.type <- annotations$fine.type\n",
    "index_neighbours$neighbour <- rownames(index_neighbours)\n",
    "#Melt matrix into dataframe\n",
    "index_neighbours.melt <- melt(index_neighbours)\n",
    "index_neighbours.melt$index_fine.type <- index_type"
   ]
  },
  {
   "cell_type": "code",
   "execution_count": null,
   "metadata": {
    "scrolled": true
   },
   "outputs": [],
   "source": [
    "colnames(index_neighbours.melt) <- c(\"neighbour_coarse\",\"neighbour_fine.type\",\"neighbour\",\"index\",\"distance\",\"index_type\")\n",
    "head(index_neighbours.melt)"
   ]
  },
  {
   "cell_type": "code",
   "execution_count": null,
   "metadata": {},
   "outputs": [],
   "source": [
    "#Remove pairs with distance 0 i.e. self to self or too far\n",
    "index_neighbours.melt <- index_neighbours.melt[index_neighbours.melt$distance>0,]"
   ]
  },
  {
   "cell_type": "code",
   "execution_count": null,
   "metadata": {},
   "outputs": [],
   "source": [
    "#Subset pairs with T cell neighbours\n",
    "index_neighbours.tcell.melt <- index_neighbours.melt[which(index_neighbours.melt$neighbour_fine.type%in%t.cell.clusts),]"
   ]
  },
  {
   "cell_type": "code",
   "execution_count": null,
   "metadata": {
    "scrolled": true
   },
   "outputs": [],
   "source": [
    "fig.size(3, 8)\n",
    "ggplot(index_neighbours.tcell.melt)  + geom_freqpoly(aes(distance, color=neighbour_fine.type), binwidth=10,size=2) + \n",
    "    guides(fill=FALSE) + xlim(0,100) + theme_powerpoint() + \n",
    "    theme(plot.title=element_text(size=15),axis.text=element_text(size=20),axis.title=element_text(size=15)) + ggtitle(paste0(index_type)) + xlab(\"Distance to CD4 T cell neighbour (um)\") + ylab(\"Neighbour count\") + scale_color_manual(values=t.cols)"
   ]
  },
  {
   "cell_type": "markdown",
   "metadata": {},
   "source": [
    "## Myeloid_DC2 CCR7+ in Active RA Lymphoid"
   ]
  },
  {
   "cell_type": "code",
   "execution_count": null,
   "metadata": {},
   "outputs": [],
   "source": [
    "#Isolate cells in region of interest and get centroid coords\n",
    "annotations <- activeRA_cell_ann[activeRA_cell_ann$highres.regions==\"Lymphoid\",]\n",
    "coords <- annotations[, .(x, y)]"
   ]
  },
  {
   "cell_type": "code",
   "execution_count": null,
   "metadata": {},
   "outputs": [],
   "source": [
    "#Get index cell type of interest\n",
    "index_type <- \"Myeloid_DC2 CCR7+\""
   ]
  },
  {
   "cell_type": "code",
   "execution_count": null,
   "metadata": {},
   "outputs": [],
   "source": [
    "#Calculate nearest neighbours, return_weights=TRUE returns distances\n",
    "adj = spatula::getSpatialNeighbors(coords, return_weights = TRUE)\n",
    "mean(adj@x)\n",
    "quantile(adj@x, c(.05, .95))\n",
    "head(adj)"
   ]
  },
  {
   "cell_type": "code",
   "execution_count": null,
   "metadata": {},
   "outputs": [],
   "source": [
    "#Add cell IDs\n",
    "rownames(adj) <- annotations$cellID\n",
    "colnames(adj) <- annotations$cellID\n",
    "dim(adj)"
   ]
  },
  {
   "cell_type": "code",
   "execution_count": null,
   "metadata": {},
   "outputs": [],
   "source": [
    "#Subset matrix to contain only neighbours\n",
    "i_index <- which(annotations$fine.type%in%index_type)\n",
    "index_neighbours = as.data.frame(t(as.matrix(adj[i_index, ])))\n",
    "dim(index_neighbours)\n",
    "head(index_neighbours)"
   ]
  },
  {
   "cell_type": "code",
   "execution_count": null,
   "metadata": {},
   "outputs": [],
   "source": [
    "#Add cell metadata\n",
    "index_neighbours$new.coarse.types <- annotations$new.coarse.types\n",
    "index_neighbours$fine.type <- annotations$fine.type\n",
    "index_neighbours$neighbour <- rownames(index_neighbours)\n",
    "#Melt matrix into dataframe\n",
    "index_neighbours.melt <- melt(index_neighbours)\n",
    "index_neighbours.melt$index_fine.type <- index_type"
   ]
  },
  {
   "cell_type": "code",
   "execution_count": null,
   "metadata": {
    "scrolled": true
   },
   "outputs": [],
   "source": [
    "colnames(index_neighbours.melt) <- c(\"neighbour_coarse\",\"neighbour_fine.type\",\"neighbour\",\"index\",\"distance\",\"index_type\")\n",
    "head(index_neighbours.melt)"
   ]
  },
  {
   "cell_type": "code",
   "execution_count": null,
   "metadata": {},
   "outputs": [],
   "source": [
    "#Remove pairs with distance 0 i.e. self to self or too far\n",
    "index_neighbours.melt <- index_neighbours.melt[index_neighbours.melt$distance>0,]"
   ]
  },
  {
   "cell_type": "code",
   "execution_count": null,
   "metadata": {},
   "outputs": [],
   "source": [
    "#Subset pairs with T cell neighbours\n",
    "index_neighbours.tcell.melt <- index_neighbours.melt[which(index_neighbours.melt$neighbour_fine.type%in%t.cell.clusts),]"
   ]
  },
  {
   "cell_type": "code",
   "execution_count": null,
   "metadata": {
    "scrolled": false
   },
   "outputs": [],
   "source": [
    "fig.size(3, 8)\n",
    "ggplot(index_neighbours.tcell.melt)  + geom_freqpoly(aes(distance, color=neighbour_fine.type), binwidth=10,size=2) + \n",
    "    guides(fill=FALSE) + xlim(0,100) + theme_powerpoint() + \n",
    "    theme(plot.title=element_text(size=15),axis.text=element_text(size=20),axis.title=element_text(size=15)) + ggtitle(paste0(index_type,\" in Lymphoid\")) + xlab(\"Distance to CD4 T cell neighbour (um)\") + ylab(\"Neighbour count\") + scale_color_manual(values=t.cols)"
   ]
  },
  {
   "cell_type": "markdown",
   "metadata": {},
   "source": [
    "## Myeloid_iDC3 CD14highCD163+ in Active RA "
   ]
  },
  {
   "cell_type": "code",
   "execution_count": null,
   "metadata": {},
   "outputs": [],
   "source": [
    "#Isolate cells in region of interest and get centroid coords\n",
    "annotations <- activeRA_cell_ann\n",
    "coords <- annotations[, .(x, y)]"
   ]
  },
  {
   "cell_type": "code",
   "execution_count": null,
   "metadata": {},
   "outputs": [],
   "source": [
    "#Get index cell type of interest\n",
    "index_type <- \"Myeloid_iDC3 CD14highCD163+\""
   ]
  },
  {
   "cell_type": "code",
   "execution_count": null,
   "metadata": {},
   "outputs": [],
   "source": [
    "#Calculate nearest neighbours, return_weights=TRUE returns distances\n",
    "adj = spatula::getSpatialNeighbors(coords, return_weights = TRUE)\n",
    "mean(adj@x)\n",
    "quantile(adj@x, c(.05, .95))\n",
    "head(adj)"
   ]
  },
  {
   "cell_type": "code",
   "execution_count": null,
   "metadata": {},
   "outputs": [],
   "source": [
    "#Add cell IDs\n",
    "rownames(adj) <- annotations$cellID\n",
    "colnames(adj) <- annotations$cellID\n",
    "dim(adj)"
   ]
  },
  {
   "cell_type": "code",
   "execution_count": null,
   "metadata": {},
   "outputs": [],
   "source": [
    "#Subset matrix to contain only neighbours\n",
    "i_index <- which(annotations$fine.type%in%index_type)\n",
    "index_neighbours = as.data.frame(t(as.matrix(adj[i_index, ])))\n",
    "dim(index_neighbours)\n",
    "head(index_neighbours)"
   ]
  },
  {
   "cell_type": "code",
   "execution_count": null,
   "metadata": {},
   "outputs": [],
   "source": [
    "#Add cell metadata\n",
    "index_neighbours$new.coarse.types <- annotations$new.coarse.types\n",
    "index_neighbours$fine.type <- annotations$fine.type\n",
    "index_neighbours$neighbour <- rownames(index_neighbours)\n",
    "#Melt matrix into dataframe\n",
    "index_neighbours.melt <- melt(index_neighbours)\n",
    "index_neighbours.melt$index_fine.type <- index_type"
   ]
  },
  {
   "cell_type": "code",
   "execution_count": null,
   "metadata": {
    "scrolled": true
   },
   "outputs": [],
   "source": [
    "colnames(index_neighbours.melt) <- c(\"neighbour_coarse\",\"neighbour_fine.type\",\"neighbour\",\"index\",\"distance\",\"index_type\")\n",
    "head(index_neighbours.melt)"
   ]
  },
  {
   "cell_type": "code",
   "execution_count": null,
   "metadata": {},
   "outputs": [],
   "source": [
    "#Remove pairs with distance 0 i.e. self to self or too far\n",
    "index_neighbours.melt <- index_neighbours.melt[index_neighbours.melt$distance>0,]"
   ]
  },
  {
   "cell_type": "code",
   "execution_count": null,
   "metadata": {},
   "outputs": [],
   "source": [
    "#Subset pairs with T cell neighbours\n",
    "index_neighbours.tcell.melt <- index_neighbours.melt[which(index_neighbours.melt$neighbour_fine.type%in%t.cell.clusts),]"
   ]
  },
  {
   "cell_type": "code",
   "execution_count": null,
   "metadata": {
    "scrolled": true
   },
   "outputs": [],
   "source": [
    "fig.size(3, 8)\n",
    "ggplot(index_neighbours.tcell.melt)  + geom_freqpoly(aes(distance, color=neighbour_fine.type), binwidth=10,size=2) + \n",
    "    guides(fill=FALSE) + xlim(0,100) + theme_powerpoint() + \n",
    "    theme(plot.title=element_text(size=15),axis.text=element_text(size=20),axis.title=element_text(size=15)) + ggtitle(paste0(index_type)) + xlab(\"Distance to CD4 T cell neighbour (um)\") + ylab(\"Neighbour count\") + scale_color_manual(values=t.cols)"
   ]
  },
  {
   "cell_type": "markdown",
   "metadata": {},
   "source": [
    "## Myeloid_iDC3 CD14highCD163+ in Active RA Myeloid-rich Lining"
   ]
  },
  {
   "cell_type": "code",
   "execution_count": null,
   "metadata": {},
   "outputs": [],
   "source": [
    "#Isolate cells in region of interest and get centroid coords\n",
    "annotations <- activeRA_cell_ann[activeRA_cell_ann$highres.regions==\"Lining_Myeloid-rich\",]\n",
    "coords <- annotations[, .(x, y)]"
   ]
  },
  {
   "cell_type": "code",
   "execution_count": null,
   "metadata": {},
   "outputs": [],
   "source": [
    "#Get index cell type of interest\n",
    "index_type <- \"Myeloid_iDC3 CD14highCD163+\""
   ]
  },
  {
   "cell_type": "code",
   "execution_count": null,
   "metadata": {},
   "outputs": [],
   "source": [
    "#Calculate nearest neighbours, return_weights=TRUE returns distances\n",
    "adj = spatula::getSpatialNeighbors(coords, return_weights = TRUE)\n",
    "mean(adj@x)\n",
    "quantile(adj@x, c(.05, .95))\n",
    "head(adj)"
   ]
  },
  {
   "cell_type": "code",
   "execution_count": null,
   "metadata": {},
   "outputs": [],
   "source": [
    "#Add cell IDs\n",
    "rownames(adj) <- annotations$cellID\n",
    "colnames(adj) <- annotations$cellID\n",
    "dim(adj)"
   ]
  },
  {
   "cell_type": "code",
   "execution_count": null,
   "metadata": {},
   "outputs": [],
   "source": [
    "#Subset matrix to contain only neighbours\n",
    "i_index <- which(annotations$fine.type%in%index_type)\n",
    "index_neighbours = as.data.frame(t(as.matrix(adj[i_index, ])))\n",
    "dim(index_neighbours)\n",
    "head(index_neighbours)"
   ]
  },
  {
   "cell_type": "code",
   "execution_count": null,
   "metadata": {},
   "outputs": [],
   "source": [
    "#Add cell metadata\n",
    "index_neighbours$new.coarse.types <- annotations$new.coarse.types\n",
    "index_neighbours$fine.type <- annotations$fine.type\n",
    "index_neighbours$neighbour <- rownames(index_neighbours)\n",
    "#Melt matrix into dataframe\n",
    "index_neighbours.melt <- melt(index_neighbours)\n",
    "index_neighbours.melt$index_fine.type <- index_type"
   ]
  },
  {
   "cell_type": "code",
   "execution_count": null,
   "metadata": {
    "scrolled": true
   },
   "outputs": [],
   "source": [
    "colnames(index_neighbours.melt) <- c(\"neighbour_coarse\",\"neighbour_fine.type\",\"neighbour\",\"index\",\"distance\",\"index_type\")\n",
    "head(index_neighbours.melt)"
   ]
  },
  {
   "cell_type": "code",
   "execution_count": null,
   "metadata": {},
   "outputs": [],
   "source": [
    "#Remove pairs with distance 0 i.e. self to self or too far\n",
    "index_neighbours.melt <- index_neighbours.melt[index_neighbours.melt$distance>0,]"
   ]
  },
  {
   "cell_type": "code",
   "execution_count": null,
   "metadata": {},
   "outputs": [],
   "source": [
    "#Subset pairs with T cell neighbours\n",
    "index_neighbours.tcell.melt <- index_neighbours.melt[which(index_neighbours.melt$neighbour_fine.type%in%t.cell.clusts),]"
   ]
  },
  {
   "cell_type": "code",
   "execution_count": null,
   "metadata": {
    "scrolled": false
   },
   "outputs": [],
   "source": [
    "fig.size(3, 8)\n",
    "ggplot(index_neighbours.tcell.melt)  + geom_freqpoly(aes(distance, color=neighbour_fine.type), binwidth=10,size=2) + \n",
    "    guides(fill=FALSE) + xlim(0,100) + theme_powerpoint() + \n",
    "    theme(plot.title=element_text(size=15),axis.text=element_text(size=20),axis.title=element_text(size=15)) + ggtitle(paste0(index_type,\" in Myeloid-rich lining\")) + xlab(\"Distance to CD4 T cell neighbour (um)\") + ylab(\"Neighbour count\") + scale_color_manual(values=t.cols)"
   ]
  },
  {
   "cell_type": "markdown",
   "metadata": {},
   "source": [
    "## Myeloid_FOLR2highCLEC10A+ STM in Active RA"
   ]
  },
  {
   "cell_type": "code",
   "execution_count": null,
   "metadata": {},
   "outputs": [],
   "source": [
    "#Isolate cells in region of interest and get centroid coords\n",
    "annotations <- activeRA_cell_ann\n",
    "coords <- annotations[, .(x, y)]"
   ]
  },
  {
   "cell_type": "code",
   "execution_count": null,
   "metadata": {},
   "outputs": [],
   "source": [
    "#Get index cell type of interest\n",
    "index_type <- \"Myeloid_FOLR2highCLEC10A+ STM\""
   ]
  },
  {
   "cell_type": "code",
   "execution_count": null,
   "metadata": {},
   "outputs": [],
   "source": [
    "#Calculate nearest neighbours, return_weights=TRUE returns distances\n",
    "adj = spatula::getSpatialNeighbors(coords, return_weights = TRUE)\n",
    "mean(adj@x)\n",
    "quantile(adj@x, c(.05, .95))\n",
    "head(adj)"
   ]
  },
  {
   "cell_type": "code",
   "execution_count": null,
   "metadata": {},
   "outputs": [],
   "source": [
    "#Add cell IDs\n",
    "rownames(adj) <- annotations$cellID\n",
    "colnames(adj) <- annotations$cellID\n",
    "dim(adj)"
   ]
  },
  {
   "cell_type": "code",
   "execution_count": null,
   "metadata": {},
   "outputs": [],
   "source": [
    "#Subset matrix to contain only neighbours\n",
    "i_index <- which(annotations$fine.type%in%index_type)\n",
    "index_neighbours = as.data.frame(t(as.matrix(adj[i_index, ])))\n",
    "dim(index_neighbours)\n",
    "head(index_neighbours)"
   ]
  },
  {
   "cell_type": "code",
   "execution_count": null,
   "metadata": {},
   "outputs": [],
   "source": [
    "#Add cell metadata\n",
    "index_neighbours$new.coarse.types <- annotations$new.coarse.types\n",
    "index_neighbours$fine.type <- annotations$fine.type\n",
    "index_neighbours$neighbour <- rownames(index_neighbours)\n",
    "#Melt matrix into dataframe\n",
    "index_neighbours.melt <- melt(index_neighbours)\n",
    "index_neighbours.melt$index_fine.type <- index_type"
   ]
  },
  {
   "cell_type": "code",
   "execution_count": null,
   "metadata": {
    "scrolled": true
   },
   "outputs": [],
   "source": [
    "colnames(index_neighbours.melt) <- c(\"neighbour_coarse\",\"neighbour_fine.type\",\"neighbour\",\"index\",\"distance\",\"index_type\")\n",
    "head(index_neighbours.melt)"
   ]
  },
  {
   "cell_type": "code",
   "execution_count": null,
   "metadata": {},
   "outputs": [],
   "source": [
    "#Remove pairs with distance 0 i.e. self to self or too far\n",
    "index_neighbours.melt <- index_neighbours.melt[index_neighbours.melt$distance>0,]"
   ]
  },
  {
   "cell_type": "code",
   "execution_count": null,
   "metadata": {},
   "outputs": [],
   "source": [
    "#Subset pairs with T cell neighbours\n",
    "index_neighbours.tcell.melt <- index_neighbours.melt[which(index_neighbours.melt$neighbour_fine.type%in%t.cell.clusts),]"
   ]
  },
  {
   "cell_type": "code",
   "execution_count": null,
   "metadata": {
    "scrolled": true
   },
   "outputs": [],
   "source": [
    "fig.size(6, 10)\n",
    "ggplot(index_neighbours.tcell.melt) + geom_freqpoly(aes(distance, color=neighbour_fine.type), size=2) + \n",
    "    guides(fill=FALSE) + xlim(0,100) + theme_powerpoint() + \n",
    "    theme(plot.title=element_text(size=15),axis.text=element_text(size=20),axis.title=element_text(size=25)) + ggtitle(paste0(index_type)) + xlab(\"Distance to CD4 T cell neighbour\") + ylab(\"Neighbour count\") + scale_color_manual(values=t.cols)"
   ]
  },
  {
   "cell_type": "markdown",
   "metadata": {},
   "source": [
    "## Myeloid_FOLR2highCLEC10A+ STM in Active RA Sublining_Myeloid-rich"
   ]
  },
  {
   "cell_type": "code",
   "execution_count": null,
   "metadata": {},
   "outputs": [],
   "source": [
    "#Isolate cells in region of interest and get centroid coords\n",
    "annotations <- activeRA_cell_ann[activeRA_cell_ann$highres.regions==\"Sublining_Myeloid-rich\",]\n",
    "coords <- annotations[, .(x, y)]"
   ]
  },
  {
   "cell_type": "code",
   "execution_count": null,
   "metadata": {},
   "outputs": [],
   "source": [
    "#Get index cell type of interest\n",
    "index_type <- \"Myeloid_FOLR2highCLEC10A+ STM\""
   ]
  },
  {
   "cell_type": "code",
   "execution_count": null,
   "metadata": {},
   "outputs": [],
   "source": [
    "#Calculate nearest neighbours, return_weights=TRUE returns distances\n",
    "adj = spatula::getSpatialNeighbors(coords, return_weights = TRUE)\n",
    "mean(adj@x)\n",
    "quantile(adj@x, c(.05, .95))\n",
    "head(adj,1)"
   ]
  },
  {
   "cell_type": "code",
   "execution_count": null,
   "metadata": {},
   "outputs": [],
   "source": [
    "#Add cell IDs\n",
    "rownames(adj) <- annotations$cellID\n",
    "colnames(adj) <- annotations$cellID\n",
    "dim(adj)"
   ]
  },
  {
   "cell_type": "code",
   "execution_count": null,
   "metadata": {},
   "outputs": [],
   "source": [
    "#Subset matrix to contain only neighbours\n",
    "i_index <- which(annotations$fine.type%in%index_type)\n",
    "index_neighbours = as.data.frame(t(as.matrix(adj[i_index, ])))\n",
    "dim(index_neighbours)\n",
    "head(index_neighbours)"
   ]
  },
  {
   "cell_type": "code",
   "execution_count": null,
   "metadata": {},
   "outputs": [],
   "source": [
    "#Add cell metadata\n",
    "index_neighbours$new.coarse.types <- annotations$new.coarse.types\n",
    "index_neighbours$fine.type <- annotations$fine.type\n",
    "index_neighbours$neighbour <- rownames(index_neighbours)\n",
    "#Melt matrix into dataframe\n",
    "index_neighbours.melt <- melt(index_neighbours)\n",
    "index_neighbours.melt$index_fine.type <- index_type"
   ]
  },
  {
   "cell_type": "code",
   "execution_count": null,
   "metadata": {
    "scrolled": true
   },
   "outputs": [],
   "source": [
    "colnames(index_neighbours.melt) <- c(\"neighbour_coarse\",\"neighbour_fine.type\",\"neighbour\",\"index\",\"distance\",\"index_type\")\n",
    "head(index_neighbours.melt)"
   ]
  },
  {
   "cell_type": "code",
   "execution_count": null,
   "metadata": {},
   "outputs": [],
   "source": [
    "#Remove pairs with distance 0 i.e. self to self or too far\n",
    "index_neighbours.melt <- index_neighbours.melt[index_neighbours.melt$distance>0,]"
   ]
  },
  {
   "cell_type": "code",
   "execution_count": null,
   "metadata": {},
   "outputs": [],
   "source": [
    "#Subset pairs with T cell neighbours\n",
    "index_neighbours.tcell.melt <- index_neighbours.melt[which(index_neighbours.melt$neighbour_fine.type%in%t.cell.clusts),]"
   ]
  },
  {
   "cell_type": "code",
   "execution_count": null,
   "metadata": {
    "scrolled": true
   },
   "outputs": [],
   "source": [
    "fig.size(6, 10)\n",
    "ggplot(index_neighbours.tcell.melt) + geom_freqpoly(aes(distance, color=neighbour_fine.type), bins=10, size=2) + \n",
    "    guides(fill=FALSE) + xlim(0,100) + theme_powerpoint() + \n",
    "    theme(plot.title=element_text(size=15),axis.text=element_text(size=20),axis.title=element_text(size=25)) + ggtitle(paste0(index_type,\" in Sublining Myeloid-rich\")) + xlab(\"Distance to CD4 T cell neighbour\") + ylab(\"Neighbour count\") + scale_color_manual(values=t.cols)"
   ]
  },
  {
   "cell_type": "markdown",
   "metadata": {},
   "source": [
    "## Distance of all cells regardless of neighbour"
   ]
  },
  {
   "cell_type": "code",
   "execution_count": null,
   "metadata": {},
   "outputs": [],
   "source": [
    "activeRA_cell_ann <- activeRA_cell_ann[which(!is.na(activeRA_cell_ann$dc.t)),]"
   ]
  },
  {
   "cell_type": "code",
   "execution_count": null,
   "metadata": {},
   "outputs": [],
   "source": [
    "unique(activeRA_cell_ann$dc.t)"
   ]
  },
  {
   "cell_type": "code",
   "execution_count": null,
   "metadata": {},
   "outputs": [],
   "source": [
    "unique(activeRA_cell_ann$new.coarse.types)"
   ]
  },
  {
   "cell_type": "code",
   "execution_count": null,
   "metadata": {},
   "outputs": [],
   "source": [
    "coords <- activeRA_cell_ann[, .(x, y)]"
   ]
  },
  {
   "cell_type": "code",
   "execution_count": null,
   "metadata": {},
   "outputs": [],
   "source": [
    "adj = spatula::getSpatialNeighbors(coords, return_weights = TRUE)\n",
    "    adj@x[adj@x > 40] = 0\n",
    "    adj = Matrix::drop0(adj)\n",
    "    adj@x = rep(1, length(adj@x))"
   ]
  },
  {
   "cell_type": "code",
   "execution_count": null,
   "metadata": {},
   "outputs": [],
   "source": [
    "cellgeoms <- readRDS(\"./cache/cellgeoms_finetyped.RDS\")"
   ]
  },
  {
   "cell_type": "code",
   "execution_count": null,
   "metadata": {},
   "outputs": [],
   "source": [
    "fov.list <- as.list(unique(cellgeoms$SampleFOV))"
   ]
  },
  {
   "cell_type": "code",
   "execution_count": null,
   "metadata": {},
   "outputs": [],
   "source": [
    "head(cellgeoms)"
   ]
  },
  {
   "cell_type": "code",
   "execution_count": null,
   "metadata": {
    "scrolled": true
   },
   "outputs": [],
   "source": [
    "unique(cellgeoms$fine.types)"
   ]
  },
  {
   "cell_type": "code",
   "execution_count": null,
   "metadata": {},
   "outputs": [],
   "source": [
    "#Determine cell centroid i.e. centre point of each polygon\n",
    "cellgeoms <- cellgeoms %>%\n",
    "    dplyr::mutate(centroid = st_centroid(geometry)) "
   ]
  },
  {
   "cell_type": "code",
   "execution_count": null,
   "metadata": {},
   "outputs": [],
   "source": [
    "dc_cents <- list()\n",
    "t_cents <- list()\n",
    "distance <- list()\n",
    "distance.data <- list()"
   ]
  },
  {
   "cell_type": "code",
   "execution_count": null,
   "metadata": {},
   "outputs": [],
   "source": [
    "findDistance <- function(pairs){\n",
    "    index = pairs$Var1\n",
    "    neighbor = pairs$Var2\n",
    "    index_coords = st_coordinates(index)\n",
    "    neighbor_coords = st_coordinates(neighbor)\n",
    "    distance = sqrt((index_coords[, 1] - neighbor_coords[, 1])^2 + (index_coords[, 2] - neighbor_coords[, 2])^2)\n",
    "    return(distance)\n",
    "}"
   ]
  },
  {
   "cell_type": "code",
   "execution_count": null,
   "metadata": {},
   "outputs": [],
   "source": [
    "activeRA_geoms <- cellgeoms[which(cellgeoms$Condition==\"Active RA\"),]"
   ]
  },
  {
   "cell_type": "code",
   "execution_count": null,
   "metadata": {
    "scrolled": false
   },
   "outputs": [],
   "source": [
    "fov.list <- unique(activeRA_geoms$SampleFOV)\n",
    "dc.cluster <- \"Myeloid_iDC3 CD14highCD163+\"\n",
    "t.cluster <- \"Tcell_CCL5+CXCR6+MAF+ TPH\"\n",
    "\n",
    "for(i in 1:length(fov.list)) {\n",
    "    \n",
    "    #Subset cell geometries to FOV of interest\n",
    "    fov <- fov.list[[i]]\n",
    "    print(fov)\n",
    "    fov_cellgeoms <- activeRA_geoms[which(activeRA_geoms$SampleFOV==fov),]\n",
    "    \n",
    "    #If DC cluster is present in FOV\n",
    "    if(length(which(fov_cellgeoms$fine.types==dc.cluster))>0){\n",
    "     if(length(which(fov_cellgeoms$fine.types==t.cluster))>0){\n",
    "        print(\"Calculating distance\")\n",
    "        \n",
    "        #Subset cell geometries for DC and T cell clusters of interest\n",
    "        dc <- as.data.frame(fov_cellgeoms[which(fov_cellgeoms$fine.types==dc.cluster),c(\"centroid\")])\n",
    "        t <- as.data.frame(fov_cellgeoms[which(fov_cellgeoms$fine.types==t.cluster),c(\"centroid\")])\n",
    "         \n",
    "        #Determine all possible combinations of DC and T cell interaction \n",
    "        pairs <- expand.grid(dc$geometry,t$geometry)\n",
    "      \n",
    "        #Calculate distance between centroids \n",
    "        dists <- findDistance(pairs)\n",
    "                    \n",
    "        print(\"done\")    \n",
    "        \n",
    "    } else { \n",
    "        print (\"T cluster not present\") } }\n",
    "    else { \n",
    "        print (\"DC cluster not present\") }\n",
    "\n",
    "        distance.data[[fov]] <- dists\n",
    "\n",
    "}"
   ]
  },
  {
   "cell_type": "code",
   "execution_count": null,
   "metadata": {},
   "outputs": [],
   "source": [
    "plot <- as.data.frame(unlist(distance.data))"
   ]
  },
  {
   "cell_type": "code",
   "execution_count": null,
   "metadata": {},
   "outputs": [],
   "source": [
    "colnames(plot) <- \"distance\""
   ]
  },
  {
   "cell_type": "code",
   "execution_count": null,
   "metadata": {},
   "outputs": [],
   "source": [
    "head(plot)"
   ]
  },
  {
   "cell_type": "code",
   "execution_count": null,
   "metadata": {
    "scrolled": false
   },
   "outputs": [],
   "source": [
    "fig.size(5, 8)\n",
    "ggplot(plot) + geom_histogram(aes(distance),binwidth = 10) "
   ]
  },
  {
   "cell_type": "code",
   "execution_count": null,
   "metadata": {
    "scrolled": false
   },
   "outputs": [],
   "source": [
    "fov.list <- unique(activeRA_geoms$SampleFOV)\n",
    "dc.cluster <- \"Myeloid_iDC3 CD14highCD163+\"\n",
    "t.cluster <- \"Tcell_CXCL13hi MAF+ TPH'\"\n",
    "\n",
    "for(i in 1:length(fov.list)) {\n",
    "    \n",
    "    #Subset cell geometries to FOV of interest\n",
    "    fov <- fov.list[[i]]\n",
    "    print(fov)\n",
    "    fov_cellgeoms <- activeRA_geoms[which(activeRA_geoms$SampleFOV==fov),]\n",
    "    \n",
    "    #If DC cluster is present in FOV\n",
    "    if(length(which(fov_cellgeoms$fine.types==dc.cluster))>0){\n",
    "     if(length(which(fov_cellgeoms$fine.types==t.cluster))>0){\n",
    "        print(\"Calculating distance\")\n",
    "        \n",
    "        #Subset cell geometries for DC and T cell clusters of interest\n",
    "        dc <- as.data.frame(fov_cellgeoms[which(fov_cellgeoms$fine.types==dc.cluster),c(\"centroid\")])\n",
    "        t <- as.data.frame(fov_cellgeoms[which(fov_cellgeoms$fine.types==t.cluster),c(\"centroid\")])\n",
    "         \n",
    "        #Determine all possible combinations of DC and T cell interaction \n",
    "        pairs <- expand.grid(dc$geometry,t$geometry)\n",
    "      \n",
    "        #Calculate distance between centroids \n",
    "        dists <- findDistance(pairs)\n",
    "                    \n",
    "        print(\"done\")    \n",
    "        \n",
    "    } else { \n",
    "        print (\"T cluster not present\") } }\n",
    "    else { \n",
    "        print (\"DC cluster not present\") }\n",
    "\n",
    "        distance.data[[fov]] <- dists\n",
    "\n",
    "}"
   ]
  },
  {
   "cell_type": "code",
   "execution_count": null,
   "metadata": {},
   "outputs": [],
   "source": [
    "plot <- as.data.frame(unlist(distance.data))"
   ]
  },
  {
   "cell_type": "code",
   "execution_count": null,
   "metadata": {},
   "outputs": [],
   "source": [
    "colnames(plot) <- \"distance\""
   ]
  },
  {
   "cell_type": "code",
   "execution_count": null,
   "metadata": {},
   "outputs": [],
   "source": [
    "head(plot)"
   ]
  },
  {
   "cell_type": "code",
   "execution_count": null,
   "metadata": {
    "scrolled": true
   },
   "outputs": [],
   "source": [
    "fig.size(5, 8)\n",
    "ggplot(plot) + geom_histogram(aes(distance),binwidth = 10) #+ scale_x_log10() "
   ]
  },
  {
   "cell_type": "code",
   "execution_count": null,
   "metadata": {},
   "outputs": [],
   "source": [
    " #Subset cell geometries for DC and T cell clusters of interest\n",
    "fov_cellgeoms <- as.data.frame(fov_cellgeoms[which(fov_cellgeoms$fine.types%in%c(dc.cluster,t.cluster)),\n",
    "                                             c(\"centroid\",\"fine.types\")])"
   ]
  },
  {
   "cell_type": "code",
   "execution_count": null,
   "metadata": {},
   "outputs": [],
   "source": [
    "head(fov_cellgeoms)"
   ]
  },
  {
   "cell_type": "code",
   "execution_count": null,
   "metadata": {},
   "outputs": [],
   "source": [
    "lines <- st_sfc(mapply(function(a,b){st_cast(st_union(a,b),\"LINESTRING\")}, dc$geometry, t$geometry, SIMPLIFY=FALSE))"
   ]
  },
  {
   "cell_type": "code",
   "execution_count": null,
   "metadata": {
    "scrolled": true
   },
   "outputs": [],
   "source": [
    "ggplot(fov_cellgeoms) + geom_sf(aes(geometry=centroid, color=fine.types)) + scale_color_manual(values=c(\"red\",\"blue\")) "
   ]
  }
 ],
 "metadata": {
  "kernelspec": {
   "display_name": "R",
   "language": "R",
   "name": "ir"
  },
  "language_info": {
   "codemirror_mode": "r",
   "file_extension": ".r",
   "mimetype": "text/x-r-source",
   "name": "R",
   "pygments_lexer": "r",
   "version": "4.1.0"
  },
  "widgets": {
   "application/vnd.jupyter.widget-state+json": {
    "state": {},
    "version_major": 2,
    "version_minor": 0
   }
  }
 },
 "nbformat": 4,
 "nbformat_minor": 5
}
