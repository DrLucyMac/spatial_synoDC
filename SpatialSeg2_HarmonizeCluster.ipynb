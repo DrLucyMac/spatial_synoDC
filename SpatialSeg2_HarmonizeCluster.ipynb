{
 "cells": [
  {
   "cell_type": "code",
   "execution_count": 1,
   "id": "adbac4f9-a6be-4107-a7b5-1db10b995358",
   "metadata": {
    "tags": []
   },
   "outputs": [
    {
     "name": "stderr",
     "output_type": "stream",
     "text": [
      "\n",
      "Attaching package: ‘dplyr’\n",
      "\n",
      "\n",
      "The following objects are masked from ‘package:stats’:\n",
      "\n",
      "    filter, lag\n",
      "\n",
      "\n",
      "The following objects are masked from ‘package:base’:\n",
      "\n",
      "    intersect, setdiff, setequal, union\n",
      "\n",
      "\n",
      "\n",
      "Attaching package: ‘tidygraph’\n",
      "\n",
      "\n",
      "The following object is masked from ‘package:stats’:\n",
      "\n",
      "    filter\n",
      "\n",
      "\n",
      "Loading required package: ggplot2\n",
      "\n",
      "Registered S3 method overwritten by 'geojsonsf':\n",
      "  method        from   \n",
      "  print.geojson geojson\n",
      "\n",
      "\n",
      "Attaching package: ‘geojsonio’\n",
      "\n",
      "\n",
      "The following object is masked from ‘package:base’:\n",
      "\n",
      "    pretty\n",
      "\n",
      "\n"
     ]
    },
    {
     "data": {
      "text/html": [
       "<style>\n",
       ".dl-inline {width: auto; margin:0; padding: 0}\n",
       ".dl-inline>dt, .dl-inline>dd {float: none; width: auto; display: inline-block}\n",
       ".dl-inline>dt::after {content: \":\\0020\"; padding-right: .5ex}\n",
       ".dl-inline>dt:not(:first-of-type) {padding-left: .5ex}\n",
       "</style><dl class=dl-inline><dt>soft</dt><dd>1e+05</dd><dt>hard</dt><dd>Inf</dd></dl>\n"
      ],
      "text/latex": [
       "\\begin{description*}\n",
       "\\item[soft] 1e+05\n",
       "\\item[hard] Inf\n",
       "\\end{description*}\n"
      ],
      "text/markdown": [
       "soft\n",
       ":   1e+05hard\n",
       ":   Inf\n",
       "\n"
      ],
      "text/plain": [
       " soft  hard \n",
       "1e+05   Inf "
      ]
     },
     "metadata": {},
     "output_type": "display_data"
    }
   ],
   "source": [
    "options(warn = -1, verbose=FALSE)\n",
    "#!/usr/bin/env Rscript \n",
    "library(dplyr)\n",
    "library(httr)\n",
    "library(cowplot)\n",
    "library(unixtools)\n",
    "library(repr)\n",
    "library(tidygraph)\n",
    "library(ggraph)\n",
    "library(geojsonio)\n",
    "set_config(config(ssl_verifypeer = 0L))\n",
    "ulimit::memory_limit(100000)\n",
    "set.tempdir(\"/datastore/lucy/tmp/\")\n",
    "setwd(\"/datastore/lucy/CosMx\")"
   ]
  },
  {
   "cell_type": "code",
   "execution_count": 2,
   "id": "a28475a0",
   "metadata": {},
   "outputs": [],
   "source": [
    "source(\"./R/utils.R\")\n",
    "start_upR(TRUE)\n",
    "source(\"./R/TissueSegFunctions.R\")\n",
    "library(Matrix)"
   ]
  },
  {
   "cell_type": "code",
   "execution_count": 3,
   "id": "f0953c5a-46c4-45bf-a2e5-6b9dfc45e60a",
   "metadata": {
    "tags": []
   },
   "outputs": [],
   "source": [
    "# now let us read in and assimilate the results\n",
    "diffused_mat_files_list<-list.files(\"./cache/tissueSegmentation/\", \n",
    "    pattern = \".*_F0.*.RDS\", \n",
    "    recursive = TRUE,\n",
    "    full.names = TRUE)"
   ]
  },
  {
   "cell_type": "code",
   "execution_count": 4,
   "id": "0dc4dbf6-01f2-4c8a-a045-7192d52b5953",
   "metadata": {
    "tags": []
   },
   "outputs": [
    {
     "data": {
      "text/html": [
       "53"
      ],
      "text/latex": [
       "53"
      ],
      "text/markdown": [
       "53"
      ],
      "text/plain": [
       "[1] 53"
      ]
     },
     "metadata": {},
     "output_type": "display_data"
    }
   ],
   "source": [
    "diffused_mat_files_list %>% length"
   ]
  },
  {
   "cell_type": "code",
   "execution_count": 6,
   "id": "e5eb0492-ab01-4b63-ac90-38b621ad9ad9",
   "metadata": {},
   "outputs": [
    {
     "data": {
      "text/html": [
       "<style>\n",
       ".list-inline {list-style: none; margin:0; padding: 0}\n",
       ".list-inline>li {display: inline-block}\n",
       ".list-inline>li:not(:last-child)::after {content: \"\\00b7\"; padding: 0 .5ex}\n",
       "</style>\n",
       "<ol class=list-inline><li>'./cache/tissueSegmentation//voronoiObj/diffused_mat_Run5654_399G0_32G77_F001.RDS'</li><li>'./cache/tissueSegmentation//voronoiObj/diffused_mat_Run5654_399G0_32G77_F002.RDS'</li><li>'./cache/tissueSegmentation//voronoiObj/diffused_mat_Run5654_399G0_32G77_F003.RDS'</li><li>'./cache/tissueSegmentation//voronoiObj/diffused_mat_Run5654_399G0_32G77_F004.RDS'</li><li>'./cache/tissueSegmentation//voronoiObj/diffused_mat_Run5654_399G0_32G77_F005.RDS'</li><li>'./cache/tissueSegmentation//voronoiObj/diffused_mat_Run5654_399G0_32G77_F006.RDS'</li><li>'./cache/tissueSegmentation//voronoiObj/diffused_mat_Run5654_399G0_32G77_F007.RDS'</li><li>'./cache/tissueSegmentation//voronoiObj/diffused_mat_Run5654_399G0_32G77_F008.RDS'</li><li>'./cache/tissueSegmentation//voronoiObj/diffused_mat_Run5654_399G0_32G77_F009.RDS'</li><li>'./cache/tissueSegmentation//voronoiObj/diffused_mat_Run5654_399G0_32G77_F010.RDS'</li><li>'./cache/tissueSegmentation//voronoiObj/diffused_mat_Run5654_399G0_32G77_F011.RDS'</li><li>'./cache/tissueSegmentation//voronoiObj/diffused_mat_Run5654_399G0_32G77_F012.RDS'</li><li>'./cache/tissueSegmentation//voronoiObj/diffused_mat_Run5654_399G0_32G77_F013.RDS'</li><li>'./cache/tissueSegmentation//voronoiObj/diffused_mat_Run5654_399G0_32G77_F014.RDS'</li><li>'./cache/tissueSegmentation//voronoiObj/diffused_mat_Run5654_399G0_32G77_F017.RDS'</li><li>'./cache/tissueSegmentation//voronoiObj/diffused_mat_Run5654_399G0_32G77_F018.RDS'</li><li>'./cache/tissueSegmentation//voronoiObj/diffused_mat_Run5654_399G0_32G77_F021.RDS'</li><li>'./cache/tissueSegmentation//voronoiObj/diffused_mat_Run5654_399G0_32G77_F022.RDS'</li><li>'./cache/tissueSegmentation//voronoiObj/diffused_mat_Run5654_399G0_32G77_F023.RDS'</li><li>'./cache/tissueSegmentation//voronoiObj/diffused_mat_Run5666_G2697_G1532_F001.RDS'</li><li>'./cache/tissueSegmentation//voronoiObj/diffused_mat_Run5666_G2697_G1532_F002.RDS'</li><li>'./cache/tissueSegmentation//voronoiObj/diffused_mat_Run5666_G2697_G1532_F003.RDS'</li><li>'./cache/tissueSegmentation//voronoiObj/diffused_mat_Run5666_G2697_G1532_F004.RDS'</li><li>'./cache/tissueSegmentation//voronoiObj/diffused_mat_Run5666_G2697_G1532_F006.RDS'</li><li>'./cache/tissueSegmentation//voronoiObj/diffused_mat_Run5666_G2697_G1532_F007.RDS'</li><li>'./cache/tissueSegmentation//voronoiObj/diffused_mat_Run5666_G2697_G1532_F008.RDS'</li><li>'./cache/tissueSegmentation//voronoiObj/diffused_mat_Run5666_G2697_G1532_F009.RDS'</li><li>'./cache/tissueSegmentation//voronoiObj/diffused_mat_Run5666_G2697_G1532_F010.RDS'</li><li>'./cache/tissueSegmentation//voronoiObj/diffused_mat_Run5666_G2697_G1532_F011.RDS'</li><li>'./cache/tissueSegmentation//voronoiObj/diffused_mat_Run5666_G2697_G1532_F012.RDS'</li><li>'./cache/tissueSegmentation//voronoiObj/diffused_mat_Run5666_G7G72_G22G5_F001.RDS'</li><li>'./cache/tissueSegmentation//voronoiObj/diffused_mat_Run5666_G7G72_G22G5_F002.RDS'</li><li>'./cache/tissueSegmentation//voronoiObj/diffused_mat_Run5666_G7G72_G22G5_F003.RDS'</li><li>'./cache/tissueSegmentation//voronoiObj/diffused_mat_Run5666_G7G72_G22G5_F004.RDS'</li><li>'./cache/tissueSegmentation//voronoiObj/diffused_mat_Run5666_G7G72_G22G5_F005.RDS'</li><li>'./cache/tissueSegmentation//voronoiObj/diffused_mat_Run5666_G7G72_G22G5_F009.RDS'</li><li>'./cache/tissueSegmentation//voronoiObj/diffused_mat_Run5666_G7G72_G22G5_F010.RDS'</li><li>'./cache/tissueSegmentation//voronoiObj/diffused_mat_Run5666_G7G72_G22G5_F011.RDS'</li><li>'./cache/tissueSegmentation//voronoiObj/diffused_mat_Run5666_G7G72_G22G5_F012.RDS'</li><li>'./cache/tissueSegmentation//voronoiObj/diffused_mat_Run5666_G7G72_G22G5_F013.RDS'</li><li>'./cache/tissueSegmentation//voronoiObj/diffused_mat_Run5666_G7G72_G22G5_F014.RDS'</li><li>'./cache/tissueSegmentation//voronoiObj/diffused_mat_Run5666_G7G72_G22G5_F015.RDS'</li><li>'./cache/tissueSegmentation//voronoiObj/diffused_mat_Run5666_G7G72_G22G5_F016.RDS'</li><li>'./cache/tissueSegmentation//voronoiObj/diffused_mat_Run5666_G7G72_G22G5_F017.RDS'</li><li>'./cache/tissueSegmentation//voronoiObj/diffused_mat_Run5666_G7G72_G22G5_F018.RDS'</li><li>'./cache/tissueSegmentation//voronoiObj/diffused_mat_Run5666_G7G72_G22G5_F019.RDS'</li><li>'./cache/tissueSegmentation//voronoiObj/diffused_mat_Run5666_G7G72_G22G5_F020.RDS'</li><li>'./cache/tissueSegmentation//voronoiObj/diffused_mat_Run5666_G7G72_G22G5_F021.RDS'</li><li>'./cache/tissueSegmentation//voronoiObj/diffused_mat_Run5666_G7G72_G22G5_F022.RDS'</li><li>'./cache/tissueSegmentation//voronoiObj/diffused_mat_Run5666_G7G72_G22G5_F023.RDS'</li><li>'./cache/tissueSegmentation//voronoiObj/diffused_mat_Run5666_G7G72_G22G5_F024.RDS'</li><li>'./cache/tissueSegmentation//voronoiObj/diffused_mat_Run5666_G7G72_G22G5_F025.RDS'</li><li>'./cache/tissueSegmentation//voronoiObj/diffused_mat_Run5666_G7G72_G22G5_F026.RDS'</li></ol>\n"
      ],
      "text/latex": [
       "\\begin{enumerate*}\n",
       "\\item './cache/tissueSegmentation//voronoiObj/diffused\\_mat\\_Run5654\\_399G0\\_32G77\\_F001.RDS'\n",
       "\\item './cache/tissueSegmentation//voronoiObj/diffused\\_mat\\_Run5654\\_399G0\\_32G77\\_F002.RDS'\n",
       "\\item './cache/tissueSegmentation//voronoiObj/diffused\\_mat\\_Run5654\\_399G0\\_32G77\\_F003.RDS'\n",
       "\\item './cache/tissueSegmentation//voronoiObj/diffused\\_mat\\_Run5654\\_399G0\\_32G77\\_F004.RDS'\n",
       "\\item './cache/tissueSegmentation//voronoiObj/diffused\\_mat\\_Run5654\\_399G0\\_32G77\\_F005.RDS'\n",
       "\\item './cache/tissueSegmentation//voronoiObj/diffused\\_mat\\_Run5654\\_399G0\\_32G77\\_F006.RDS'\n",
       "\\item './cache/tissueSegmentation//voronoiObj/diffused\\_mat\\_Run5654\\_399G0\\_32G77\\_F007.RDS'\n",
       "\\item './cache/tissueSegmentation//voronoiObj/diffused\\_mat\\_Run5654\\_399G0\\_32G77\\_F008.RDS'\n",
       "\\item './cache/tissueSegmentation//voronoiObj/diffused\\_mat\\_Run5654\\_399G0\\_32G77\\_F009.RDS'\n",
       "\\item './cache/tissueSegmentation//voronoiObj/diffused\\_mat\\_Run5654\\_399G0\\_32G77\\_F010.RDS'\n",
       "\\item './cache/tissueSegmentation//voronoiObj/diffused\\_mat\\_Run5654\\_399G0\\_32G77\\_F011.RDS'\n",
       "\\item './cache/tissueSegmentation//voronoiObj/diffused\\_mat\\_Run5654\\_399G0\\_32G77\\_F012.RDS'\n",
       "\\item './cache/tissueSegmentation//voronoiObj/diffused\\_mat\\_Run5654\\_399G0\\_32G77\\_F013.RDS'\n",
       "\\item './cache/tissueSegmentation//voronoiObj/diffused\\_mat\\_Run5654\\_399G0\\_32G77\\_F014.RDS'\n",
       "\\item './cache/tissueSegmentation//voronoiObj/diffused\\_mat\\_Run5654\\_399G0\\_32G77\\_F017.RDS'\n",
       "\\item './cache/tissueSegmentation//voronoiObj/diffused\\_mat\\_Run5654\\_399G0\\_32G77\\_F018.RDS'\n",
       "\\item './cache/tissueSegmentation//voronoiObj/diffused\\_mat\\_Run5654\\_399G0\\_32G77\\_F021.RDS'\n",
       "\\item './cache/tissueSegmentation//voronoiObj/diffused\\_mat\\_Run5654\\_399G0\\_32G77\\_F022.RDS'\n",
       "\\item './cache/tissueSegmentation//voronoiObj/diffused\\_mat\\_Run5654\\_399G0\\_32G77\\_F023.RDS'\n",
       "\\item './cache/tissueSegmentation//voronoiObj/diffused\\_mat\\_Run5666\\_G2697\\_G1532\\_F001.RDS'\n",
       "\\item './cache/tissueSegmentation//voronoiObj/diffused\\_mat\\_Run5666\\_G2697\\_G1532\\_F002.RDS'\n",
       "\\item './cache/tissueSegmentation//voronoiObj/diffused\\_mat\\_Run5666\\_G2697\\_G1532\\_F003.RDS'\n",
       "\\item './cache/tissueSegmentation//voronoiObj/diffused\\_mat\\_Run5666\\_G2697\\_G1532\\_F004.RDS'\n",
       "\\item './cache/tissueSegmentation//voronoiObj/diffused\\_mat\\_Run5666\\_G2697\\_G1532\\_F006.RDS'\n",
       "\\item './cache/tissueSegmentation//voronoiObj/diffused\\_mat\\_Run5666\\_G2697\\_G1532\\_F007.RDS'\n",
       "\\item './cache/tissueSegmentation//voronoiObj/diffused\\_mat\\_Run5666\\_G2697\\_G1532\\_F008.RDS'\n",
       "\\item './cache/tissueSegmentation//voronoiObj/diffused\\_mat\\_Run5666\\_G2697\\_G1532\\_F009.RDS'\n",
       "\\item './cache/tissueSegmentation//voronoiObj/diffused\\_mat\\_Run5666\\_G2697\\_G1532\\_F010.RDS'\n",
       "\\item './cache/tissueSegmentation//voronoiObj/diffused\\_mat\\_Run5666\\_G2697\\_G1532\\_F011.RDS'\n",
       "\\item './cache/tissueSegmentation//voronoiObj/diffused\\_mat\\_Run5666\\_G2697\\_G1532\\_F012.RDS'\n",
       "\\item './cache/tissueSegmentation//voronoiObj/diffused\\_mat\\_Run5666\\_G7G72\\_G22G5\\_F001.RDS'\n",
       "\\item './cache/tissueSegmentation//voronoiObj/diffused\\_mat\\_Run5666\\_G7G72\\_G22G5\\_F002.RDS'\n",
       "\\item './cache/tissueSegmentation//voronoiObj/diffused\\_mat\\_Run5666\\_G7G72\\_G22G5\\_F003.RDS'\n",
       "\\item './cache/tissueSegmentation//voronoiObj/diffused\\_mat\\_Run5666\\_G7G72\\_G22G5\\_F004.RDS'\n",
       "\\item './cache/tissueSegmentation//voronoiObj/diffused\\_mat\\_Run5666\\_G7G72\\_G22G5\\_F005.RDS'\n",
       "\\item './cache/tissueSegmentation//voronoiObj/diffused\\_mat\\_Run5666\\_G7G72\\_G22G5\\_F009.RDS'\n",
       "\\item './cache/tissueSegmentation//voronoiObj/diffused\\_mat\\_Run5666\\_G7G72\\_G22G5\\_F010.RDS'\n",
       "\\item './cache/tissueSegmentation//voronoiObj/diffused\\_mat\\_Run5666\\_G7G72\\_G22G5\\_F011.RDS'\n",
       "\\item './cache/tissueSegmentation//voronoiObj/diffused\\_mat\\_Run5666\\_G7G72\\_G22G5\\_F012.RDS'\n",
       "\\item './cache/tissueSegmentation//voronoiObj/diffused\\_mat\\_Run5666\\_G7G72\\_G22G5\\_F013.RDS'\n",
       "\\item './cache/tissueSegmentation//voronoiObj/diffused\\_mat\\_Run5666\\_G7G72\\_G22G5\\_F014.RDS'\n",
       "\\item './cache/tissueSegmentation//voronoiObj/diffused\\_mat\\_Run5666\\_G7G72\\_G22G5\\_F015.RDS'\n",
       "\\item './cache/tissueSegmentation//voronoiObj/diffused\\_mat\\_Run5666\\_G7G72\\_G22G5\\_F016.RDS'\n",
       "\\item './cache/tissueSegmentation//voronoiObj/diffused\\_mat\\_Run5666\\_G7G72\\_G22G5\\_F017.RDS'\n",
       "\\item './cache/tissueSegmentation//voronoiObj/diffused\\_mat\\_Run5666\\_G7G72\\_G22G5\\_F018.RDS'\n",
       "\\item './cache/tissueSegmentation//voronoiObj/diffused\\_mat\\_Run5666\\_G7G72\\_G22G5\\_F019.RDS'\n",
       "\\item './cache/tissueSegmentation//voronoiObj/diffused\\_mat\\_Run5666\\_G7G72\\_G22G5\\_F020.RDS'\n",
       "\\item './cache/tissueSegmentation//voronoiObj/diffused\\_mat\\_Run5666\\_G7G72\\_G22G5\\_F021.RDS'\n",
       "\\item './cache/tissueSegmentation//voronoiObj/diffused\\_mat\\_Run5666\\_G7G72\\_G22G5\\_F022.RDS'\n",
       "\\item './cache/tissueSegmentation//voronoiObj/diffused\\_mat\\_Run5666\\_G7G72\\_G22G5\\_F023.RDS'\n",
       "\\item './cache/tissueSegmentation//voronoiObj/diffused\\_mat\\_Run5666\\_G7G72\\_G22G5\\_F024.RDS'\n",
       "\\item './cache/tissueSegmentation//voronoiObj/diffused\\_mat\\_Run5666\\_G7G72\\_G22G5\\_F025.RDS'\n",
       "\\item './cache/tissueSegmentation//voronoiObj/diffused\\_mat\\_Run5666\\_G7G72\\_G22G5\\_F026.RDS'\n",
       "\\end{enumerate*}\n"
      ],
      "text/markdown": [
       "1. './cache/tissueSegmentation//voronoiObj/diffused_mat_Run5654_399G0_32G77_F001.RDS'\n",
       "2. './cache/tissueSegmentation//voronoiObj/diffused_mat_Run5654_399G0_32G77_F002.RDS'\n",
       "3. './cache/tissueSegmentation//voronoiObj/diffused_mat_Run5654_399G0_32G77_F003.RDS'\n",
       "4. './cache/tissueSegmentation//voronoiObj/diffused_mat_Run5654_399G0_32G77_F004.RDS'\n",
       "5. './cache/tissueSegmentation//voronoiObj/diffused_mat_Run5654_399G0_32G77_F005.RDS'\n",
       "6. './cache/tissueSegmentation//voronoiObj/diffused_mat_Run5654_399G0_32G77_F006.RDS'\n",
       "7. './cache/tissueSegmentation//voronoiObj/diffused_mat_Run5654_399G0_32G77_F007.RDS'\n",
       "8. './cache/tissueSegmentation//voronoiObj/diffused_mat_Run5654_399G0_32G77_F008.RDS'\n",
       "9. './cache/tissueSegmentation//voronoiObj/diffused_mat_Run5654_399G0_32G77_F009.RDS'\n",
       "10. './cache/tissueSegmentation//voronoiObj/diffused_mat_Run5654_399G0_32G77_F010.RDS'\n",
       "11. './cache/tissueSegmentation//voronoiObj/diffused_mat_Run5654_399G0_32G77_F011.RDS'\n",
       "12. './cache/tissueSegmentation//voronoiObj/diffused_mat_Run5654_399G0_32G77_F012.RDS'\n",
       "13. './cache/tissueSegmentation//voronoiObj/diffused_mat_Run5654_399G0_32G77_F013.RDS'\n",
       "14. './cache/tissueSegmentation//voronoiObj/diffused_mat_Run5654_399G0_32G77_F014.RDS'\n",
       "15. './cache/tissueSegmentation//voronoiObj/diffused_mat_Run5654_399G0_32G77_F017.RDS'\n",
       "16. './cache/tissueSegmentation//voronoiObj/diffused_mat_Run5654_399G0_32G77_F018.RDS'\n",
       "17. './cache/tissueSegmentation//voronoiObj/diffused_mat_Run5654_399G0_32G77_F021.RDS'\n",
       "18. './cache/tissueSegmentation//voronoiObj/diffused_mat_Run5654_399G0_32G77_F022.RDS'\n",
       "19. './cache/tissueSegmentation//voronoiObj/diffused_mat_Run5654_399G0_32G77_F023.RDS'\n",
       "20. './cache/tissueSegmentation//voronoiObj/diffused_mat_Run5666_G2697_G1532_F001.RDS'\n",
       "21. './cache/tissueSegmentation//voronoiObj/diffused_mat_Run5666_G2697_G1532_F002.RDS'\n",
       "22. './cache/tissueSegmentation//voronoiObj/diffused_mat_Run5666_G2697_G1532_F003.RDS'\n",
       "23. './cache/tissueSegmentation//voronoiObj/diffused_mat_Run5666_G2697_G1532_F004.RDS'\n",
       "24. './cache/tissueSegmentation//voronoiObj/diffused_mat_Run5666_G2697_G1532_F006.RDS'\n",
       "25. './cache/tissueSegmentation//voronoiObj/diffused_mat_Run5666_G2697_G1532_F007.RDS'\n",
       "26. './cache/tissueSegmentation//voronoiObj/diffused_mat_Run5666_G2697_G1532_F008.RDS'\n",
       "27. './cache/tissueSegmentation//voronoiObj/diffused_mat_Run5666_G2697_G1532_F009.RDS'\n",
       "28. './cache/tissueSegmentation//voronoiObj/diffused_mat_Run5666_G2697_G1532_F010.RDS'\n",
       "29. './cache/tissueSegmentation//voronoiObj/diffused_mat_Run5666_G2697_G1532_F011.RDS'\n",
       "30. './cache/tissueSegmentation//voronoiObj/diffused_mat_Run5666_G2697_G1532_F012.RDS'\n",
       "31. './cache/tissueSegmentation//voronoiObj/diffused_mat_Run5666_G7G72_G22G5_F001.RDS'\n",
       "32. './cache/tissueSegmentation//voronoiObj/diffused_mat_Run5666_G7G72_G22G5_F002.RDS'\n",
       "33. './cache/tissueSegmentation//voronoiObj/diffused_mat_Run5666_G7G72_G22G5_F003.RDS'\n",
       "34. './cache/tissueSegmentation//voronoiObj/diffused_mat_Run5666_G7G72_G22G5_F004.RDS'\n",
       "35. './cache/tissueSegmentation//voronoiObj/diffused_mat_Run5666_G7G72_G22G5_F005.RDS'\n",
       "36. './cache/tissueSegmentation//voronoiObj/diffused_mat_Run5666_G7G72_G22G5_F009.RDS'\n",
       "37. './cache/tissueSegmentation//voronoiObj/diffused_mat_Run5666_G7G72_G22G5_F010.RDS'\n",
       "38. './cache/tissueSegmentation//voronoiObj/diffused_mat_Run5666_G7G72_G22G5_F011.RDS'\n",
       "39. './cache/tissueSegmentation//voronoiObj/diffused_mat_Run5666_G7G72_G22G5_F012.RDS'\n",
       "40. './cache/tissueSegmentation//voronoiObj/diffused_mat_Run5666_G7G72_G22G5_F013.RDS'\n",
       "41. './cache/tissueSegmentation//voronoiObj/diffused_mat_Run5666_G7G72_G22G5_F014.RDS'\n",
       "42. './cache/tissueSegmentation//voronoiObj/diffused_mat_Run5666_G7G72_G22G5_F015.RDS'\n",
       "43. './cache/tissueSegmentation//voronoiObj/diffused_mat_Run5666_G7G72_G22G5_F016.RDS'\n",
       "44. './cache/tissueSegmentation//voronoiObj/diffused_mat_Run5666_G7G72_G22G5_F017.RDS'\n",
       "45. './cache/tissueSegmentation//voronoiObj/diffused_mat_Run5666_G7G72_G22G5_F018.RDS'\n",
       "46. './cache/tissueSegmentation//voronoiObj/diffused_mat_Run5666_G7G72_G22G5_F019.RDS'\n",
       "47. './cache/tissueSegmentation//voronoiObj/diffused_mat_Run5666_G7G72_G22G5_F020.RDS'\n",
       "48. './cache/tissueSegmentation//voronoiObj/diffused_mat_Run5666_G7G72_G22G5_F021.RDS'\n",
       "49. './cache/tissueSegmentation//voronoiObj/diffused_mat_Run5666_G7G72_G22G5_F022.RDS'\n",
       "50. './cache/tissueSegmentation//voronoiObj/diffused_mat_Run5666_G7G72_G22G5_F023.RDS'\n",
       "51. './cache/tissueSegmentation//voronoiObj/diffused_mat_Run5666_G7G72_G22G5_F024.RDS'\n",
       "52. './cache/tissueSegmentation//voronoiObj/diffused_mat_Run5666_G7G72_G22G5_F025.RDS'\n",
       "53. './cache/tissueSegmentation//voronoiObj/diffused_mat_Run5666_G7G72_G22G5_F026.RDS'\n",
       "\n",
       "\n"
      ],
      "text/plain": [
       " [1] \"./cache/tissueSegmentation//voronoiObj/diffused_mat_Run5654_399G0_32G77_F001.RDS\"\n",
       " [2] \"./cache/tissueSegmentation//voronoiObj/diffused_mat_Run5654_399G0_32G77_F002.RDS\"\n",
       " [3] \"./cache/tissueSegmentation//voronoiObj/diffused_mat_Run5654_399G0_32G77_F003.RDS\"\n",
       " [4] \"./cache/tissueSegmentation//voronoiObj/diffused_mat_Run5654_399G0_32G77_F004.RDS\"\n",
       " [5] \"./cache/tissueSegmentation//voronoiObj/diffused_mat_Run5654_399G0_32G77_F005.RDS\"\n",
       " [6] \"./cache/tissueSegmentation//voronoiObj/diffused_mat_Run5654_399G0_32G77_F006.RDS\"\n",
       " [7] \"./cache/tissueSegmentation//voronoiObj/diffused_mat_Run5654_399G0_32G77_F007.RDS\"\n",
       " [8] \"./cache/tissueSegmentation//voronoiObj/diffused_mat_Run5654_399G0_32G77_F008.RDS\"\n",
       " [9] \"./cache/tissueSegmentation//voronoiObj/diffused_mat_Run5654_399G0_32G77_F009.RDS\"\n",
       "[10] \"./cache/tissueSegmentation//voronoiObj/diffused_mat_Run5654_399G0_32G77_F010.RDS\"\n",
       "[11] \"./cache/tissueSegmentation//voronoiObj/diffused_mat_Run5654_399G0_32G77_F011.RDS\"\n",
       "[12] \"./cache/tissueSegmentation//voronoiObj/diffused_mat_Run5654_399G0_32G77_F012.RDS\"\n",
       "[13] \"./cache/tissueSegmentation//voronoiObj/diffused_mat_Run5654_399G0_32G77_F013.RDS\"\n",
       "[14] \"./cache/tissueSegmentation//voronoiObj/diffused_mat_Run5654_399G0_32G77_F014.RDS\"\n",
       "[15] \"./cache/tissueSegmentation//voronoiObj/diffused_mat_Run5654_399G0_32G77_F017.RDS\"\n",
       "[16] \"./cache/tissueSegmentation//voronoiObj/diffused_mat_Run5654_399G0_32G77_F018.RDS\"\n",
       "[17] \"./cache/tissueSegmentation//voronoiObj/diffused_mat_Run5654_399G0_32G77_F021.RDS\"\n",
       "[18] \"./cache/tissueSegmentation//voronoiObj/diffused_mat_Run5654_399G0_32G77_F022.RDS\"\n",
       "[19] \"./cache/tissueSegmentation//voronoiObj/diffused_mat_Run5654_399G0_32G77_F023.RDS\"\n",
       "[20] \"./cache/tissueSegmentation//voronoiObj/diffused_mat_Run5666_G2697_G1532_F001.RDS\"\n",
       "[21] \"./cache/tissueSegmentation//voronoiObj/diffused_mat_Run5666_G2697_G1532_F002.RDS\"\n",
       "[22] \"./cache/tissueSegmentation//voronoiObj/diffused_mat_Run5666_G2697_G1532_F003.RDS\"\n",
       "[23] \"./cache/tissueSegmentation//voronoiObj/diffused_mat_Run5666_G2697_G1532_F004.RDS\"\n",
       "[24] \"./cache/tissueSegmentation//voronoiObj/diffused_mat_Run5666_G2697_G1532_F006.RDS\"\n",
       "[25] \"./cache/tissueSegmentation//voronoiObj/diffused_mat_Run5666_G2697_G1532_F007.RDS\"\n",
       "[26] \"./cache/tissueSegmentation//voronoiObj/diffused_mat_Run5666_G2697_G1532_F008.RDS\"\n",
       "[27] \"./cache/tissueSegmentation//voronoiObj/diffused_mat_Run5666_G2697_G1532_F009.RDS\"\n",
       "[28] \"./cache/tissueSegmentation//voronoiObj/diffused_mat_Run5666_G2697_G1532_F010.RDS\"\n",
       "[29] \"./cache/tissueSegmentation//voronoiObj/diffused_mat_Run5666_G2697_G1532_F011.RDS\"\n",
       "[30] \"./cache/tissueSegmentation//voronoiObj/diffused_mat_Run5666_G2697_G1532_F012.RDS\"\n",
       "[31] \"./cache/tissueSegmentation//voronoiObj/diffused_mat_Run5666_G7G72_G22G5_F001.RDS\"\n",
       "[32] \"./cache/tissueSegmentation//voronoiObj/diffused_mat_Run5666_G7G72_G22G5_F002.RDS\"\n",
       "[33] \"./cache/tissueSegmentation//voronoiObj/diffused_mat_Run5666_G7G72_G22G5_F003.RDS\"\n",
       "[34] \"./cache/tissueSegmentation//voronoiObj/diffused_mat_Run5666_G7G72_G22G5_F004.RDS\"\n",
       "[35] \"./cache/tissueSegmentation//voronoiObj/diffused_mat_Run5666_G7G72_G22G5_F005.RDS\"\n",
       "[36] \"./cache/tissueSegmentation//voronoiObj/diffused_mat_Run5666_G7G72_G22G5_F009.RDS\"\n",
       "[37] \"./cache/tissueSegmentation//voronoiObj/diffused_mat_Run5666_G7G72_G22G5_F010.RDS\"\n",
       "[38] \"./cache/tissueSegmentation//voronoiObj/diffused_mat_Run5666_G7G72_G22G5_F011.RDS\"\n",
       "[39] \"./cache/tissueSegmentation//voronoiObj/diffused_mat_Run5666_G7G72_G22G5_F012.RDS\"\n",
       "[40] \"./cache/tissueSegmentation//voronoiObj/diffused_mat_Run5666_G7G72_G22G5_F013.RDS\"\n",
       "[41] \"./cache/tissueSegmentation//voronoiObj/diffused_mat_Run5666_G7G72_G22G5_F014.RDS\"\n",
       "[42] \"./cache/tissueSegmentation//voronoiObj/diffused_mat_Run5666_G7G72_G22G5_F015.RDS\"\n",
       "[43] \"./cache/tissueSegmentation//voronoiObj/diffused_mat_Run5666_G7G72_G22G5_F016.RDS\"\n",
       "[44] \"./cache/tissueSegmentation//voronoiObj/diffused_mat_Run5666_G7G72_G22G5_F017.RDS\"\n",
       "[45] \"./cache/tissueSegmentation//voronoiObj/diffused_mat_Run5666_G7G72_G22G5_F018.RDS\"\n",
       "[46] \"./cache/tissueSegmentation//voronoiObj/diffused_mat_Run5666_G7G72_G22G5_F019.RDS\"\n",
       "[47] \"./cache/tissueSegmentation//voronoiObj/diffused_mat_Run5666_G7G72_G22G5_F020.RDS\"\n",
       "[48] \"./cache/tissueSegmentation//voronoiObj/diffused_mat_Run5666_G7G72_G22G5_F021.RDS\"\n",
       "[49] \"./cache/tissueSegmentation//voronoiObj/diffused_mat_Run5666_G7G72_G22G5_F022.RDS\"\n",
       "[50] \"./cache/tissueSegmentation//voronoiObj/diffused_mat_Run5666_G7G72_G22G5_F023.RDS\"\n",
       "[51] \"./cache/tissueSegmentation//voronoiObj/diffused_mat_Run5666_G7G72_G22G5_F024.RDS\"\n",
       "[52] \"./cache/tissueSegmentation//voronoiObj/diffused_mat_Run5666_G7G72_G22G5_F025.RDS\"\n",
       "[53] \"./cache/tissueSegmentation//voronoiObj/diffused_mat_Run5666_G7G72_G22G5_F026.RDS\""
      ]
     },
     "metadata": {},
     "output_type": "display_data"
    }
   ],
   "source": [
    "diffused_mat_files_list"
   ]
  },
  {
   "cell_type": "code",
   "execution_count": 5,
   "id": "023e1efc-3e5d-44a2-80bb-05ea07e88be8",
   "metadata": {
    "tags": []
   },
   "outputs": [
    {
     "data": {
      "text/html": [
       "<style>\n",
       ".list-inline {list-style: none; margin:0; padding: 0}\n",
       ".list-inline>li {display: inline-block}\n",
       ".list-inline>li:not(:last-child)::after {content: \"\\00b7\"; padding: 0 .5ex}\n",
       "</style>\n",
       "<ol class=list-inline><li>'./cache/tissueSegmentation//voronoiObj/diffused_mat_Run5654_399G0_32G77_F001.RDS'</li><li>'./cache/tissueSegmentation//voronoiObj/diffused_mat_Run5654_399G0_32G77_F002.RDS'</li><li>'./cache/tissueSegmentation//voronoiObj/diffused_mat_Run5654_399G0_32G77_F003.RDS'</li><li>'./cache/tissueSegmentation//voronoiObj/diffused_mat_Run5654_399G0_32G77_F004.RDS'</li><li>'./cache/tissueSegmentation//voronoiObj/diffused_mat_Run5654_399G0_32G77_F005.RDS'</li><li>'./cache/tissueSegmentation//voronoiObj/diffused_mat_Run5654_399G0_32G77_F006.RDS'</li></ol>\n"
      ],
      "text/latex": [
       "\\begin{enumerate*}\n",
       "\\item './cache/tissueSegmentation//voronoiObj/diffused\\_mat\\_Run5654\\_399G0\\_32G77\\_F001.RDS'\n",
       "\\item './cache/tissueSegmentation//voronoiObj/diffused\\_mat\\_Run5654\\_399G0\\_32G77\\_F002.RDS'\n",
       "\\item './cache/tissueSegmentation//voronoiObj/diffused\\_mat\\_Run5654\\_399G0\\_32G77\\_F003.RDS'\n",
       "\\item './cache/tissueSegmentation//voronoiObj/diffused\\_mat\\_Run5654\\_399G0\\_32G77\\_F004.RDS'\n",
       "\\item './cache/tissueSegmentation//voronoiObj/diffused\\_mat\\_Run5654\\_399G0\\_32G77\\_F005.RDS'\n",
       "\\item './cache/tissueSegmentation//voronoiObj/diffused\\_mat\\_Run5654\\_399G0\\_32G77\\_F006.RDS'\n",
       "\\end{enumerate*}\n"
      ],
      "text/markdown": [
       "1. './cache/tissueSegmentation//voronoiObj/diffused_mat_Run5654_399G0_32G77_F001.RDS'\n",
       "2. './cache/tissueSegmentation//voronoiObj/diffused_mat_Run5654_399G0_32G77_F002.RDS'\n",
       "3. './cache/tissueSegmentation//voronoiObj/diffused_mat_Run5654_399G0_32G77_F003.RDS'\n",
       "4. './cache/tissueSegmentation//voronoiObj/diffused_mat_Run5654_399G0_32G77_F004.RDS'\n",
       "5. './cache/tissueSegmentation//voronoiObj/diffused_mat_Run5654_399G0_32G77_F005.RDS'\n",
       "6. './cache/tissueSegmentation//voronoiObj/diffused_mat_Run5654_399G0_32G77_F006.RDS'\n",
       "\n",
       "\n"
      ],
      "text/plain": [
       "[1] \"./cache/tissueSegmentation//voronoiObj/diffused_mat_Run5654_399G0_32G77_F001.RDS\"\n",
       "[2] \"./cache/tissueSegmentation//voronoiObj/diffused_mat_Run5654_399G0_32G77_F002.RDS\"\n",
       "[3] \"./cache/tissueSegmentation//voronoiObj/diffused_mat_Run5654_399G0_32G77_F003.RDS\"\n",
       "[4] \"./cache/tissueSegmentation//voronoiObj/diffused_mat_Run5654_399G0_32G77_F004.RDS\"\n",
       "[5] \"./cache/tissueSegmentation//voronoiObj/diffused_mat_Run5654_399G0_32G77_F005.RDS\"\n",
       "[6] \"./cache/tissueSegmentation//voronoiObj/diffused_mat_Run5654_399G0_32G77_F006.RDS\""
      ]
     },
     "metadata": {},
     "output_type": "display_data"
    }
   ],
   "source": [
    "head(diffused_mat_files_list)"
   ]
  },
  {
   "cell_type": "markdown",
   "id": "0579146f-b777-4aea-a6d7-46174e9848ea",
   "metadata": {},
   "source": [
    "+ let us check if any of the cells were prune because they were isolated"
   ]
  },
  {
   "cell_type": "code",
   "execution_count": 9,
   "id": "f276e7b6-a1b2-4c29-a288-86b04a39f9d0",
   "metadata": {
    "tags": []
   },
   "outputs": [],
   "source": [
    "obj_tmp<-readRDS('./cache/tissueSegmentation//voronoiObj/diffused_mat_Run5666_G2697_G1532_F003.RDS')"
   ]
  },
  {
   "cell_type": "code",
   "execution_count": 10,
   "id": "f3c4420d-80a8-4dcb-a123-5562574df6ba",
   "metadata": {},
   "outputs": [
    {
     "data": {
      "text/html": [
       "<style>\n",
       ".list-inline {list-style: none; margin:0; padding: 0}\n",
       ".list-inline>li {display: inline-block}\n",
       ".list-inline>li:not(:last-child)::after {content: \"\\00b7\"; padding: 0 .5ex}\n",
       "</style>\n",
       "<ol class=list-inline><li>'neighbors'</li><li>'neighbors_collapsed'</li><li>'k_input'</li><li>'counts'</li><li>'metadata'</li><li>'metadata_small'</li><li>'counts_raw'</li></ol>\n"
      ],
      "text/latex": [
       "\\begin{enumerate*}\n",
       "\\item 'neighbors'\n",
       "\\item 'neighbors\\_collapsed'\n",
       "\\item 'k\\_input'\n",
       "\\item 'counts'\n",
       "\\item 'metadata'\n",
       "\\item 'metadata\\_small'\n",
       "\\item 'counts\\_raw'\n",
       "\\end{enumerate*}\n"
      ],
      "text/markdown": [
       "1. 'neighbors'\n",
       "2. 'neighbors_collapsed'\n",
       "3. 'k_input'\n",
       "4. 'counts'\n",
       "5. 'metadata'\n",
       "6. 'metadata_small'\n",
       "7. 'counts_raw'\n",
       "\n",
       "\n"
      ],
      "text/plain": [
       "[1] \"neighbors\"           \"neighbors_collapsed\" \"k_input\"            \n",
       "[4] \"counts\"              \"metadata\"            \"metadata_small\"     \n",
       "[7] \"counts_raw\"         "
      ]
     },
     "metadata": {},
     "output_type": "display_data"
    }
   ],
   "source": [
    "names(obj_tmp)"
   ]
  },
  {
   "cell_type": "code",
   "execution_count": 11,
   "id": "66ab4777-1abb-4333-82e2-6e5fcec09464",
   "metadata": {},
   "outputs": [
    {
     "data": {
      "application/geo+json": {
       "features": [
        {
         "geometry": {
          "coordinates": [
           [
            [
             [
              15656.7652,
              4821.4102
             ],
             [
              15657.1987,
              4821.4102
             ],
             [
              15657.1987,
              4821.4894
             ],
             [
              15657.3844,
              4821.4894
             ],
             [
              15657.3844,
              4821.5685
             ],
             [
              15657.5082,
              4821.5685
             ],
             [
              15657.5082,
              4821.6477
             ],
             [
              15657.6321,
              4821.6477
             ],
             [
              15657.6321,
              4821.7269
             ],
             [
              15657.694,
              4821.7269
             ],
             [
              15657.694,
              4823.706
             ],
             [
              15657.6321,
              4823.706
             ],
             [
              15657.6321,
              4823.7851
             ],
             [
              15657.5702,
              4823.7851
             ],
             [
              15657.5702,
              4823.8643
             ],
             [
              15657.5082,
              4823.8643
             ],
             [
              15657.5082,
              4823.9434
             ],
             [
              15657.4463,
              4823.9434
             ],
             [
              15657.4463,
              4824.0226
             ],
             [
              15657.3844,
              4824.0226
             ],
             [
              15657.3844,
              4824.1018
             ],
             [
              15657.2606,
              4824.1018
             ],
             [
              15657.2606,
              4824.1809
             ],
             [
              15657.1987,
              4824.1809
             ],
             [
              15657.1987,
              4824.2601
             ],
             [
              15657.0748,
              4824.2601
             ],
             [
              15657.0748,
              4824.3393
             ],
             [
              15656.951,
              4824.3393
             ],
             [
              15656.951,
              4824.4184
             ],
             [
              15656.8891,
              4824.4184
             ],
             [
              15656.8891,
              4824.4976
             ],
             [
              15656.7652,
              4824.4976
             ],
             [
              15656.7652,
              4824.5768
             ],
             [
              15656.7033,
              4824.5768
             ],
             [
              15656.7033,
              4824.6559
             ],
             [
              15656.5795,
              4824.6559
             ],
             [
              15656.5795,
              4824.7351
             ],
             [
              15656.5175,
              4824.7351
             ],
             [
              15656.5175,
              4824.8934
             ],
             [
              15656.4556,
              4824.8934
             ],
             [
              15656.4556,
              4825.6059
             ],
             [
              15656.5175,
              4825.6059
             ],
             [
              15656.5175,
              4825.8434
             ],
             [
              15656.5795,
              4825.8434
             ],
             [
              15656.5795,
              4826.0809
             ],
             [
              15656.6414,
              4826.0809
             ],
             [
              15656.6414,
              4826.2392
             ],
             [
              15656.7033,
              4826.2392
             ],
             [
              15656.7033,
              4826.4767
             ],
             [
              15656.7652,
              4826.4767
             ],
             [
              15656.7652,
              4826.635
             ],
             [
              15656.8271,
              4826.635
             ],
             [
              15656.8271,
              4826.8725
             ],
             [
              15656.8891,
              4826.8725
             ],
             [
              15656.8891,
              4827.11
             ],
             [
              15656.951,
              4827.11
             ],
             [
              15656.951,
              4827.3475
             ],
             [
              15657.0129,
              4827.3475
             ],
             [
              15657.0129,
              4828.1391
             ],
             [
              15656.951,
              4828.1391
             ],
             [
              15656.951,
              4828.3766
             ],
             [
              15656.8891,
              4828.3766
             ],
             [
              15656.8891,
              4828.4558
             ],
             [
              15656.8271,
              4828.4558
             ],
             [
              15656.8271,
              4828.6141
             ],
             [
              15656.7652,
              4828.6141
             ],
             [
              15656.7652,
              4828.6933
             ],
             [
              15656.6414,
              4828.6933
             ],
             [
              15656.6414,
              4828.7724
             ],
             [
              15656.5795,
              4828.7724
             ],
             [
              15656.5795,
              4828.8516
             ],
             [
              15656.4556,
              4828.8516
             ],
             [
              15656.4556,
              4828.9308
             ],
             [
              15656.3318,
              4828.9308
             ],
             [
              15656.3318,
              4829.0099
             ],
             [
              15654.66,
              4829.0099
             ],
             [
              15654.66,
              4828.9308
             ],
             [
              15654.5361,
              4828.9308
             ],
             [
              15654.5361,
              4828.8516
             ],
             [
              15654.4123,
              4828.8516
             ],
             [
              15654.4123,
              4828.7724
             ],
             [
              15654.2884,
              4828.7724
             ],
             [
              15654.2884,
              4828.6933
             ],
             [
              15654.2265,
              4828.6933
             ],
             [
              15654.2265,
              4828.6141
             ],
             [
              15654.1646,
              4828.6141
             ],
             [
              15654.1646,
              4828.5349
             ],
             [
              15654.0408,
              4828.5349
             ],
             [
              15654.0408,
              4828.4558
             ],
             [
              15653.9789,
              4828.4558
             ],
             [
              15653.9789,
              4828.3766
             ],
             [
              15653.9169,
              4828.3766
             ],
             [
              15653.9169,
              4828.2974
             ],
             [
              15653.855,
              4828.2974
             ],
             [
              15653.855,
              4828.2183
             ],
             [
              15653.7931,
              4828.2183
             ],
             [
              15653.7931,
              4828.06
             ],
             [
              15653.7312,
              4828.06
             ],
             [
              15653.7312,
              4827.9808
             ],
             [
              15653.6693,
              4827.9808
             ],
             [
              15653.6693,
              4827.9016
             ],
             [
              15653.6073,
              4827.9016
             ],
             [
              15653.6073,
              4827.8225
             ],
             [
              15653.5454,
              4827.8225
             ],
             [
              15653.5454,
              4827.6641
             ],
             [
              15653.4835,
              4827.6641
             ],
             [
              15653.4835,
              4827.585
             ],
             [
              15653.4216,
              4827.585
             ],
             [
              15653.4216,
              4827.5058
             ],
             [
              15653.3597,
              4827.5058
             ],
             [
              15653.3597,
              4827.3475
             ],
             [
              15653.2977,
              4827.3475
             ],
             [
              15653.2977,
              4827.2683
             ],
             [
              15653.2358,
              4827.2683
             ],
             [
              15653.2358,
              4827.11
             ],
             [
              15653.1739,
              4827.11
             ],
             [
              15653.1739,
              4827.0308
             ],
             [
              15653.112,
              4827.0308
             ],
             [
              15653.112,
              4826.9517
             ],
             [
              15653.0501,
              4826.9517
             ],
             [
              15653.0501,
              4826.7933
             ],
             [
              15652.9881,
              4826.7933
             ],
             [
              15652.9881,
              4826.7142
             ],
             [
              15652.9262,
              4826.7142
             ],
             [
              15652.9262,
              4826.635
             ],
             [
              15652.8643,
              4826.635
             ],
             [
              15652.8643,
              4826.5558
             ],
             [
              15652.8024,
              4826.5558
             ],
             [
              15652.8024,
              4826.4767
             ],
             [
              15652.7405,
              4826.4767
             ],
             [
              15652.7405,
              4826.3975
             ],
             [
              15652.6786,
              4826.3975
             ],
             [
              15652.6786,
              4826.3184
             ],
             [
              15652.6166,
              4826.3184
             ],
             [
              15652.6166,
              4826.2392
             ],
             [
              15652.5547,
              4826.2392
             ],
             [
              15652.5547,
              4826.16
             ],
             [
              15652.4928,
              4826.16
             ],
             [
              15652.4928,
              4826.0809
             ],
             [
              15652.4309,
              4826.0809
             ],
             [
              15652.4309,
              4826.0017
             ],
             [
              15652.369,
              4826.0017
             ],
             [
              15652.369,
              4825.9225
             ],
             [
              15652.307,
              4825.9225
             ],
             [
              15652.307,
              4825.8434
             ],
             [
              15652.2451,
              4825.8434
             ],
             [
              15652.2451,
              4825.685
             ],
             [
              15652.1832,
              4825.685
             ],
             [
              15652.1832,
              4825.6059
             ],
             [
              15652.1213,
              4825.6059
             ],
             [
              15652.1213,
              4825.4476
             ],
             [
              15652.0594,
              4825.4476
             ],
             [
              15652.0594,
              4825.2892
             ],
             [
              15651.9974,
              4825.2892
             ],
             [
              15651.9974,
              4824.6559
             ],
             [
              15652.0594,
              4824.6559
             ],
             [
              15652.0594,
              4824.5768
             ],
             [
              15652.1213,
              4824.5768
             ],
             [
              15652.1213,
              4824.4184
             ],
             [
              15652.1832,
              4824.4184
             ],
             [
              15652.1832,
              4824.3393
             ],
             [
              15652.2451,
              4824.3393
             ],
             [
              15652.2451,
              4824.2601
             ],
             [
              15652.369,
              4824.2601
             ],
             [
              15652.369,
              4824.1809
             ],
             [
              15652.4309,
              4824.1809
             ],
             [
              15652.4309,
              4824.1018
             ],
             [
              15652.5547,
              4824.1018
             ],
             [
              15652.5547,
              4824.0226
             ],
             [
              15652.6786,
              4824.0226
             ],
             [
              15652.6786,
              4823.9434
             ],
             [
              15652.8643,
              4823.9434
             ],
             [
              15652.8643,
              4823.8643
             ],
             [
              15652.9881,
              4823.8643
             ],
             [
              15652.9881,
              4823.7851
             ],
             [
              15653.1739,
              4823.7851
             ],
             [
              15653.1739,
              4823.706
             ],
             [
              15653.2977,
              4823.706
             ],
             [
              15653.2977,
              4823.6268
             ],
             [
              15653.4835,
              4823.6268
             ],
             [
              15653.4835,
              4823.5476
             ],
             [
              15654.0408,
              4823.5476
             ],
             [
              15654.0408,
              4823.6268
             ],
             [
              15654.1027,
              4823.6268
             ],
             [
              15654.1027,
              4823.706
             ],
             [
              15654.1646,
              4823.706
             ],
             [
              15654.1646,
              4823.7851
             ],
             [
              15654.2265,
              4823.7851
             ],
             [
              15654.2265,
              4823.8643
             ],
             [
              15654.2884,
              4823.8643
             ],
             [
              15654.2884,
              4823.9434
             ],
             [
              15654.3504,
              4823.9434
             ],
             [
              15654.3504,
              4824.0226
             ],
             [
              15654.4123,
              4824.0226
             ],
             [
              15654.4123,
              4824.1018
             ],
             [
              15654.4742,
              4824.1018
             ],
             [
              15654.4742,
              4824.1809
             ],
             [
              15654.5361,
              4824.1809
             ],
             [
              15654.5361,
              4824.2601
             ],
             [
              15654.598,
              4824.2601
             ],
             [
              15654.598,
              4824.3393
             ],
             [
              15654.66,
              4824.3393
             ],
             [
              15654.66,
              4824.4184
             ],
             [
              15654.7838,
              4824.4184
             ],
             [
              15654.7838,
              4824.4976
             ],
             [
              15655.0315,
              4824.4976
             ],
             [
              15655.0315,
              4824.5768
             ],
             [
              15655.3411,
              4824.5768
             ],
             [
              15655.3411,
              4824.4976
             ],
             [
              15655.5268,
              4824.4976
             ],
             [
              15655.5268,
              4824.4184
             ],
             [
              15655.6507,
              4824.4184
             ],
             [
              15655.6507,
              4824.3393
             ],
             [
              15655.7126,
              4824.3393
             ],
             [
              15655.7126,
              4824.1809
             ],
             [
              15655.7745,
              4824.1809
             ],
             [
              15655.7745,
              4823.3893
             ],
             [
              15655.8364,
              4823.3893
             ],
             [
              15655.8364,
              4822.8352
             ],
             [
              15655.8983,
              4822.8352
             ],
             [
              15655.8983,
              4822.5185
             ],
             [
              15655.9603,
              4822.5185
             ],
             [
              15655.9603,
              4822.281
             ],
             [
              15656.0222,
              4822.281
             ],
             [
              15656.0222,
              4822.1227
             ],
             [
              15656.0841,
              4822.1227
             ],
             [
              15656.0841,
              4822.0435
             ],
             [
              15656.146,
              4822.0435
             ],
             [
              15656.146,
              4821.8852
             ],
             [
              15656.2079,
              4821.8852
             ],
             [
              15656.2079,
              4821.806
             ],
             [
              15656.2699,
              4821.806
             ],
             [
              15656.2699,
              4821.7269
             ],
             [
              15656.3318,
              4821.7269
             ],
             [
              15656.3318,
              4821.6477
             ],
             [
              15656.4556,
              4821.6477
             ],
             [
              15656.4556,
              4821.5685
             ],
             [
              15656.5795,
              4821.5685
             ],
             [
              15656.5795,
              4821.4894
             ],
             [
              15656.7652,
              4821.4894
             ],
             [
              15656.7652,
              4821.4102
             ]
            ]
           ]
          ],
          "type": "MultiPolygon"
         },
         "properties": {
          "FOV": "F003",
          "SampleFOV": "Run5666_G2697_G1532_F003",
          "SampleID": "Run5666_G2697_G1532",
          "area_um": 23.1862,
          "cell": "1",
          "cellID": "C1_Run5666_G2697_G1532_F003",
          "cell_center_x": 15655.1141,
          "cell_center_y": 4825.6126,
          "cell_centroid": [
           {
            "coordinates": [
             15655.1141,
             4825.6126
            ],
            "type": "Point"
           }
          ],
          "nCounts": 40,
          "polygon": [
           {
            "coordinates": [
             [
              [
               15646.3919,
               4826.3081
              ],
              [
               15649.3634,
               4828.3989
              ],
              [
               15659.575,
               4828.3639
              ],
              [
               15657.5648,
               4822.9238
              ],
              [
               15655.6967,
               4820.7199
              ],
              [
               15646.3919,
               4820.7199
              ],
              [
               15646.3919,
               4826.3081
              ]
             ]
            ],
            "type": "Polygon"
           }
          ],
          "polygon_area": 85.9917,
          "polygon_centroid": [
           {
            "coordinates": [
             15652.4201,
             4824.642
            ],
            "type": "Point"
           }
          ],
          "pxsize": 0.168,
          "radius_um": 2.7167,
          "region": "tissue",
          "tileID": "C1_Run5666_G2697_G1532_F003"
         },
         "type": "Feature"
        },
        {
         "geometry": {
          "coordinates": [
           [
            [
             [
              15657.313,
              4821.7611
             ],
             [
              15657.313,
              4821.874
             ],
             [
              15657.2437,
              4821.874
             ],
             [
              15657.2437,
              4822.3823
             ],
             [
              15659.1152,
              4822.3823
             ],
             [
              15659.1152,
              4822.3258
             ],
             [
              15659.1845,
              4822.3258
             ],
             [
              15659.1845,
              4822.2694
             ],
             [
              15659.2539,
              4822.2694
             ],
             [
              15659.2539,
              4822.2129
             ],
             [
              15659.3232,
              4822.2129
             ],
             [
              15659.3232,
              4822.1564
             ],
             [
              15659.3925,
              4822.1564
             ],
             [
              15659.3925,
              4822.0999
             ],
             [
              15659.4618,
              4822.0999
             ],
             [
              15659.4618,
              4822.0717
             ],
             [
              15659.5311,
              4822.0717
             ],
             [
              15659.5311,
              4822.0435
             ],
             [
              15659.6004,
              4822.0435
             ],
             [
              15659.6004,
              4822.0152
             ],
             [
              15659.6698,
              4822.0152
             ],
             [
              15659.6698,
              4821.987
             ],
             [
              15659.8084,
              4821.987
             ],
             [
              15659.8084,
              4821.9588
             ],
             [
              15660.155,
              4821.9588
             ],
             [
              15660.155,
              4821.987
             ],
             [
              15660.3629,
              4821.987
             ],
             [
              15660.3629,
              4822.0152
             ],
             [
              15660.5709,
              4822.0152
             ],
             [
              15660.5709,
              4822.0435
             ],
             [
              15660.8481,
              4822.0435
             ],
             [
              15660.8481,
              4822.0717
             ],
             [
              15661.5413,
              4822.0717
             ],
             [
              15661.5413,
              4822.0435
             ],
             [
              15661.7492,
              4822.0435
             ],
             [
              15661.7492,
              4822.0152
             ],
             [
              15661.9572,
              4822.0152
             ],
             [
              15661.9572,
              4821.987
             ],
             [
              15662.0265,
              4821.987
             ],
             [
              15662.0265,
              4821.9588
             ],
             [
              15662.1651,
              4821.9588
             ],
             [
              15662.1651,
              4821.9305
             ],
             [
              15662.2344,
              4821.9305
             ],
             [
              15662.2344,
              4821.9023
             ],
             [
              15662.3037,
              4821.9023
             ],
             [
              15662.3037,
              4821.874
             ],
             [
              15662.4424,
              4821.874
             ],
             [
              15662.4424,
              4821.8458
             ],
             [
              15662.5117,
              4821.8458
             ],
             [
              15662.5117,
              4821.7893
             ],
             [
              15662.581,
              4821.7893
             ],
             [
              15662.581,
              4821.7611
             ],
             [
              15662.6503,
              4821.7611
             ],
             [
              15662.6503,
              4821.7329
             ],
             [
              15662.7196,
              4821.7329
             ],
             [
              15662.7196,
              4821.6764
             ],
             [
              15662.789,
              4821.6764
             ],
             [
              15662.789,
              4821.6481
             ],
             [
              15662.8583,
              4821.6481
             ],
             [
              15662.8583,
              4821.5917
             ],
             [
              15662.9276,
              4821.5917
             ],
             [
              15662.9276,
              4821.5352
             ],
             [
              15662.9969,
              4821.5352
             ],
             [
              15662.9969,
              4821.4505
             ],
             [
              15663.0662,
              4821.4505
             ],
             [
              15663.0662,
              4821.3658
             ],
             [
              15663.1355,
              4821.3658
             ],
             [
              15663.1355,
              4821.2811
             ],
             [
              15663.2048,
              4821.2811
             ],
             [
              15663.2048,
              4821.1681
             ],
             [
              15663.2742,
              4821.1681
             ],
             [
              15663.2742,
              4820.9987
             ],
             [
              15663.3435,
              4820.9987
             ],
             [
              15663.3435,
              4820.8575
             ],
             [
              15663.4128,
              4820.8575
             ],
             [
              15663.4128,
              4820.7445
             ],
             [
              15663.4821,
              4820.7445
             ],
             [
              15663.4821,
              4820.6598
             ],
             [
              15663.5514,
              4820.6598
             ],
             [
              15663.5514,
              4820.5751
             ],
             [
              15663.6207,
              4820.5751
             ],
             [
              15663.6207,
              4820.5186
             ],
             [
              15663.6901,
              4820.5186
             ],
             [
              15663.6901,
              4820.4904
             ],
             [
              15663.7594,
              4820.4904
             ],
             [
              15663.7594,
              4820.4622
             ],
             [
              15663.8287,
              4820.4622
             ],
             [
              15663.8287,
              4820.4057
             ],
             [
              15663.898,
              4820.4057
             ],
             [
              15663.898,
              4820.3775
             ],
             [
              15663.9673,
              4820.3775
             ],
             [
              15663.9673,
              4820.3492
             ],
             [
              15664.1059,
              4820.3492
             ],
             [
              15664.1059,
              4819.5868
             ],
             [
              15660.6402,
              4819.5868
             ],
             [
              15660.6402,
              4819.6433
             ],
             [
              15660.5709,
              4819.6433
             ],
             [
              15660.5709,
              4819.728
             ],
             [
              15660.5015,
              4819.728
             ],
             [
              15660.5015,
              4819.7845
             ],
             [
              15660.4322,
              4819.7845
             ],
             [
              15660.4322,
              4819.8409
             ],
             [
              15660.3629,
              4819.8409
             ],
             [
              15660.3629,
              4819.8974
             ],
             [
              15660.2936,
              4819.8974
             ],
             [
              15660.2936,
              4819.9821
             ],
             [
              15660.2243,
              4819.9821
             ],
             [
              15660.2243,
              4820.0386
             ],
             [
              15660.155,
              4820.0386
             ],
             [
              15660.155,
              4820.0951
             ],
             [
              15660.0856,
              4820.0951
             ],
             [
              15660.0856,
              4820.1516
             ],
             [
              15660.0163,
              4820.1516
             ],
             [
              15660.0163,
              4820.2363
             ],
             [
              15659.947,
              4820.2363
             ],
             [
              15659.947,
              4820.2927
             ],
             [
              15659.8777,
              4820.2927
             ],
             [
              15659.8777,
              4820.3775
             ],
             [
              15659.8084,
              4820.3775
             ],
             [
              15659.8084,
              4820.4339
             ],
             [
              15659.7391,
              4820.4339
             ],
             [
              15659.7391,
              4820.4904
             ],
             [
              15659.6698,
              4820.4904
             ],
             [
              15659.6698,
              4820.5751
             ],
             [
              15659.6004,
              4820.5751
             ],
             [
              15659.6004,
              4820.6316
             ],
             [
              15659.5311,
              4820.6316
             ],
             [
              15659.5311,
              4820.6881
             ],
             [
              15659.4618,
              4820.6881
             ],
             [
              15659.4618,
              4820.7445
             ],
             [
              15659.3925,
              4820.7445
             ],
             [
              15659.3925,
              4820.7728
             ],
             [
              15659.3232,
              4820.7728
             ],
             [
              15659.3232,
              4820.8293
             ],
             [
              15659.2539,
              4820.8293
             ],
             [
              15659.2539,
              4820.8575
             ],
             [
              15659.1152,
              4820.8575
             ],
             [
              15659.1152,
              4820.8857
             ],
             [
              15658.9073,
              4820.8857
             ],
             [
              15658.9073,
              4820.914
             ],
             [
              15658.63,
              4820.914
             ],
             [
              15658.63,
              4820.8857
             ],
             [
              15658.3528,
              4820.8857
             ],
             [
              15658.3528,
              4820.8575
             ],
             [
              15658.2834,
              4820.8575
             ],
             [
              15658.2834,
              4820.8293
             ],
             [
              15658.2141,
              4820.8293
             ],
             [
              15658.2141,
              4820.801
             ],
             [
              15658.1448,
              4820.801
             ],
             [
              15658.1448,
              4820.7163
             ],
             [
              15658.0755,
              4820.7163
             ],
             [
              15658.0755,
              4820.2927
             ],
             [
              15658.0062,
              4820.2927
             ],
             [
              15658.0062,
              4820.1516
             ],
             [
              15657.9369,
              4820.1516
             ],
             [
              15657.9369,
              4820.0668
             ],
             [
              15657.8676,
              4820.0668
             ],
             [
              15657.8676,
              4819.9821
             ],
             [
              15657.7982,
              4819.9821
             ],
             [
              15657.7982,
              4819.9539
             ],
             [
              15657.7289,
              4819.9539
             ],
             [
              15657.7289,
              4819.8974
             ],
             [
              15657.6596,
              4819.8974
             ],
             [
              15657.6596,
              4819.8692
             ],
             [
              15657.5903,
              4819.8692
             ],
             [
              15657.5903,
              4819.8409
             ],
             [
              15657.4517,
              4819.8409
             ],
             [
              15657.4517,
              4819.8127
             ],
             [
              15657.313,
              4819.8127
             ],
             [
              15657.313,
              4819.7845
             ],
             [
              15657.2437,
              4819.7845
             ],
             [
              15657.2437,
              4820.914
             ],
             [
              15657.313,
              4820.914
             ],
             [
              15657.313,
              4820.9422
             ],
             [
              15657.4517,
              4820.9422
             ],
             [
              15657.4517,
              4820.9704
             ],
             [
              15657.521,
              4820.9704
             ],
             [
              15657.521,
              4820.9987
             ],
             [
              15657.5903,
              4820.9987
             ],
             [
              15657.5903,
              4821.0552
             ],
             [
              15657.6596,
              4821.0552
             ],
             [
              15657.6596,
              4821.3375
             ],
             [
              15657.5903,
              4821.3375
             ],
             [
              15657.5903,
              4821.4505
             ],
             [
              15657.521,
              4821.4505
             ],
             [
              15657.521,
              4821.5634
             ],
             [
              15657.4517,
              4821.5634
             ],
             [
              15657.4517,
              4821.6764
             ],
             [
              15657.3823,
              4821.6764
             ],
             [
              15657.3823,
              4821.7611
             ],
             [
              15657.313,
              4821.7611
             ]
            ]
           ]
          ],
          "type": "MultiPolygon"
         },
         "properties": {
          "FOV": "F003",
          "SampleFOV": "Run5666_G2697_G1532_F003",
          "SampleID": "Run5666_G2697_G1532",
          "area_um": 12.6701,
          "cell": "3",
          "cellID": "C3_Run5666_G2697_G1532_F003",
          "cell_center_x": 15660.6188,
          "cell_center_y": 4820.9467,
          "cell_centroid": [
           {
            "coordinates": [
             15660.6188,
             4820.9467
            ],
            "type": "Point"
           }
          ],
          "nCounts": 15,
          "polygon": [
           {
            "coordinates": [
             [
              [
               15655.6967,
               4820.7199
              ],
              [
               15657.5648,
               4822.9238
              ],
              [
               15663.2061,
               4821.6304
              ],
              [
               15663.4746,
               4820.7199
              ],
              [
               15655.6967,
               4820.7199
              ]
             ]
            ],
            "type": "Polygon"
           }
          ],
          "polygon_area": 10.9656,
          "polygon_centroid": [
           {
            "coordinates": [
             15659.4587,
             4821.5208
            ],
            "type": "Point"
           }
          ],
          "pxsize": 0.168,
          "radius_um": 2.0082,
          "region": "tissue",
          "tileID": "C3_Run5666_G2697_G1532_F003"
         },
         "type": "Feature"
        },
        {
         "geometry": {
          "coordinates": [
           [
            [
             [
              15653.1817,
              4828.9378
             ],
             [
              15653.1817,
              4829.0354
             ],
             [
              15653.1321,
              4829.0354
             ],
             [
              15653.1321,
              4829.0842
             ],
             [
              15653.0825,
              4829.0842
             ],
             [
              15653.0825,
              4829.1819
             ],
             [
              15653.0328,
              4829.1819
             ],
             [
              15653.0328,
              4829.2795
             ],
             [
              15652.9832,
              4829.2795
             ],
             [
              15652.9832,
              4829.3284
             ],
             [
              15652.9336,
              4829.3284
             ],
             [
              15652.9336,
              4829.426
             ],
             [
              15652.884,
              4829.426
             ],
             [
              15652.884,
              4829.5236
             ],
             [
              15652.8344,
              4829.5236
             ],
             [
              15652.8344,
              4829.6701
             ],
             [
              15652.7848,
              4829.6701
             ],
             [
              15652.7848,
              4829.963
             ],
             [
              15652.8344,
              4829.963
             ],
             [
              15652.8344,
              4830.1095
             ],
             [
              15652.884,
              4830.1095
             ],
             [
              15652.884,
              4830.2071
             ],
             [
              15652.9336,
              4830.2071
             ],
             [
              15652.9336,
              4830.3048
             ],
             [
              15652.9832,
              4830.3048
             ],
             [
              15652.9832,
              4830.4024
             ],
             [
              15653.0328,
              4830.4024
             ],
             [
              15653.0328,
              4830.5001
             ],
             [
              15653.0825,
              4830.5001
             ],
             [
              15653.0825,
              4830.6954
             ],
             [
              15653.0328,
              4830.6954
             ],
             [
              15653.0328,
              4830.793
             ],
             [
              15652.9336,
              4830.793
             ],
             [
              15652.9336,
              4830.8418
             ],
             [
              15652.7848,
              4830.8418
             ],
             [
              15652.7848,
              4830.8907
             ],
             [
              15652.7352,
              4830.8907
             ],
             [
              15652.7352,
              4832.5994
             ],
             [
              15652.8344,
              4832.5994
             ],
             [
              15652.8344,
              4832.6482
             ],
             [
              15652.9832,
              4832.6482
             ],
             [
              15652.9832,
              4832.6971
             ],
             [
              15653.1817,
              4832.6971
             ],
             [
              15653.1817,
              4832.7459
             ],
             [
              15653.4793,
              4832.7459
             ],
             [
              15653.4793,
              4832.6971
             ],
             [
              15654.3227,
              4832.6971
             ],
             [
              15654.3227,
              4832.7459
             ],
             [
              15654.8683,
              4832.7459
             ],
             [
              15654.8683,
              4832.6971
             ],
             [
              15655.0668,
              4832.6971
             ],
             [
              15655.0668,
              4832.6482
             ],
             [
              15655.2652,
              4832.6482
             ],
             [
              15655.2652,
              4832.5994
             ],
             [
              15655.414,
              4832.5994
             ],
             [
              15655.414,
              4832.5506
             ],
             [
              15655.5629,
              4832.5506
             ],
             [
              15655.5629,
              4832.5018
             ],
             [
              15655.7117,
              4832.5018
             ],
             [
              15655.7117,
              4832.453
             ],
             [
              15655.8109,
              4832.453
             ],
             [
              15655.8109,
              4832.4041
             ],
             [
              15655.9101,
              4832.4041
             ],
             [
              15655.9101,
              4832.3553
             ],
             [
              15656.0093,
              4832.3553
             ],
             [
              15656.0093,
              4832.3065
             ],
             [
              15656.1085,
              4832.3065
             ],
             [
              15656.1085,
              4832.2577
             ],
             [
              15656.1582,
              4832.2577
             ],
             [
              15656.1582,
              4832.2088
             ],
             [
              15656.2574,
              4832.2088
             ],
             [
              15656.2574,
              4832.16
             ],
             [
              15656.307,
              4832.16
             ],
             [
              15656.307,
              4832.1112
             ],
             [
              15656.3566,
              4832.1112
             ],
             [
              15656.3566,
              4832.0624
             ],
             [
              15656.4062,
              4832.0624
             ],
             [
              15656.4062,
              4832.0136
             ],
             [
              15656.5054,
              4832.0136
             ],
             [
              15656.5054,
              4831.9647
             ],
             [
              15656.555,
              4831.9647
             ],
             [
              15656.555,
              4831.9159
             ],
             [
              15656.6046,
              4831.9159
             ],
             [
              15656.6046,
              4831.8671
             ],
             [
              15656.6542,
              4831.8671
             ],
             [
              15656.6542,
              4831.8183
             ],
             [
              15656.7534,
              4831.8183
             ],
             [
              15656.7534,
              4831.7694
             ],
             [
              15656.8527,
              4831.7694
             ],
             [
              15656.8527,
              4832.6971
             ],
             [
              15656.8031,
              4832.6971
             ],
             [
              15656.8031,
              4832.7459
             ],
             [
              15656.7534,
              4832.7459
             ],
             [
              15656.7534,
              4832.7947
             ],
             [
              15656.6542,
              4832.7947
             ],
             [
              15656.6542,
              4832.8435
             ],
             [
              15656.6046,
              4832.8435
             ],
             [
              15656.6046,
              4832.8923
             ],
             [
              15656.4558,
              4832.8923
             ],
             [
              15656.4558,
              4832.9412
             ],
             [
              15656.2574,
              4832.9412
             ],
             [
              15656.2574,
              4832.99
             ],
             [
              15655.9597,
              4832.99
             ],
             [
              15655.9597,
              4833.0388
             ],
             [
              15655.8109,
              4833.0388
             ],
             [
              15655.8109,
              4833.0876
             ],
             [
              15655.6621,
              4833.0876
             ],
             [
              15655.6621,
              4833.1365
             ],
             [
              15655.6125,
              4833.1365
             ],
             [
              15655.6125,
              4833.1853
             ],
             [
              15655.5629,
              4833.1853
             ],
             [
              15655.5629,
              4833.2341
             ],
             [
              15655.5132,
              4833.2341
             ],
             [
              15655.5132,
              4833.2829
             ],
             [
              15655.4636,
              4833.2829
             ],
             [
              15655.4636,
              4833.3317
             ],
             [
              15655.414,
              4833.3317
             ],
             [
              15655.414,
              4833.3806
             ],
             [
              15655.3644,
              4833.3806
             ],
             [
              15655.3644,
              4833.4782
             ],
             [
              15655.3148,
              4833.4782
             ],
             [
              15655.3148,
              4833.7223
             ],
             [
              15657.6464,
              4833.7223
             ],
             [
              15657.6464,
              4831.4765
             ],
             [
              15657.448,
              4831.4765
             ],
             [
              15657.448,
              4831.5253
             ],
             [
              15657.1999,
              4831.5253
             ],
             [
              15657.1999,
              4831.5742
             ],
             [
              15657.0015,
              4831.5742
             ],
             [
              15657.0015,
              4831.4277
             ],
             [
              15657.0511,
              4831.4277
             ],
             [
              15657.0511,
              4831.3301
             ],
             [
              15657.1007,
              4831.3301
             ],
             [
              15657.1007,
              4831.2812
             ],
             [
              15657.1503,
              4831.2812
             ],
             [
              15657.1503,
              4831.1836
             ],
             [
              15657.1999,
              4831.1836
             ],
             [
              15657.1999,
              4831.0859
             ],
             [
              15657.2495,
              4831.0859
             ],
             [
              15657.2495,
              4830.9883
             ],
             [
              15657.2991,
              4830.9883
             ],
             [
              15657.2991,
              4830.8907
             ],
             [
              15657.3487,
              4830.8907
             ],
             [
              15657.3487,
              4830.6954
             ],
             [
              15657.3984,
              4830.6954
             ],
             [
              15657.3984,
              4830.5489
             ],
             [
              15657.3487,
              4830.5489
             ],
             [
              15657.3487,
              4830.3536
             ],
             [
              15657.2991,
              4830.3536
             ],
             [
              15657.2991,
              4830.256
             ],
             [
              15657.2495,
              4830.256
             ],
             [
              15657.2495,
              4830.2071
             ],
             [
              15657.1999,
              4830.2071
             ],
             [
              15657.1999,
              4830.1095
             ],
             [
              15657.1503,
              4830.1095
             ],
             [
              15657.1503,
              4830.0607
             ],
             [
              15657.1007,
              4830.0607
             ],
             [
              15657.1007,
              4830.0119
             ],
             [
              15657.0511,
              4830.0119
             ],
             [
              15657.0511,
              4829.963
             ],
             [
              15656.9519,
              4829.963
             ],
             [
              15656.9519,
              4829.9142
             ],
             [
              15656.9023,
              4829.9142
             ],
             [
              15656.9023,
              4829.8654
             ],
             [
              15656.8031,
              4829.8654
             ],
             [
              15656.8031,
              4829.8166
             ],
             [
              15656.7534,
              4829.8166
             ],
             [
              15656.7534,
              4829.7678
             ],
             [
              15656.6542,
              4829.7678
             ],
             [
              15656.6542,
              4829.7189
             ],
             [
              15656.555,
              4829.7189
             ],
             [
              15656.555,
              4829.6701
             ],
             [
              15656.4558,
              4829.6701
             ],
             [
              15656.4558,
              4829.6213
             ],
             [
              15656.4062,
              4829.6213
             ],
             [
              15656.4062,
              4829.5725
             ],
             [
              15656.307,
              4829.5725
             ],
             [
              15656.307,
              4829.5236
             ],
             [
              15656.2574,
              4829.5236
             ],
             [
              15656.2574,
              4829.4748
             ],
             [
              15656.2078,
              4829.4748
             ],
             [
              15656.2078,
              4829.3772
             ],
             [
              15656.1582,
              4829.3772
             ],
             [
              15656.1582,
              4829.3284
             ],
             [
              15656.1085,
              4829.3284
             ],
             [
              15656.1085,
              4829.2307
             ],
             [
              15656.0589,
              4829.2307
             ],
             [
              15656.0589,
              4829.1331
             ],
             [
              15656.0093,
              4829.1331
             ],
             [
              15656.0093,
              4829.0842
             ],
             [
              15655.9597,
              4829.0842
             ],
             [
              15655.9597,
              4829.0354
             ],
             [
              15655.9101,
              4829.0354
             ],
             [
              15655.9101,
              4828.9866
             ],
             [
              15655.8605,
              4828.9866
             ],
             [
              15655.8605,
              4828.9378
             ],
             [
              15655.8109,
              4828.9378
             ],
             [
              15655.8109,
              4828.889
             ],
             [
              15653.2313,
              4828.889
             ],
             [
              15653.2313,
              4828.9378
             ],
             [
              15653.1817,
              4828.9378
             ]
            ]
           ]
          ],
          "type": "MultiPolygon"
         },
         "properties": {
          "FOV": "F003",
          "SampleFOV": "Run5666_G2697_G1532_F003",
          "SampleID": "Run5666_G2697_G1532",
          "area_um": 17.1617,
          "cell": "4",
          "cellID": "C4_Run5666_G2697_G1532_F003",
          "cell_center_x": 15655.133,
          "cell_center_y": 4831.1458,
          "cell_centroid": [
           {
            "coordinates": [
             15655.133,
             4831.1458
            ],
            "type": "Point"
           }
          ],
          "nCounts": 47,
          "polygon": [
           {
            "coordinates": [
             [
              [
               15649.3634,
               4828.3989
              ],
              [
               15654.3318,
               4837.2837
              ],
              [
               15657.0937,
               4837.9404
              ],
              [
               15659.8271,
               4834.1197
              ],
              [
               15659.7558,
               4828.5045
              ],
              [
               15659.575,
               4828.3639
              ],
              [
               15649.3634,
               4828.3989
              ]
             ]
            ],
            "type": "Polygon"
           }
          ],
          "polygon_area": 68.3414,
          "polygon_centroid": [
           {
            "coordinates": [
             15655.5302,
             4832.2544
            ],
            "type": "Point"
           }
          ],
          "pxsize": 0.168,
          "radius_um": 2.3372,
          "region": "tissue",
          "tileID": "C4_Run5666_G2697_G1532_F003"
         },
         "type": "Feature"
        },
        {
         "geometry": {
          "coordinates": [
           [
            [
             [
              15646.1431,
              4835.9949
             ],
             [
              15646.0349,
              4835.9949
             ],
             [
              15646.0349,
              4835.9399
             ],
             [
              15644.0344,
              4835.9399
             ],
             [
              15644.0344,
              4835.9949
             ],
             [
              15643.9803,
              4835.9949
             ],
             [
              15643.9803,
              4836.4896
             ],
             [
              15644.0344,
              4836.4896
             ],
             [
              15644.0344,
              4836.5995
             ],
             [
              15644.0884,
              4836.5995
             ],
             [
              15644.0884,
              4836.6545
             ],
             [
              15644.1425,
              4836.6545
             ],
             [
              15644.1425,
              4836.7094
             ],
             [
              15644.1966,
              4836.7094
             ],
             [
              15644.1966,
              4836.8194
             ],
             [
              15644.2506,
              4836.8194
             ],
             [
              15644.2506,
              4836.8743
             ],
             [
              15644.3047,
              4836.8743
             ],
             [
              15644.3047,
              4836.9293
             ],
             [
              15644.4129,
              4836.9293
             ],
             [
              15644.4129,
              4836.9843
             ],
             [
              15644.4669,
              4836.9843
             ],
             [
              15644.4669,
              4837.0392
             ],
             [
              15644.5751,
              4837.0392
             ],
             [
              15644.5751,
              4837.0942
             ],
             [
              15644.6291,
              4837.0942
             ],
             [
              15644.6291,
              4837.1491
             ],
             [
              15644.7373,
              4837.1491
             ],
             [
              15644.7373,
              4837.2041
             ],
             [
              15644.8454,
              4837.2041
             ],
             [
              15644.8454,
              4837.2591
             ],
             [
              15644.9536,
              4837.2591
             ],
             [
              15644.9536,
              4837.314
             ],
             [
              15645.0076,
              4837.314
             ],
             [
              15645.0076,
              4837.369
             ],
             [
              15645.1158,
              4837.369
             ],
             [
              15645.1158,
              4837.424
             ],
             [
              15645.1698,
              4837.424
             ],
             [
              15645.1698,
              4837.4789
             ],
             [
              15645.2239,
              4837.4789
             ],
             [
              15645.2239,
              4837.6988
             ],
             [
              15645.1698,
              4837.6988
             ],
             [
              15645.1698,
              4837.7538
             ],
             [
              15645.0617,
              4837.7538
             ],
             [
              15645.0617,
              4837.8087
             ],
             [
              15644.9536,
              4837.8087
             ],
             [
              15644.9536,
              4837.8637
             ],
             [
              15644.8454,
              4837.8637
             ],
             [
              15644.8454,
              4837.9187
             ],
             [
              15644.7373,
              4837.9187
             ],
             [
              15644.7373,
              4837.9736
             ],
             [
              15644.5751,
              4837.9736
             ],
             [
              15644.5751,
              4838.0286
             ],
             [
              15644.4669,
              4838.0286
             ],
             [
              15644.4669,
              4838.0835
             ],
             [
              15644.3047,
              4838.0835
             ],
             [
              15644.3047,
              4838.1385
             ],
             [
              15644.1425,
              4838.1385
             ],
             [
              15644.1425,
              4838.1935
             ],
             [
              15643.9803,
              4838.1935
             ],
             [
              15643.9803,
              4840.7768
             ],
             [
              15644.0344,
              4840.7768
             ],
             [
              15644.0344,
              4840.8318
             ],
             [
              15644.1425,
              4840.8318
             ],
             [
              15644.1425,
              4840.8868
             ],
             [
              15644.1966,
              4840.8868
             ],
             [
              15644.1966,
              4840.9417
             ],
             [
              15644.3047,
              4840.9417
             ],
             [
              15644.3047,
              4840.9967
             ],
             [
              15644.3588,
              4840.9967
             ],
             [
              15644.3588,
              4841.1066
             ],
             [
              15644.4129,
              4841.1066
             ],
             [
              15644.4129,
              4841.1616
             ],
             [
              15644.4669,
              4841.1616
             ],
             [
              15644.4669,
              4841.2715
             ],
             [
              15644.521,
              4841.2715
             ],
             [
              15644.521,
              4841.3814
             ],
             [
              15647.9815,
              4841.3814
             ],
             [
              15647.9815,
              4841.2715
             ],
             [
              15648.0355,
              4841.2715
             ],
             [
              15648.0355,
              4841.1616
             ],
             [
              15648.0896,
              4841.1616
             ],
             [
              15648.0896,
              4841.0517
             ],
             [
              15648.1437,
              4841.0517
             ],
             [
              15648.1437,
              4840.9967
             ],
             [
              15648.1977,
              4840.9967
             ],
             [
              15648.1977,
              4840.8868
             ],
             [
              15648.2518,
              4840.8868
             ],
             [
              15648.2518,
              4840.8318
             ],
             [
              15648.3059,
              4840.8318
             ],
             [
              15648.3059,
              4840.7768
             ],
             [
              15648.3599,
              4840.7768
             ],
             [
              15648.3599,
              4840.7219
             ],
             [
              15648.5222,
              4840.7219
             ],
             [
              15648.5222,
              4840.6669
             ],
             [
              15648.8466,
              4840.6669
             ],
             [
              15648.8466,
              4840.6119
             ],
             [
              15649.3332,
              4840.6119
             ],
             [
              15649.3332,
              4838.1935
             ],
             [
              15649.2791,
              4838.1935
             ],
             [
              15649.2791,
              4838.1385
             ],
             [
              15649.2251,
              4838.1385
             ],
             [
              15649.2251,
              4838.0835
             ],
             [
              15649.1169,
              4838.0835
             ],
             [
              15649.1169,
              4838.0286
             ],
             [
              15649.0088,
              4838.0286
             ],
             [
              15649.0088,
              4837.9736
             ],
             [
              15648.9006,
              4837.9736
             ],
             [
              15648.9006,
              4837.9187
             ],
             [
              15648.7925,
              4837.9187
             ],
             [
              15648.7925,
              4837.8637
             ],
             [
              15648.6303,
              4837.8637
             ],
             [
              15648.6303,
              4837.8087
             ],
             [
              15648.1977,
              4837.8087
             ],
             [
              15648.1977,
              4837.7538
             ],
             [
              15648.0355,
              4837.7538
             ],
             [
              15648.0355,
              4837.8087
             ],
             [
              15647.5489,
              4837.8087
             ],
             [
              15647.5489,
              4837.8637
             ],
             [
              15647.2786,
              4837.8637
             ],
             [
              15647.2786,
              4837.9187
             ],
             [
              15646.5216,
              4837.9187
             ],
             [
              15646.5216,
              4837.8637
             ],
             [
              15646.4134,
              4837.8637
             ],
             [
              15646.4134,
              4837.8087
             ],
             [
              15646.3594,
              4837.8087
             ],
             [
              15646.3594,
              4837.7538
             ],
             [
              15646.3053,
              4837.7538
             ],
             [
              15646.3053,
              4837.6988
             ],
             [
              15646.2512,
              4837.6988
             ],
             [
              15646.2512,
              4837.5339
             ],
             [
              15646.3053,
              4837.5339
             ],
             [
              15646.3053,
              4837.4789
             ],
             [
              15646.3594,
              4837.4789
             ],
             [
              15646.3594,
              4837.424
             ],
             [
              15646.4134,
              4837.424
             ],
             [
              15646.4134,
              4837.369
             ],
             [
              15646.4675,
              4837.369
             ],
             [
              15646.4675,
              4837.314
             ],
             [
              15646.5216,
              4837.314
             ],
             [
              15646.5216,
              4837.2591
             ],
             [
              15646.5756,
              4837.2591
             ],
             [
              15646.5756,
              4837.2041
             ],
             [
              15646.6297,
              4837.2041
             ],
             [
              15646.6297,
              4837.1491
             ],
             [
              15646.6838,
              4837.1491
             ],
             [
              15646.6838,
              4837.0392
             ],
             [
              15646.7379,
              4837.0392
             ],
             [
              15646.7379,
              4836.9293
             ],
             [
              15646.7919,
              4836.9293
             ],
             [
              15646.7919,
              4836.6545
             ],
             [
              15646.7379,
              4836.6545
             ],
             [
              15646.7379,
              4836.5445
             ],
             [
              15646.6838,
              4836.5445
             ],
             [
              15646.6838,
              4836.4346
             ],
             [
              15646.6297,
              4836.4346
             ],
             [
              15646.6297,
              4836.3796
             ],
             [
              15646.5756,
              4836.3796
             ],
             [
              15646.5756,
              4836.3247
             ],
             [
              15646.5216,
              4836.3247
             ],
             [
              15646.5216,
              4836.2697
             ],
             [
              15646.4675,
              4836.2697
             ],
             [
              15646.4675,
              4836.2147
             ],
             [
              15646.4134,
              4836.2147
             ],
             [
              15646.4134,
              4836.1598
             ],
             [
              15646.3053,
              4836.1598
             ],
             [
              15646.3053,
              4836.1048
             ],
             [
              15646.2512,
              4836.1048
             ],
             [
              15646.2512,
              4836.0498
             ],
             [
              15646.1431,
              4836.0498
             ],
             [
              15646.1431,
              4835.9949
             ]
            ]
           ]
          ],
          "type": "MultiPolygon"
         },
         "properties": {
          "FOV": "F003",
          "SampleFOV": "Run5666_G2697_G1532_F003",
          "SampleID": "Run5666_G2697_G1532",
          "area_um": 21.1586,
          "cell": "5",
          "cellID": "C5_Run5666_G2697_G1532_F003",
          "cell_center_x": 15646.3919,
          "cell_center_y": 4839.0487,
          "cell_centroid": [
           {
            "coordinates": [
             15646.3919,
             4839.0487
            ],
            "type": "Point"
           }
          ],
          "nCounts": 22,
          "polygon": [
           {
            "coordinates": [
             [
              [
               15646.3919,
               4845.346
              ],
              [
               15650.9687,
               4838.7305
              ],
              [
               15646.3919,
               4836.2899
              ],
              [
               15646.3919,
               4845.346
              ]
             ]
            ],
            "type": "Polygon"
           }
          ],
          "polygon_area": 20.7241,
          "polygon_centroid": [
           {
            "coordinates": [
             15647.9175,
             4840.1221
            ],
            "type": "Point"
           }
          ],
          "pxsize": 0.168,
          "radius_um": 2.5952,
          "region": "tissue",
          "tileID": "C5_Run5666_G2697_G1532_F003"
         },
         "type": "Feature"
        },
        {
         "geometry": {
          "coordinates": [
           [
            [
             [
              15650.892,
              4839.7292
             ],
             [
              15650.7962,
              4839.7292
             ],
             [
              15650.7962,
              4839.8174
             ],
             [
              15650.6046,
              4839.8174
             ],
             [
              15650.6046,
              4839.9056
             ],
             [
              15650.3172,
              4839.9056
             ],
             [
              15650.3172,
              4839.9939
             ],
             [
              15650.2214,
              4839.9939
             ],
             [
              15650.2214,
              4840.0821
             ],
             [
              15650.0298,
              4840.0821
             ],
             [
              15650.0298,
              4840.1703
             ],
             [
              15649.8383,
              4840.1703
             ],
             [
              15649.8383,
              4840.2585
             ],
             [
              15649.7425,
              4840.2585
             ],
             [
              15649.7425,
              4840.3468
             ],
             [
              15649.5509,
              4840.3468
             ],
             [
              15649.5509,
              4840.435
             ],
             [
              15649.4551,
              4840.435
             ],
             [
              15649.4551,
              4840.5232
             ],
             [
              15649.3593,
              4840.5232
             ],
             [
              15649.3593,
              4840.6114
             ],
             [
              15649.1677,
              4840.6114
             ],
             [
              15649.1677,
              4840.6997
             ],
             [
              15649.0719,
              4840.6997
             ],
             [
              15649.0719,
              4840.7879
             ],
             [
              15648.9761,
              4840.7879
             ],
             [
              15648.9761,
              4840.8761
             ],
             [
              15648.7845,
              4840.8761
             ],
             [
              15648.7845,
              4840.9643
             ],
             [
              15648.6887,
              4840.9643
             ],
             [
              15648.6887,
              4841.0526
             ],
             [
              15648.593,
              4841.0526
             ],
             [
              15648.593,
              4841.1408
             ],
             [
              15648.4972,
              4841.1408
             ],
             [
              15648.4972,
              4841.229
             ],
             [
              15648.4014,
              4841.229
             ],
             [
              15648.4014,
              4841.3172
             ],
             [
              15648.3056,
              4841.3172
             ],
             [
              15648.3056,
              4841.4055
             ],
             [
              15648.2098,
              4841.4055
             ],
             [
              15648.2098,
              4841.4937
             ],
             [
              15648.114,
              4841.4937
             ],
             [
              15648.114,
              4841.6701
             ],
             [
              15648.0182,
              4841.6701
             ],
             [
              15648.0182,
              4841.9348
             ],
             [
              15647.9224,
              4841.9348
             ],
             [
              15647.9224,
              4842.5524
             ],
             [
              15648.0182,
              4842.5524
             ],
             [
              15648.0182,
              4842.6406
             ],
             [
              15648.114,
              4842.6406
             ],
             [
              15648.114,
              4842.7289
             ],
             [
              15648.2098,
              4842.7289
             ],
             [
              15648.2098,
              4842.8171
             ],
             [
              15648.3056,
              4842.8171
             ],
             [
              15648.3056,
              4842.9053
             ],
             [
              15648.4972,
              4842.9053
             ],
             [
              15648.4972,
              4842.9935
             ],
             [
              15648.593,
              4842.9935
             ],
             [
              15648.593,
              4843.0818
             ],
             [
              15648.6887,
              4843.0818
             ],
             [
              15648.6887,
              4843.17
             ],
             [
              15648.7845,
              4843.17
             ],
             [
              15648.7845,
              4843.2582
             ],
             [
              15648.8803,
              4843.2582
             ],
             [
              15648.8803,
              4843.4347
             ],
             [
              15648.9761,
              4843.4347
             ],
             [
              15648.9761,
              4843.5229
             ],
             [
              15649.0719,
              4843.5229
             ],
             [
              15649.0719,
              4843.6993
             ],
             [
              15649.1677,
              4843.6993
             ],
             [
              15649.1677,
              4843.7876
             ],
             [
              15649.2635,
              4843.7876
             ],
             [
              15649.2635,
              4843.964
             ],
             [
              15649.3593,
              4843.964
             ],
             [
              15649.3593,
              4844.0522
             ],
             [
              15649.4551,
              4844.0522
             ],
             [
              15649.4551,
              4844.1405
             ],
             [
              15649.5509,
              4844.1405
             ],
             [
              15649.5509,
              4844.2287
             ],
             [
              15649.6467,
              4844.2287
             ],
             [
              15649.6467,
              4844.4051
             ],
             [
              15649.8383,
              4844.4051
             ],
             [
              15649.8383,
              4844.4934
             ],
             [
              15649.934,
              4844.4934
             ],
             [
              15649.934,
              4844.5816
             ],
             [
              15650.0298,
              4844.5816
             ],
             [
              15650.0298,
              4844.6698
             ],
             [
              15650.1256,
              4844.6698
             ],
             [
              15650.1256,
              4844.758
             ],
             [
              15650.3172,
              4844.758
             ],
             [
              15650.3172,
              4844.8463
             ],
             [
              15650.5088,
              4844.8463
             ],
             [
              15650.5088,
              4844.9345
             ],
             [
              15650.7004,
              4844.9345
             ],
             [
              15650.7004,
              4845.0227
             ],
             [
              15650.892,
              4845.0227
             ],
             [
              15650.892,
              4845.1109
             ],
             [
              15651.0835,
              4845.1109
             ],
             [
              15651.0835,
              4845.1992
             ],
             [
              15651.2751,
              4845.1992
             ],
             [
              15651.2751,
              4845.2874
             ],
             [
              15651.3709,
              4845.2874
             ],
             [
              15651.3709,
              4845.3756
             ],
             [
              15651.4667,
              4845.3756
             ],
             [
              15651.4667,
              4845.8167
             ],
             [
              15651.3709,
              4845.8167
             ],
             [
              15651.3709,
              4846.2579
             ],
             [
              15651.2751,
              4846.2579
             ],
             [
              15651.2751,
              4846.8754
             ],
             [
              15651.1793,
              4846.8754
             ],
             [
              15651.1793,
              4847.2283
             ],
             [
              15651.2751,
              4847.2283
             ],
             [
              15651.2751,
              4847.5813
             ],
             [
              15651.3709,
              4847.5813
             ],
             [
              15651.3709,
              4847.6695
             ],
             [
              15651.4667,
              4847.6695
             ],
             [
              15651.4667,
              4847.7577
             ],
             [
              15651.5625,
              4847.7577
             ],
             [
              15651.5625,
              4847.8459
             ],
             [
              15651.6583,
              4847.8459
             ],
             [
              15651.6583,
              4847.9342
             ],
             [
              15652.0415,
              4847.9342
             ],
             [
              15652.0415,
              4848.0224
             ],
             [
              15652.8078,
              4848.0224
             ],
             [
              15652.8078,
              4847.9342
             ],
             [
              15653.191,
              4847.9342
             ],
             [
              15653.191,
              4847.8459
             ],
             [
              15653.3826,
              4847.8459
             ],
             [
              15653.3826,
              4847.7577
             ],
             [
              15653.4783,
              4847.7577
             ],
             [
              15653.4783,
              4847.6695
             ],
             [
              15653.6699,
              4847.6695
             ],
             [
              15653.6699,
              4847.5813
             ],
             [
              15653.7657,
              4847.5813
             ],
             [
              15653.7657,
              4847.493
             ],
             [
              15653.8615,
              4847.493
             ],
             [
              15653.8615,
              4847.3166
             ],
             [
              15653.9573,
              4847.3166
             ],
             [
              15653.9573,
              4847.2283
             ],
             [
              15654.0531,
              4847.2283
             ],
             [
              15654.0531,
              4847.0519
             ],
             [
              15654.1489,
              4847.0519
             ],
             [
              15654.1489,
              4846.7872
             ],
             [
              15654.2447,
              4846.7872
             ],
             [
              15654.2447,
              4846.4343
             ],
             [
              15654.3405,
              4846.4343
             ],
             [
              15654.3405,
              4845.905
             ],
             [
              15654.2447,
              4845.905
             ],
             [
              15654.2447,
              4845.4638
             ],
             [
              15654.1489,
              4845.4638
             ],
             [
              15654.1489,
              4845.2874
             ],
             [
              15654.0531,
              4845.2874
             ],
             [
              15654.0531,
              4845.1992
             ],
             [
              15653.9573,
              4845.1992
             ],
             [
              15653.9573,
              4845.1109
             ],
             [
              15653.8615,
              4845.1109
             ],
             [
              15653.8615,
              4845.0227
             ],
             [
              15653.7657,
              4845.0227
             ],
             [
              15653.7657,
              4844.9345
             ],
             [
              15653.5741,
              4844.9345
             ],
             [
              15653.5741,
              4844.8463
             ],
             [
              15653.4783,
              4844.8463
             ],
             [
              15653.4783,
              4844.758
             ],
             [
              15653.3826,
              4844.758
             ],
             [
              15653.3826,
              4844.5816
             ],
             [
              15653.4783,
              4844.5816
             ],
             [
              15653.4783,
              4844.4051
             ],
             [
              15653.5741,
              4844.4051
             ],
             [
              15653.5741,
              4844.2287
             ],
             [
              15653.6699,
              4844.2287
             ],
             [
              15653.6699,
              4844.1405
             ],
             [
              15653.7657,
              4844.1405
             ],
             [
              15653.7657,
              4843.964
             ],
             [
              15653.8615,
              4843.964
             ],
             [
              15653.8615,
              4843.8758
             ],
             [
              15653.9573,
              4843.8758
             ],
             [
              15653.9573,
              4843.6993
             ],
             [
              15654.0531,
              4843.6993
             ],
             [
              15654.0531,
              4843.6111
             ],
             [
              15654.1489,
              4843.6111
             ],
             [
              15654.1489,
              4843.5229
             ],
             [
              15654.3405,
              4843.5229
             ],
             [
              15654.3405,
              4843.4347
             ],
             [
              15654.9152,
              4843.4347
             ],
             [
              15654.9152,
              4843.5229
             ],
             [
              15655.3942,
              4843.5229
             ],
             [
              15655.3942,
              4843.6111
             ],
             [
              15656.1605,
              4843.6111
             ],
             [
              15656.1605,
              4843.5229
             ],
             [
              15656.3521,
              4843.5229
             ],
             [
              15656.3521,
              4843.4347
             ],
             [
              15656.5437,
              4843.4347
             ],
             [
              15656.5437,
              4843.3464
             ],
             [
              15656.6395,
              4843.3464
             ],
             [
              15656.6395,
              4843.2582
             ],
             [
              15656.7353,
              4843.2582
             ],
             [
              15656.7353,
              4841.7584
             ],
             [
              15656.6395,
              4841.7584
             ],
             [
              15656.6395,
              4841.6701
             ],
             [
              15656.5437,
              4841.6701
             ],
             [
              15656.5437,
              4841.4937
             ],
             [
              15656.4479,
              4841.4937
             ],
             [
              15656.4479,
              4841.4055
             ],
             [
              15656.3521,
              4841.4055
             ],
             [
              15656.3521,
              4841.3172
             ],
             [
              15656.1605,
              4841.3172
             ],
             [
              15656.1605,
              4841.229
             ],
             [
              15656.0647,
              4841.229
             ],
             [
              15656.0647,
              4841.1408
             ],
             [
              15655.8732,
              4841.1408
             ],
             [
              15655.8732,
              4841.0526
             ],
             [
              15655.5858,
              4841.0526
             ],
             [
              15655.5858,
              4840.9643
             ],
             [
              15654.5321,
              4840.9643
             ],
             [
              15654.5321,
              4840.8761
             ],
             [
              15654.2447,
              4840.8761
             ],
             [
              15654.2447,
              4840.7879
             ],
             [
              15654.1489,
              4840.7879
             ],
             [
              15654.1489,
              4840.6997
             ],
             [
              15654.0531,
              4840.6997
             ],
             [
              15654.0531,
              4840.6114
             ],
             [
              15653.9573,
              4840.6114
             ],
             [
              15653.9573,
              4840.435
             ],
             [
              15653.8615,
              4840.435
             ],
             [
              15653.8615,
              4840.3468
             ],
             [
              15653.7657,
              4840.3468
             ],
             [
              15653.7657,
              4840.1703
             ],
             [
              15653.6699,
              4840.1703
             ],
             [
              15653.6699,
              4840.0821
             ],
             [
              15653.5741,
              4840.0821
             ],
             [
              15653.5741,
              4839.9056
             ],
             [
              15653.4783,
              4839.9056
             ],
             [
              15653.4783,
              4839.8174
             ],
             [
              15653.3826,
              4839.8174
             ],
             [
              15653.3826,
              4839.7292
             ],
             [
              15653.2868,
              4839.7292
             ],
             [
              15653.2868,
              4839.641
             ],
             [
              15651.0835,
              4839.641
             ],
             [
              15651.0835,
              4839.7292
             ],
             [
              15650.892,
              4839.7292
             ]
            ]
           ]
          ],
          "type": "MultiPolygon"
         },
         "properties": {
          "FOV": "F003",
          "SampleFOV": "Run5666_G2697_G1532_F003",
          "SampleID": "Run5666_G2697_G1532",
          "area_um": 40.0597,
          "cell": "6",
          "cellID": "C6_Run5666_G2697_G1532_F003",
          "cell_center_x": 15652.2848,
          "cell_center_y": 4843.1255,
          "cell_centroid": [
           {
            "coordinates": [
             15652.2848,
             4843.1255
            ],
            "type": "Point"
           }
          ],
          "nCounts": 96,
          "polygon": [
           {
            "coordinates": [
             [
              [
               15650.9687,
               4838.7305
              ],
              [
               15646.3919,
               4845.346
              ],
              [
               15646.3919,
               4847.5438
              ],
              [
               15653.1141,
               4848.3521
              ],
              [
               15658.8053,
               4841.6193
              ],
              [
               15657.0937,
               4837.9404
              ],
              [
               15654.3318,
               4837.2837
              ],
              [
               15650.9687,
               4838.7305
              ]
             ]
            ],
            "type": "Polygon"
           }
          ],
          "polygon_area": 86.1479,
          "polygon_centroid": [
           {
            "coordinates": [
             15652.59,
             4843.0207
            ],
            "type": "Point"
           }
          ],
          "pxsize": 0.168,
          "radius_um": 3.5709,
          "region": "tissue",
          "tileID": "C6_Run5666_G2697_G1532_F003"
         },
         "type": "Feature"
        },
        {
         "geometry": {
          "coordinates": [
           [
            [
             [
              15664.3262,
              4819.9411
             ],
             [
              15664.3262,
              4819.9881
             ],
             [
              15664.2714,
              4819.9881
             ],
             [
              15664.2714,
              4820.0821
             ],
             [
              15664.2166,
              4820.0821
             ],
             [
              15664.2166,
              4820.1761
             ],
             [
              15664.1617,
              4820.1761
             ],
             [
              15664.1617,
              4820.2701
             ],
             [
              15664.1069,
              4820.2701
             ],
             [
              15664.1069,
              4820.364
             ],
             [
              15664.0521,
              4820.364
             ],
             [
              15664.0521,
              4820.505
             ],
             [
              15663.9973,
              4820.505
             ],
             [
              15663.9973,
              4820.599
             ],
             [
              15663.9425,
              4820.599
             ],
             [
              15663.9425,
              4820.7399
             ],
             [
              15663.8877,
              4820.7399
             ],
             [
              15663.8877,
              4820.8339
             ],
             [
              15663.8329,
              4820.8339
             ],
             [
              15663.8329,
              4820.9749
             ],
             [
              15663.7781,
              4820.9749
             ],
             [
              15663.7781,
              4821.0689
             ],
             [
              15663.7232,
              4821.0689
             ],
             [
              15663.7232,
              4821.1628
             ],
             [
              15663.6684,
              4821.1628
             ],
             [
              15663.6684,
              4821.3038
             ],
             [
              15663.6136,
              4821.3038
             ],
             [
              15663.6136,
              4821.3978
             ],
             [
              15663.5588,
              4821.3978
             ],
             [
              15663.5588,
              4821.4918
             ],
             [
              15663.504,
              4821.4918
             ],
             [
              15663.504,
              4823.9822
             ],
             [
              15663.5588,
              4823.9822
             ],
             [
              15663.5588,
              4824.0292
             ],
             [
              15663.6684,
              4824.0292
             ],
             [
              15663.6684,
              4824.0762
             ],
             [
              15663.8329,
              4824.0762
             ],
             [
              15663.8329,
              4824.1232
             ],
             [
              15664.2714,
              4824.1232
             ],
             [
              15664.2714,
              4824.0762
             ],
             [
              15664.6551,
              4824.0762
             ],
             [
              15664.6551,
              4824.0292
             ],
             [
              15664.9291,
              4824.0292
             ],
             [
              15664.9291,
              4824.0762
             ],
             [
              15665.1484,
              4824.0762
             ],
             [
              15665.1484,
              4824.1232
             ],
             [
              15665.2032,
              4824.1232
             ],
             [
              15665.2032,
              4824.1701
             ],
             [
              15665.3128,
              4824.1701
             ],
             [
              15665.3128,
              4824.2171
             ],
             [
              15665.3676,
              4824.2171
             ],
             [
              15665.3676,
              4824.2641
             ],
             [
              15665.4224,
              4824.2641
             ],
             [
              15665.4224,
              4824.3581
             ],
             [
              15665.4772,
              4824.3581
             ],
             [
              15665.4772,
              4824.4051
             ],
             [
              15665.532,
              4824.4051
             ],
             [
              15665.532,
              4824.4521
             ],
             [
              15667.286,
              4824.4521
             ],
             [
              15667.286,
              4824.3581
             ],
             [
              15667.3408,
              4824.3581
             ],
             [
              15667.3408,
              4824.3111
             ],
             [
              15667.3957,
              4824.3111
             ],
             [
              15667.3957,
              4824.2641
             ],
             [
              15667.4505,
              4824.2641
             ],
             [
              15667.4505,
              4824.2171
             ],
             [
              15667.8342,
              4824.2171
             ],
             [
              15667.8342,
              4824.2641
             ],
             [
              15667.889,
              4824.2641
             ],
             [
              15667.889,
              4824.3111
             ],
             [
              15667.9438,
              4824.3111
             ],
             [
              15667.9438,
              4824.3581
             ],
             [
              15668.0534,
              4824.3581
             ],
             [
              15668.0534,
              4824.4051
             ],
             [
              15668.1082,
              4824.4051
             ],
             [
              15668.1082,
              4824.4521
             ],
             [
              15668.9304,
              4824.4521
             ],
             [
              15668.9304,
              4823.3243
             ],
             [
              15668.8756,
              4823.3243
             ],
             [
              15668.8756,
              4823.2774
             ],
             [
              15668.8208,
              4823.2774
             ],
             [
              15668.8208,
              4823.2304
             ],
             [
              15668.766,
              4823.2304
             ],
             [
              15668.766,
              4823.1834
             ],
             [
              15668.7112,
              4823.1834
             ],
             [
              15668.7112,
              4823.1364
             ],
             [
              15668.6563,
              4823.1364
             ],
             [
              15668.6563,
              4823.0894
             ],
             [
              15668.6015,
              4823.0894
             ],
             [
              15668.6015,
              4823.0424
             ],
             [
              15668.4919,
              4823.0424
             ],
             [
              15668.4919,
              4822.9954
             ],
             [
              15668.3823,
              4822.9954
             ],
             [
              15668.3823,
              4822.9484
             ],
             [
              15668.2178,
              4822.9484
             ],
             [
              15668.2178,
              4822.9014
             ],
             [
              15667.7245,
              4822.9014
             ],
             [
              15667.7245,
              4822.8545
             ],
             [
              15667.5601,
              4822.8545
             ],
             [
              15667.5601,
              4822.8075
             ],
             [
              15667.5053,
              4822.8075
             ],
             [
              15667.5053,
              4822.7605
             ],
             [
              15667.4505,
              4822.7605
             ],
             [
              15667.4505,
              4822.7135
             ],
             [
              15667.3957,
              4822.7135
             ],
             [
              15667.3957,
              4822.6665
             ],
             [
              15667.3408,
              4822.6665
             ],
             [
              15667.3408,
              4822.5725
             ],
             [
              15667.286,
              4822.5725
             ],
             [
              15667.286,
              4822.4785
             ],
             [
              15667.2312,
              4822.4785
             ],
             [
              15667.2312,
              4822.3376
             ],
             [
              15667.1764,
              4822.3376
             ],
             [
              15667.1764,
              4822.1496
             ],
             [
              15667.1216,
              4822.1496
             ],
             [
              15667.1216,
              4821.9617
             ],
             [
              15667.0668,
              4821.9617
             ],
             [
              15667.0668,
              4821.6797
             ],
             [
              15667.012,
              4821.6797
             ],
             [
              15667.012,
              4821.4448
             ],
             [
              15666.9572,
              4821.4448
             ],
             [
              15666.9572,
              4821.2568
             ],
             [
              15666.9024,
              4821.2568
             ],
             [
              15666.9024,
              4821.1159
             ],
             [
              15666.8475,
              4821.1159
             ],
             [
              15666.8475,
              4820.9749
             ],
             [
              15666.7927,
              4820.9749
             ],
             [
              15666.7927,
              4820.8809
             ],
             [
              15666.7379,
              4820.8809
             ],
             [
              15666.7379,
              4820.7869
             ],
             [
              15666.6831,
              4820.7869
             ],
             [
              15666.6831,
              4820.693
             ],
             [
              15666.6283,
              4820.693
             ],
             [
              15666.6283,
              4820.646
             ],
             [
              15666.5735,
              4820.646
             ],
             [
              15666.5735,
              4820.552
             ],
             [
              15666.5187,
              4820.552
             ],
             [
              15666.5187,
              4820.505
             ],
             [
              15666.4639,
              4820.505
             ],
             [
              15666.4639,
              4820.458
             ],
             [
              15666.409,
              4820.458
             ],
             [
              15666.409,
              4820.364
             ],
             [
              15666.3542,
              4820.364
             ],
             [
              15666.3542,
              4820.317
             ],
             [
              15666.2994,
              4820.317
             ],
             [
              15666.2994,
              4820.2701
             ],
             [
              15666.2446,
              4820.2701
             ],
             [
              15666.2446,
              4820.2231
             ],
             [
              15666.1898,
              4820.2231
             ],
             [
              15666.1898,
              4820.1761
             ],
             [
              15666.135,
              4820.1761
             ],
             [
              15666.135,
              4820.1291
             ],
             [
              15666.0802,
              4820.1291
             ],
             [
              15666.0802,
              4820.0821
             ],
             [
              15666.0254,
              4820.0821
             ],
             [
              15666.0254,
              4820.0351
             ],
             [
              15665.9705,
              4820.0351
             ],
             [
              15665.9705,
              4819.9881
             ],
             [
              15665.9157,
              4819.9881
             ],
             [
              15665.9157,
              4819.9411
             ],
             [
              15665.8609,
              4819.9411
             ],
             [
              15665.8609,
              4819.8941
             ],
             [
              15665.8061,
              4819.8941
             ],
             [
              15665.8061,
              4819.8471
             ],
             [
              15665.7513,
              4819.8471
             ],
             [
              15665.7513,
              4819.8002
             ],
             [
              15664.4358,
              4819.8002
             ],
             [
              15664.4358,
              4819.8471
             ],
             [
              15664.381,
              4819.8471
             ],
             [
              15664.381,
              4819.9411
             ],
             [
              15664.3262,
              4819.9411
             ]
            ]
           ]
          ],
          "type": "MultiPolygon"
         },
         "properties": {
          "FOV": "F003",
          "SampleFOV": "Run5666_G2697_G1532_F003",
          "SampleID": "Run5666_G2697_G1532",
          "area_um": 16.7817,
          "cell": "7",
          "cellID": "C7_Run5666_G2697_G1532_F003",
          "cell_center_x": 15665.7504,
          "cell_center_y": 4822.4601,
          "cell_centroid": [
           {
            "coordinates": [
             15665.7504,
             4822.4601
            ],
            "type": "Point"
           }
          ],
          "nCounts": 12,
          "polygon": [
           {
            "coordinates": [
             [
              [
               15663.2061,
               4821.6304
              ],
              [
               15664.199,
               4826.6069
              ],
              [
               15668.0229,
               4827.1898
              ],
              [
               15671.0488,
               4820.7199
              ],
              [
               15663.4746,
               4820.7199
              ],
              [
               15663.2061,
               4821.6304
              ]
             ]
            ],
            "type": "Polygon"
           }
          ],
          "polygon_area": 36.6671,
          "polygon_centroid": [
           {
            "coordinates": [
             15666.7089,
             4823.4709
            ],
            "type": "Point"
           }
          ],
          "pxsize": 0.168,
          "radius_um": 2.3112,
          "region": "tissue",
          "tileID": "C7_Run5666_G2697_G1532_F003"
         },
         "type": "Feature"
        }
       ],
       "type": "FeatureCollection"
      },
      "text/html": [
       "<table class=\"dataframe\">\n",
       "<caption>A sf: 6 × 18</caption>\n",
       "<thead>\n",
       "\t<tr><th></th><th scope=col>cellID</th><th scope=col>cell</th><th scope=col>SampleFOV</th><th scope=col>SampleID</th><th scope=col>FOV</th><th scope=col>area_um</th><th scope=col>radius_um</th><th scope=col>cell_center_x</th><th scope=col>cell_center_y</th><th scope=col>pxsize</th><th scope=col>tileID</th><th scope=col>polygon_area</th><th scope=col>region</th><th scope=col>nCounts</th><th scope=col>cell_centroid</th><th scope=col>shape</th><th scope=col>polygon_centroid</th><th scope=col>polygon</th></tr>\n",
       "\t<tr><th></th><th scope=col>&lt;chr&gt;</th><th scope=col>&lt;chr&gt;</th><th scope=col>&lt;chr&gt;</th><th scope=col>&lt;chr&gt;</th><th scope=col>&lt;chr&gt;</th><th scope=col>&lt;dbl&gt;</th><th scope=col>&lt;dbl&gt;</th><th scope=col>&lt;dbl&gt;</th><th scope=col>&lt;dbl&gt;</th><th scope=col>&lt;dbl&gt;</th><th scope=col>&lt;chr&gt;</th><th scope=col>&lt;dbl&gt;</th><th scope=col>&lt;chr&gt;</th><th scope=col>&lt;dbl&gt;</th><th scope=col>&lt;POINT&gt;</th><th scope=col>&lt;MULTIPOLYGON&gt;</th><th scope=col>&lt;POINT&gt;</th><th scope=col>&lt;POLYGON&gt;</th></tr>\n",
       "</thead>\n",
       "<tbody>\n",
       "\t<tr><th scope=row>1</th><td>C1_Run5666_G2697_G1532_F003</td><td>1</td><td>Run5666_G2697_G1532_F003</td><td>Run5666_G2697_G1532</td><td>F003</td><td>23.18616</td><td>2.716686</td><td>15655.11</td><td>4825.613</td><td>0.168</td><td>C1_Run5666_G2697_G1532_F003</td><td>85.99166</td><td>tissue</td><td>40</td><td>POINT (15655.11 4825.613)</td><td>MULTIPOLYGON (((15656.77 48...</td><td>POINT (15652.42 4824.642)</td><td>POLYGON ((15646.39 4826.308...</td></tr>\n",
       "\t<tr><th scope=row>2</th><td>C3_Run5666_G2697_G1532_F003</td><td>3</td><td>Run5666_G2697_G1532_F003</td><td>Run5666_G2697_G1532</td><td>F003</td><td>12.67008</td><td>2.008236</td><td>15660.62</td><td>4820.947</td><td>0.168</td><td>C3_Run5666_G2697_G1532_F003</td><td>10.96564</td><td>tissue</td><td>15</td><td>POINT (15660.62 4820.947)</td><td>MULTIPOLYGON (((15657.31 48...</td><td>POINT (15659.46 4821.521)</td><td>POLYGON ((15655.7 4820.72, ...</td></tr>\n",
       "\t<tr><th scope=row>3</th><td>C4_Run5666_G2697_G1532_F003</td><td>4</td><td>Run5666_G2697_G1532_F003</td><td>Run5666_G2697_G1532</td><td>F003</td><td>17.16169</td><td>2.337249</td><td>15655.13</td><td>4831.146</td><td>0.168</td><td>C4_Run5666_G2697_G1532_F003</td><td>68.34137</td><td>tissue</td><td>47</td><td>POINT (15655.13 4831.146)</td><td>MULTIPOLYGON (((15653.18 48...</td><td>POINT (15655.53 4832.254)</td><td>POLYGON ((15649.36 4828.399...</td></tr>\n",
       "\t<tr><th scope=row>4</th><td>C5_Run5666_G2697_G1532_F003</td><td>5</td><td>Run5666_G2697_G1532_F003</td><td>Run5666_G2697_G1532</td><td>F003</td><td>21.15862</td><td>2.595187</td><td>15646.39</td><td>4839.049</td><td>0.168</td><td>C5_Run5666_G2697_G1532_F003</td><td>20.72410</td><td>tissue</td><td>22</td><td>POINT (15646.39 4839.049)</td><td>MULTIPOLYGON (((15646.14 48...</td><td>POINT (15647.92 4840.122)</td><td>POLYGON ((15646.39 4845.346...</td></tr>\n",
       "\t<tr><th scope=row>5</th><td>C6_Run5666_G2697_G1532_F003</td><td>6</td><td>Run5666_G2697_G1532_F003</td><td>Run5666_G2697_G1532</td><td>F003</td><td>40.05969</td><td>3.570910</td><td>15652.28</td><td>4843.126</td><td>0.168</td><td>C6_Run5666_G2697_G1532_F003</td><td>86.14794</td><td>tissue</td><td>96</td><td>POINT (15652.28 4843.126)</td><td>MULTIPOLYGON (((15650.89 48...</td><td>POINT (15652.59 4843.021)</td><td>POLYGON ((15650.97 4838.73,...</td></tr>\n",
       "\t<tr><th scope=row>6</th><td>C7_Run5666_G2697_G1532_F003</td><td>7</td><td>Run5666_G2697_G1532_F003</td><td>Run5666_G2697_G1532</td><td>F003</td><td>16.78174</td><td>2.311232</td><td>15665.75</td><td>4822.460</td><td>0.168</td><td>C7_Run5666_G2697_G1532_F003</td><td>36.66706</td><td>tissue</td><td>12</td><td>POINT (15665.75 4822.46)</td><td>MULTIPOLYGON (((15664.33 48...</td><td>POINT (15666.71 4823.471)</td><td>POLYGON ((15663.21 4821.63,...</td></tr>\n",
       "</tbody>\n",
       "</table>\n"
      ],
      "text/latex": [
       "A sf: 6 × 18\n",
       "\\begin{tabular}{r|llllllllllllllllll}\n",
       "  & cellID & cell & SampleFOV & SampleID & FOV & area\\_um & radius\\_um & cell\\_center\\_x & cell\\_center\\_y & pxsize & tileID & polygon\\_area & region & nCounts & cell\\_centroid & shape & polygon\\_centroid & polygon\\\\\n",
       "  & <chr> & <chr> & <chr> & <chr> & <chr> & <dbl> & <dbl> & <dbl> & <dbl> & <dbl> & <chr> & <dbl> & <chr> & <dbl> & <POINT> & <MULTIPOLYGON> & <POINT> & <POLYGON>\\\\\n",
       "\\hline\n",
       "\t1 & C1\\_Run5666\\_G2697\\_G1532\\_F003 & 1 & Run5666\\_G2697\\_G1532\\_F003 & Run5666\\_G2697\\_G1532 & F003 & 23.18616 & 2.716686 & 15655.11 & 4825.613 & 0.168 & C1\\_Run5666\\_G2697\\_G1532\\_F003 & 85.99166 & tissue & 40 & POINT (15655.11 4825.613) & MULTIPOLYGON (((15656.77 48... & POINT (15652.42 4824.642) & POLYGON ((15646.39 4826.308...\\\\\n",
       "\t2 & C3\\_Run5666\\_G2697\\_G1532\\_F003 & 3 & Run5666\\_G2697\\_G1532\\_F003 & Run5666\\_G2697\\_G1532 & F003 & 12.67008 & 2.008236 & 15660.62 & 4820.947 & 0.168 & C3\\_Run5666\\_G2697\\_G1532\\_F003 & 10.96564 & tissue & 15 & POINT (15660.62 4820.947) & MULTIPOLYGON (((15657.31 48... & POINT (15659.46 4821.521) & POLYGON ((15655.7 4820.72, ...\\\\\n",
       "\t3 & C4\\_Run5666\\_G2697\\_G1532\\_F003 & 4 & Run5666\\_G2697\\_G1532\\_F003 & Run5666\\_G2697\\_G1532 & F003 & 17.16169 & 2.337249 & 15655.13 & 4831.146 & 0.168 & C4\\_Run5666\\_G2697\\_G1532\\_F003 & 68.34137 & tissue & 47 & POINT (15655.13 4831.146) & MULTIPOLYGON (((15653.18 48... & POINT (15655.53 4832.254) & POLYGON ((15649.36 4828.399...\\\\\n",
       "\t4 & C5\\_Run5666\\_G2697\\_G1532\\_F003 & 5 & Run5666\\_G2697\\_G1532\\_F003 & Run5666\\_G2697\\_G1532 & F003 & 21.15862 & 2.595187 & 15646.39 & 4839.049 & 0.168 & C5\\_Run5666\\_G2697\\_G1532\\_F003 & 20.72410 & tissue & 22 & POINT (15646.39 4839.049) & MULTIPOLYGON (((15646.14 48... & POINT (15647.92 4840.122) & POLYGON ((15646.39 4845.346...\\\\\n",
       "\t5 & C6\\_Run5666\\_G2697\\_G1532\\_F003 & 6 & Run5666\\_G2697\\_G1532\\_F003 & Run5666\\_G2697\\_G1532 & F003 & 40.05969 & 3.570910 & 15652.28 & 4843.126 & 0.168 & C6\\_Run5666\\_G2697\\_G1532\\_F003 & 86.14794 & tissue & 96 & POINT (15652.28 4843.126) & MULTIPOLYGON (((15650.89 48... & POINT (15652.59 4843.021) & POLYGON ((15650.97 4838.73,...\\\\\n",
       "\t6 & C7\\_Run5666\\_G2697\\_G1532\\_F003 & 7 & Run5666\\_G2697\\_G1532\\_F003 & Run5666\\_G2697\\_G1532 & F003 & 16.78174 & 2.311232 & 15665.75 & 4822.460 & 0.168 & C7\\_Run5666\\_G2697\\_G1532\\_F003 & 36.66706 & tissue & 12 & POINT (15665.75 4822.46) & MULTIPOLYGON (((15664.33 48... & POINT (15666.71 4823.471) & POLYGON ((15663.21 4821.63,...\\\\\n",
       "\\end{tabular}\n"
      ],
      "text/markdown": [
       "\n",
       "A sf: 6 × 18\n",
       "\n",
       "| <!--/--> | cellID &lt;chr&gt; | cell &lt;chr&gt; | SampleFOV &lt;chr&gt; | SampleID &lt;chr&gt; | FOV &lt;chr&gt; | area_um &lt;dbl&gt; | radius_um &lt;dbl&gt; | cell_center_x &lt;dbl&gt; | cell_center_y &lt;dbl&gt; | pxsize &lt;dbl&gt; | tileID &lt;chr&gt; | polygon_area &lt;dbl&gt; | region &lt;chr&gt; | nCounts &lt;dbl&gt; | cell_centroid &lt;POINT&gt; | shape &lt;MULTIPOLYGON&gt; | polygon_centroid &lt;POINT&gt; | polygon &lt;POLYGON&gt; |\n",
       "|---|---|---|---|---|---|---|---|---|---|---|---|---|---|---|---|---|---|---|\n",
       "| 1 | C1_Run5666_G2697_G1532_F003 | 1 | Run5666_G2697_G1532_F003 | Run5666_G2697_G1532 | F003 | 23.18616 | 2.716686 | 15655.11 | 4825.613 | 0.168 | C1_Run5666_G2697_G1532_F003 | 85.99166 | tissue | 40 | POINT (15655.11 4825.613) | MULTIPOLYGON (((15656.77 48... | POINT (15652.42 4824.642) | POLYGON ((15646.39 4826.308... |\n",
       "| 2 | C3_Run5666_G2697_G1532_F003 | 3 | Run5666_G2697_G1532_F003 | Run5666_G2697_G1532 | F003 | 12.67008 | 2.008236 | 15660.62 | 4820.947 | 0.168 | C3_Run5666_G2697_G1532_F003 | 10.96564 | tissue | 15 | POINT (15660.62 4820.947) | MULTIPOLYGON (((15657.31 48... | POINT (15659.46 4821.521) | POLYGON ((15655.7 4820.72, ... |\n",
       "| 3 | C4_Run5666_G2697_G1532_F003 | 4 | Run5666_G2697_G1532_F003 | Run5666_G2697_G1532 | F003 | 17.16169 | 2.337249 | 15655.13 | 4831.146 | 0.168 | C4_Run5666_G2697_G1532_F003 | 68.34137 | tissue | 47 | POINT (15655.13 4831.146) | MULTIPOLYGON (((15653.18 48... | POINT (15655.53 4832.254) | POLYGON ((15649.36 4828.399... |\n",
       "| 4 | C5_Run5666_G2697_G1532_F003 | 5 | Run5666_G2697_G1532_F003 | Run5666_G2697_G1532 | F003 | 21.15862 | 2.595187 | 15646.39 | 4839.049 | 0.168 | C5_Run5666_G2697_G1532_F003 | 20.72410 | tissue | 22 | POINT (15646.39 4839.049) | MULTIPOLYGON (((15646.14 48... | POINT (15647.92 4840.122) | POLYGON ((15646.39 4845.346... |\n",
       "| 5 | C6_Run5666_G2697_G1532_F003 | 6 | Run5666_G2697_G1532_F003 | Run5666_G2697_G1532 | F003 | 40.05969 | 3.570910 | 15652.28 | 4843.126 | 0.168 | C6_Run5666_G2697_G1532_F003 | 86.14794 | tissue | 96 | POINT (15652.28 4843.126) | MULTIPOLYGON (((15650.89 48... | POINT (15652.59 4843.021) | POLYGON ((15650.97 4838.73,... |\n",
       "| 6 | C7_Run5666_G2697_G1532_F003 | 7 | Run5666_G2697_G1532_F003 | Run5666_G2697_G1532 | F003 | 16.78174 | 2.311232 | 15665.75 | 4822.460 | 0.168 | C7_Run5666_G2697_G1532_F003 | 36.66706 | tissue | 12 | POINT (15665.75 4822.46) | MULTIPOLYGON (((15664.33 48... | POINT (15666.71 4823.471) | POLYGON ((15663.21 4821.63,... |\n",
       "\n"
      ],
      "text/plain": [
       "  cellID                      cell SampleFOV                SampleID           \n",
       "1 C1_Run5666_G2697_G1532_F003 1    Run5666_G2697_G1532_F003 Run5666_G2697_G1532\n",
       "2 C3_Run5666_G2697_G1532_F003 3    Run5666_G2697_G1532_F003 Run5666_G2697_G1532\n",
       "3 C4_Run5666_G2697_G1532_F003 4    Run5666_G2697_G1532_F003 Run5666_G2697_G1532\n",
       "4 C5_Run5666_G2697_G1532_F003 5    Run5666_G2697_G1532_F003 Run5666_G2697_G1532\n",
       "5 C6_Run5666_G2697_G1532_F003 6    Run5666_G2697_G1532_F003 Run5666_G2697_G1532\n",
       "6 C7_Run5666_G2697_G1532_F003 7    Run5666_G2697_G1532_F003 Run5666_G2697_G1532\n",
       "  FOV  area_um  radius_um cell_center_x cell_center_y pxsize\n",
       "1 F003 23.18616 2.716686  15655.11      4825.613      0.168 \n",
       "2 F003 12.67008 2.008236  15660.62      4820.947      0.168 \n",
       "3 F003 17.16169 2.337249  15655.13      4831.146      0.168 \n",
       "4 F003 21.15862 2.595187  15646.39      4839.049      0.168 \n",
       "5 F003 40.05969 3.570910  15652.28      4843.126      0.168 \n",
       "6 F003 16.78174 2.311232  15665.75      4822.460      0.168 \n",
       "  tileID                      polygon_area region nCounts\n",
       "1 C1_Run5666_G2697_G1532_F003 85.99166     tissue 40     \n",
       "2 C3_Run5666_G2697_G1532_F003 10.96564     tissue 15     \n",
       "3 C4_Run5666_G2697_G1532_F003 68.34137     tissue 47     \n",
       "4 C5_Run5666_G2697_G1532_F003 20.72410     tissue 22     \n",
       "5 C6_Run5666_G2697_G1532_F003 86.14794     tissue 96     \n",
       "6 C7_Run5666_G2697_G1532_F003 36.66706     tissue 12     \n",
       "  cell_centroid             shape                         \n",
       "1 POINT (15655.11 4825.613) MULTIPOLYGON (((15656.77 48...\n",
       "2 POINT (15660.62 4820.947) MULTIPOLYGON (((15657.31 48...\n",
       "3 POINT (15655.13 4831.146) MULTIPOLYGON (((15653.18 48...\n",
       "4 POINT (15646.39 4839.049) MULTIPOLYGON (((15646.14 48...\n",
       "5 POINT (15652.28 4843.126) MULTIPOLYGON (((15650.89 48...\n",
       "6 POINT (15665.75 4822.46)  MULTIPOLYGON (((15664.33 48...\n",
       "  polygon_centroid          polygon                       \n",
       "1 POINT (15652.42 4824.642) POLYGON ((15646.39 4826.308...\n",
       "2 POINT (15659.46 4821.521) POLYGON ((15655.7 4820.72, ...\n",
       "3 POINT (15655.53 4832.254) POLYGON ((15649.36 4828.399...\n",
       "4 POINT (15647.92 4840.122) POLYGON ((15646.39 4845.346...\n",
       "5 POINT (15652.59 4843.021) POLYGON ((15650.97 4838.73,...\n",
       "6 POINT (15666.71 4823.471) POLYGON ((15663.21 4821.63,..."
      ]
     },
     "metadata": {},
     "output_type": "display_data"
    }
   ],
   "source": [
    "head(obj_tmp$metadata)"
   ]
  },
  {
   "cell_type": "code",
   "execution_count": 12,
   "id": "badd21d0",
   "metadata": {},
   "outputs": [
    {
     "data": {
      "image/png": "[encoded data removed]",
      "text/plain": [
       "plot without title"
      ]
     },
     "metadata": {
      "image/png": {
       "height": 420,
       "width": 420
      }
     },
     "output_type": "display_data"
    }
   ],
   "source": [
    "coords_cells<-obj_tmp$metadata %>% \n",
    "        st_sf %>% \n",
    "        st_set_geometry(\"polygon_centroid\") %>% \n",
    "        st_coordinates(\"polygon_centroid\") %>% \n",
    "        as.data.frame %>% \n",
    "        as.matrix\n",
    "    # make a graph from the adj matrix\n",
    "    graph_adj<-igraph::graph_from_adjacency_matrix(obj_tmp$neighbors)\n",
    "    # conver the graph into tidygraph obj\n",
    "    tidy_graph<-tidygraph::as_tbl_graph(graph_adj)\n",
    "    p<-ggraph::ggraph(tidy_graph, layout = coords_cells) +\n",
    "        ggraph::geom_node_point() +\n",
    "        ggraph::geom_edge_link(edge_width = 0.1) + \n",
    "        geom_sf(\n",
    "            data = obj_tmp$metadata, \n",
    "            aes(geometry = polygon_centroid, color = region)\n",
    "        ) + \n",
    "        scale_color_tableau() +\n",
    "        theme_bw() + \n",
    "        NULL\n",
    "        \n",
    "        p_allcells<-ggplot(data.frame(obj_tmp$metadata)) +\n",
    "            geom_sf(aes(geometry = polygon), color = \"black\") + \n",
    "            geom_sf(data = obj_tmp$metadata_deleted_cells, aes(geometry = polygon), color = \"red\", fill = NA) +\n",
    "            ggtitle(obj_tmp$metadata$SampleFOV[1])\n",
    "        \n",
    "        p_allcells | p"
   ]
  },
  {
   "cell_type": "code",
   "execution_count": 13,
   "id": "5553c538-846d-44d7-bca5-dc594cd7bacb",
   "metadata": {
    "tags": []
   },
   "outputs": [
    {
     "data": {
      "text/html": [
       "<ol>\n",
       "\t<li>NULL</li>\n",
       "\t<li>NULL</li>\n",
       "\t<li>NULL</li>\n",
       "\t<li>NULL</li>\n",
       "\t<li>NULL</li>\n",
       "\t<li>NULL</li>\n",
       "\t<li>NULL</li>\n",
       "\t<li>NULL</li>\n",
       "\t<li>NULL</li>\n",
       "\t<li>NULL</li>\n",
       "\t<li>NULL</li>\n",
       "\t<li>NULL</li>\n",
       "\t<li>NULL</li>\n",
       "\t<li>NULL</li>\n",
       "\t<li>NULL</li>\n",
       "\t<li>NULL</li>\n",
       "\t<li>NULL</li>\n",
       "\t<li>NULL</li>\n",
       "\t<li>NULL</li>\n",
       "\t<li>NULL</li>\n",
       "\t<li>NULL</li>\n",
       "\t<li>NULL</li>\n",
       "\t<li>NULL</li>\n",
       "\t<li>NULL</li>\n",
       "\t<li>NULL</li>\n",
       "\t<li>NULL</li>\n",
       "\t<li>NULL</li>\n",
       "\t<li>NULL</li>\n",
       "\t<li>NULL</li>\n",
       "\t<li>NULL</li>\n",
       "\t<li>NULL</li>\n",
       "\t<li>NULL</li>\n",
       "\t<li>NULL</li>\n",
       "\t<li>NULL</li>\n",
       "\t<li>NULL</li>\n",
       "\t<li>NULL</li>\n",
       "\t<li>NULL</li>\n",
       "\t<li>NULL</li>\n",
       "\t<li>NULL</li>\n",
       "\t<li>NULL</li>\n",
       "\t<li>NULL</li>\n",
       "\t<li>NULL</li>\n",
       "\t<li>NULL</li>\n",
       "\t<li>NULL</li>\n",
       "\t<li>NULL</li>\n",
       "\t<li>NULL</li>\n",
       "\t<li>NULL</li>\n",
       "\t<li>NULL</li>\n",
       "\t<li>NULL</li>\n",
       "\t<li>NULL</li>\n",
       "\t<li>NULL</li>\n",
       "\t<li>NULL</li>\n",
       "\t<li>NULL</li>\n",
       "</ol>\n"
      ],
      "text/latex": [
       "\\begin{enumerate}\n",
       "\\item NULL\n",
       "\\item NULL\n",
       "\\item NULL\n",
       "\\item NULL\n",
       "\\item NULL\n",
       "\\item NULL\n",
       "\\item NULL\n",
       "\\item NULL\n",
       "\\item NULL\n",
       "\\item NULL\n",
       "\\item NULL\n",
       "\\item NULL\n",
       "\\item NULL\n",
       "\\item NULL\n",
       "\\item NULL\n",
       "\\item NULL\n",
       "\\item NULL\n",
       "\\item NULL\n",
       "\\item NULL\n",
       "\\item NULL\n",
       "\\item NULL\n",
       "\\item NULL\n",
       "\\item NULL\n",
       "\\item NULL\n",
       "\\item NULL\n",
       "\\item NULL\n",
       "\\item NULL\n",
       "\\item NULL\n",
       "\\item NULL\n",
       "\\item NULL\n",
       "\\item NULL\n",
       "\\item NULL\n",
       "\\item NULL\n",
       "\\item NULL\n",
       "\\item NULL\n",
       "\\item NULL\n",
       "\\item NULL\n",
       "\\item NULL\n",
       "\\item NULL\n",
       "\\item NULL\n",
       "\\item NULL\n",
       "\\item NULL\n",
       "\\item NULL\n",
       "\\item NULL\n",
       "\\item NULL\n",
       "\\item NULL\n",
       "\\item NULL\n",
       "\\item NULL\n",
       "\\item NULL\n",
       "\\item NULL\n",
       "\\item NULL\n",
       "\\item NULL\n",
       "\\item NULL\n",
       "\\end{enumerate}\n"
      ],
      "text/markdown": [
       "1. NULL\n",
       "2. NULL\n",
       "3. NULL\n",
       "4. NULL\n",
       "5. NULL\n",
       "6. NULL\n",
       "7. NULL\n",
       "8. NULL\n",
       "9. NULL\n",
       "10. NULL\n",
       "11. NULL\n",
       "12. NULL\n",
       "13. NULL\n",
       "14. NULL\n",
       "15. NULL\n",
       "16. NULL\n",
       "17. NULL\n",
       "18. NULL\n",
       "19. NULL\n",
       "20. NULL\n",
       "21. NULL\n",
       "22. NULL\n",
       "23. NULL\n",
       "24. NULL\n",
       "25. NULL\n",
       "26. NULL\n",
       "27. NULL\n",
       "28. NULL\n",
       "29. NULL\n",
       "30. NULL\n",
       "31. NULL\n",
       "32. NULL\n",
       "33. NULL\n",
       "34. NULL\n",
       "35. NULL\n",
       "36. NULL\n",
       "37. NULL\n",
       "38. NULL\n",
       "39. NULL\n",
       "40. NULL\n",
       "41. NULL\n",
       "42. NULL\n",
       "43. NULL\n",
       "44. NULL\n",
       "45. NULL\n",
       "46. NULL\n",
       "47. NULL\n",
       "48. NULL\n",
       "49. NULL\n",
       "50. NULL\n",
       "51. NULL\n",
       "52. NULL\n",
       "53. NULL\n",
       "\n",
       "\n"
      ],
      "text/plain": [
       "[[1]]\n",
       "NULL\n",
       "\n",
       "[[2]]\n",
       "NULL\n",
       "\n",
       "[[3]]\n",
       "NULL\n",
       "\n",
       "[[4]]\n",
       "NULL\n",
       "\n",
       "[[5]]\n",
       "NULL\n",
       "\n",
       "[[6]]\n",
       "NULL\n",
       "\n",
       "[[7]]\n",
       "NULL\n",
       "\n",
       "[[8]]\n",
       "NULL\n",
       "\n",
       "[[9]]\n",
       "NULL\n",
       "\n",
       "[[10]]\n",
       "NULL\n",
       "\n",
       "[[11]]\n",
       "NULL\n",
       "\n",
       "[[12]]\n",
       "NULL\n",
       "\n",
       "[[13]]\n",
       "NULL\n",
       "\n",
       "[[14]]\n",
       "NULL\n",
       "\n",
       "[[15]]\n",
       "NULL\n",
       "\n",
       "[[16]]\n",
       "NULL\n",
       "\n",
       "[[17]]\n",
       "NULL\n",
       "\n",
       "[[18]]\n",
       "NULL\n",
       "\n",
       "[[19]]\n",
       "NULL\n",
       "\n",
       "[[20]]\n",
       "NULL\n",
       "\n",
       "[[21]]\n",
       "NULL\n",
       "\n",
       "[[22]]\n",
       "NULL\n",
       "\n",
       "[[23]]\n",
       "NULL\n",
       "\n",
       "[[24]]\n",
       "NULL\n",
       "\n",
       "[[25]]\n",
       "NULL\n",
       "\n",
       "[[26]]\n",
       "NULL\n",
       "\n",
       "[[27]]\n",
       "NULL\n",
       "\n",
       "[[28]]\n",
       "NULL\n",
       "\n",
       "[[29]]\n",
       "NULL\n",
       "\n",
       "[[30]]\n",
       "NULL\n",
       "\n",
       "[[31]]\n",
       "NULL\n",
       "\n",
       "[[32]]\n",
       "NULL\n",
       "\n",
       "[[33]]\n",
       "NULL\n",
       "\n",
       "[[34]]\n",
       "NULL\n",
       "\n",
       "[[35]]\n",
       "NULL\n",
       "\n",
       "[[36]]\n",
       "NULL\n",
       "\n",
       "[[37]]\n",
       "NULL\n",
       "\n",
       "[[38]]\n",
       "NULL\n",
       "\n",
       "[[39]]\n",
       "NULL\n",
       "\n",
       "[[40]]\n",
       "NULL\n",
       "\n",
       "[[41]]\n",
       "NULL\n",
       "\n",
       "[[42]]\n",
       "NULL\n",
       "\n",
       "[[43]]\n",
       "NULL\n",
       "\n",
       "[[44]]\n",
       "NULL\n",
       "\n",
       "[[45]]\n",
       "NULL\n",
       "\n",
       "[[46]]\n",
       "NULL\n",
       "\n",
       "[[47]]\n",
       "NULL\n",
       "\n",
       "[[48]]\n",
       "NULL\n",
       "\n",
       "[[49]]\n",
       "NULL\n",
       "\n",
       "[[50]]\n",
       "NULL\n",
       "\n",
       "[[51]]\n",
       "NULL\n",
       "\n",
       "[[52]]\n",
       "NULL\n",
       "\n",
       "[[53]]\n",
       "NULL\n"
      ]
     },
     "metadata": {},
     "output_type": "display_data"
    }
   ],
   "source": [
    "fig.size(5, 10)\n",
    "furrr::future_map(diffused_mat_files_list, function(.x){\n",
    "    obj_tmp<-readRDS(.x)\n",
    "    ncells_deleted<-obj_tmp$metadata_deleted_cells %>% nrow\n",
    "    if (length(intersect(obj_tmp$metadata_deleted_cells$cellID, obj_tmp$metadata$cellID)) > 0)\n",
    "        message(\"The deleted cells are still in the metadata - check!\")\n",
    "    if (!is.null(ncells_deleted)){\n",
    "    coords_cells<-obj_tmp$metadata %>% \n",
    "        st_sf %>% \n",
    "        st_set_geometry(\"polygon_centroid\") %>% \n",
    "        st_coordinates(\"polygon_centroid\") %>% \n",
    "        as.data.frame %>% \n",
    "        as.matrix\n",
    "    # make a graph from the adj matrix\n",
    "    graph_adj<-igraph::graph_from_adjacency_matrix(obj_tmp$neighbors)\n",
    "    # conver the graph into tidygraph obj\n",
    "    tidy_graph<-tidygraph::as_tbl_graph(graph_adj)\n",
    "    p<-ggraph::ggraph(tidy_graph, layout = coords_cells) +\n",
    "        ggraph::geom_node_point() +\n",
    "        ggraph::geom_edge_link(edge_width = 0.1) + \n",
    "        geom_sf(\n",
    "            data = obj_tmp$metadata, \n",
    "            aes(geometry = polygon_centroid, color = region)\n",
    "        ) + \n",
    "        scale_color_tableau() +\n",
    "        theme_bw() + \n",
    "        NULL\n",
    "        \n",
    "        p_allcells<-ggplot(data.frame(obj_tmp$metadata)) +\n",
    "            geom_sf(aes(geometry = polygon), color = \"black\") + \n",
    "            geom_sf(data = obj_tmp$metadata_deleted_cells, aes(geometry = polygon), color = \"red\", fill = NA) +\n",
    "            ggtitle(obj_tmp$metadata$SampleFOV[1])\n",
    "        \n",
    "        p_allcells | p\n",
    "    }\n",
    "}, .options = furrr_options(seed = TRUE))"
   ]
  },
  {
   "cell_type": "code",
   "execution_count": 14,
   "id": "c568d4c5-ca1b-4f31-8d01-06f0c9cdb6a1",
   "metadata": {
    "tags": []
   },
   "outputs": [],
   "source": [
    "gene_panel<-furrr::future_map(diffused_mat_files_list, function(.x){\n",
    "    library(Matrix)\n",
    "    res<-rownames(readRDS(.x)$counts_raw)\n",
    "    return(res)\n",
    "    }, .options = furrr_options(seed = TRUE)\n",
    ") "
   ]
  },
  {
   "cell_type": "code",
   "execution_count": 15,
   "id": "51a3b54b-4f28-4806-9077-e5d084a51eb1",
   "metadata": {},
   "outputs": [
    {
     "data": {
      "text/html": [
       "53"
      ],
      "text/latex": [
       "53"
      ],
      "text/markdown": [
       "53"
      ],
      "text/plain": [
       "[1] 53"
      ]
     },
     "metadata": {},
     "output_type": "display_data"
    }
   ],
   "source": [
    "length(gene_panel)"
   ]
  },
  {
   "cell_type": "code",
   "execution_count": 13,
   "id": "70aeaaae-7ec7-492d-aaf5-7aff299b5365",
   "metadata": {
    "tags": []
   },
   "outputs": [],
   "source": [
    "gene_panel<-reduce(gene_panel, intersect)"
   ]
  },
  {
   "cell_type": "code",
   "execution_count": 14,
   "id": "eeedb6fa-6def-49b7-9214-87e4e12d3354",
   "metadata": {
    "tags": []
   },
   "outputs": [
    {
     "data": {
      "text/html": [
       "977"
      ],
      "text/latex": [
       "977"
      ],
      "text/markdown": [
       "977"
      ],
      "text/plain": [
       "[1] 977"
      ]
     },
     "metadata": {},
     "output_type": "display_data"
    }
   ],
   "source": [
    "length(unique(gene_panel))"
   ]
  },
  {
   "cell_type": "code",
   "execution_count": 15,
   "id": "b2301c18-4ff5-4db2-abf4-d0b72ff41aaf",
   "metadata": {
    "tags": []
   },
   "outputs": [],
   "source": [
    "obj_ksweep<-map(1:10, function(k){\n",
    "\n",
    "    obj_final<-furrr::future_map(as.list(diffused_mat_files_list), function(path_obj_fov){\n",
    "        tryCatch({\n",
    "            obj_samplefov<-readRDS(path_obj_fov)\n",
    "            obj<-list()\n",
    "            collapsed_counts<-obj_samplefov$counts_raw[gene_panel, ] %*% t(obj_samplefov$neighbors_collapsed[[k]])\n",
    "            colnames(collapsed_counts)<-colnames(obj_samplefov$counts_raw)\n",
    "            \n",
    "            obj$counts<-collapsed_counts\n",
    "            obj$metadata<-obj_samplefov$metadata\n",
    "            obj$counts_raw<-obj_samplefov$counts_raw[gene_panel, ]\n",
    "            # print(\"here\")\n",
    "            return(obj)\n",
    "            \n",
    "        }, error = function(e){\n",
    "            message(path_obj_fov)\n",
    "            message(e)\n",
    "            return(NULL)\n",
    "        })\n",
    "        \n",
    "    }, .options = furrr_options(seed = TRUE))\n",
    "    # print(obj_final[[1]]$metadata %>% head)\n",
    "    obj<-list()\n",
    "    obj$metadata<-map(obj_final, ~ .x$metadata) %>%  bind_rows()\n",
    "    obj$counts<-map(obj_final, ~.x$counts) %>% reduce(cbind)\n",
    "    obj$counts_raw<-map(obj_final, ~.x$counts_raw) %>% reduce(cbind)\n",
    "    saveRDS(obj, paste0(\"./cache/tissueSegmentation/voronoiObj/diffused_mat_sample_k_\", k, \".RDS\"))\n",
    "    # return(obj)\n",
    "}) "
   ]
  },
  {
   "cell_type": "code",
   "execution_count": 32,
   "id": "9ac32df7-14fe-4132-be8f-5c139213f52e",
   "metadata": {
    "tags": []
   },
   "outputs": [],
   "source": [
    "obj_ksweep<-readRDS(paste0(\"./cache/tissueSegmentation/voronoiObj/diffused_mat_sample_k_10.RDS\"))"
   ]
  },
  {
   "cell_type": "code",
   "execution_count": 33,
   "id": "2377750c-b29c-4669-931c-9c91a5af09b1",
   "metadata": {
    "tags": []
   },
   "outputs": [
    {
     "data": {
      "text/html": [
       "<dl>\n",
       "\t<dt>$metadata</dt>\n",
       "\t\t<dd><style>\n",
       ".list-inline {list-style: none; margin:0; padding: 0}\n",
       ".list-inline>li {display: inline-block}\n",
       ".list-inline>li:not(:last-child)::after {content: \"\\00b7\"; padding: 0 .5ex}\n",
       "</style>\n",
       "<ol class=list-inline><li>153485</li><li>18</li></ol>\n",
       "</dd>\n",
       "\t<dt>$counts</dt>\n",
       "\t\t<dd><style>\n",
       ".list-inline {list-style: none; margin:0; padding: 0}\n",
       ".list-inline>li {display: inline-block}\n",
       ".list-inline>li:not(:last-child)::after {content: \"\\00b7\"; padding: 0 .5ex}\n",
       "</style>\n",
       "<ol class=list-inline><li>977</li><li>153485</li></ol>\n",
       "</dd>\n",
       "\t<dt>$counts_raw</dt>\n",
       "\t\t<dd><style>\n",
       ".list-inline {list-style: none; margin:0; padding: 0}\n",
       ".list-inline>li {display: inline-block}\n",
       ".list-inline>li:not(:last-child)::after {content: \"\\00b7\"; padding: 0 .5ex}\n",
       "</style>\n",
       "<ol class=list-inline><li>977</li><li>153485</li></ol>\n",
       "</dd>\n",
       "</dl>\n"
      ],
      "text/latex": [
       "\\begin{description}\n",
       "\\item[\\$metadata] \\begin{enumerate*}\n",
       "\\item 153485\n",
       "\\item 18\n",
       "\\end{enumerate*}\n",
       "\n",
       "\\item[\\$counts] \\begin{enumerate*}\n",
       "\\item 977\n",
       "\\item 153485\n",
       "\\end{enumerate*}\n",
       "\n",
       "\\item[\\$counts\\_raw] \\begin{enumerate*}\n",
       "\\item 977\n",
       "\\item 153485\n",
       "\\end{enumerate*}\n",
       "\n",
       "\\end{description}\n"
      ],
      "text/markdown": [
       "$metadata\n",
       ":   1. 153485\n",
       "2. 18\n",
       "\n",
       "\n",
       "\n",
       "$counts\n",
       ":   1. 977\n",
       "2. 153485\n",
       "\n",
       "\n",
       "\n",
       "$counts_raw\n",
       ":   1. 977\n",
       "2. 153485\n",
       "\n",
       "\n",
       "\n",
       "\n",
       "\n"
      ],
      "text/plain": [
       "$metadata\n",
       "[1] 153485     18\n",
       "\n",
       "$counts\n",
       "[1]    977 153485\n",
       "\n",
       "$counts_raw\n",
       "[1]    977 153485\n"
      ]
     },
     "metadata": {},
     "output_type": "display_data"
    }
   ],
   "source": [
    "dimlist(obj_ksweep)"
   ]
  },
  {
   "cell_type": "code",
   "execution_count": null,
   "id": "1d65b73d",
   "metadata": {},
   "outputs": [],
   "source": []
  },
  {
   "cell_type": "code",
   "execution_count": 30,
   "id": "0f5ae86a",
   "metadata": {},
   "outputs": [
    {
     "data": {
      "text/html": [
       "<style>\n",
       ".list-inline {list-style: none; margin:0; padding: 0}\n",
       ".list-inline>li {display: inline-block}\n",
       ".list-inline>li:not(:last-child)::after {content: \"\\00b7\"; padding: 0 .5ex}\n",
       "</style>\n",
       "<ol class=list-inline><li>'Run5654_399G0_32G77_F001'</li><li>'Run5654_399G0_32G77_F002'</li><li>'Run5654_399G0_32G77_F003'</li><li>'Run5654_399G0_32G77_F004'</li><li>'Run5654_399G0_32G77_F005'</li><li>'Run5654_399G0_32G77_F006'</li><li>'Run5654_399G0_32G77_F007'</li><li>'Run5654_399G0_32G77_F008'</li><li>'Run5654_399G0_32G77_F009'</li><li>'Run5654_399G0_32G77_F010'</li><li>'Run5654_399G0_32G77_F011'</li><li>'Run5654_399G0_32G77_F012'</li><li>'Run5654_399G0_32G77_F013'</li><li>'Run5654_399G0_32G77_F014'</li><li>'Run5654_399G0_32G77_F017'</li><li>'Run5654_399G0_32G77_F018'</li><li>'Run5654_399G0_32G77_F021'</li><li>'Run5654_399G0_32G77_F022'</li><li>'Run5654_399G0_32G77_F023'</li><li>'Run5666_G2697_G1532_F001'</li><li>'Run5666_G2697_G1532_F002'</li><li>'Run5666_G2697_G1532_F003'</li><li>'Run5666_G2697_G1532_F004'</li><li>'Run5666_G2697_G1532_F006'</li><li>'Run5666_G2697_G1532_F007'</li><li>'Run5666_G2697_G1532_F008'</li><li>'Run5666_G2697_G1532_F009'</li><li>'Run5666_G2697_G1532_F010'</li><li>'Run5666_G2697_G1532_F011'</li><li>'Run5666_G2697_G1532_F012'</li><li>'Run5666_G7G72_G22G5_F001'</li><li>'Run5666_G7G72_G22G5_F002'</li><li>'Run5666_G7G72_G22G5_F003'</li><li>'Run5666_G7G72_G22G5_F004'</li><li>'Run5666_G7G72_G22G5_F005'</li><li>'Run5666_G7G72_G22G5_F009'</li><li>'Run5666_G7G72_G22G5_F010'</li><li>'Run5666_G7G72_G22G5_F011'</li><li>'Run5666_G7G72_G22G5_F012'</li><li>'Run5666_G7G72_G22G5_F013'</li><li>'Run5666_G7G72_G22G5_F014'</li><li>'Run5666_G7G72_G22G5_F015'</li><li>'Run5666_G7G72_G22G5_F016'</li><li>'Run5666_G7G72_G22G5_F017'</li><li>'Run5666_G7G72_G22G5_F018'</li><li>'Run5666_G7G72_G22G5_F019'</li><li>'Run5666_G7G72_G22G5_F020'</li><li>'Run5666_G7G72_G22G5_F021'</li><li>'Run5666_G7G72_G22G5_F022'</li><li>'Run5666_G7G72_G22G5_F023'</li><li>'Run5666_G7G72_G22G5_F024'</li><li>'Run5666_G7G72_G22G5_F025'</li><li>'Run5666_G7G72_G22G5_F026'</li></ol>\n"
      ],
      "text/latex": [
       "\\begin{enumerate*}\n",
       "\\item 'Run5654\\_399G0\\_32G77\\_F001'\n",
       "\\item 'Run5654\\_399G0\\_32G77\\_F002'\n",
       "\\item 'Run5654\\_399G0\\_32G77\\_F003'\n",
       "\\item 'Run5654\\_399G0\\_32G77\\_F004'\n",
       "\\item 'Run5654\\_399G0\\_32G77\\_F005'\n",
       "\\item 'Run5654\\_399G0\\_32G77\\_F006'\n",
       "\\item 'Run5654\\_399G0\\_32G77\\_F007'\n",
       "\\item 'Run5654\\_399G0\\_32G77\\_F008'\n",
       "\\item 'Run5654\\_399G0\\_32G77\\_F009'\n",
       "\\item 'Run5654\\_399G0\\_32G77\\_F010'\n",
       "\\item 'Run5654\\_399G0\\_32G77\\_F011'\n",
       "\\item 'Run5654\\_399G0\\_32G77\\_F012'\n",
       "\\item 'Run5654\\_399G0\\_32G77\\_F013'\n",
       "\\item 'Run5654\\_399G0\\_32G77\\_F014'\n",
       "\\item 'Run5654\\_399G0\\_32G77\\_F017'\n",
       "\\item 'Run5654\\_399G0\\_32G77\\_F018'\n",
       "\\item 'Run5654\\_399G0\\_32G77\\_F021'\n",
       "\\item 'Run5654\\_399G0\\_32G77\\_F022'\n",
       "\\item 'Run5654\\_399G0\\_32G77\\_F023'\n",
       "\\item 'Run5666\\_G2697\\_G1532\\_F001'\n",
       "\\item 'Run5666\\_G2697\\_G1532\\_F002'\n",
       "\\item 'Run5666\\_G2697\\_G1532\\_F003'\n",
       "\\item 'Run5666\\_G2697\\_G1532\\_F004'\n",
       "\\item 'Run5666\\_G2697\\_G1532\\_F006'\n",
       "\\item 'Run5666\\_G2697\\_G1532\\_F007'\n",
       "\\item 'Run5666\\_G2697\\_G1532\\_F008'\n",
       "\\item 'Run5666\\_G2697\\_G1532\\_F009'\n",
       "\\item 'Run5666\\_G2697\\_G1532\\_F010'\n",
       "\\item 'Run5666\\_G2697\\_G1532\\_F011'\n",
       "\\item 'Run5666\\_G2697\\_G1532\\_F012'\n",
       "\\item 'Run5666\\_G7G72\\_G22G5\\_F001'\n",
       "\\item 'Run5666\\_G7G72\\_G22G5\\_F002'\n",
       "\\item 'Run5666\\_G7G72\\_G22G5\\_F003'\n",
       "\\item 'Run5666\\_G7G72\\_G22G5\\_F004'\n",
       "\\item 'Run5666\\_G7G72\\_G22G5\\_F005'\n",
       "\\item 'Run5666\\_G7G72\\_G22G5\\_F009'\n",
       "\\item 'Run5666\\_G7G72\\_G22G5\\_F010'\n",
       "\\item 'Run5666\\_G7G72\\_G22G5\\_F011'\n",
       "\\item 'Run5666\\_G7G72\\_G22G5\\_F012'\n",
       "\\item 'Run5666\\_G7G72\\_G22G5\\_F013'\n",
       "\\item 'Run5666\\_G7G72\\_G22G5\\_F014'\n",
       "\\item 'Run5666\\_G7G72\\_G22G5\\_F015'\n",
       "\\item 'Run5666\\_G7G72\\_G22G5\\_F016'\n",
       "\\item 'Run5666\\_G7G72\\_G22G5\\_F017'\n",
       "\\item 'Run5666\\_G7G72\\_G22G5\\_F018'\n",
       "\\item 'Run5666\\_G7G72\\_G22G5\\_F019'\n",
       "\\item 'Run5666\\_G7G72\\_G22G5\\_F020'\n",
       "\\item 'Run5666\\_G7G72\\_G22G5\\_F021'\n",
       "\\item 'Run5666\\_G7G72\\_G22G5\\_F022'\n",
       "\\item 'Run5666\\_G7G72\\_G22G5\\_F023'\n",
       "\\item 'Run5666\\_G7G72\\_G22G5\\_F024'\n",
       "\\item 'Run5666\\_G7G72\\_G22G5\\_F025'\n",
       "\\item 'Run5666\\_G7G72\\_G22G5\\_F026'\n",
       "\\end{enumerate*}\n"
      ],
      "text/markdown": [
       "1. 'Run5654_399G0_32G77_F001'\n",
       "2. 'Run5654_399G0_32G77_F002'\n",
       "3. 'Run5654_399G0_32G77_F003'\n",
       "4. 'Run5654_399G0_32G77_F004'\n",
       "5. 'Run5654_399G0_32G77_F005'\n",
       "6. 'Run5654_399G0_32G77_F006'\n",
       "7. 'Run5654_399G0_32G77_F007'\n",
       "8. 'Run5654_399G0_32G77_F008'\n",
       "9. 'Run5654_399G0_32G77_F009'\n",
       "10. 'Run5654_399G0_32G77_F010'\n",
       "11. 'Run5654_399G0_32G77_F011'\n",
       "12. 'Run5654_399G0_32G77_F012'\n",
       "13. 'Run5654_399G0_32G77_F013'\n",
       "14. 'Run5654_399G0_32G77_F014'\n",
       "15. 'Run5654_399G0_32G77_F017'\n",
       "16. 'Run5654_399G0_32G77_F018'\n",
       "17. 'Run5654_399G0_32G77_F021'\n",
       "18. 'Run5654_399G0_32G77_F022'\n",
       "19. 'Run5654_399G0_32G77_F023'\n",
       "20. 'Run5666_G2697_G1532_F001'\n",
       "21. 'Run5666_G2697_G1532_F002'\n",
       "22. 'Run5666_G2697_G1532_F003'\n",
       "23. 'Run5666_G2697_G1532_F004'\n",
       "24. 'Run5666_G2697_G1532_F006'\n",
       "25. 'Run5666_G2697_G1532_F007'\n",
       "26. 'Run5666_G2697_G1532_F008'\n",
       "27. 'Run5666_G2697_G1532_F009'\n",
       "28. 'Run5666_G2697_G1532_F010'\n",
       "29. 'Run5666_G2697_G1532_F011'\n",
       "30. 'Run5666_G2697_G1532_F012'\n",
       "31. 'Run5666_G7G72_G22G5_F001'\n",
       "32. 'Run5666_G7G72_G22G5_F002'\n",
       "33. 'Run5666_G7G72_G22G5_F003'\n",
       "34. 'Run5666_G7G72_G22G5_F004'\n",
       "35. 'Run5666_G7G72_G22G5_F005'\n",
       "36. 'Run5666_G7G72_G22G5_F009'\n",
       "37. 'Run5666_G7G72_G22G5_F010'\n",
       "38. 'Run5666_G7G72_G22G5_F011'\n",
       "39. 'Run5666_G7G72_G22G5_F012'\n",
       "40. 'Run5666_G7G72_G22G5_F013'\n",
       "41. 'Run5666_G7G72_G22G5_F014'\n",
       "42. 'Run5666_G7G72_G22G5_F015'\n",
       "43. 'Run5666_G7G72_G22G5_F016'\n",
       "44. 'Run5666_G7G72_G22G5_F017'\n",
       "45. 'Run5666_G7G72_G22G5_F018'\n",
       "46. 'Run5666_G7G72_G22G5_F019'\n",
       "47. 'Run5666_G7G72_G22G5_F020'\n",
       "48. 'Run5666_G7G72_G22G5_F021'\n",
       "49. 'Run5666_G7G72_G22G5_F022'\n",
       "50. 'Run5666_G7G72_G22G5_F023'\n",
       "51. 'Run5666_G7G72_G22G5_F024'\n",
       "52. 'Run5666_G7G72_G22G5_F025'\n",
       "53. 'Run5666_G7G72_G22G5_F026'\n",
       "\n",
       "\n"
      ],
      "text/plain": [
       " [1] \"Run5654_399G0_32G77_F001\" \"Run5654_399G0_32G77_F002\"\n",
       " [3] \"Run5654_399G0_32G77_F003\" \"Run5654_399G0_32G77_F004\"\n",
       " [5] \"Run5654_399G0_32G77_F005\" \"Run5654_399G0_32G77_F006\"\n",
       " [7] \"Run5654_399G0_32G77_F007\" \"Run5654_399G0_32G77_F008\"\n",
       " [9] \"Run5654_399G0_32G77_F009\" \"Run5654_399G0_32G77_F010\"\n",
       "[11] \"Run5654_399G0_32G77_F011\" \"Run5654_399G0_32G77_F012\"\n",
       "[13] \"Run5654_399G0_32G77_F013\" \"Run5654_399G0_32G77_F014\"\n",
       "[15] \"Run5654_399G0_32G77_F017\" \"Run5654_399G0_32G77_F018\"\n",
       "[17] \"Run5654_399G0_32G77_F021\" \"Run5654_399G0_32G77_F022\"\n",
       "[19] \"Run5654_399G0_32G77_F023\" \"Run5666_G2697_G1532_F001\"\n",
       "[21] \"Run5666_G2697_G1532_F002\" \"Run5666_G2697_G1532_F003\"\n",
       "[23] \"Run5666_G2697_G1532_F004\" \"Run5666_G2697_G1532_F006\"\n",
       "[25] \"Run5666_G2697_G1532_F007\" \"Run5666_G2697_G1532_F008\"\n",
       "[27] \"Run5666_G2697_G1532_F009\" \"Run5666_G2697_G1532_F010\"\n",
       "[29] \"Run5666_G2697_G1532_F011\" \"Run5666_G2697_G1532_F012\"\n",
       "[31] \"Run5666_G7G72_G22G5_F001\" \"Run5666_G7G72_G22G5_F002\"\n",
       "[33] \"Run5666_G7G72_G22G5_F003\" \"Run5666_G7G72_G22G5_F004\"\n",
       "[35] \"Run5666_G7G72_G22G5_F005\" \"Run5666_G7G72_G22G5_F009\"\n",
       "[37] \"Run5666_G7G72_G22G5_F010\" \"Run5666_G7G72_G22G5_F011\"\n",
       "[39] \"Run5666_G7G72_G22G5_F012\" \"Run5666_G7G72_G22G5_F013\"\n",
       "[41] \"Run5666_G7G72_G22G5_F014\" \"Run5666_G7G72_G22G5_F015\"\n",
       "[43] \"Run5666_G7G72_G22G5_F016\" \"Run5666_G7G72_G22G5_F017\"\n",
       "[45] \"Run5666_G7G72_G22G5_F018\" \"Run5666_G7G72_G22G5_F019\"\n",
       "[47] \"Run5666_G7G72_G22G5_F020\" \"Run5666_G7G72_G22G5_F021\"\n",
       "[49] \"Run5666_G7G72_G22G5_F022\" \"Run5666_G7G72_G22G5_F023\"\n",
       "[51] \"Run5666_G7G72_G22G5_F024\" \"Run5666_G7G72_G22G5_F025\"\n",
       "[53] \"Run5666_G7G72_G22G5_F026\""
      ]
     },
     "metadata": {},
     "output_type": "display_data"
    }
   ],
   "source": [
    "unique(obj_ksweep$metadata$SampleFOV)"
   ]
  },
  {
   "cell_type": "code",
   "execution_count": 18,
   "id": "d11b42fc-5fea-4e82-95a6-b2c900e96572",
   "metadata": {
    "tags": []
   },
   "outputs": [
    {
     "data": {
      "text/plain": [
       "5 x 5 sparse Matrix of class \"dgCMatrix\"\n",
       "     C18_Run5654_399G0_32G77_F001 C26_Run5654_399G0_32G77_F001\n",
       "AATK                            .                            .\n",
       "ABL1                            .                            .\n",
       "ABL2                            .                            .\n",
       "ACE                             .                            .\n",
       "ACE2                            .                            .\n",
       "     C27_Run5654_399G0_32G77_F001 C28_Run5654_399G0_32G77_F001\n",
       "AATK                            .                            .\n",
       "ABL1                            .                            .\n",
       "ABL2                            .                            .\n",
       "ACE                             .                            .\n",
       "ACE2                            .                            .\n",
       "     C29_Run5654_399G0_32G77_F001\n",
       "AATK                            .\n",
       "ABL1                            .\n",
       "ABL2                            .\n",
       "ACE                             .\n",
       "ACE2                            ."
      ]
     },
     "metadata": {},
     "output_type": "display_data"
    }
   ],
   "source": [
    "obj_ksweep$counts_raw[1:5, 1:5]"
   ]
  },
  {
   "cell_type": "code",
   "execution_count": 19,
   "id": "9af901e0-4a82-4bd9-926e-ba599fda66e7",
   "metadata": {
    "tags": []
   },
   "outputs": [
    {
     "data": {
      "text/plain": [
       "5 x 5 sparse Matrix of class \"dgCMatrix\"\n",
       "     C18_Run5654_399G0_32G77_F001 C26_Run5654_399G0_32G77_F001\n",
       "AATK                 .                            1.875565e-09\n",
       "ABL1                 0.0996545254                 9.455226e-07\n",
       "ABL2                 0.0000421281                 4.288957e-04\n",
       "ACE                  0.0004265495                 .           \n",
       "ACE2                 .                            .           \n",
       "     C27_Run5654_399G0_32G77_F001 C28_Run5654_399G0_32G77_F001\n",
       "AATK                 1.980336e-07                 3.924482e-09\n",
       "ABL1                 2.309452e-05                 1.361604e-06\n",
       "ABL2                 1.547650e-02                 8.405027e-03\n",
       "ACE                  .                            .           \n",
       "ACE2                 .                            .           \n",
       "     C29_Run5654_399G0_32G77_F001\n",
       "AATK                 .           \n",
       "ABL1                 9.525879e-04\n",
       "ABL2                 1.246448e-05\n",
       "ACE                  2.856479e-05\n",
       "ACE2                 .           "
      ]
     },
     "metadata": {},
     "output_type": "display_data"
    }
   ],
   "source": [
    "obj_ksweep$counts[1:5, 1:5]"
   ]
  },
  {
   "cell_type": "code",
   "execution_count": 20,
   "id": "74d108a5-7c1f-482f-b37b-50b2a877662e",
   "metadata": {
    "tags": []
   },
   "outputs": [
    {
     "data": {
      "application/geo+json": {
       "features": [
        {
         "geometry": {
          "coordinates": [
           [
            [
             [
              45550.176,
              -8466.7682
             ],
             [
              45550.176,
              -8464.3785
             ],
             [
              45550.252,
              -8464.3785
             ],
             [
              45550.252,
              -8464.3297
             ],
             [
              45550.328,
              -8464.3297
             ],
             [
              45550.328,
              -8464.2809
             ],
             [
              45550.4801,
              -8464.2809
             ],
             [
              45550.4801,
              -8464.2322
             ],
             [
              45550.6321,
              -8464.2322
             ],
             [
              45550.6321,
              -8464.1834
             ],
             [
              45550.7842,
              -8464.1834
             ],
             [
              45550.7842,
              -8464.1346
             ],
             [
              45551.0123,
              -8464.1346
             ],
             [
              45551.0123,
              -8464.0858
             ],
             [
              45551.1643,
              -8464.0858
             ],
             [
              45551.1643,
              -8464.0371
             ],
             [
              45551.3924,
              -8464.0371
             ],
             [
              45551.3924,
              -8463.9883
             ],
             [
              45551.6965,
              -8463.9883
             ],
             [
              45551.6965,
              -8463.9395
             ],
             [
              45552.0766,
              -8463.9395
             ],
             [
              45552.0766,
              -8463.8908
             ],
             [
              45552.7608,
              -8463.8908
             ],
             [
              45552.7608,
              -8463.842
             ],
             [
              45553.445,
              -8463.842
             ],
             [
              45553.445,
              -8463.7932
             ],
             [
              45553.8252,
              -8463.7932
             ],
             [
              45553.8252,
              -8463.7444
             ],
             [
              45554.0532,
              -8463.7444
             ],
             [
              45554.0532,
              -8463.6957
             ],
             [
              45554.2053,
              -8463.6957
             ],
             [
              45554.2053,
              -8463.6469
             ],
             [
              45554.2813,
              -8463.6469
             ],
             [
              45554.2813,
              -8463.5981
             ],
             [
              45554.3573,
              -8463.5981
             ],
             [
              45554.3573,
              -8463.5494
             ],
             [
              45554.4334,
              -8463.5494
             ],
             [
              45554.4334,
              -8463.5006
             ],
             [
              45554.5094,
              -8463.5006
             ],
             [
              45554.5094,
              -8463.3543
             ],
             [
              45554.5854,
              -8463.3543
             ],
             [
              45554.5854,
              -8462.7203
             ],
             [
              45554.5094,
              -8462.7203
             ],
             [
              45554.5094,
              -8462.2813
             ],
             [
              45554.5854,
              -8462.2813
             ],
             [
              45554.5854,
              -8462.135
             ],
             [
              45554.6614,
              -8462.135
             ],
             [
              45554.6614,
              -8462.0375
             ],
             [
              45554.7375,
              -8462.0375
             ],
             [
              45554.7375,
              -8461.9887
             ],
             [
              45554.8135,
              -8461.9887
             ],
             [
              45554.8135,
              -8461.9399
             ],
             [
              45556.562,
              -8461.9399
             ],
             [
              45556.562,
              -8461.9887
             ],
             [
              45556.6381,
              -8461.9887
             ],
             [
              45556.6381,
              -8462.0375
             ],
             [
              45556.7141,
              -8462.0375
             ],
             [
              45556.7141,
              -8462.0862
             ],
             [
              45556.7901,
              -8462.0862
             ],
             [
              45556.7901,
              -8462.135
             ],
             [
              45556.8661,
              -8462.135
             ],
             [
              45556.8661,
              -8462.1838
             ],
             [
              45556.9422,
              -8462.1838
             ],
             [
              45556.9422,
              -8462.2813
             ],
             [
              45557.0182,
              -8462.2813
             ],
             [
              45557.0182,
              -8462.3301
             ],
             [
              45557.0942,
              -8462.3301
             ],
             [
              45557.0942,
              -8462.4276
             ],
             [
              45557.1702,
              -8462.4276
             ],
             [
              45557.1702,
              -8462.5252
             ],
             [
              45557.2463,
              -8462.5252
             ],
             [
              45557.2463,
              -8462.6715
             ],
             [
              45557.3223,
              -8462.6715
             ],
             [
              45557.3223,
              -8463.1104
             ],
             [
              45557.2463,
              -8463.1104
             ],
             [
              45557.2463,
              -8463.208
             ],
             [
              45557.1702,
              -8463.208
             ],
             [
              45557.1702,
              -8463.3055
             ],
             [
              45557.0942,
              -8463.3055
             ],
             [
              45557.0942,
              -8463.3543
             ],
             [
              45557.0182,
              -8463.3543
             ],
             [
              45557.0182,
              -8463.403
             ],
             [
              45556.9422,
              -8463.403
             ],
             [
              45556.9422,
              -8463.4518
             ],
             [
              45556.8661,
              -8463.4518
             ],
             [
              45556.8661,
              -8463.5006
             ],
             [
              45556.7901,
              -8463.5006
             ],
             [
              45556.7901,
              -8463.5494
             ],
             [
              45556.7141,
              -8463.5494
             ],
             [
              45556.7141,
              -8463.5981
             ],
             [
              45556.6381,
              -8463.5981
             ],
             [
              45556.6381,
              -8463.6469
             ],
             [
              45556.562,
              -8463.6469
             ],
             [
              45556.562,
              -8463.6957
             ],
             [
              45556.486,
              -8463.6957
             ],
             [
              45556.486,
              -8463.7444
             ],
             [
              45556.41,
              -8463.7444
             ],
             [
              45556.41,
              -8463.7932
             ],
             [
              45556.334,
              -8463.7932
             ],
             [
              45556.334,
              -8463.842
             ],
             [
              45556.2579,
              -8463.842
             ],
             [
              45556.2579,
              -8463.8908
             ],
             [
              45556.1819,
              -8463.8908
             ],
             [
              45556.1819,
              -8463.9395
             ],
             [
              45556.1059,
              -8463.9395
             ],
             [
              45556.1059,
              -8463.9883
             ],
             [
              45556.0299,
              -8463.9883
             ],
             [
              45556.0299,
              -8464.0371
             ],
             [
              45555.9538,
              -8464.0371
             ],
             [
              45555.9538,
              -8464.1346
             ],
             [
              45555.8778,
              -8464.1346
             ],
             [
              45555.8778,
              -8464.1834
             ],
             [
              45555.8018,
              -8464.1834
             ],
             [
              45555.8018,
              -8464.2809
             ],
             [
              45555.7258,
              -8464.2809
             ],
             [
              45555.7258,
              -8464.3785
             ],
             [
              45555.6497,
              -8464.3785
             ],
             [
              45555.6497,
              -8464.5248
             ],
             [
              45555.5737,
              -8464.5248
             ],
             [
              45555.5737,
              -8464.8174
             ],
             [
              45555.7258,
              -8464.8174
             ],
             [
              45555.7258,
              -8464.8662
             ],
             [
              45555.8778,
              -8464.8662
             ],
             [
              45555.8778,
              -8464.8174
             ],
             [
              45556.1819,
              -8464.8174
             ],
             [
              45556.1819,
              -8464.7686
             ],
             [
              45556.6381,
              -8464.7686
             ],
             [
              45556.6381,
              -8464.7199
             ],
             [
              45557.3223,
              -8464.7199
             ],
             [
              45557.3223,
              -8464.7686
             ],
             [
              45557.7024,
              -8464.7686
             ],
             [
              45557.7024,
              -8465.9391
             ],
             [
              45557.0942,
              -8465.9391
             ],
             [
              45557.0942,
              -8465.8904
             ],
             [
              45556.7901,
              -8465.8904
             ],
             [
              45556.7901,
              -8465.8416
             ],
             [
              45556.562,
              -8465.8416
             ],
             [
              45556.562,
              -8465.7928
             ],
             [
              45556.41,
              -8465.7928
             ],
             [
              45556.41,
              -8465.7441
             ],
             [
              45556.2579,
              -8465.7441
             ],
             [
              45556.2579,
              -8465.6953
             ],
             [
              45556.1059,
              -8465.6953
             ],
             [
              45556.1059,
              -8465.6465
             ],
             [
              45555.9538,
              -8465.6465
             ],
             [
              45555.9538,
              -8465.5977
             ],
             [
              45555.8018,
              -8465.5977
             ],
             [
              45555.8018,
              -8465.549
             ],
             [
              45555.4217,
              -8465.549
             ],
             [
              45555.4217,
              -8465.5977
             ],
             [
              45555.3456,
              -8465.5977
             ],
             [
              45555.3456,
              -8465.6465
             ],
             [
              45555.2696,
              -8465.6465
             ],
             [
              45555.2696,
              -8465.6953
             ],
             [
              45555.1936,
              -8465.6953
             ],
             [
              45555.1936,
              -8465.7441
             ],
             [
              45555.1176,
              -8465.7441
             ],
             [
              45555.1176,
              -8465.8416
             ],
             [
              45555.0416,
              -8465.8416
             ],
             [
              45555.0416,
              -8465.8904
             ],
             [
              45554.9655,
              -8465.8904
             ],
             [
              45554.9655,
              -8465.9879
             ],
             [
              45554.8895,
              -8465.9879
             ],
             [
              45554.8895,
              -8466.0367
             ],
             [
              45554.8135,
              -8466.0367
             ],
             [
              45554.8135,
              -8466.1342
             ],
             [
              45554.7375,
              -8466.1342
             ],
             [
              45554.7375,
              -8466.183
             ],
             [
              45554.6614,
              -8466.183
             ],
             [
              45554.6614,
              -8466.2805
             ],
             [
              45554.5854,
              -8466.2805
             ],
             [
              45554.5854,
              -8466.3293
             ],
             [
              45554.5094,
              -8466.3293
             ],
             [
              45554.5094,
              -8466.3781
             ],
             [
              45554.4334,
              -8466.3781
             ],
             [
              45554.4334,
              -8466.4268
             ],
             [
              45554.3573,
              -8466.4268
             ],
             [
              45554.3573,
              -8466.4756
             ],
             [
              45554.2813,
              -8466.4756
             ],
             [
              45554.2813,
              -8466.5244
             ],
             [
              45554.2053,
              -8466.5244
             ],
             [
              45554.2053,
              -8466.5732
             ],
             [
              45554.0532,
              -8466.5732
             ],
             [
              45554.0532,
              -8466.6219
             ],
             [
              45553.9772,
              -8466.6219
             ],
             [
              45553.9772,
              -8466.6707
             ],
             [
              45553.9012,
              -8466.6707
             ],
             [
              45553.9012,
              -8466.7195
             ],
             [
              45553.8252,
              -8466.7195
             ],
             [
              45553.8252,
              -8466.7682
             ],
             [
              45550.176,
              -8466.7682
             ]
            ]
           ]
          ],
          "type": "MultiPolygon"
         },
         "properties": {
          "FOV": "F026",
          "SampleFOV": "Run5666_G7G72_G22G5_F026",
          "SampleID": "Run5666_G7G72_G22G5",
          "area_um": 21.1253,
          "cell": "11821",
          "cellID": "C11821_Run5666_G7G72_G22G5_F026",
          "cell_center_x": 45553.8812,
          "cell_center_y": -8464.7331,
          "cell_centroid": [
           {
            "coordinates": [
             45553.8812,
             -8464.7331
            ],
            "type": "Point"
           }
          ],
          "nCounts": 25,
          "polygon": [
           {
            "coordinates": [
             [
              [
               45548.2951,
               -8464.2318
              ],
              [
               45548.6944,
               -8462.4831
              ],
              [
               45557.3253,
               -8460.522
              ],
              [
               45558.9226,
               -8464.1464
              ],
              [
               45554.8335,
               -8468.1979
              ],
              [
               45550.1263,
               -8467.6327
              ],
              [
               45548.2951,
               -8464.2318
              ]
             ]
            ],
            "type": "Polygon"
           }
          ],
          "polygon_area": 55.3229,
          "polygon_centroid": [
           {
            "coordinates": [
             45553.577,
             -8464.3862
            ],
            "type": "Point"
           }
          ],
          "pxsize": 0.168,
          "radius_um": 2.5931,
          "region": "tissue",
          "tileID": "C11821_Run5666_G7G72_G22G5_F026"
         },
         "type": "Feature"
        },
        {
         "geometry": {
          "coordinates": [
           [
            [
             [
              45560.7758,
              -8468.3114
             ],
             [
              45560.7758,
              -8468.1977
             ],
             [
              45560.6906,
              -8468.1977
             ],
             [
              45560.6906,
              -8468.084
             ],
             [
              45560.6054,
              -8468.084
             ],
             [
              45560.6054,
              -8467.9703
             ],
             [
              45560.5202,
              -8467.9703
             ],
             [
              45560.5202,
              -8467.8186
             ],
             [
              45560.435,
              -8467.8186
             ],
             [
              45560.435,
              -8467.6291
             ],
             [
              45560.3498,
              -8467.6291
             ],
             [
              45560.3498,
              -8467.4395
             ],
             [
              45560.2647,
              -8467.4395
             ],
             [
              45560.2647,
              -8467.4016
             ],
             [
              45557.4535,
              -8467.4016
             ],
             [
              45557.4535,
              -8467.5153
             ],
             [
              45557.3683,
              -8467.5153
             ],
             [
              45557.3683,
              -8467.6291
             ],
             [
              45557.2831,
              -8467.6291
             ],
             [
              45557.2831,
              -8467.7049
             ],
             [
              45557.1979,
              -8467.7049
             ],
             [
              45557.1979,
              -8467.8186
             ],
             [
              45557.1127,
              -8467.8186
             ],
             [
              45557.1127,
              -8467.8565
             ],
             [
              45557.0275,
              -8467.8565
             ],
             [
              45557.0275,
              -8467.9323
             ],
             [
              45556.9423,
              -8467.9323
             ],
             [
              45556.9423,
              -8467.9703
             ],
             [
              45556.8571,
              -8467.9703
             ],
             [
              45556.8571,
              -8468.0082
             ],
             [
              45556.772,
              -8468.0082
             ],
             [
              45556.772,
              -8468.0461
             ],
             [
              45556.6868,
              -8468.0461
             ],
             [
              45556.6868,
              -8468.084
             ],
             [
              45556.6016,
              -8468.084
             ],
             [
              45556.6016,
              -8468.1219
             ],
             [
              45556.5164,
              -8468.1219
             ],
             [
              45556.5164,
              -8468.1598
             ],
             [
              45556.4312,
              -8468.1598
             ],
             [
              45556.4312,
              -8468.1977
             ],
             [
              45556.346,
              -8468.1977
             ],
             [
              45556.346,
              -8468.2356
             ],
             [
              45556.2608,
              -8468.2356
             ],
             [
              45556.2608,
              -8468.2735
             ],
             [
              45556.1756,
              -8468.2735
             ],
             [
              45556.1756,
              -8468.3114
             ],
             [
              45556.0904,
              -8468.3114
             ],
             [
              45556.0904,
              -8468.3494
             ],
             [
              45556.0053,
              -8468.3494
             ],
             [
              45556.0053,
              -8468.4252
             ],
             [
              45555.9201,
              -8468.4252
             ],
             [
              45555.9201,
              -8468.4631
             ],
             [
              45555.8349,
              -8468.4631
             ],
             [
              45555.8349,
              -8468.501
             ],
             [
              45555.7497,
              -8468.501
             ],
             [
              45555.7497,
              -8468.5768
             ],
             [
              45555.6645,
              -8468.5768
             ],
             [
              45555.6645,
              -8468.6147
             ],
             [
              45555.5793,
              -8468.6147
             ],
             [
              45555.5793,
              -8468.6526
             ],
             [
              45555.4941,
              -8468.6526
             ],
             [
              45555.4941,
              -8468.6906
             ],
             [
              45554.8978,
              -8468.6906
             ],
             [
              45554.8978,
              -8468.6526
             ],
             [
              45554.7274,
              -8468.6526
             ],
             [
              45554.7274,
              -8468.6147
             ],
             [
              45554.5571,
              -8468.6147
             ],
             [
              45554.5571,
              -8468.5768
             ],
             [
              45554.3867,
              -8468.5768
             ],
             [
              45554.3867,
              -8468.5389
             ],
             [
              45553.62,
              -8468.5389
             ],
             [
              45553.62,
              -8469.9037
             ],
             [
              45553.7052,
              -8469.9037
             ],
             [
              45553.7052,
              -8469.9416
             ],
             [
              45553.8756,
              -8469.9416
             ],
             [
              45553.8756,
              -8469.9795
             ],
             [
              45554.3015,
              -8469.9795
             ],
             [
              45554.3015,
              -8469.9416
             ],
             [
              45554.4719,
              -8469.9416
             ],
             [
              45554.4719,
              -8469.9037
             ],
             [
              45554.6423,
              -8469.9037
             ],
             [
              45554.6423,
              -8469.8658
             ],
             [
              45554.7274,
              -8469.8658
             ],
             [
              45554.7274,
              -8469.8279
             ],
             [
              45554.8126,
              -8469.8279
             ],
             [
              45554.8126,
              -8469.7899
             ],
             [
              45554.8978,
              -8469.7899
             ],
             [
              45554.8978,
              -8469.752
             ],
             [
              45554.983,
              -8469.752
             ],
             [
              45554.983,
              -8469.7141
             ],
             [
              45555.0682,
              -8469.7141
             ],
             [
              45555.0682,
              -8469.6762
             ],
             [
              45555.1534,
              -8469.6762
             ],
             [
              45555.1534,
              -8469.6383
             ],
             [
              45555.2386,
              -8469.6383
             ],
             [
              45555.2386,
              -8469.6004
             ],
             [
              45555.3238,
              -8469.6004
             ],
             [
              45555.3238,
              -8469.5625
             ],
             [
              45555.7497,
              -8469.5625
             ],
             [
              45555.7497,
              -8469.6004
             ],
             [
              45555.8349,
              -8469.6004
             ],
             [
              45555.8349,
              -8469.6383
             ],
             [
              45555.9201,
              -8469.6383
             ],
             [
              45555.9201,
              -8469.7141
             ],
             [
              45556.0053,
              -8469.7141
             ],
             [
              45556.0053,
              -8469.7899
             ],
             [
              45556.0904,
              -8469.7899
             ],
             [
              45556.0904,
              -8469.8658
             ],
             [
              45556.1756,
              -8469.8658
             ],
             [
              45556.1756,
              -8469.9416
             ],
             [
              45556.2608,
              -8469.9416
             ],
             [
              45556.2608,
              -8470.0174
             ],
             [
              45556.346,
              -8470.0174
             ],
             [
              45556.346,
              -8470.0932
             ],
             [
              45556.4312,
              -8470.0932
             ],
             [
              45556.4312,
              -8470.1691
             ],
             [
              45556.5164,
              -8470.1691
             ],
             [
              45556.5164,
              -8470.2449
             ],
             [
              45556.6016,
              -8470.2449
             ],
             [
              45556.6016,
              -8470.3207
             ],
             [
              45556.6868,
              -8470.3207
             ],
             [
              45556.6868,
              -8470.3586
             ],
             [
              45556.772,
              -8470.3586
             ],
             [
              45556.772,
              -8470.3965
             ],
             [
              45556.8571,
              -8470.3965
             ],
             [
              45556.8571,
              -8470.4344
             ],
             [
              45556.9423,
              -8470.4344
             ],
             [
              45556.9423,
              -8470.4723
             ],
             [
              45557.0275,
              -8470.4723
             ],
             [
              45557.0275,
              -8470.5102
             ],
             [
              45557.1127,
              -8470.5102
             ],
             [
              45557.1127,
              -8470.5482
             ],
             [
              45557.2831,
              -8470.5482
             ],
             [
              45557.2831,
              -8470.5861
             ],
             [
              45557.4535,
              -8470.5861
             ],
             [
              45557.4535,
              -8470.624
             ],
             [
              45557.7942,
              -8470.624
             ],
             [
              45557.7942,
              -8470.6619
             ],
             [
              45558.0498,
              -8470.6619
             ],
             [
              45558.0498,
              -8470.624
             ],
             [
              45558.4757,
              -8470.624
             ],
             [
              45558.4757,
              -8470.5861
             ],
             [
              45558.7313,
              -8470.5861
             ],
             [
              45558.7313,
              -8470.5482
             ],
             [
              45558.9868,
              -8470.5482
             ],
             [
              45558.9868,
              -8470.5102
             ],
             [
              45559.3276,
              -8470.5102
             ],
             [
              45559.3276,
              -8470.4723
             ],
             [
              45559.5832,
              -8470.4723
             ],
             [
              45559.5832,
              -8470.4344
             ],
             [
              45559.8387,
              -8470.4344
             ],
             [
              45559.8387,
              -8470.3965
             ],
             [
              45560.0091,
              -8470.3965
             ],
             [
              45560.0091,
              -8470.3586
             ],
             [
              45560.3498,
              -8470.3586
             ],
             [
              45560.3498,
              -8470.3207
             ],
             [
              45560.6054,
              -8470.3207
             ],
             [
              45560.6054,
              -8470.3586
             ],
             [
              45560.6906,
              -8470.3586
             ],
             [
              45560.6906,
              -8470.3965
             ],
             [
              45560.7758,
              -8470.3965
             ],
             [
              45560.7758,
              -8470.5861
             ],
             [
              45560.861,
              -8470.5861
             ],
             [
              45560.861,
              -8470.8893
             ],
             [
              45560.9462,
              -8470.8893
             ],
             [
              45560.9462,
              -8471.041
             ],
             [
              45561.0313,
              -8471.041
             ],
             [
              45561.0313,
              -8471.1168
             ],
             [
              45561.1165,
              -8471.1168
             ],
             [
              45561.1165,
              -8471.1547
             ],
             [
              45561.798,
              -8471.1547
             ],
             [
              45561.798,
              -8471.0789
             ],
             [
              45561.8832,
              -8471.0789
             ],
             [
              45561.8832,
              -8471.041
             ],
             [
              45561.9684,
              -8471.041
             ],
             [
              45561.9684,
              -8470.9652
             ],
             [
              45562.0536,
              -8470.9652
             ],
             [
              45562.0536,
              -8470.0553
             ],
             [
              45561.9684,
              -8470.0553
             ],
             [
              45561.9684,
              -8470.0174
             ],
             [
              45561.8832,
              -8470.0174
             ],
             [
              45561.8832,
              -8469.9416
             ],
             [
              45561.798,
              -8469.9416
             ],
             [
              45561.798,
              -8469.8658
             ],
             [
              45561.7128,
              -8469.8658
             ],
             [
              45561.7128,
              -8469.6762
             ],
             [
              45561.6277,
              -8469.6762
             ],
             [
              45561.6277,
              -8469.335
             ],
             [
              45561.5425,
              -8469.335
             ],
             [
              45561.5425,
              -8469.1455
             ],
             [
              45561.4573,
              -8469.1455
             ],
             [
              45561.4573,
              -8468.9938
             ],
             [
              45561.3721,
              -8468.9938
             ],
             [
              45561.3721,
              -8468.918
             ],
             [
              45561.2869,
              -8468.918
             ],
             [
              45561.2869,
              -8468.8043
             ],
             [
              45561.2017,
              -8468.8043
             ],
             [
              45561.2017,
              -8468.7285
             ],
             [
              45561.1165,
              -8468.7285
             ],
             [
              45561.1165,
              -8468.6147
             ],
             [
              45561.0313,
              -8468.6147
             ],
             [
              45561.0313,
              -8468.501
             ],
             [
              45560.9462,
              -8468.501
             ],
             [
              45560.9462,
              -8468.4252
             ],
             [
              45560.861,
              -8468.4252
             ],
             [
              45560.861,
              -8468.3114
             ],
             [
              45560.7758,
              -8468.3114
             ]
            ]
           ]
          ],
          "type": "MultiPolygon"
         },
         "properties": {
          "FOV": "F026",
          "SampleFOV": "Run5666_G7G72_G22G5_F026",
          "SampleID": "Run5666_G7G72_G22G5",
          "area_um": 18.4354,
          "cell": "12080",
          "cellID": "C12080_Run5666_G7G72_G22G5_F026",
          "cell_center_x": 45558.2893,
          "cell_center_y": -8469.1822,
          "cell_centroid": [
           {
            "coordinates": [
             45558.2893,
             -8469.1822
            ],
            "type": "Point"
           }
          ],
          "nCounts": 23,
          "polygon": [
           {
            "coordinates": [
             [
              [
               45554.8335,
               -8468.1979
              ],
              [
               45558.9226,
               -8464.1464
              ],
              [
               45560.8834,
               -8465.1942
              ],
              [
               45562.535,
               -8472.1892
              ],
              [
               45558.5443,
               -8477.1475
              ],
              [
               45554.8335,
               -8468.1979
              ]
             ]
            ],
            "type": "Polygon"
           }
          ],
          "polygon_area": 56.8115,
          "polygon_centroid": [
           {
            "coordinates": [
             45558.9164,
             -8470.1362
            ],
            "type": "Point"
           }
          ],
          "pxsize": 0.168,
          "radius_um": 2.4224,
          "region": "tissue",
          "tileID": "C12080_Run5666_G7G72_G22G5_F026"
         },
         "type": "Feature"
        }
       ],
       "type": "FeatureCollection"
      },
      "text/html": [
       "<table class=\"dataframe\">\n",
       "<caption>A sf: 2 × 18</caption>\n",
       "<thead>\n",
       "\t<tr><th></th><th scope=col>cellID</th><th scope=col>cell</th><th scope=col>SampleFOV</th><th scope=col>SampleID</th><th scope=col>FOV</th><th scope=col>area_um</th><th scope=col>radius_um</th><th scope=col>cell_center_x</th><th scope=col>cell_center_y</th><th scope=col>pxsize</th><th scope=col>tileID</th><th scope=col>polygon_area</th><th scope=col>region</th><th scope=col>nCounts</th><th scope=col>cell_centroid</th><th scope=col>shape</th><th scope=col>polygon_centroid</th><th scope=col>polygon</th></tr>\n",
       "\t<tr><th></th><th scope=col>&lt;chr&gt;</th><th scope=col>&lt;chr&gt;</th><th scope=col>&lt;chr&gt;</th><th scope=col>&lt;chr&gt;</th><th scope=col>&lt;chr&gt;</th><th scope=col>&lt;dbl&gt;</th><th scope=col>&lt;dbl&gt;</th><th scope=col>&lt;dbl&gt;</th><th scope=col>&lt;dbl&gt;</th><th scope=col>&lt;dbl&gt;</th><th scope=col>&lt;chr&gt;</th><th scope=col>&lt;dbl&gt;</th><th scope=col>&lt;chr&gt;</th><th scope=col>&lt;dbl&gt;</th><th scope=col>&lt;POINT&gt;</th><th scope=col>&lt;MULTIPOLYGON&gt;</th><th scope=col>&lt;POINT&gt;</th><th scope=col>&lt;POLYGON&gt;</th></tr>\n",
       "</thead>\n",
       "<tbody>\n",
       "\t<tr><th scope=row>153484</th><td>C11821_Run5666_G7G72_G22G5_F026</td><td>11821</td><td>Run5666_G7G72_G22G5_F026</td><td>Run5666_G7G72_G22G5</td><td>F026</td><td>21.12526</td><td>2.593141</td><td>45553.88</td><td>-8464.733</td><td>0.168</td><td>C11821_Run5666_G7G72_G22G5_F026</td><td>55.32295</td><td>tissue</td><td>25</td><td>POINT (45553.88 -8464.733)</td><td>MULTIPOLYGON (((45550.18 -8...</td><td>POINT (45553.58 -8464.386)</td><td>POLYGON ((45548.3 -8464.232...</td></tr>\n",
       "\t<tr><th scope=row>153485</th><td>C12080_Run5666_G7G72_G22G5_F026</td><td>12080</td><td>Run5666_G7G72_G22G5_F026</td><td>Run5666_G7G72_G22G5</td><td>F026</td><td>18.43537</td><td>2.422428</td><td>45558.29</td><td>-8469.182</td><td>0.168</td><td>C12080_Run5666_G7G72_G22G5_F026</td><td>56.81153</td><td>tissue</td><td>23</td><td>POINT (45558.29 -8469.182)</td><td>MULTIPOLYGON (((45560.78 -8...</td><td>POINT (45558.92 -8470.136)</td><td>POLYGON ((45554.83 -8468.19...</td></tr>\n",
       "</tbody>\n",
       "</table>\n"
      ],
      "text/latex": [
       "A sf: 2 × 18\n",
       "\\begin{tabular}{r|llllllllllllllllll}\n",
       "  & cellID & cell & SampleFOV & SampleID & FOV & area\\_um & radius\\_um & cell\\_center\\_x & cell\\_center\\_y & pxsize & tileID & polygon\\_area & region & nCounts & cell\\_centroid & shape & polygon\\_centroid & polygon\\\\\n",
       "  & <chr> & <chr> & <chr> & <chr> & <chr> & <dbl> & <dbl> & <dbl> & <dbl> & <dbl> & <chr> & <dbl> & <chr> & <dbl> & <POINT> & <MULTIPOLYGON> & <POINT> & <POLYGON>\\\\\n",
       "\\hline\n",
       "\t153484 & C11821\\_Run5666\\_G7G72\\_G22G5\\_F026 & 11821 & Run5666\\_G7G72\\_G22G5\\_F026 & Run5666\\_G7G72\\_G22G5 & F026 & 21.12526 & 2.593141 & 45553.88 & -8464.733 & 0.168 & C11821\\_Run5666\\_G7G72\\_G22G5\\_F026 & 55.32295 & tissue & 25 & POINT (45553.88 -8464.733) & MULTIPOLYGON (((45550.18 -8... & POINT (45553.58 -8464.386) & POLYGON ((45548.3 -8464.232...\\\\\n",
       "\t153485 & C12080\\_Run5666\\_G7G72\\_G22G5\\_F026 & 12080 & Run5666\\_G7G72\\_G22G5\\_F026 & Run5666\\_G7G72\\_G22G5 & F026 & 18.43537 & 2.422428 & 45558.29 & -8469.182 & 0.168 & C12080\\_Run5666\\_G7G72\\_G22G5\\_F026 & 56.81153 & tissue & 23 & POINT (45558.29 -8469.182) & MULTIPOLYGON (((45560.78 -8... & POINT (45558.92 -8470.136) & POLYGON ((45554.83 -8468.19...\\\\\n",
       "\\end{tabular}\n"
      ],
      "text/markdown": [
       "\n",
       "A sf: 2 × 18\n",
       "\n",
       "| <!--/--> | cellID &lt;chr&gt; | cell &lt;chr&gt; | SampleFOV &lt;chr&gt; | SampleID &lt;chr&gt; | FOV &lt;chr&gt; | area_um &lt;dbl&gt; | radius_um &lt;dbl&gt; | cell_center_x &lt;dbl&gt; | cell_center_y &lt;dbl&gt; | pxsize &lt;dbl&gt; | tileID &lt;chr&gt; | polygon_area &lt;dbl&gt; | region &lt;chr&gt; | nCounts &lt;dbl&gt; | cell_centroid &lt;POINT&gt; | shape &lt;MULTIPOLYGON&gt; | polygon_centroid &lt;POINT&gt; | polygon &lt;POLYGON&gt; |\n",
       "|---|---|---|---|---|---|---|---|---|---|---|---|---|---|---|---|---|---|---|\n",
       "| 153484 | C11821_Run5666_G7G72_G22G5_F026 | 11821 | Run5666_G7G72_G22G5_F026 | Run5666_G7G72_G22G5 | F026 | 21.12526 | 2.593141 | 45553.88 | -8464.733 | 0.168 | C11821_Run5666_G7G72_G22G5_F026 | 55.32295 | tissue | 25 | POINT (45553.88 -8464.733) | MULTIPOLYGON (((45550.18 -8... | POINT (45553.58 -8464.386) | POLYGON ((45548.3 -8464.232... |\n",
       "| 153485 | C12080_Run5666_G7G72_G22G5_F026 | 12080 | Run5666_G7G72_G22G5_F026 | Run5666_G7G72_G22G5 | F026 | 18.43537 | 2.422428 | 45558.29 | -8469.182 | 0.168 | C12080_Run5666_G7G72_G22G5_F026 | 56.81153 | tissue | 23 | POINT (45558.29 -8469.182) | MULTIPOLYGON (((45560.78 -8... | POINT (45558.92 -8470.136) | POLYGON ((45554.83 -8468.19... |\n",
       "\n"
      ],
      "text/plain": [
       "       cellID                          cell  SampleFOV               \n",
       "153484 C11821_Run5666_G7G72_G22G5_F026 11821 Run5666_G7G72_G22G5_F026\n",
       "153485 C12080_Run5666_G7G72_G22G5_F026 12080 Run5666_G7G72_G22G5_F026\n",
       "       SampleID            FOV  area_um  radius_um cell_center_x cell_center_y\n",
       "153484 Run5666_G7G72_G22G5 F026 21.12526 2.593141  45553.88      -8464.733    \n",
       "153485 Run5666_G7G72_G22G5 F026 18.43537 2.422428  45558.29      -8469.182    \n",
       "       pxsize tileID                          polygon_area region nCounts\n",
       "153484 0.168  C11821_Run5666_G7G72_G22G5_F026 55.32295     tissue 25     \n",
       "153485 0.168  C12080_Run5666_G7G72_G22G5_F026 56.81153     tissue 23     \n",
       "       cell_centroid              shape                         \n",
       "153484 POINT (45553.88 -8464.733) MULTIPOLYGON (((45550.18 -8...\n",
       "153485 POINT (45558.29 -8469.182) MULTIPOLYGON (((45560.78 -8...\n",
       "       polygon_centroid           polygon                       \n",
       "153484 POINT (45553.58 -8464.386) POLYGON ((45548.3 -8464.232...\n",
       "153485 POINT (45558.92 -8470.136) POLYGON ((45554.83 -8468.19..."
      ]
     },
     "metadata": {},
     "output_type": "display_data"
    }
   ],
   "source": [
    "tail(obj_ksweep$metadata, 2)"
   ]
  },
  {
   "cell_type": "code",
   "execution_count": 21,
   "id": "89bb8d92-7dc1-4202-a602-25e48f54c561",
   "metadata": {
    "tags": []
   },
   "outputs": [
    {
     "data": {
      "text/html": [
       "3"
      ],
      "text/latex": [
       "3"
      ],
      "text/markdown": [
       "3"
      ],
      "text/plain": [
       "[1] 3"
      ]
     },
     "metadata": {},
     "output_type": "display_data"
    }
   ],
   "source": [
    "unique(obj_ksweep$metadata$SampleID) %>% length"
   ]
  },
  {
   "cell_type": "code",
   "execution_count": 22,
   "id": "2aa83a73-b7d1-43bf-b973-4efc9671b7fb",
   "metadata": {
    "tags": []
   },
   "outputs": [],
   "source": [
    "obj_ksweep$metadata<-obj_ksweep$metadata %>% \n",
    "    dplyr::mutate(cellID = tileID)"
   ]
  },
  {
   "cell_type": "code",
   "execution_count": 23,
   "id": "caa5386f-21ee-4100-8e66-b0e3491fd0e4",
   "metadata": {
    "tags": []
   },
   "outputs": [
    {
     "data": {
      "text/html": [
       "TRUE"
      ],
      "text/latex": [
       "TRUE"
      ],
      "text/markdown": [
       "TRUE"
      ],
      "text/plain": [
       "[1] TRUE"
      ]
     },
     "metadata": {},
     "output_type": "display_data"
    }
   ],
   "source": [
    "all(obj_ksweep$metadata$tileID == colnames(obj_ksweep$counts))"
   ]
  },
  {
   "cell_type": "code",
   "execution_count": null,
   "id": "4796a022",
   "metadata": {},
   "outputs": [],
   "source": []
  },
  {
   "cell_type": "markdown",
   "id": "61dd11e6-3185-487c-b25a-b146cd7bf709",
   "metadata": {},
   "source": [
    "# harmonize"
   ]
  },
  {
   "cell_type": "code",
   "execution_count": 25,
   "id": "ed8a2304-bb66-4c48-9873-09f48ddc9773",
   "metadata": {
    "tags": []
   },
   "outputs": [],
   "source": [
    "sample_paths_preH<-list.files(\n",
    "    \"./cache/tissueSegmentation/voronoiObj\", \n",
    "    pattern = \"diffused_mat_sample.*.RDS\", \n",
    "    recursive = TRUE,\n",
    "    full.names = TRUE\n",
    ")"
   ]
  },
  {
   "cell_type": "code",
   "execution_count": 26,
   "id": "7c670cf9-82c0-44b5-b47c-efddcc8ce4b4",
   "metadata": {
    "tags": []
   },
   "outputs": [
    {
     "data": {
      "text/html": [
       "<style>\n",
       ".list-inline {list-style: none; margin:0; padding: 0}\n",
       ".list-inline>li {display: inline-block}\n",
       ".list-inline>li:not(:last-child)::after {content: \"\\00b7\"; padding: 0 .5ex}\n",
       "</style>\n",
       "<ol class=list-inline><li>'./cache/tissueSegmentation/voronoiObj/diffused_mat_sample_k_1.RDS'</li><li>'./cache/tissueSegmentation/voronoiObj/diffused_mat_sample_k_10.RDS'</li><li>'./cache/tissueSegmentation/voronoiObj/diffused_mat_sample_k_2.RDS'</li><li>'./cache/tissueSegmentation/voronoiObj/diffused_mat_sample_k_3.RDS'</li><li>'./cache/tissueSegmentation/voronoiObj/diffused_mat_sample_k_4.RDS'</li><li>'./cache/tissueSegmentation/voronoiObj/diffused_mat_sample_k_5.RDS'</li><li>'./cache/tissueSegmentation/voronoiObj/diffused_mat_sample_k_6.RDS'</li><li>'./cache/tissueSegmentation/voronoiObj/diffused_mat_sample_k_7.RDS'</li><li>'./cache/tissueSegmentation/voronoiObj/diffused_mat_sample_k_8.RDS'</li><li>'./cache/tissueSegmentation/voronoiObj/diffused_mat_sample_k_9.RDS'</li></ol>\n"
      ],
      "text/latex": [
       "\\begin{enumerate*}\n",
       "\\item './cache/tissueSegmentation/voronoiObj/diffused\\_mat\\_sample\\_k\\_1.RDS'\n",
       "\\item './cache/tissueSegmentation/voronoiObj/diffused\\_mat\\_sample\\_k\\_10.RDS'\n",
       "\\item './cache/tissueSegmentation/voronoiObj/diffused\\_mat\\_sample\\_k\\_2.RDS'\n",
       "\\item './cache/tissueSegmentation/voronoiObj/diffused\\_mat\\_sample\\_k\\_3.RDS'\n",
       "\\item './cache/tissueSegmentation/voronoiObj/diffused\\_mat\\_sample\\_k\\_4.RDS'\n",
       "\\item './cache/tissueSegmentation/voronoiObj/diffused\\_mat\\_sample\\_k\\_5.RDS'\n",
       "\\item './cache/tissueSegmentation/voronoiObj/diffused\\_mat\\_sample\\_k\\_6.RDS'\n",
       "\\item './cache/tissueSegmentation/voronoiObj/diffused\\_mat\\_sample\\_k\\_7.RDS'\n",
       "\\item './cache/tissueSegmentation/voronoiObj/diffused\\_mat\\_sample\\_k\\_8.RDS'\n",
       "\\item './cache/tissueSegmentation/voronoiObj/diffused\\_mat\\_sample\\_k\\_9.RDS'\n",
       "\\end{enumerate*}\n"
      ],
      "text/markdown": [
       "1. './cache/tissueSegmentation/voronoiObj/diffused_mat_sample_k_1.RDS'\n",
       "2. './cache/tissueSegmentation/voronoiObj/diffused_mat_sample_k_10.RDS'\n",
       "3. './cache/tissueSegmentation/voronoiObj/diffused_mat_sample_k_2.RDS'\n",
       "4. './cache/tissueSegmentation/voronoiObj/diffused_mat_sample_k_3.RDS'\n",
       "5. './cache/tissueSegmentation/voronoiObj/diffused_mat_sample_k_4.RDS'\n",
       "6. './cache/tissueSegmentation/voronoiObj/diffused_mat_sample_k_5.RDS'\n",
       "7. './cache/tissueSegmentation/voronoiObj/diffused_mat_sample_k_6.RDS'\n",
       "8. './cache/tissueSegmentation/voronoiObj/diffused_mat_sample_k_7.RDS'\n",
       "9. './cache/tissueSegmentation/voronoiObj/diffused_mat_sample_k_8.RDS'\n",
       "10. './cache/tissueSegmentation/voronoiObj/diffused_mat_sample_k_9.RDS'\n",
       "\n",
       "\n"
      ],
      "text/plain": [
       " [1] \"./cache/tissueSegmentation/voronoiObj/diffused_mat_sample_k_1.RDS\" \n",
       " [2] \"./cache/tissueSegmentation/voronoiObj/diffused_mat_sample_k_10.RDS\"\n",
       " [3] \"./cache/tissueSegmentation/voronoiObj/diffused_mat_sample_k_2.RDS\" \n",
       " [4] \"./cache/tissueSegmentation/voronoiObj/diffused_mat_sample_k_3.RDS\" \n",
       " [5] \"./cache/tissueSegmentation/voronoiObj/diffused_mat_sample_k_4.RDS\" \n",
       " [6] \"./cache/tissueSegmentation/voronoiObj/diffused_mat_sample_k_5.RDS\" \n",
       " [7] \"./cache/tissueSegmentation/voronoiObj/diffused_mat_sample_k_6.RDS\" \n",
       " [8] \"./cache/tissueSegmentation/voronoiObj/diffused_mat_sample_k_7.RDS\" \n",
       " [9] \"./cache/tissueSegmentation/voronoiObj/diffused_mat_sample_k_8.RDS\" \n",
       "[10] \"./cache/tissueSegmentation/voronoiObj/diffused_mat_sample_k_9.RDS\" "
      ]
     },
     "metadata": {},
     "output_type": "display_data"
    }
   ],
   "source": [
    "sample_paths_preH"
   ]
  },
  {
   "cell_type": "code",
   "execution_count": 27,
   "id": "6358cba4-78d6-455f-b712-b7fefb90e2df",
   "metadata": {
    "tags": []
   },
   "outputs": [
    {
     "data": {
      "text/html": [
       "<style>\n",
       ".list-inline {list-style: none; margin:0; padding: 0}\n",
       ".list-inline>li {display: inline-block}\n",
       ".list-inline>li:not(:last-child)::after {content: \"\\00b7\"; padding: 0 .5ex}\n",
       "</style>\n",
       "<ol class=list-inline><li>1</li><li>10</li><li>2</li><li>3</li><li>4</li><li>5</li><li>6</li><li>7</li><li>8</li><li>9</li></ol>\n"
      ],
      "text/latex": [
       "\\begin{enumerate*}\n",
       "\\item 1\n",
       "\\item 10\n",
       "\\item 2\n",
       "\\item 3\n",
       "\\item 4\n",
       "\\item 5\n",
       "\\item 6\n",
       "\\item 7\n",
       "\\item 8\n",
       "\\item 9\n",
       "\\end{enumerate*}\n"
      ],
      "text/markdown": [
       "1. 1\n",
       "2. 10\n",
       "3. 2\n",
       "4. 3\n",
       "5. 4\n",
       "6. 5\n",
       "7. 6\n",
       "8. 7\n",
       "9. 8\n",
       "10. 9\n",
       "\n",
       "\n"
      ],
      "text/plain": [
       " [1]  1 10  2  3  4  5  6  7  8  9"
      ]
     },
     "metadata": {},
     "output_type": "display_data"
    }
   ],
   "source": [
    "gsub(\".*_k_(.*?).RDS\", \"\\\\1\", sample_paths_preH) %>% as.numeric"
   ]
  },
  {
   "cell_type": "code",
   "execution_count": 28,
   "id": "fd0bdda0-660c-45ba-a1b4-e90b1be11d76",
   "metadata": {},
   "outputs": [
    {
     "data": {
      "text/html": [
       "<dl>\n",
       "\t<dt>$metadata</dt>\n",
       "\t\t<dd><style>\n",
       ".list-inline {list-style: none; margin:0; padding: 0}\n",
       ".list-inline>li {display: inline-block}\n",
       ".list-inline>li:not(:last-child)::after {content: \"\\00b7\"; padding: 0 .5ex}\n",
       "</style>\n",
       "<ol class=list-inline><li>153485</li><li>18</li></ol>\n",
       "</dd>\n",
       "\t<dt>$counts</dt>\n",
       "\t\t<dd><style>\n",
       ".list-inline {list-style: none; margin:0; padding: 0}\n",
       ".list-inline>li {display: inline-block}\n",
       ".list-inline>li:not(:last-child)::after {content: \"\\00b7\"; padding: 0 .5ex}\n",
       "</style>\n",
       "<ol class=list-inline><li>977</li><li>153485</li></ol>\n",
       "</dd>\n",
       "\t<dt>$counts_raw</dt>\n",
       "\t\t<dd><style>\n",
       ".list-inline {list-style: none; margin:0; padding: 0}\n",
       ".list-inline>li {display: inline-block}\n",
       ".list-inline>li:not(:last-child)::after {content: \"\\00b7\"; padding: 0 .5ex}\n",
       "</style>\n",
       "<ol class=list-inline><li>977</li><li>153485</li></ol>\n",
       "</dd>\n",
       "</dl>\n"
      ],
      "text/latex": [
       "\\begin{description}\n",
       "\\item[\\$metadata] \\begin{enumerate*}\n",
       "\\item 153485\n",
       "\\item 18\n",
       "\\end{enumerate*}\n",
       "\n",
       "\\item[\\$counts] \\begin{enumerate*}\n",
       "\\item 977\n",
       "\\item 153485\n",
       "\\end{enumerate*}\n",
       "\n",
       "\\item[\\$counts\\_raw] \\begin{enumerate*}\n",
       "\\item 977\n",
       "\\item 153485\n",
       "\\end{enumerate*}\n",
       "\n",
       "\\end{description}\n"
      ],
      "text/markdown": [
       "$metadata\n",
       ":   1. 153485\n",
       "2. 18\n",
       "\n",
       "\n",
       "\n",
       "$counts\n",
       ":   1. 977\n",
       "2. 153485\n",
       "\n",
       "\n",
       "\n",
       "$counts_raw\n",
       ":   1. 977\n",
       "2. 153485\n",
       "\n",
       "\n",
       "\n",
       "\n",
       "\n"
      ],
      "text/plain": [
       "$metadata\n",
       "[1] 153485     18\n",
       "\n",
       "$counts\n",
       "[1]    977 153485\n",
       "\n",
       "$counts_raw\n",
       "[1]    977 153485\n"
      ]
     },
     "metadata": {},
     "output_type": "display_data"
    }
   ],
   "source": [
    "dimlist(obj_ksweep)"
   ]
  },
  {
   "cell_type": "code",
   "execution_count": 30,
   "id": "2e61ef3c",
   "metadata": {},
   "outputs": [
    {
     "data": {
      "text/html": [
       "<ol>\n",
       "\t<li>'./cache/tissueSegmentation/voronoiObj/diffused_mat_sample_k_1.RDS'</li>\n",
       "\t<li>'./cache/tissueSegmentation/voronoiObj/diffused_mat_sample_k_10.RDS'</li>\n",
       "\t<li>'./cache/tissueSegmentation/voronoiObj/diffused_mat_sample_k_2.RDS'</li>\n",
       "\t<li>'./cache/tissueSegmentation/voronoiObj/diffused_mat_sample_k_3.RDS'</li>\n",
       "\t<li>'./cache/tissueSegmentation/voronoiObj/diffused_mat_sample_k_4.RDS'</li>\n",
       "\t<li>'./cache/tissueSegmentation/voronoiObj/diffused_mat_sample_k_5.RDS'</li>\n",
       "\t<li>'./cache/tissueSegmentation/voronoiObj/diffused_mat_sample_k_6.RDS'</li>\n",
       "\t<li>'./cache/tissueSegmentation/voronoiObj/diffused_mat_sample_k_7.RDS'</li>\n",
       "\t<li>'./cache/tissueSegmentation/voronoiObj/diffused_mat_sample_k_8.RDS'</li>\n",
       "\t<li>'./cache/tissueSegmentation/voronoiObj/diffused_mat_sample_k_9.RDS'</li>\n",
       "</ol>\n"
      ],
      "text/latex": [
       "\\begin{enumerate}\n",
       "\\item './cache/tissueSegmentation/voronoiObj/diffused\\_mat\\_sample\\_k\\_1.RDS'\n",
       "\\item './cache/tissueSegmentation/voronoiObj/diffused\\_mat\\_sample\\_k\\_10.RDS'\n",
       "\\item './cache/tissueSegmentation/voronoiObj/diffused\\_mat\\_sample\\_k\\_2.RDS'\n",
       "\\item './cache/tissueSegmentation/voronoiObj/diffused\\_mat\\_sample\\_k\\_3.RDS'\n",
       "\\item './cache/tissueSegmentation/voronoiObj/diffused\\_mat\\_sample\\_k\\_4.RDS'\n",
       "\\item './cache/tissueSegmentation/voronoiObj/diffused\\_mat\\_sample\\_k\\_5.RDS'\n",
       "\\item './cache/tissueSegmentation/voronoiObj/diffused\\_mat\\_sample\\_k\\_6.RDS'\n",
       "\\item './cache/tissueSegmentation/voronoiObj/diffused\\_mat\\_sample\\_k\\_7.RDS'\n",
       "\\item './cache/tissueSegmentation/voronoiObj/diffused\\_mat\\_sample\\_k\\_8.RDS'\n",
       "\\item './cache/tissueSegmentation/voronoiObj/diffused\\_mat\\_sample\\_k\\_9.RDS'\n",
       "\\end{enumerate}\n"
      ],
      "text/markdown": [
       "1. './cache/tissueSegmentation/voronoiObj/diffused_mat_sample_k_1.RDS'\n",
       "2. './cache/tissueSegmentation/voronoiObj/diffused_mat_sample_k_10.RDS'\n",
       "3. './cache/tissueSegmentation/voronoiObj/diffused_mat_sample_k_2.RDS'\n",
       "4. './cache/tissueSegmentation/voronoiObj/diffused_mat_sample_k_3.RDS'\n",
       "5. './cache/tissueSegmentation/voronoiObj/diffused_mat_sample_k_4.RDS'\n",
       "6. './cache/tissueSegmentation/voronoiObj/diffused_mat_sample_k_5.RDS'\n",
       "7. './cache/tissueSegmentation/voronoiObj/diffused_mat_sample_k_6.RDS'\n",
       "8. './cache/tissueSegmentation/voronoiObj/diffused_mat_sample_k_7.RDS'\n",
       "9. './cache/tissueSegmentation/voronoiObj/diffused_mat_sample_k_8.RDS'\n",
       "10. './cache/tissueSegmentation/voronoiObj/diffused_mat_sample_k_9.RDS'\n",
       "\n",
       "\n"
      ],
      "text/plain": [
       "[[1]]\n",
       "[1] \"./cache/tissueSegmentation/voronoiObj/diffused_mat_sample_k_1.RDS\"\n",
       "\n",
       "[[2]]\n",
       "[1] \"./cache/tissueSegmentation/voronoiObj/diffused_mat_sample_k_10.RDS\"\n",
       "\n",
       "[[3]]\n",
       "[1] \"./cache/tissueSegmentation/voronoiObj/diffused_mat_sample_k_2.RDS\"\n",
       "\n",
       "[[4]]\n",
       "[1] \"./cache/tissueSegmentation/voronoiObj/diffused_mat_sample_k_3.RDS\"\n",
       "\n",
       "[[5]]\n",
       "[1] \"./cache/tissueSegmentation/voronoiObj/diffused_mat_sample_k_4.RDS\"\n",
       "\n",
       "[[6]]\n",
       "[1] \"./cache/tissueSegmentation/voronoiObj/diffused_mat_sample_k_5.RDS\"\n",
       "\n",
       "[[7]]\n",
       "[1] \"./cache/tissueSegmentation/voronoiObj/diffused_mat_sample_k_6.RDS\"\n",
       "\n",
       "[[8]]\n",
       "[1] \"./cache/tissueSegmentation/voronoiObj/diffused_mat_sample_k_7.RDS\"\n",
       "\n",
       "[[9]]\n",
       "[1] \"./cache/tissueSegmentation/voronoiObj/diffused_mat_sample_k_8.RDS\"\n",
       "\n",
       "[[10]]\n",
       "[1] \"./cache/tissueSegmentation/voronoiObj/diffused_mat_sample_k_9.RDS\"\n"
      ]
     },
     "metadata": {},
     "output_type": "display_data"
    }
   ],
   "source": [
    "map(sample_paths_preH, function(fpath){\n",
    "    \n",
    "    k<-gsub(\".*_k_(.*?).RDS\", \"\\\\1\", fpath) %>% as.numeric\n",
    "    obj_k_path<- paste0(fpath)\n",
    "    obj_k_path\n",
    "    })"
   ]
  },
  {
   "cell_type": "code",
   "execution_count": 33,
   "id": "2411eace-a940-437d-a98b-09e4733823e0",
   "metadata": {},
   "outputs": [],
   "source": [
    "dimred_and_cluster<- function (clusterobj, do_harmony = FALSE, ...) \n",
    "{\n",
    "    input_var <- list(...)\n",
    "    if (is.null(input_var[[\"sigma\"]])) \n",
    "        message(\"You did not specify sigma for Harmony\")\n",
    "    else sigma_harmony <- input_var[[\"sigma\"]]\n",
    "    if (is.null(input_var[[\"theta\"]])) \n",
    "        message(\"You did not specify theta for Harmony\")\n",
    "    else theta_harmony <- input_var[[\"theta\"]]\n",
    "    if (is.null(input_var[[\"vars_use\"]])) \n",
    "        message(\"You did not specify batch var for Harmony\")\n",
    "    else batch_harmony <- input_var[[\"vars_use\"]]\n",
    "    wts <- clusterobj$metadata %>% with(table(as.factor(region))) %>% \n",
    "        prop.table %>% as.data.frame %>% rename(region = Var1) %>% \n",
    "        mutate(wts = 1/Freq) %>% mutate(region = as.character(region))\n",
    "    clusterobj$metadata <- clusterobj$metadata %>% left_join(wts %>% \n",
    "        dplyr::select(region, wts), by = \"region\")\n",
    "    head(clusterobj$metadata)\n",
    "    if (do_harmony) {\n",
    "        norm_value <- median(colSums(clusterobj$counts))\n",
    "        objH <- QC_harmony_pipeline(clusterobj, ngenes_threshold = 1, \n",
    "            ncounts_threshold = 1, norm_value, ...)\n",
    "        objH$sigma_harmony <- sigma_harmony\n",
    "        objH$vars_use <- batch_harmony\n",
    "        objH$theta_harmony <- theta_harmony\n",
    "        clusterobj <- objH\n",
    "    }\n",
    "    else {\n",
    "        set.seed(9)\n",
    "        print(\"Clustering on SNN\")\n",
    "        system.time({\n",
    "            clusterobj$umap$clusters <- RunModularityClustering(clusterobj$umap$fgraph, \n",
    "                resolution = c(0.5, 0.7, 1), n_cores = 10, \n",
    "                print.output = FALSE)\n",
    "        })\n",
    "    }\n",
    "    return(clusterobj)\n",
    "}"
   ]
  },
  {
   "cell_type": "code",
   "execution_count": null,
   "id": "8922f347",
   "metadata": {},
   "outputs": [
    {
     "name": "stderr",
     "output_type": "stream",
     "text": [
      "Harmony 1/12\n",
      "\n",
      "Harmony 2/12\n",
      "\n",
      "Harmony 3/12\n",
      "\n",
      "Harmony 4/12\n",
      "\n",
      "Harmony 5/12\n",
      "\n",
      "Harmony 6/12\n",
      "\n",
      "Harmony 7/12\n",
      "\n",
      "Harmony 8/12\n",
      "\n",
      "Harmony 9/12\n",
      "\n",
      "Harmony 10/12\n",
      "\n",
      "Harmony 11/12\n",
      "\n",
      "Harmony 12/12\n",
      "\n",
      "\u001b[1m\u001b[22mNew names:\n",
      "\u001b[36m•\u001b[39m `` -> `...1`\n",
      "\u001b[36m•\u001b[39m `` -> `...2`\n",
      "\u001b[36m•\u001b[39m `` -> `...3`\n",
      "\u001b[36m•\u001b[39m `` -> `...4`\n",
      "\u001b[36m•\u001b[39m `` -> `...5`\n"
     ]
    },
    {
     "name": "stdout",
     "output_type": "stream",
     "text": [
      "[1] \"./cache/tissueSegmentation/voronoiObj//diffused_mat_sample_harmonized_k_1.RDS\"\n"
     ]
    },
    {
     "name": "stderr",
     "output_type": "stream",
     "text": [
      "Harmony 1/12\n",
      "\n",
      "Harmony 2/12\n",
      "\n",
      "Harmony 3/12\n",
      "\n",
      "Harmony 4/12\n",
      "\n",
      "Harmony 5/12\n",
      "\n",
      "Harmony 6/12\n",
      "\n",
      "Harmony 7/12\n",
      "\n",
      "Harmony 8/12\n",
      "\n",
      "Harmony 9/12\n",
      "\n",
      "Harmony 10/12\n",
      "\n",
      "Harmony 11/12\n",
      "\n",
      "Harmony 12/12\n",
      "\n",
      "\u001b[1m\u001b[22mNew names:\n",
      "\u001b[36m•\u001b[39m `` -> `...1`\n",
      "\u001b[36m•\u001b[39m `` -> `...2`\n",
      "\u001b[36m•\u001b[39m `` -> `...3`\n",
      "\u001b[36m•\u001b[39m `` -> `...4`\n",
      "\u001b[36m•\u001b[39m `` -> `...5`\n"
     ]
    },
    {
     "name": "stdout",
     "output_type": "stream",
     "text": [
      "[1] \"./cache/tissueSegmentation/voronoiObj//diffused_mat_sample_harmonized_k_10.RDS\"\n"
     ]
    },
    {
     "name": "stderr",
     "output_type": "stream",
     "text": [
      "Harmony 1/12\n",
      "\n",
      "Harmony 2/12\n",
      "\n",
      "Harmony 3/12\n",
      "\n",
      "Harmony 4/12\n",
      "\n",
      "Harmony 5/12\n",
      "\n",
      "Harmony 6/12\n",
      "\n",
      "Harmony 7/12\n",
      "\n",
      "Harmony 8/12\n",
      "\n",
      "Harmony 9/12\n",
      "\n",
      "Harmony 10/12\n",
      "\n",
      "Harmony 11/12\n",
      "\n",
      "Harmony 12/12\n",
      "\n"
     ]
    },
    {
     "data": {
      "image/png": "[encoded data removed]",
      "text/plain": [
       "plot without title"
      ]
     },
     "metadata": {
      "image/png": {
       "height": 300,
       "width": 600
      }
     },
     "output_type": "display_data"
    },
    {
     "name": "stderr",
     "output_type": "stream",
     "text": [
      "\u001b[1m\u001b[22mNew names:\n",
      "\u001b[36m•\u001b[39m `` -> `...1`\n",
      "\u001b[36m•\u001b[39m `` -> `...2`\n",
      "\u001b[36m•\u001b[39m `` -> `...3`\n",
      "\u001b[36m•\u001b[39m `` -> `...4`\n",
      "\u001b[36m•\u001b[39m `` -> `...5`\n"
     ]
    },
    {
     "name": "stdout",
     "output_type": "stream",
     "text": [
      "[1] \"./cache/tissueSegmentation/voronoiObj//diffused_mat_sample_harmonized_k_2.RDS\"\n"
     ]
    },
    {
     "name": "stderr",
     "output_type": "stream",
     "text": [
      "Harmony 1/12\n",
      "\n",
      "Harmony 2/12\n",
      "\n",
      "Harmony 3/12\n",
      "\n",
      "Harmony 4/12\n",
      "\n",
      "Harmony 5/12\n",
      "\n",
      "Harmony 6/12\n",
      "\n",
      "Harmony 7/12\n",
      "\n",
      "Harmony 8/12\n",
      "\n",
      "Harmony 9/12\n",
      "\n",
      "Harmony 10/12\n",
      "\n",
      "Harmony 11/12\n",
      "\n",
      "Harmony 12/12\n",
      "\n"
     ]
    },
    {
     "data": {
      "image/png": "[encoded data removed]",
      "text/plain": [
       "plot without title"
      ]
     },
     "metadata": {
      "image/png": {
       "height": 300,
       "width": 600
      }
     },
     "output_type": "display_data"
    },
    {
     "name": "stderr",
     "output_type": "stream",
     "text": [
      "\u001b[1m\u001b[22mNew names:\n",
      "\u001b[36m•\u001b[39m `` -> `...1`\n",
      "\u001b[36m•\u001b[39m `` -> `...2`\n",
      "\u001b[36m•\u001b[39m `` -> `...3`\n",
      "\u001b[36m•\u001b[39m `` -> `...4`\n",
      "\u001b[36m•\u001b[39m `` -> `...5`\n"
     ]
    },
    {
     "name": "stdout",
     "output_type": "stream",
     "text": [
      "[1] \"./cache/tissueSegmentation/voronoiObj//diffused_mat_sample_harmonized_k_3.RDS\"\n"
     ]
    },
    {
     "name": "stderr",
     "output_type": "stream",
     "text": [
      "Harmony 1/12\n",
      "\n",
      "Harmony 2/12\n",
      "\n",
      "Harmony 3/12\n",
      "\n",
      "Harmony 4/12\n",
      "\n",
      "Harmony 5/12\n",
      "\n",
      "Harmony 6/12\n",
      "\n",
      "Harmony 7/12\n",
      "\n",
      "Harmony 8/12\n",
      "\n",
      "Harmony 9/12\n",
      "\n",
      "Harmony 10/12\n",
      "\n",
      "Harmony 11/12\n",
      "\n"
     ]
    }
   ],
   "source": [
    "map(sample_paths_preH, function(fpath){\n",
    "    k<-gsub(\".*_k_(.*?).RDS\", \"\\\\1\", fpath) %>% as.numeric\n",
    "    obj_k_path<- paste0(fpath)\n",
    "obj_k<-readRDS(obj_k_path)\n",
    "obj_k$metadata<-obj_k$metadata %>% \n",
    "    as.data.frame %>%\n",
    "    dplyr::mutate(cellID = tileID)\n",
    "objH<-dimred_and_cluster(\n",
    "    obj_k, \n",
    "    do_harmony = TRUE, \n",
    "    vars_use = c(\"SampleID\", \"SampleFOV\"), \n",
    "    resolution_clustering = c(0.5, 0.7, 1),\n",
    "    theta = c(0, 0),\n",
    "    sigma = 0.2, \n",
    "    max.iter.harmony = 12,\n",
    "    max.iter.cluster = 40,\n",
    "    do_cluster_after = TRUE,\n",
    "    return_object = TRUE,\n",
    "    do_umap_after = TRUE,\n",
    "    do_umap_before = TRUE,\n",
    "    clustering_ncores = 8\n",
    "\n",
    ")\n",
    "file_path_save<-\"./cache/tissueSegmentation/voronoiObj/\"\n",
    "file_path_final<-file.path(file_path_save, paste0(\"diffused_mat_sample_harmonized_k_\", k, \".RDS\"))\n",
    "print(file_path_final)\n",
    "saveRDS(objH, file_path_final)\n",
    "    })"
   ]
  },
  {
   "cell_type": "markdown",
   "id": "411d2366-c5cb-4d59-bcc7-ab9a1a9ccc0b",
   "metadata": {},
   "source": [
    "# check"
   ]
  },
  {
   "cell_type": "code",
   "execution_count": 51,
   "id": "33aa09c8-36cb-4ce2-af87-94be4123b123",
   "metadata": {},
   "outputs": [],
   "source": [
    "sample_paths_postH<-list.files(\n",
    "    \"./cache/tissueSegmentation/voronoiObj\", \n",
    "    pattern = \"diffused_mat_sample_harmonized.*.RDS\", \n",
    "    recursive = TRUE,\n",
    "    full.names = TRUE\n",
    ")"
   ]
  },
  {
   "cell_type": "code",
   "execution_count": 52,
   "id": "d56a71ab-21cd-416c-9459-f24509fb8814",
   "metadata": {},
   "outputs": [
    {
     "data": {
      "text/html": [
       "<style>\n",
       ".list-inline {list-style: none; margin:0; padding: 0}\n",
       ".list-inline>li {display: inline-block}\n",
       ".list-inline>li:not(:last-child)::after {content: \"\\00b7\"; padding: 0 .5ex}\n",
       "</style>\n",
       "<ol class=list-inline><li>'./cache/tissueSegmentation/voronoiObj/diffused_mat_sample_harmonized_k_1.RDS'</li><li>'./cache/tissueSegmentation/voronoiObj/diffused_mat_sample_harmonized_k_10.RDS'</li><li>'./cache/tissueSegmentation/voronoiObj/diffused_mat_sample_harmonized_k_2.RDS'</li><li>'./cache/tissueSegmentation/voronoiObj/diffused_mat_sample_harmonized_k_3.RDS'</li><li>'./cache/tissueSegmentation/voronoiObj/diffused_mat_sample_harmonized_k_4.RDS'</li><li>'./cache/tissueSegmentation/voronoiObj/diffused_mat_sample_harmonized_k_5.RDS'</li><li>'./cache/tissueSegmentation/voronoiObj/diffused_mat_sample_harmonized_k_6.RDS'</li><li>'./cache/tissueSegmentation/voronoiObj/diffused_mat_sample_harmonized_k_7.RDS'</li><li>'./cache/tissueSegmentation/voronoiObj/diffused_mat_sample_harmonized_k_8.RDS'</li><li>'./cache/tissueSegmentation/voronoiObj/diffused_mat_sample_harmonized_k_9.RDS'</li></ol>\n"
      ],
      "text/latex": [
       "\\begin{enumerate*}\n",
       "\\item './cache/tissueSegmentation/voronoiObj/diffused\\_mat\\_sample\\_harmonized\\_k\\_1.RDS'\n",
       "\\item './cache/tissueSegmentation/voronoiObj/diffused\\_mat\\_sample\\_harmonized\\_k\\_10.RDS'\n",
       "\\item './cache/tissueSegmentation/voronoiObj/diffused\\_mat\\_sample\\_harmonized\\_k\\_2.RDS'\n",
       "\\item './cache/tissueSegmentation/voronoiObj/diffused\\_mat\\_sample\\_harmonized\\_k\\_3.RDS'\n",
       "\\item './cache/tissueSegmentation/voronoiObj/diffused\\_mat\\_sample\\_harmonized\\_k\\_4.RDS'\n",
       "\\item './cache/tissueSegmentation/voronoiObj/diffused\\_mat\\_sample\\_harmonized\\_k\\_5.RDS'\n",
       "\\item './cache/tissueSegmentation/voronoiObj/diffused\\_mat\\_sample\\_harmonized\\_k\\_6.RDS'\n",
       "\\item './cache/tissueSegmentation/voronoiObj/diffused\\_mat\\_sample\\_harmonized\\_k\\_7.RDS'\n",
       "\\item './cache/tissueSegmentation/voronoiObj/diffused\\_mat\\_sample\\_harmonized\\_k\\_8.RDS'\n",
       "\\item './cache/tissueSegmentation/voronoiObj/diffused\\_mat\\_sample\\_harmonized\\_k\\_9.RDS'\n",
       "\\end{enumerate*}\n"
      ],
      "text/markdown": [
       "1. './cache/tissueSegmentation/voronoiObj/diffused_mat_sample_harmonized_k_1.RDS'\n",
       "2. './cache/tissueSegmentation/voronoiObj/diffused_mat_sample_harmonized_k_10.RDS'\n",
       "3. './cache/tissueSegmentation/voronoiObj/diffused_mat_sample_harmonized_k_2.RDS'\n",
       "4. './cache/tissueSegmentation/voronoiObj/diffused_mat_sample_harmonized_k_3.RDS'\n",
       "5. './cache/tissueSegmentation/voronoiObj/diffused_mat_sample_harmonized_k_4.RDS'\n",
       "6. './cache/tissueSegmentation/voronoiObj/diffused_mat_sample_harmonized_k_5.RDS'\n",
       "7. './cache/tissueSegmentation/voronoiObj/diffused_mat_sample_harmonized_k_6.RDS'\n",
       "8. './cache/tissueSegmentation/voronoiObj/diffused_mat_sample_harmonized_k_7.RDS'\n",
       "9. './cache/tissueSegmentation/voronoiObj/diffused_mat_sample_harmonized_k_8.RDS'\n",
       "10. './cache/tissueSegmentation/voronoiObj/diffused_mat_sample_harmonized_k_9.RDS'\n",
       "\n",
       "\n"
      ],
      "text/plain": [
       " [1] \"./cache/tissueSegmentation/voronoiObj/diffused_mat_sample_harmonized_k_1.RDS\" \n",
       " [2] \"./cache/tissueSegmentation/voronoiObj/diffused_mat_sample_harmonized_k_10.RDS\"\n",
       " [3] \"./cache/tissueSegmentation/voronoiObj/diffused_mat_sample_harmonized_k_2.RDS\" \n",
       " [4] \"./cache/tissueSegmentation/voronoiObj/diffused_mat_sample_harmonized_k_3.RDS\" \n",
       " [5] \"./cache/tissueSegmentation/voronoiObj/diffused_mat_sample_harmonized_k_4.RDS\" \n",
       " [6] \"./cache/tissueSegmentation/voronoiObj/diffused_mat_sample_harmonized_k_5.RDS\" \n",
       " [7] \"./cache/tissueSegmentation/voronoiObj/diffused_mat_sample_harmonized_k_6.RDS\" \n",
       " [8] \"./cache/tissueSegmentation/voronoiObj/diffused_mat_sample_harmonized_k_7.RDS\" \n",
       " [9] \"./cache/tissueSegmentation/voronoiObj/diffused_mat_sample_harmonized_k_8.RDS\" \n",
       "[10] \"./cache/tissueSegmentation/voronoiObj/diffused_mat_sample_harmonized_k_9.RDS\" "
      ]
     },
     "metadata": {},
     "output_type": "display_data"
    }
   ],
   "source": [
    "sample_paths_postH"
   ]
  },
  {
   "cell_type": "code",
   "execution_count": 53,
   "id": "43938aa4-eb9d-45c7-9ff0-264a53ac5fc9",
   "metadata": {},
   "outputs": [
    {
     "data": {
      "text/html": [
       "10"
      ],
      "text/latex": [
       "10"
      ],
      "text/markdown": [
       "10"
      ],
      "text/plain": [
       "[1] 10"
      ]
     },
     "metadata": {},
     "output_type": "display_data"
    }
   ],
   "source": [
    "length(sample_paths_postH)"
   ]
  },
  {
   "cell_type": "code",
   "execution_count": 54,
   "id": "02f7c09e-e551-429f-ad85-38e0d6281131",
   "metadata": {},
   "outputs": [],
   "source": [
    "objH<-readRDS(sample_paths_postH[1])"
   ]
  },
  {
   "cell_type": "code",
   "execution_count": 55,
   "id": "04894378-4f3a-4f9f-b0de-4e8ba3bd9a43",
   "metadata": {
    "tags": []
   },
   "outputs": [
    {
     "data": {
      "text/html": [
       "<table class=\"dataframe\">\n",
       "<caption>A data.frame: 2 × 19</caption>\n",
       "<thead>\n",
       "\t<tr><th></th><th scope=col>cellID</th><th scope=col>cell</th><th scope=col>SampleFOV</th><th scope=col>SampleID</th><th scope=col>FOV</th><th scope=col>area_um</th><th scope=col>radius_um</th><th scope=col>cell_center_x</th><th scope=col>cell_center_y</th><th scope=col>pxsize</th><th scope=col>tileID</th><th scope=col>polygon_area</th><th scope=col>region</th><th scope=col>nCounts</th><th scope=col>cell_centroid</th><th scope=col>shape</th><th scope=col>polygon_centroid</th><th scope=col>polygon</th><th scope=col>wts</th></tr>\n",
       "\t<tr><th></th><th scope=col>&lt;chr&gt;</th><th scope=col>&lt;chr&gt;</th><th scope=col>&lt;chr&gt;</th><th scope=col>&lt;chr&gt;</th><th scope=col>&lt;chr&gt;</th><th scope=col>&lt;dbl&gt;</th><th scope=col>&lt;dbl&gt;</th><th scope=col>&lt;dbl&gt;</th><th scope=col>&lt;dbl&gt;</th><th scope=col>&lt;dbl&gt;</th><th scope=col>&lt;chr&gt;</th><th scope=col>&lt;dbl&gt;</th><th scope=col>&lt;chr&gt;</th><th scope=col>&lt;dbl&gt;</th><th scope=col>&lt;POINT&gt;</th><th scope=col>&lt;MULTIPOLYGON&gt;</th><th scope=col>&lt;POINT&gt;</th><th scope=col>&lt;POLYGON&gt;</th><th scope=col>&lt;dbl&gt;</th></tr>\n",
       "</thead>\n",
       "<tbody>\n",
       "\t<tr><th scope=row>1</th><td>C18_Run5654_399G0_32G77_F001</td><td>18</td><td>Run5654_399G0_32G77_F001</td><td>Run5654_399G0_32G77</td><td>F001</td><td>20.97153</td><td>2.583688</td><td>23171.10</td><td>-1512.382</td><td>0.168</td><td>C18_Run5654_399G0_32G77_F001</td><td>638.9639</td><td>tissue</td><td> 39</td><td>POINT (23171.1 -1512.382)</td><td>MULTIPOLYGON (((23172.2 -15...</td><td>POINT (23172.22 -1512.483)</td><td>POLYGON ((23175.99 -1498.20...</td><td>1</td></tr>\n",
       "\t<tr><th scope=row>2</th><td>C26_Run5654_399G0_32G77_F001</td><td>26</td><td>Run5654_399G0_32G77_F001</td><td>Run5654_399G0_32G77</td><td>F001</td><td>42.90907</td><td>3.695725</td><td>23342.02</td><td>-1654.621</td><td>0.168</td><td>C26_Run5654_399G0_32G77_F001</td><td>272.8949</td><td>tissue</td><td>105</td><td>POINT (23342.02 -1654.621)</td><td>MULTIPOLYGON (((23343.97 -1...</td><td>POINT (23335.95 -1655.476)</td><td>POLYGON ((23328.67 -1647.78...</td><td>1</td></tr>\n",
       "</tbody>\n",
       "</table>\n"
      ],
      "text/latex": [
       "A data.frame: 2 × 19\n",
       "\\begin{tabular}{r|lllllllllllllllllll}\n",
       "  & cellID & cell & SampleFOV & SampleID & FOV & area\\_um & radius\\_um & cell\\_center\\_x & cell\\_center\\_y & pxsize & tileID & polygon\\_area & region & nCounts & cell\\_centroid & shape & polygon\\_centroid & polygon & wts\\\\\n",
       "  & <chr> & <chr> & <chr> & <chr> & <chr> & <dbl> & <dbl> & <dbl> & <dbl> & <dbl> & <chr> & <dbl> & <chr> & <dbl> & <POINT> & <MULTIPOLYGON> & <POINT> & <POLYGON> & <dbl>\\\\\n",
       "\\hline\n",
       "\t1 & C18\\_Run5654\\_399G0\\_32G77\\_F001 & 18 & Run5654\\_399G0\\_32G77\\_F001 & Run5654\\_399G0\\_32G77 & F001 & 20.97153 & 2.583688 & 23171.10 & -1512.382 & 0.168 & C18\\_Run5654\\_399G0\\_32G77\\_F001 & 638.9639 & tissue &  39 & POINT (23171.1 -1512.382) & MULTIPOLYGON (((23172.2 -15... & POINT (23172.22 -1512.483) & POLYGON ((23175.99 -1498.20... & 1\\\\\n",
       "\t2 & C26\\_Run5654\\_399G0\\_32G77\\_F001 & 26 & Run5654\\_399G0\\_32G77\\_F001 & Run5654\\_399G0\\_32G77 & F001 & 42.90907 & 3.695725 & 23342.02 & -1654.621 & 0.168 & C26\\_Run5654\\_399G0\\_32G77\\_F001 & 272.8949 & tissue & 105 & POINT (23342.02 -1654.621) & MULTIPOLYGON (((23343.97 -1... & POINT (23335.95 -1655.476) & POLYGON ((23328.67 -1647.78... & 1\\\\\n",
       "\\end{tabular}\n"
      ],
      "text/markdown": [
       "\n",
       "A data.frame: 2 × 19\n",
       "\n",
       "| <!--/--> | cellID &lt;chr&gt; | cell &lt;chr&gt; | SampleFOV &lt;chr&gt; | SampleID &lt;chr&gt; | FOV &lt;chr&gt; | area_um &lt;dbl&gt; | radius_um &lt;dbl&gt; | cell_center_x &lt;dbl&gt; | cell_center_y &lt;dbl&gt; | pxsize &lt;dbl&gt; | tileID &lt;chr&gt; | polygon_area &lt;dbl&gt; | region &lt;chr&gt; | nCounts &lt;dbl&gt; | cell_centroid &lt;POINT&gt; | shape &lt;MULTIPOLYGON&gt; | polygon_centroid &lt;POINT&gt; | polygon &lt;POLYGON&gt; | wts &lt;dbl&gt; |\n",
       "|---|---|---|---|---|---|---|---|---|---|---|---|---|---|---|---|---|---|---|---|\n",
       "| 1 | C18_Run5654_399G0_32G77_F001 | 18 | Run5654_399G0_32G77_F001 | Run5654_399G0_32G77 | F001 | 20.97153 | 2.583688 | 23171.10 | -1512.382 | 0.168 | C18_Run5654_399G0_32G77_F001 | 638.9639 | tissue |  39 | POINT (23171.1 -1512.382) | MULTIPOLYGON (((23172.2 -15... | POINT (23172.22 -1512.483) | POLYGON ((23175.99 -1498.20... | 1 |\n",
       "| 2 | C26_Run5654_399G0_32G77_F001 | 26 | Run5654_399G0_32G77_F001 | Run5654_399G0_32G77 | F001 | 42.90907 | 3.695725 | 23342.02 | -1654.621 | 0.168 | C26_Run5654_399G0_32G77_F001 | 272.8949 | tissue | 105 | POINT (23342.02 -1654.621) | MULTIPOLYGON (((23343.97 -1... | POINT (23335.95 -1655.476) | POLYGON ((23328.67 -1647.78... | 1 |\n",
       "\n"
      ],
      "text/plain": [
       "  cellID                       cell SampleFOV               \n",
       "1 C18_Run5654_399G0_32G77_F001 18   Run5654_399G0_32G77_F001\n",
       "2 C26_Run5654_399G0_32G77_F001 26   Run5654_399G0_32G77_F001\n",
       "  SampleID            FOV  area_um  radius_um cell_center_x cell_center_y\n",
       "1 Run5654_399G0_32G77 F001 20.97153 2.583688  23171.10      -1512.382    \n",
       "2 Run5654_399G0_32G77 F001 42.90907 3.695725  23342.02      -1654.621    \n",
       "  pxsize tileID                       polygon_area region nCounts\n",
       "1 0.168  C18_Run5654_399G0_32G77_F001 638.9639     tissue  39    \n",
       "2 0.168  C26_Run5654_399G0_32G77_F001 272.8949     tissue 105    \n",
       "  cell_centroid              shape                         \n",
       "1 POINT (23171.1 -1512.382)  MULTIPOLYGON (((23172.2 -15...\n",
       "2 POINT (23342.02 -1654.621) MULTIPOLYGON (((23343.97 -1...\n",
       "  polygon_centroid           polygon                        wts\n",
       "1 POINT (23172.22 -1512.483) POLYGON ((23175.99 -1498.20... 1  \n",
       "2 POINT (23335.95 -1655.476) POLYGON ((23328.67 -1647.78... 1  "
      ]
     },
     "metadata": {},
     "output_type": "display_data"
    }
   ],
   "source": [
    "head(objH$metadata, 2)"
   ]
  }
 ],
 "metadata": {
  "kernelspec": {
   "display_name": "R",
   "language": "R",
   "name": "ir"
  },
  "language_info": {
   "codemirror_mode": "r",
   "file_extension": ".r",
   "mimetype": "text/x-r-source",
   "name": "R",
   "pygments_lexer": "r",
   "version": "4.2.2"
  },
  "widgets": {
   "application/vnd.jupyter.widget-state+json": {
    "state": {},
    "version_major": 2,
    "version_minor": 0
   }
  }
 },
 "nbformat": 4,
 "nbformat_minor": 5
}
